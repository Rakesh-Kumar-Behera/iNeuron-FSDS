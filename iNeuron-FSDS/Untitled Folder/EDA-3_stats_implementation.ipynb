{
 "cells": [
  {
   "cell_type": "markdown",
   "id": "9016820d",
   "metadata": {},
   "source": [
    "### Inferential Stats"
   ]
  },
  {
   "cell_type": "code",
   "execution_count": 1,
   "id": "d34c9c86",
   "metadata": {},
   "outputs": [],
   "source": [
    "import numpy as np\n",
    "from statistics import mode"
   ]
  },
  {
   "cell_type": "code",
   "execution_count": 2,
   "id": "8418537a",
   "metadata": {},
   "outputs": [
    {
     "data": {
      "text/plain": [
       "17"
      ]
     },
     "execution_count": 2,
     "metadata": {},
     "output_type": "execute_result"
    }
   ],
   "source": [
    "np.random.randint(10,20)"
   ]
  },
  {
   "cell_type": "code",
   "execution_count": 3,
   "id": "f302b474",
   "metadata": {},
   "outputs": [
    {
     "data": {
      "text/plain": [
       "array([17, 12, 13, 15, 15, 12, 14, 16, 16, 13, 16, 17, 19, 13, 12])"
      ]
     },
     "execution_count": 3,
     "metadata": {},
     "output_type": "execute_result"
    }
   ],
   "source": [
    "np.random.randint(10,20,15)"
   ]
  },
  {
   "cell_type": "code",
   "execution_count": 4,
   "id": "7d56f491",
   "metadata": {},
   "outputs": [],
   "source": [
    "population = np.random.randint(10,20,50)"
   ]
  },
  {
   "cell_type": "code",
   "execution_count": 5,
   "id": "0c5f0020",
   "metadata": {},
   "outputs": [
    {
     "data": {
      "text/plain": [
       "array([13, 15, 12, 16, 13, 12, 12, 10, 17, 10, 10, 14, 16, 18, 17, 18, 16,\n",
       "       15, 10, 18, 18, 13, 16, 15, 15, 18, 10, 19, 11, 13, 11, 19, 14, 17,\n",
       "       11, 15, 16, 17, 12, 12, 17, 13, 16, 10, 10, 12, 11, 11, 15, 11])"
      ]
     },
     "execution_count": 5,
     "metadata": {},
     "output_type": "execute_result"
    }
   ],
   "source": [
    "population"
   ]
  },
  {
   "cell_type": "code",
   "execution_count": 6,
   "id": "2c3faa78",
   "metadata": {},
   "outputs": [
    {
     "data": {
      "text/plain": [
       "14.0"
      ]
     },
     "execution_count": 6,
     "metadata": {},
     "output_type": "execute_result"
    }
   ],
   "source": [
    "np.mean(population)"
   ]
  },
  {
   "cell_type": "code",
   "execution_count": 7,
   "id": "d7f8a44c",
   "metadata": {},
   "outputs": [
    {
     "data": {
      "text/plain": [
       "14.0"
      ]
     },
     "execution_count": 7,
     "metadata": {},
     "output_type": "execute_result"
    }
   ],
   "source": [
    "np.median(population)"
   ]
  },
  {
   "cell_type": "code",
   "execution_count": 8,
   "id": "be47f063",
   "metadata": {},
   "outputs": [
    {
     "data": {
      "text/plain": [
       "10"
      ]
     },
     "execution_count": 8,
     "metadata": {},
     "output_type": "execute_result"
    }
   ],
   "source": [
    "#mode function is not available in numpy\n",
    "mode(population)"
   ]
  },
  {
   "cell_type": "code",
   "execution_count": 9,
   "id": "66b9bdb2",
   "metadata": {},
   "outputs": [
    {
     "name": "stdout",
     "output_type": "stream",
     "text": [
      "mean of the population 14.0\n",
      "median of the population 14.0\n",
      "mode of the population 10\n"
     ]
    }
   ],
   "source": [
    "print(f\"mean of the population {np.mean(population)}\")\n",
    "print(f\"median of the population {np.median(population)}\")\n",
    "print(f\"mode of the population {mode(population)}\")"
   ]
  },
  {
   "cell_type": "code",
   "execution_count": 10,
   "id": "ef5085b8",
   "metadata": {},
   "outputs": [
    {
     "data": {
      "text/plain": [
       "11"
      ]
     },
     "execution_count": 10,
     "metadata": {},
     "output_type": "execute_result"
    }
   ],
   "source": [
    "#take sample of the data\n",
    "np.random.choice(population)"
   ]
  },
  {
   "cell_type": "code",
   "execution_count": 11,
   "id": "d42fc191",
   "metadata": {},
   "outputs": [
    {
     "data": {
      "text/plain": [
       "array([18, 17, 18, 13, 14])"
      ]
     },
     "execution_count": 11,
     "metadata": {},
     "output_type": "execute_result"
    }
   ],
   "source": [
    "np.random.choice(population,5)"
   ]
  },
  {
   "cell_type": "code",
   "execution_count": 12,
   "id": "181ebdd0",
   "metadata": {},
   "outputs": [],
   "source": [
    "sample = np.random.choice(population,20)"
   ]
  },
  {
   "cell_type": "code",
   "execution_count": 13,
   "id": "8db9a4fd",
   "metadata": {},
   "outputs": [
    {
     "name": "stdout",
     "output_type": "stream",
     "text": [
      "mean of the population 14.55\n",
      "median of the population 15.0\n",
      "mode of the population 16\n"
     ]
    }
   ],
   "source": [
    "print(f\"mean of the population {np.mean(sample)}\")\n",
    "print(f\"median of the population {np.median(sample)}\")\n",
    "print(f\"mode of the population {mode(sample)}\")"
   ]
  },
  {
   "cell_type": "code",
   "execution_count": 14,
   "id": "1d8dc7d4",
   "metadata": {},
   "outputs": [],
   "source": [
    "sample1 = np.random.choice(population,20)\n",
    "sample2 = np.random.choice(population,20)\n",
    "sample3 = np.random.choice(population,20)\n",
    "sample4 = np.random.choice(population,20)"
   ]
  },
  {
   "cell_type": "code",
   "execution_count": 15,
   "id": "e5bf07ea",
   "metadata": {},
   "outputs": [
    {
     "name": "stdout",
     "output_type": "stream",
     "text": [
      "[11 17 10 19 10 14 10 17 17 12 17 12 15 12 16 16 14 17 15 17]\n",
      "--------------------------------------------------\n",
      "[12 11 10 13 17 17 12 14 13 12 18 16 11 13 18 15 12 12 13 17]\n",
      "--------------------------------------------------\n",
      "[16 13 18 15 16 13 18 10 15 10 16 16 14 13 11 11 11 16 10 15]\n",
      "--------------------------------------------------\n",
      "[16 16 10 16 16 13 10 13 17 16 11 11 19 12 16 15 12 10 10 13]\n",
      "--------------------------------------------------\n"
     ]
    }
   ],
   "source": [
    "print(sample1)\n",
    "print(50*\"-\")\n",
    "print(sample2)\n",
    "print(50*\"-\")\n",
    "print(sample3)\n",
    "print(50*\"-\")\n",
    "print(sample4)\n",
    "print(50*\"-\")"
   ]
  },
  {
   "cell_type": "code",
   "execution_count": 16,
   "id": "e674e71c",
   "metadata": {},
   "outputs": [],
   "source": [
    "mean_of_samples = []\n",
    "\n",
    "all_sample = [sample1,sample2,sample3,sample4]\n",
    "\n",
    "for sample in all_sample:\n",
    "    mean_of_samples.append(np.mean(sample))"
   ]
  },
  {
   "cell_type": "code",
   "execution_count": 17,
   "id": "6a73b3a1",
   "metadata": {},
   "outputs": [
    {
     "data": {
      "text/plain": [
       "[14.4, 13.8, 13.85, 13.6]"
      ]
     },
     "execution_count": 17,
     "metadata": {},
     "output_type": "execute_result"
    }
   ],
   "source": [
    "mean_of_samples"
   ]
  },
  {
   "cell_type": "markdown",
   "id": "4e9012be",
   "metadata": {},
   "source": [
    "## Central Limit Theorem"
   ]
  },
  {
   "cell_type": "code",
   "execution_count": 18,
   "id": "0c81a468",
   "metadata": {},
   "outputs": [],
   "source": [
    "population = np.random.binomial(10,0.5,10000)"
   ]
  },
  {
   "cell_type": "code",
   "execution_count": 19,
   "id": "9a34e587",
   "metadata": {},
   "outputs": [
    {
     "name": "stdout",
     "output_type": "stream",
     "text": [
      "[3 8 6 ... 6 6 5]\n"
     ]
    }
   ],
   "source": [
    "print(population)"
   ]
  },
  {
   "cell_type": "code",
   "execution_count": 20,
   "id": "e36e992f",
   "metadata": {},
   "outputs": [
    {
     "data": {
      "text/plain": [
       "10000"
      ]
     },
     "execution_count": 20,
     "metadata": {},
     "output_type": "execute_result"
    }
   ],
   "source": [
    "len(population)"
   ]
  },
  {
   "cell_type": "code",
   "execution_count": 21,
   "id": "2dae74b1",
   "metadata": {},
   "outputs": [],
   "source": [
    "import seaborn as sns"
   ]
  },
  {
   "cell_type": "code",
   "execution_count": 22,
   "id": "a6ba9205",
   "metadata": {},
   "outputs": [
    {
     "name": "stderr",
     "output_type": "stream",
     "text": [
      "C:\\Users\\Rakesh_PC\\anaconda3\\lib\\site-packages\\seaborn\\distributions.py:2619: FutureWarning: `distplot` is a deprecated function and will be removed in a future version. Please adapt your code to use either `displot` (a figure-level function with similar flexibility) or `histplot` (an axes-level function for histograms).\n",
      "  warnings.warn(msg, FutureWarning)\n"
     ]
    },
    {
     "data": {
      "text/plain": [
       "<AxesSubplot:ylabel='Density'>"
      ]
     },
     "execution_count": 22,
     "metadata": {},
     "output_type": "execute_result"
    },
    {
     "data": {
      "image/png": "[encoded data removed]",
      "text/plain": [
       "<Figure size 640x480 with 1 Axes>"
      ]
     },
     "metadata": {},
     "output_type": "display_data"
    }
   ],
   "source": [
    "sns.distplot(population)"
   ]
  },
  {
   "cell_type": "code",
   "execution_count": 23,
   "id": "6c68b4c1",
   "metadata": {},
   "outputs": [
    {
     "data": {
      "text/plain": [
       "3000"
      ]
     },
     "execution_count": 23,
     "metadata": {},
     "output_type": "execute_result"
    }
   ],
   "source": [
    "#sample\n",
    "int(len(population)*0.30)"
   ]
  },
  {
   "cell_type": "code",
   "execution_count": 24,
   "id": "42e6caba",
   "metadata": {},
   "outputs": [],
   "source": [
    "size = int(len(population)*0.30)"
   ]
  },
  {
   "cell_type": "code",
   "execution_count": 25,
   "id": "ddd6ded3",
   "metadata": {},
   "outputs": [],
   "source": [
    "sample_mean = []\n",
    "\n",
    "for i in range(1,31):\n",
    "    sample = np.random.choice(population,size = size)\n",
    "    sample_mean.append(np.mean(sample))"
   ]
  },
  {
   "cell_type": "code",
   "execution_count": 26,
   "id": "782b8ea9",
   "metadata": {},
   "outputs": [
    {
     "data": {
      "text/plain": [
       "[4.992,\n",
       " 5.0183333333333335,\n",
       " 4.988,\n",
       " 4.976666666666667,\n",
       " 4.966333333333333,\n",
       " 5.009,\n",
       " 4.999333333333333,\n",
       " 4.97,\n",
       " 4.987666666666667,\n",
       " 4.992333333333334,\n",
       " 4.965333333333334,\n",
       " 4.975,\n",
       " 5.010666666666666,\n",
       " 5.009333333333333,\n",
       " 5.0056666666666665,\n",
       " 4.952333333333334,\n",
       " 5.006666666666667,\n",
       " 4.961,\n",
       " 5.002666666666666,\n",
       " 5.025,\n",
       " 4.949666666666666,\n",
       " 4.984,\n",
       " 4.996333333333333,\n",
       " 4.987,\n",
       " 5.0023333333333335,\n",
       " 5.005,\n",
       " 4.974333333333333,\n",
       " 4.933666666666666,\n",
       " 4.957333333333334,\n",
       " 4.973]"
      ]
     },
     "execution_count": 26,
     "metadata": {},
     "output_type": "execute_result"
    }
   ],
   "source": [
    "sample_mean"
   ]
  },
  {
   "cell_type": "code",
   "execution_count": 27,
   "id": "814cc7c5",
   "metadata": {},
   "outputs": [
    {
     "name": "stderr",
     "output_type": "stream",
     "text": [
      "C:\\Users\\Rakesh_PC\\anaconda3\\lib\\site-packages\\seaborn\\distributions.py:2619: FutureWarning: `distplot` is a deprecated function and will be removed in a future version. Please adapt your code to use either `displot` (a figure-level function with similar flexibility) or `histplot` (an axes-level function for histograms).\n",
      "  warnings.warn(msg, FutureWarning)\n"
     ]
    },
    {
     "data": {
      "text/plain": [
       "<AxesSubplot:ylabel='Density'>"
      ]
     },
     "execution_count": 27,
     "metadata": {},
     "output_type": "execute_result"
    },
    {
     "data": {
      "image/png": "[encoded data removed]",
      "text/plain": [
       "<Figure size 640x480 with 1 Axes>"
      ]
     },
     "metadata": {},
     "output_type": "display_data"
    }
   ],
   "source": [
    "sns.distplot(sample_mean)"
   ]
  },
  {
   "cell_type": "code",
   "execution_count": null,
   "id": "87fc33ef",
   "metadata": {},
   "outputs": [],
   "source": []
  },
  {
   "cell_type": "code",
   "execution_count": 28,
   "id": "474c86a2",
   "metadata": {},
   "outputs": [],
   "source": [
    "#with 500 samples\n",
    "sample_mean = []\n",
    "\n",
    "for i in range(1,501):\n",
    "    sample = np.random.choice(population,size = size)\n",
    "    sample_mean.append(np.mean(sample))"
   ]
  },
  {
   "cell_type": "code",
   "execution_count": 29,
   "id": "33bf3978",
   "metadata": {},
   "outputs": [
    {
     "name": "stderr",
     "output_type": "stream",
     "text": [
      "C:\\Users\\Rakesh_PC\\anaconda3\\lib\\site-packages\\seaborn\\distributions.py:2619: FutureWarning: `distplot` is a deprecated function and will be removed in a future version. Please adapt your code to use either `displot` (a figure-level function with similar flexibility) or `histplot` (an axes-level function for histograms).\n",
      "  warnings.warn(msg, FutureWarning)\n"
     ]
    },
    {
     "data": {
      "text/plain": [
       "<AxesSubplot:ylabel='Density'>"
      ]
     },
     "execution_count": 29,
     "metadata": {},
     "output_type": "execute_result"
    },
    {
     "data": {
      "image/png": "[encoded data removed]",
      "text/plain": [
       "<Figure size 640x480 with 1 Axes>"
      ]
     },
     "metadata": {},
     "output_type": "display_data"
    }
   ],
   "source": [
    "sns.distplot(sample_mean,kde = True,color = 'red')"
   ]
  },
  {
   "cell_type": "code",
   "execution_count": 30,
   "id": "4d1921bd",
   "metadata": {},
   "outputs": [],
   "source": [
    "#the more no. of samples, the more accurate the dist will be normal "
   ]
  },
  {
   "cell_type": "code",
   "execution_count": 31,
   "id": "dae89e8b",
   "metadata": {},
   "outputs": [],
   "source": [
    "#with 1000 samples\n",
    "sample_mean = []\n",
    "\n",
    "for i in range(1,1000):\n",
    "    sample = np.random.choice(population,size = size)\n",
    "    sample_mean.append(np.mean(sample))"
   ]
  },
  {
   "cell_type": "code",
   "execution_count": 32,
   "id": "b7de0d36",
   "metadata": {},
   "outputs": [
    {
     "name": "stderr",
     "output_type": "stream",
     "text": [
      "C:\\Users\\Rakesh_PC\\anaconda3\\lib\\site-packages\\seaborn\\distributions.py:2619: FutureWarning: `distplot` is a deprecated function and will be removed in a future version. Please adapt your code to use either `displot` (a figure-level function with similar flexibility) or `histplot` (an axes-level function for histograms).\n",
      "  warnings.warn(msg, FutureWarning)\n"
     ]
    },
    {
     "data": {
      "text/plain": [
       "<AxesSubplot:ylabel='Density'>"
      ]
     },
     "execution_count": 32,
     "metadata": {},
     "output_type": "execute_result"
    },
    {
     "data": {
      "image/png": "[encoded data removed]",
      "text/plain": [
       "<Figure size 640x480 with 1 Axes>"
      ]
     },
     "metadata": {},
     "output_type": "display_data"
    }
   ],
   "source": [
    "sns.distplot(sample_mean,kde = True,color = 'green')"
   ]
  },
  {
   "cell_type": "code",
   "execution_count": 33,
   "id": "801eb060",
   "metadata": {},
   "outputs": [
    {
     "data": {
      "text/plain": [
       "4.9881084417751085"
      ]
     },
     "execution_count": 33,
     "metadata": {},
     "output_type": "execute_result"
    }
   ],
   "source": [
    "np.mean(sample_mean)"
   ]
  },
  {
   "cell_type": "markdown",
   "id": "ae6b54de",
   "metadata": {},
   "source": [
    "### Confidence Interval and Margin of Error"
   ]
  },
  {
   "cell_type": "code",
   "execution_count": 34,
   "id": "f7291ac2",
   "metadata": {},
   "outputs": [],
   "source": [
    "population = np.random.randint(10,20,50)"
   ]
  },
  {
   "cell_type": "code",
   "execution_count": 35,
   "id": "2ccddf16",
   "metadata": {},
   "outputs": [
    {
     "data": {
      "text/plain": [
       "array([19, 12, 17, 14, 12, 11, 15, 16, 16, 15, 10, 15, 14, 14, 15, 14, 14,\n",
       "       12, 10, 12, 17, 14, 14, 19, 10, 18, 16, 15, 18, 18, 16, 18, 12, 13,\n",
       "       16, 10, 16, 17, 19, 18, 19, 15, 11, 10, 10, 10, 19, 14, 17, 18])"
      ]
     },
     "execution_count": 35,
     "metadata": {},
     "output_type": "execute_result"
    }
   ],
   "source": [
    "population"
   ]
  },
  {
   "cell_type": "code",
   "execution_count": 36,
   "id": "dc496998",
   "metadata": {},
   "outputs": [],
   "source": [
    "sample1 = np.random.choice(population,20)\n",
    "sample2 = np.random.choice(population,20)\n",
    "sample3 = np.random.choice(population,20)\n",
    "sample4 = np.random.choice(population,20)"
   ]
  },
  {
   "cell_type": "code",
   "execution_count": 37,
   "id": "5d11e429",
   "metadata": {},
   "outputs": [],
   "source": [
    "mean_of_samples = []\n",
    "\n",
    "all_sample = [sample1,sample2,sample3,sample4]\n",
    "\n",
    "for sample in all_sample:\n",
    "    mean_of_samples.append(np.mean(sample))"
   ]
  },
  {
   "cell_type": "code",
   "execution_count": 38,
   "id": "f55d158e",
   "metadata": {},
   "outputs": [],
   "source": [
    "#all tests(z-test,t-test) related methods we can find in scipy.stats"
   ]
  },
  {
   "cell_type": "code",
   "execution_count": 39,
   "id": "92bb564d",
   "metadata": {},
   "outputs": [],
   "source": [
    "import scipy.stats as stats"
   ]
  },
  {
   "cell_type": "code",
   "execution_count": 40,
   "id": "d26418e6",
   "metadata": {},
   "outputs": [
    {
     "data": {
      "text/plain": [
       "1.6448536269514722"
      ]
     },
     "execution_count": 40,
     "metadata": {},
     "output_type": "execute_result"
    }
   ],
   "source": [
    "stats.norm.ppf(q = 0.95) #q - confidence interval (95%)"
   ]
  },
  {
   "cell_type": "markdown",
   "id": "ff4c5a0a",
   "metadata": {},
   "source": [
    "**`ppf` - here, it represents Probability Density function(pdf)**\n",
    "\n",
    "eg- `norm.ppf(0.95)`"
   ]
  },
  {
   "cell_type": "code",
   "execution_count": 41,
   "id": "e503ef6a",
   "metadata": {},
   "outputs": [
    {
     "data": {
      "text/plain": [
       "1.959963984540054"
      ]
     },
     "execution_count": 41,
     "metadata": {},
     "output_type": "execute_result"
    }
   ],
   "source": [
    "stats.norm.ppf(q = 0.975)"
   ]
  },
  {
   "cell_type": "code",
   "execution_count": 42,
   "id": "0557a237",
   "metadata": {},
   "outputs": [],
   "source": [
    "#point estimate"
   ]
  },
  {
   "cell_type": "code",
   "execution_count": 43,
   "id": "9883cf75",
   "metadata": {},
   "outputs": [],
   "source": [
    "z_critical = stats.norm.ppf(q = 0.975) #z-value as referred to z-table"
   ]
  },
  {
   "cell_type": "code",
   "execution_count": 44,
   "id": "200fc705",
   "metadata": {},
   "outputs": [],
   "source": [
    "t_critical = stats.t.ppf(q = 0.975,df = 24) #df - degree of freedom"
   ]
  },
  {
   "cell_type": "code",
   "execution_count": 45,
   "id": "45a7f710",
   "metadata": {},
   "outputs": [],
   "source": [
    "#margin_of_error\n",
    "margin_of_error = z_critical * (np.std(mean_of_samples)/np.sqrt(20))"
   ]
  },
  {
   "cell_type": "code",
   "execution_count": 46,
   "id": "4d9a259f",
   "metadata": {},
   "outputs": [
    {
     "data": {
      "text/plain": [
       "0.30887899115929357"
      ]
     },
     "execution_count": 46,
     "metadata": {},
     "output_type": "execute_result"
    }
   ],
   "source": [
    "margin_of_error"
   ]
  },
  {
   "cell_type": "code",
   "execution_count": 47,
   "id": "25fb9f06",
   "metadata": {},
   "outputs": [
    {
     "data": {
      "text/plain": [
       "14.846378991159293"
      ]
     },
     "execution_count": 47,
     "metadata": {},
     "output_type": "execute_result"
    }
   ],
   "source": [
    "np.mean(mean_of_samples) + margin_of_error"
   ]
  },
  {
   "cell_type": "code",
   "execution_count": 48,
   "id": "5d1fc137",
   "metadata": {},
   "outputs": [
    {
     "data": {
      "text/plain": [
       "14.228621008840706"
      ]
     },
     "execution_count": 48,
     "metadata": {},
     "output_type": "execute_result"
    }
   ],
   "source": [
    "np.mean(mean_of_samples) - margin_of_error"
   ]
  },
  {
   "cell_type": "markdown",
   "id": "bb832681",
   "metadata": {},
   "source": [
    "### Z-test"
   ]
  },
  {
   "cell_type": "code",
   "execution_count": 49,
   "id": "ca3cf3e9",
   "metadata": {},
   "outputs": [],
   "source": [
    "from numpy.random import randn\n",
    "population = randn(100)"
   ]
  },
  {
   "cell_type": "code",
   "execution_count": 50,
   "id": "65f9b904",
   "metadata": {},
   "outputs": [
    {
     "data": {
      "text/plain": [
       "array([ 8.06495262e-01, -3.54259049e-01,  6.53649306e-01, -1.08916784e-01,\n",
       "       -3.13059581e-01, -8.96023769e-02, -1.13213160e-01, -1.90009943e+00,\n",
       "       -4.03074186e-01,  1.60535751e-04,  1.96118079e+00,  9.10263212e-01,\n",
       "       -1.31069563e+00, -1.81017440e+00,  8.96675668e-01,  1.02281004e+00,\n",
       "        9.81708860e-01,  8.63024045e-01,  6.79154126e-01, -1.25784674e+00,\n",
       "        9.09257154e-01, -1.97329063e-01,  3.24557847e-02,  4.39525875e-01,\n",
       "       -2.21896659e-02, -1.46714315e+00, -8.62896549e-02,  4.60441890e-01,\n",
       "       -2.45045053e-01,  2.41663411e-01,  5.18709589e-01,  1.19258653e-01,\n",
       "       -6.42929636e-01, -1.30902783e-01, -2.96855921e-01, -1.61909073e+00,\n",
       "       -2.38446148e+00, -6.01324665e-02, -3.26969736e+00, -3.72200243e-01,\n",
       "        1.12694987e+00,  8.52542425e-01,  2.69468673e-01,  2.22812998e+00,\n",
       "       -2.44794327e+00, -7.53134158e-01,  2.47677424e-01, -3.41078891e-02,\n",
       "        2.18913625e+00,  1.64414983e+00,  7.07628561e-01,  1.62731957e+00,\n",
       "        4.66618903e-01, -1.70889485e+00, -1.05511641e+00,  1.72276334e+00,\n",
       "       -1.42146176e-01, -9.92134703e-01, -1.77127245e-01, -1.29414875e+00,\n",
       "        5.05580127e-01, -1.31180836e+00,  4.30477413e-01, -1.77262726e-01,\n",
       "       -8.69053953e-01, -2.68311570e-01,  7.35323249e-02, -1.55319947e-01,\n",
       "       -1.76609774e+00,  4.76930907e-02,  8.70746357e-01,  2.73126923e+00,\n",
       "       -1.22879628e+00,  4.24696901e-01, -3.85171874e-01,  9.67124460e-01,\n",
       "       -5.77101401e-01,  8.95472501e-01,  4.92089997e-01,  1.65329637e+00,\n",
       "        3.08243920e-01, -1.47003365e+00,  2.04756814e-02, -3.70995913e-01,\n",
       "       -1.15030247e+00, -2.66792178e+00,  3.39950722e-01,  4.61481185e-01,\n",
       "       -1.69697580e+00,  4.56225288e-01, -7.72904664e-01, -4.39352678e-01,\n",
       "       -2.52825707e+00,  1.61475688e+00, -8.73355613e-01, -1.79955377e-01,\n",
       "       -4.17245425e-01,  4.90812483e-01,  3.19795615e-01, -1.01572682e+00])"
      ]
     },
     "execution_count": 50,
     "metadata": {},
     "output_type": "execute_result"
    }
   ],
   "source": [
    "population"
   ]
  },
  {
   "cell_type": "code",
   "execution_count": 52,
   "id": "2c4af91d",
   "metadata": {},
   "outputs": [
    {
     "name": "stderr",
     "output_type": "stream",
     "text": [
      "C:\\Users\\Rakesh_PC\\anaconda3\\lib\\site-packages\\seaborn\\distributions.py:2619: FutureWarning: `distplot` is a deprecated function and will be removed in a future version. Please adapt your code to use either `displot` (a figure-level function with similar flexibility) or `histplot` (an axes-level function for histograms).\n",
      "  warnings.warn(msg, FutureWarning)\n"
     ]
    },
    {
     "data": {
      "text/plain": [
       "<AxesSubplot:ylabel='Density'>"
      ]
     },
     "execution_count": 52,
     "metadata": {},
     "output_type": "execute_result"
    },
    {
     "data": {
      "image/png": "[encoded data removed]",
      "text/plain": [
       "<Figure size 640x480 with 1 Axes>"
      ]
     },
     "metadata": {},
     "output_type": "display_data"
    }
   ],
   "source": [
    "sns.distplot(population)"
   ]
  },
  {
   "cell_type": "code",
   "execution_count": 53,
   "id": "6809a85f",
   "metadata": {},
   "outputs": [
    {
     "name": "stdout",
     "output_type": "stream",
     "text": [
      "Mean value of the Population : -0.09699373536284094 and Standard deviation of the population : 1.1172305956823636\n"
     ]
    }
   ],
   "source": [
    "print(f\"Mean value of the Population : {np.mean(population)} and Standard deviation of the population : {np.std(population)}\")"
   ]
  },
  {
   "cell_type": "code",
   "execution_count": 54,
   "id": "1a927a61",
   "metadata": {},
   "outputs": [],
   "source": [
    "#default\n",
    "#confidence interval C.I = 95%\n",
    "#significant level = 0.05 (5%)"
   ]
  },
  {
   "cell_type": "markdown",
   "id": "12ca9fbb",
   "metadata": {},
   "source": [
    "#for z-test (statsmodel.stats library)\n",
    "- `p <= 0.05` -->reject the null hypothesis (p <= alpha)\n",
    "- `p > 0.05`  ---> fail to reject , so accept the null hypothesis (p > alpha)"
   ]
  },
  {
   "cell_type": "code",
   "execution_count": 55,
   "id": "55ae21df",
   "metadata": {},
   "outputs": [],
   "source": [
    "from statsmodels.stats.weightstats import ztest"
   ]
  },
  {
   "cell_type": "code",
   "execution_count": 56,
   "id": "6335bd01",
   "metadata": {},
   "outputs": [],
   "source": [
    "null_mean = np.mean(population)"
   ]
  },
  {
   "cell_type": "code",
   "execution_count": 57,
   "id": "c92d9f46",
   "metadata": {},
   "outputs": [],
   "source": [
    "z_score,p_value = ztest(population, value = null_mean, alternative = 'larger')"
   ]
  },
  {
   "cell_type": "code",
   "execution_count": 58,
   "id": "e0f2acdc",
   "metadata": {},
   "outputs": [],
   "source": [
    "alpha = 0.05"
   ]
  },
  {
   "cell_type": "code",
   "execution_count": 59,
   "id": "779d2b95",
   "metadata": {},
   "outputs": [
    {
     "data": {
      "text/plain": [
       "0.0"
      ]
     },
     "execution_count": 59,
     "metadata": {},
     "output_type": "execute_result"
    }
   ],
   "source": [
    "z_score"
   ]
  },
  {
   "cell_type": "code",
   "execution_count": 60,
   "id": "0b3b8a6d",
   "metadata": {},
   "outputs": [
    {
     "data": {
      "text/plain": [
       "0.5"
      ]
     },
     "execution_count": 60,
     "metadata": {},
     "output_type": "execute_result"
    }
   ],
   "source": [
    "p_value"
   ]
  },
  {
   "cell_type": "code",
   "execution_count": 61,
   "id": "e0d392c8",
   "metadata": {},
   "outputs": [],
   "source": [
    "#alternative\n",
    "#- two-sided:H1:(two-tailed) difference in means not equal to (default) 'larger':H1: difference in means larger than value\n",
    "#- smaller: H1 : difference in means smaller than value"
   ]
  },
  {
   "cell_type": "code",
   "execution_count": 62,
   "id": "7af01d4c",
   "metadata": {},
   "outputs": [
    {
     "name": "stdout",
     "output_type": "stream",
     "text": [
      "We are going to accept the null hypothesis\n"
     ]
    }
   ],
   "source": [
    "if(p_value < alpha):\n",
    "    print(\"Reject the null hypothesis\")\n",
    "else:\n",
    "    print(\"We are going to accept the null hypothesis\")"
   ]
  },
  {
   "cell_type": "code",
   "execution_count": 63,
   "id": "49e96816",
   "metadata": {},
   "outputs": [],
   "source": [
    "#how to check the normality of the data\n",
    "#z test\n",
    "#t test\n",
    "#chi square test\n",
    "#anova"
   ]
  },
  {
   "cell_type": "markdown",
   "id": "14103708",
   "metadata": {},
   "source": [
    "## how to check the normality of the data"
   ]
  },
  {
   "cell_type": "code",
   "execution_count": 65,
   "id": "4b968b60",
   "metadata": {},
   "outputs": [],
   "source": [
    "#import the dataset\n",
    "import pandas as pd\n",
    "data = pd.read_csv('https://raw.githubusercontent.com/shrikant-temburwar/Wine-Quality-Dataset/master/winequality-red.csv',sep = ';')"
   ]
  },
  {
   "cell_type": "code",
   "execution_count": 66,
   "id": "d25edf83",
   "metadata": {},
   "outputs": [
    {
     "data": {
      "text/html": [
       "<div>\n",
       "<style scoped>\n",
       "    .dataframe tbody tr th:only-of-type {\n",
       "        vertical-align: middle;\n",
       "    }\n",
       "\n",
       "    .dataframe tbody tr th {\n",
       "        vertical-align: top;\n",
       "    }\n",
       "\n",
       "    .dataframe thead th {\n",
       "        text-align: right;\n",
       "    }\n",
       "</style>\n",
       "<table border=\"1\" class=\"dataframe\">\n",
       "  <thead>\n",
       "    <tr style=\"text-align: right;\">\n",
       "      <th></th>\n",
       "      <th>fixed acidity</th>\n",
       "      <th>volatile acidity</th>\n",
       "      <th>citric acid</th>\n",
       "      <th>residual sugar</th>\n",
       "      <th>chlorides</th>\n",
       "      <th>free sulfur dioxide</th>\n",
       "      <th>total sulfur dioxide</th>\n",
       "      <th>density</th>\n",
       "      <th>pH</th>\n",
       "      <th>sulphates</th>\n",
       "      <th>alcohol</th>\n",
       "      <th>quality</th>\n",
       "    </tr>\n",
       "  </thead>\n",
       "  <tbody>\n",
       "    <tr>\n",
       "      <th>0</th>\n",
       "      <td>7.4</td>\n",
       "      <td>0.70</td>\n",
       "      <td>0.00</td>\n",
       "      <td>1.9</td>\n",
       "      <td>0.076</td>\n",
       "      <td>11.0</td>\n",
       "      <td>34.0</td>\n",
       "      <td>0.9978</td>\n",
       "      <td>3.51</td>\n",
       "      <td>0.56</td>\n",
       "      <td>9.4</td>\n",
       "      <td>5</td>\n",
       "    </tr>\n",
       "    <tr>\n",
       "      <th>1</th>\n",
       "      <td>7.8</td>\n",
       "      <td>0.88</td>\n",
       "      <td>0.00</td>\n",
       "      <td>2.6</td>\n",
       "      <td>0.098</td>\n",
       "      <td>25.0</td>\n",
       "      <td>67.0</td>\n",
       "      <td>0.9968</td>\n",
       "      <td>3.20</td>\n",
       "      <td>0.68</td>\n",
       "      <td>9.8</td>\n",
       "      <td>5</td>\n",
       "    </tr>\n",
       "    <tr>\n",
       "      <th>2</th>\n",
       "      <td>7.8</td>\n",
       "      <td>0.76</td>\n",
       "      <td>0.04</td>\n",
       "      <td>2.3</td>\n",
       "      <td>0.092</td>\n",
       "      <td>15.0</td>\n",
       "      <td>54.0</td>\n",
       "      <td>0.9970</td>\n",
       "      <td>3.26</td>\n",
       "      <td>0.65</td>\n",
       "      <td>9.8</td>\n",
       "      <td>5</td>\n",
       "    </tr>\n",
       "    <tr>\n",
       "      <th>3</th>\n",
       "      <td>11.2</td>\n",
       "      <td>0.28</td>\n",
       "      <td>0.56</td>\n",
       "      <td>1.9</td>\n",
       "      <td>0.075</td>\n",
       "      <td>17.0</td>\n",
       "      <td>60.0</td>\n",
       "      <td>0.9980</td>\n",
       "      <td>3.16</td>\n",
       "      <td>0.58</td>\n",
       "      <td>9.8</td>\n",
       "      <td>6</td>\n",
       "    </tr>\n",
       "    <tr>\n",
       "      <th>4</th>\n",
       "      <td>7.4</td>\n",
       "      <td>0.70</td>\n",
       "      <td>0.00</td>\n",
       "      <td>1.9</td>\n",
       "      <td>0.076</td>\n",
       "      <td>11.0</td>\n",
       "      <td>34.0</td>\n",
       "      <td>0.9978</td>\n",
       "      <td>3.51</td>\n",
       "      <td>0.56</td>\n",
       "      <td>9.4</td>\n",
       "      <td>5</td>\n",
       "    </tr>\n",
       "  </tbody>\n",
       "</table>\n",
       "</div>"
      ],
      "text/plain": [
       "   fixed acidity  volatile acidity  citric acid  residual sugar  chlorides  \\\n",
       "0            7.4              0.70         0.00             1.9      0.076   \n",
       "1            7.8              0.88         0.00             2.6      0.098   \n",
       "2            7.8              0.76         0.04             2.3      0.092   \n",
       "3           11.2              0.28         0.56             1.9      0.075   \n",
       "4            7.4              0.70         0.00             1.9      0.076   \n",
       "\n",
       "   free sulfur dioxide  total sulfur dioxide  density    pH  sulphates  \\\n",
       "0                 11.0                  34.0   0.9978  3.51       0.56   \n",
       "1                 25.0                  67.0   0.9968  3.20       0.68   \n",
       "2                 15.0                  54.0   0.9970  3.26       0.65   \n",
       "3                 17.0                  60.0   0.9980  3.16       0.58   \n",
       "4                 11.0                  34.0   0.9978  3.51       0.56   \n",
       "\n",
       "   alcohol  quality  \n",
       "0      9.4        5  \n",
       "1      9.8        5  \n",
       "2      9.8        5  \n",
       "3      9.8        6  \n",
       "4      9.4        5  "
      ]
     },
     "execution_count": 66,
     "metadata": {},
     "output_type": "execute_result"
    }
   ],
   "source": [
    "data.head()"
   ]
  },
  {
   "cell_type": "code",
   "execution_count": 67,
   "id": "d97068b9",
   "metadata": {},
   "outputs": [
    {
     "data": {
      "text/plain": [
       "0       0.700\n",
       "1       0.880\n",
       "2       0.760\n",
       "3       0.280\n",
       "4       0.700\n",
       "        ...  \n",
       "1594    0.600\n",
       "1595    0.550\n",
       "1596    0.510\n",
       "1597    0.645\n",
       "1598    0.310\n",
       "Name: volatile acidity, Length: 1599, dtype: float64"
      ]
     },
     "execution_count": 67,
     "metadata": {},
     "output_type": "execute_result"
    }
   ],
   "source": [
    "data['volatile acidity']"
   ]
  },
  {
   "cell_type": "code",
   "execution_count": 68,
   "id": "cd0d8d56",
   "metadata": {},
   "outputs": [],
   "source": [
    "import seaborn as sns"
   ]
  },
  {
   "cell_type": "code",
   "execution_count": 69,
   "id": "6360812c",
   "metadata": {},
   "outputs": [
    {
     "name": "stderr",
     "output_type": "stream",
     "text": [
      "C:\\Users\\Rakesh_PC\\anaconda3\\lib\\site-packages\\seaborn\\distributions.py:2619: FutureWarning: `distplot` is a deprecated function and will be removed in a future version. Please adapt your code to use either `displot` (a figure-level function with similar flexibility) or `histplot` (an axes-level function for histograms).\n",
      "  warnings.warn(msg, FutureWarning)\n"
     ]
    },
    {
     "data": {
      "text/plain": [
       "<AxesSubplot:xlabel='volatile acidity', ylabel='Density'>"
      ]
     },
     "execution_count": 69,
     "metadata": {},
     "output_type": "execute_result"
    },
    {
     "data": {
      "image/png": "[encoded data removed]",
      "text/plain": [
       "<Figure size 640x480 with 1 Axes>"
      ]
     },
     "metadata": {},
     "output_type": "display_data"
    }
   ],
   "source": [
    "sns.distplot(data['volatile acidity'],kde = True)"
   ]
  },
  {
   "cell_type": "code",
   "execution_count": 71,
   "id": "021a2ed5",
   "metadata": {},
   "outputs": [
    {
     "name": "stderr",
     "output_type": "stream",
     "text": [
      "C:\\Users\\Rakesh_PC\\anaconda3\\lib\\site-packages\\seaborn\\distributions.py:2619: FutureWarning: `distplot` is a deprecated function and will be removed in a future version. Please adapt your code to use either `displot` (a figure-level function with similar flexibility) or `histplot` (an axes-level function for histograms).\n",
      "  warnings.warn(msg, FutureWarning)\n"
     ]
    },
    {
     "data": {
      "text/plain": [
       "<AxesSubplot:xlabel='citric acid', ylabel='Density'>"
      ]
     },
     "execution_count": 71,
     "metadata": {},
     "output_type": "execute_result"
    },
    {
     "data": {
      "image/png": "[encoded data removed]",
      "text/plain": [
       "<Figure size 640x480 with 1 Axes>"
      ]
     },
     "metadata": {},
     "output_type": "display_data"
    }
   ],
   "source": [
    "sns.distplot(data['citric acid'],kde = True , color = 'red')"
   ]
  },
  {
   "cell_type": "markdown",
   "id": "ad587bae",
   "metadata": {},
   "source": [
    "### Shapiro Wilk test --> used to check the normality\n",
    "##### it can be found on scipy library\n",
    "\n",
    "`scipy.stats.shapiro\n",
    "scipy.stats.shapiro(x)[source]`\n",
    "Perform the Shapiro-Wilk test for normality.\n",
    "\n",
    "**The Shapiro-Wilk test tests the null hypothesis that the data was drawn from a normal distribution.**\n",
    "```\n",
    "Parameters:\n",
    "xarray_like\n",
    "Array of sample data.\n",
    "\n",
    "Returns:\n",
    "statisticfloat\n",
    "The test statistic.\n",
    "\n",
    "p-valuefloat\n",
    "The p-value for the hypothesis test.\n",
    "\n",
    "```"
   ]
  },
  {
   "cell_type": "code",
   "execution_count": 73,
   "id": "fd4c0c59",
   "metadata": {},
   "outputs": [
    {
     "data": {
      "text/plain": [
       "ShapiroResult(statistic=0.9743338823318481, pvalue=2.686385373947307e-16)"
      ]
     },
     "execution_count": 73,
     "metadata": {},
     "output_type": "execute_result"
    }
   ],
   "source": [
    "from scipy import stats\n",
    "stats.shapiro(data['volatile acidity'])"
   ]
  },
  {
   "cell_type": "code",
   "execution_count": 74,
   "id": "c588c1f9",
   "metadata": {},
   "outputs": [
    {
     "data": {
      "text/plain": [
       "ShapiroResult(statistic=0.955294668674469, pvalue=1.0233944777578548e-21)"
      ]
     },
     "execution_count": 74,
     "metadata": {},
     "output_type": "execute_result"
    }
   ],
   "source": [
    "stats.shapiro(data['citric acid'])"
   ]
  },
  {
   "cell_type": "markdown",
   "id": "b628fd36",
   "metadata": {},
   "source": [
    "**The chance of rejecting the null hypothesis when it is true is close to 5%\n",
    "regardless of sample size.**\n",
    "-  p-value should be less than 0.05 (most of the cases alpha = 0.05 when C.I = 95%)"
   ]
  },
  {
   "cell_type": "code",
   "execution_count": 76,
   "id": "315d1093",
   "metadata": {},
   "outputs": [],
   "source": [
    "from numpy.random import randn"
   ]
  },
  {
   "cell_type": "code",
   "execution_count": 81,
   "id": "ec6217d0",
   "metadata": {},
   "outputs": [],
   "source": [
    "mydata = randn(500)"
   ]
  },
  {
   "cell_type": "code",
   "execution_count": 82,
   "id": "de478a62",
   "metadata": {},
   "outputs": [
    {
     "name": "stderr",
     "output_type": "stream",
     "text": [
      "C:\\Users\\Rakesh_PC\\anaconda3\\lib\\site-packages\\seaborn\\distributions.py:2619: FutureWarning: `distplot` is a deprecated function and will be removed in a future version. Please adapt your code to use either `displot` (a figure-level function with similar flexibility) or `histplot` (an axes-level function for histograms).\n",
      "  warnings.warn(msg, FutureWarning)\n"
     ]
    },
    {
     "data": {
      "text/plain": [
       "<AxesSubplot:ylabel='Density'>"
      ]
     },
     "execution_count": 82,
     "metadata": {},
     "output_type": "execute_result"
    },
    {
     "data": {
      "image/png": "[encoded data removed]",
      "text/plain": [
       "<Figure size 640x480 with 1 Axes>"
      ]
     },
     "metadata": {},
     "output_type": "display_data"
    }
   ],
   "source": [
    "sns.distplot(mydata,kde = True)"
   ]
  },
  {
   "cell_type": "code",
   "execution_count": 84,
   "id": "c6e8c12c",
   "metadata": {},
   "outputs": [],
   "source": [
    "result = stats.shapiro(mydata)"
   ]
  },
  {
   "cell_type": "code",
   "execution_count": 85,
   "id": "04c6e438",
   "metadata": {},
   "outputs": [
    {
     "data": {
      "text/plain": [
       "ShapiroResult(statistic=0.9972856044769287, pvalue=0.5864931344985962)"
      ]
     },
     "execution_count": 85,
     "metadata": {},
     "output_type": "execute_result"
    }
   ],
   "source": [
    "result"
   ]
  },
  {
   "cell_type": "code",
   "execution_count": 87,
   "id": "5a00a8b9",
   "metadata": {},
   "outputs": [],
   "source": [
    "p = 0.05"
   ]
  },
  {
   "cell_type": "markdown",
   "id": "ff8a3c37",
   "metadata": {},
   "source": [
    "##### What is my null hypothesis?\n",
    "- Null hypothesis that the data was drawnfrom a normal distribution"
   ]
  },
  {
   "cell_type": "code",
   "execution_count": 88,
   "id": "268cfb7e",
   "metadata": {},
   "outputs": [
    {
     "name": "stdout",
     "output_type": "stream",
     "text": [
      "Reject the null hypothesis\n"
     ]
    }
   ],
   "source": [
    "if p <= result[1]:\n",
    "    print(\"Reject the null hypothesis\")\n",
    "else:\n",
    "    print(\"Accept the null hypothesis\")"
   ]
  },
  {
   "cell_type": "code",
   "execution_count": 90,
   "id": "bb570626",
   "metadata": {},
   "outputs": [
    {
     "data": {
      "text/plain": [
       "NormaltestResult(statistic=152.039214793795, pvalue=9.662822259281018e-34)"
      ]
     },
     "execution_count": 90,
     "metadata": {},
     "output_type": "execute_result"
    }
   ],
   "source": [
    "#alternate way to check normality\n",
    "stats.normaltest(data['citric acid'])"
   ]
  },
  {
   "cell_type": "code",
   "execution_count": 91,
   "id": "0a846af1",
   "metadata": {},
   "outputs": [
    {
     "data": {
      "text/plain": [
       "NormaltestResult(statistic=0.20088660441105913, pvalue=0.9044363905076598)"
      ]
     },
     "execution_count": 91,
     "metadata": {},
     "output_type": "execute_result"
    }
   ],
   "source": [
    "stats.normaltest(mydata)"
   ]
  },
  {
   "cell_type": "markdown",
   "id": "c03d7b36",
   "metadata": {},
   "source": [
    "## Z Test"
   ]
  },
  {
   "cell_type": "code",
   "execution_count": null,
   "id": "34903961",
   "metadata": {},
   "outputs": [],
   "source": [
    "# college students\n",
    "# sample 50 students\n",
    "# avg IQ = 110\n",
    "# mean population IQ = 100\n",
    "# population Standard deviation = 15\n",
    "# Confidence interval = 95%\n",
    "# significant level = 0.05\n",
    "\n",
    "Null Hypothesis\n",
    "# Ho : mu = 100\n",
    "# Ha : mu > 100\n",
    "\n",
    "Z-score = (110 -100) / 15 = 0.66"
   ]
  },
  {
   "cell_type": "code",
   "execution_count": null,
   "id": "98e0bdee",
   "metadata": {},
   "outputs": [],
   "source": [
    "# for Z-test \n",
    "# from statsmodel.stats.weightstats import ztest"
   ]
  },
  {
   "cell_type": "code",
   "execution_count": 93,
   "id": "4912dcce",
   "metadata": {},
   "outputs": [],
   "source": [
    "from statsmodels.stats.weightstats import ztest"
   ]
  },
  {
   "cell_type": "code",
   "execution_count": 96,
   "id": "f3543963",
   "metadata": {},
   "outputs": [],
   "source": [
    "sample_mean_iq = 110\n",
    "std_dev = 15\n",
    "mean_population = 100\n",
    "alpha = 0.05\n",
    "ci = 95\n",
    "n = 50"
   ]
  },
  {
   "cell_type": "code",
   "execution_count": 121,
   "id": "99da44be",
   "metadata": {},
   "outputs": [
    {
     "data": {
      "text/plain": [
       "\"\\nSignature:\\nztest(\\n    x1,\\n    x2=None,\\n    value=0,\\n    alternative='two-sided',\\n    usevar='pooled',\\n    ddof=1.0,\\n)\\nDocstring:\\ntest for mean based on normal distribution, one or two samples\\n\\nIn the case of two samples, the samples are assumed to be independent.\\n\\nvalue : float\\n    In the one sample case, value is the mean of x1 under the Null\\n    hypothesis.\\n    In the two sample case, value is the difference between mean of x1 and\\n    mean of x2 under the Null hypothesis. The test statistic is\\n    `x1_mean - x2_mean - value`.\\nalternative : str\\n    The alternative hypothesis, H1, has to be one of the following\\n\\n       'two-sided': H1: difference in means not equal to value (default)\\n       'larger' :   H1: difference in means larger than value\\n       'smaller' :  H1: difference in means smaller than value\\n\\nusevar : str, 'pooled'\\n    Currently, only 'pooled' is implemented.\\n    If ``pooled``, then the standard deviation of the samples is assumed to be\\n    the same. see CompareMeans.ztest_ind for different options.\\nddof : int\\n    Degrees of freedom use in the calculation of the variance of the mean\\n    estimate. In the case of comparing means this is one, however it can\\n    be adjusted for testing other statistics (proportion, correlation)\\n\\n\""
      ]
     },
     "execution_count": 121,
     "metadata": {},
     "output_type": "execute_result"
    }
   ],
   "source": [
    "#ztest()\n",
    "# returns \n",
    "# 1. tstat - test statistic\n",
    "# 2. P-value\n",
    "\"\"\"\n",
    "Signature:\n",
    "ztest(\n",
    "    x1,\n",
    "    x2=None,\n",
    "    value=0,\n",
    "    alternative='two-sided',\n",
    "    usevar='pooled',\n",
    "    ddof=1.0,\n",
    ")\n",
    "Docstring:\n",
    "test for mean based on normal distribution, one or two samples\n",
    "\n",
    "In the case of two samples, the samples are assumed to be independent.\n",
    "\n",
    "value : float\n",
    "    In the one sample case, value is the mean of x1 under the Null\n",
    "    hypothesis.\n",
    "    In the two sample case, value is the difference between mean of x1 and\n",
    "    mean of x2 under the Null hypothesis. The test statistic is\n",
    "    `x1_mean - x2_mean - value`.\n",
    "alternative : str\n",
    "    The alternative hypothesis, H1, has to be one of the following\n",
    "\n",
    "       'two-sided': H1: difference in means not equal to value (default)\n",
    "       'larger' :   H1: difference in means larger than value\n",
    "       'smaller' :  H1: difference in means smaller than value\n",
    "\n",
    "usevar : str, 'pooled'\n",
    "    Currently, only 'pooled' is implemented.\n",
    "    If ``pooled``, then the standard deviation of the samples is assumed to be\n",
    "    the same. see CompareMeans.ztest_ind for different options.\n",
    "ddof : int\n",
    "    Degrees of freedom use in the calculation of the variance of the mean\n",
    "    estimate. In the case of comparing means this is one, however it can\n",
    "    be adjusted for testing other statistics (proportion, correlation)\n",
    "\n",
    "\"\"\""
   ]
  },
  {
   "cell_type": "code",
   "execution_count": 102,
   "id": "a7e8c5fc",
   "metadata": {},
   "outputs": [],
   "source": [
    "#to get dataset having mean = 100 and std_dev = 15\n",
    "data  = std_dev * randn(50) + mean_population"
   ]
  },
  {
   "cell_type": "code",
   "execution_count": 103,
   "id": "85472547",
   "metadata": {},
   "outputs": [
    {
     "data": {
      "text/plain": [
       "array([121.64067704,  90.20438686,  84.26745183,  91.40815089,\n",
       "       124.91267694,  95.45171765, 106.37344567,  94.21498846,\n",
       "        97.89448135, 120.01438413,  93.53955354, 109.84861983,\n",
       "        80.65883607, 105.04620134,  93.58221314,  88.26091239,\n",
       "       100.5079095 ,  88.21812662, 103.91608313, 105.80849951,\n",
       "       124.26945947,  97.27069746,  92.39355542, 104.03002559,\n",
       "        68.89415715,  69.62933191,  99.65882231,  87.60371214,\n",
       "        86.37032238, 113.323362  ,  88.69960144, 110.42248843,\n",
       "       106.06038784, 102.76773391,  79.19074754,  78.70734374,\n",
       "       120.87921178,  90.20425391, 108.80892334, 101.46502428,\n",
       "       107.97459836,  94.98441545,  93.26802069,  93.92329035,\n",
       "        94.50195357, 114.95103573, 130.95392498, 132.23445054,\n",
       "       111.59067918, 108.694266  ])"
      ]
     },
     "execution_count": 103,
     "metadata": {},
     "output_type": "execute_result"
    }
   ],
   "source": [
    "data"
   ]
  },
  {
   "cell_type": "code",
   "execution_count": 104,
   "id": "53260048",
   "metadata": {},
   "outputs": [
    {
     "data": {
      "text/plain": [
       "100.18990225517308"
      ]
     },
     "execution_count": 104,
     "metadata": {},
     "output_type": "execute_result"
    }
   ],
   "source": [
    "np.mean(data)"
   ]
  },
  {
   "cell_type": "code",
   "execution_count": 105,
   "id": "988d14d9",
   "metadata": {},
   "outputs": [
    {
     "data": {
      "text/plain": [
       "14.420728878691888"
      ]
     },
     "execution_count": 105,
     "metadata": {},
     "output_type": "execute_result"
    }
   ],
   "source": [
    "np.std(data)"
   ]
  },
  {
   "cell_type": "code",
   "execution_count": 122,
   "id": "a838eeff",
   "metadata": {},
   "outputs": [],
   "source": [
    "#null hypothesis value\n",
    "null_value = 100"
   ]
  },
  {
   "cell_type": "code",
   "execution_count": 123,
   "id": "372ff9e4",
   "metadata": {},
   "outputs": [],
   "source": [
    "from statsmodels.stats.weightstats import ztest\n",
    "tstat, pval = ztest(data, value = null_value, alternative='larger')"
   ]
  },
  {
   "cell_type": "code",
   "execution_count": 124,
   "id": "97d7f5dc",
   "metadata": {},
   "outputs": [
    {
     "data": {
      "text/plain": [
       "0.09218090135345151"
      ]
     },
     "execution_count": 124,
     "metadata": {},
     "output_type": "execute_result"
    }
   ],
   "source": [
    "#testStatistic\n",
    "tstat"
   ]
  },
  {
   "cell_type": "code",
   "execution_count": 125,
   "id": "c970dae0",
   "metadata": {},
   "outputs": [
    {
     "data": {
      "text/plain": [
       "0.46327715597107244"
      ]
     },
     "execution_count": 125,
     "metadata": {},
     "output_type": "execute_result"
    }
   ],
   "source": [
    "#p-value\n",
    "pval"
   ]
  },
  {
   "cell_type": "code",
   "execution_count": 126,
   "id": "130149bf",
   "metadata": {},
   "outputs": [
    {
     "name": "stdout",
     "output_type": "stream",
     "text": [
      "Reject the null hypothesis\n"
     ]
    }
   ],
   "source": [
    "if pval > alpha:\n",
    "    print(\"Reject the null hypothesis\")\n",
    "else:\n",
    "    print(\"Accept the null hypothesis\")"
   ]
  },
  {
   "cell_type": "markdown",
   "id": "d33d258f",
   "metadata": {},
   "source": [
    "## T-Test"
   ]
  },
  {
   "cell_type": "markdown",
   "id": "23c0029c",
   "metadata": {},
   "source": [
    "1. **One sample T-test** (w.r.t one independent sample)\n",
    "2. **Two sample T-test** (w.r.t two independent samples)\n",
    "3. **Paired t-test** (two samples from the same Population on different time interval)"
   ]
  },
  {
   "cell_type": "code",
   "execution_count": 130,
   "id": "405b74fe",
   "metadata": {},
   "outputs": [],
   "source": [
    "population = np.random.randint(10,50,50)"
   ]
  },
  {
   "cell_type": "code",
   "execution_count": 131,
   "id": "07ee2446",
   "metadata": {},
   "outputs": [
    {
     "data": {
      "text/plain": [
       "29"
      ]
     },
     "execution_count": 131,
     "metadata": {},
     "output_type": "execute_result"
    }
   ],
   "source": [
    "np.random.choice(population)"
   ]
  },
  {
   "cell_type": "code",
   "execution_count": 132,
   "id": "b69a45e6",
   "metadata": {},
   "outputs": [],
   "source": [
    "#sample\n",
    "sample1 = np.random.choice(population,20)\n",
    "sample2 = np.random.choice(population,20)"
   ]
  },
  {
   "cell_type": "code",
   "execution_count": 133,
   "id": "8ce32689",
   "metadata": {},
   "outputs": [
    {
     "data": {
      "text/plain": [
       "array([15, 10, 29, 34, 32, 27, 34, 42, 34, 20, 24, 18, 14, 43, 35, 34, 38,\n",
       "       48, 43, 18])"
      ]
     },
     "execution_count": 133,
     "metadata": {},
     "output_type": "execute_result"
    }
   ],
   "source": [
    "sample1"
   ]
  },
  {
   "cell_type": "code",
   "execution_count": 134,
   "id": "bfc58bbe",
   "metadata": {},
   "outputs": [
    {
     "data": {
      "text/plain": [
       "array([48, 36, 44, 18, 43, 35, 43, 29, 36, 49, 31, 31, 11, 48, 29, 34, 47,\n",
       "       40, 32, 18])"
      ]
     },
     "execution_count": 134,
     "metadata": {},
     "output_type": "execute_result"
    }
   ],
   "source": [
    "sample2"
   ]
  },
  {
   "cell_type": "code",
   "execution_count": 136,
   "id": "013b0473",
   "metadata": {},
   "outputs": [
    {
     "data": {
      "text/plain": [
       "29.6"
      ]
     },
     "execution_count": 136,
     "metadata": {},
     "output_type": "execute_result"
    }
   ],
   "source": [
    "sample1.mean()"
   ]
  },
  {
   "cell_type": "code",
   "execution_count": 140,
   "id": "8ea32201",
   "metadata": {},
   "outputs": [],
   "source": [
    "my_score = [15, 10, 29, 14, 32, 27, 34, 42, 34, 20, 24, 18, 34, 13, 35, 34, 38,\n",
    "       48, 43, 17]\n",
    "vk_score = [48, 36, 44, 18, 43, 35, 43, 29, 36, 49, 31, 31, 11, 48, 29, 34, 47,\n",
    "       40, 32, 18]"
   ]
  },
  {
   "cell_type": "code",
   "execution_count": 141,
   "id": "a754c151",
   "metadata": {},
   "outputs": [
    {
     "data": {
      "text/plain": [
       "28.05"
      ]
     },
     "execution_count": 141,
     "metadata": {},
     "output_type": "execute_result"
    }
   ],
   "source": [
    "np.mean(my_score)"
   ]
  },
  {
   "cell_type": "code",
   "execution_count": 142,
   "id": "c179c59b",
   "metadata": {},
   "outputs": [
    {
     "data": {
      "text/plain": [
       "35.1"
      ]
     },
     "execution_count": 142,
     "metadata": {},
     "output_type": "execute_result"
    }
   ],
   "source": [
    "np.mean(vk_score)"
   ]
  },
  {
   "cell_type": "code",
   "execution_count": 148,
   "id": "9172fc33",
   "metadata": {},
   "outputs": [],
   "source": [
    "# null hypothesis : sample mean should be 27.35\n",
    "#null_hypothesis_mean\n",
    "nhm = 15"
   ]
  },
  {
   "cell_type": "code",
   "execution_count": 150,
   "id": "35c97685",
   "metadata": {},
   "outputs": [],
   "source": [
    "#one-sample T-test\n",
    "import scipy\n",
    "result = scipy.stats.ttest_1samp(my_score,nhm)"
   ]
  },
  {
   "cell_type": "code",
   "execution_count": 151,
   "id": "8fa7fabb",
   "metadata": {},
   "outputs": [
    {
     "data": {
      "text/plain": [
       "4.5513586129771545e-05"
      ]
     },
     "execution_count": 151,
     "metadata": {},
     "output_type": "execute_result"
    }
   ],
   "source": [
    "result[1]"
   ]
  },
  {
   "cell_type": "code",
   "execution_count": null,
   "id": "77966886",
   "metadata": {},
   "outputs": [],
   "source": [
    "#we are going to reject the null hypothesis if\n",
    "# p_value <= 0.05"
   ]
  },
  {
   "cell_type": "code",
   "execution_count": 162,
   "id": "5b8e48f3",
   "metadata": {},
   "outputs": [],
   "source": [
    "#if p-value > 0.05 we are going to accect the null hypothesis \n",
    "# p_value > 0.05"
   ]
  },
  {
   "cell_type": "code",
   "execution_count": 153,
   "id": "346794fa",
   "metadata": {},
   "outputs": [
    {
     "data": {
      "text/plain": [
       "Ttest_1sampResult(statistic=0.42250239845419396, pvalue=0.6774012098397147)"
      ]
     },
     "execution_count": 153,
     "metadata": {},
     "output_type": "execute_result"
    }
   ],
   "source": [
    " scipy.stats.ttest_1samp(my_score,27)"
   ]
  },
  {
   "cell_type": "code",
   "execution_count": null,
   "id": "fe6886ab",
   "metadata": {},
   "outputs": [],
   "source": [
    "#two sample t-test"
   ]
  },
  {
   "cell_type": "code",
   "execution_count": 154,
   "id": "b0575088",
   "metadata": {},
   "outputs": [
    {
     "data": {
      "text/plain": [
       "[15,\n",
       " 10,\n",
       " 29,\n",
       " 14,\n",
       " 32,\n",
       " 27,\n",
       " 34,\n",
       " 42,\n",
       " 34,\n",
       " 20,\n",
       " 24,\n",
       " 18,\n",
       " 34,\n",
       " 13,\n",
       " 35,\n",
       " 34,\n",
       " 38,\n",
       " 48,\n",
       " 43,\n",
       " 17]"
      ]
     },
     "execution_count": 154,
     "metadata": {},
     "output_type": "execute_result"
    }
   ],
   "source": [
    "my_score"
   ]
  },
  {
   "cell_type": "code",
   "execution_count": 155,
   "id": "dfe5276f",
   "metadata": {},
   "outputs": [
    {
     "data": {
      "text/plain": [
       "[48,\n",
       " 36,\n",
       " 44,\n",
       " 18,\n",
       " 43,\n",
       " 35,\n",
       " 43,\n",
       " 29,\n",
       " 36,\n",
       " 49,\n",
       " 31,\n",
       " 31,\n",
       " 11,\n",
       " 48,\n",
       " 29,\n",
       " 34,\n",
       " 47,\n",
       " 40,\n",
       " 32,\n",
       " 18]"
      ]
     },
     "execution_count": 155,
     "metadata": {},
     "output_type": "execute_result"
    }
   ],
   "source": [
    "vk_score"
   ]
  },
  {
   "cell_type": "code",
   "execution_count": 156,
   "id": "d249caa5",
   "metadata": {},
   "outputs": [],
   "source": [
    "first_sample_mean = np.mean(my_score)\n",
    "second_sample_mean = np.mean(vk_score)"
   ]
  },
  {
   "cell_type": "code",
   "execution_count": 157,
   "id": "b72be759",
   "metadata": {},
   "outputs": [
    {
     "data": {
      "text/plain": [
       "28.05"
      ]
     },
     "execution_count": 157,
     "metadata": {},
     "output_type": "execute_result"
    }
   ],
   "source": [
    "first_sample_mean"
   ]
  },
  {
   "cell_type": "code",
   "execution_count": 159,
   "id": "f174332e",
   "metadata": {},
   "outputs": [
    {
     "data": {
      "text/plain": [
       "35.1"
      ]
     },
     "execution_count": 159,
     "metadata": {},
     "output_type": "execute_result"
    }
   ],
   "source": [
    "second_sample_mean"
   ]
  },
  {
   "cell_type": "code",
   "execution_count": 160,
   "id": "bab8c042",
   "metadata": {},
   "outputs": [],
   "source": [
    "#null hypothesis: both sample mean will be same "
   ]
  },
  {
   "cell_type": "code",
   "execution_count": 163,
   "id": "8b09fef0",
   "metadata": {},
   "outputs": [
    {
     "data": {
      "text/plain": [
       "Ttest_indResult(statistic=-2.0421692935900375, pvalue=0.04811935217698086)"
      ]
     },
     "execution_count": 163,
     "metadata": {},
     "output_type": "execute_result"
    }
   ],
   "source": [
    "scipy.stats.ttest_ind(my_score,vk_score)"
   ]
  },
  {
   "cell_type": "markdown",
   "id": "382e22a9",
   "metadata": {},
   "source": [
    "## Paired T-test"
   ]
  },
  {
   "cell_type": "code",
   "execution_count": 169,
   "id": "fa1aa7a4",
   "metadata": {},
   "outputs": [],
   "source": [
    "#both samples comes from the same population\n",
    "a_score = [35, 10, 19, 34, 32, 27, 34, 42, 24, 10, 24, 48, 14, 43, 35, 17, 38,\n",
    "       43, 43, 18]\n",
    "b_score = [35, 10, 19, 24, 32, 27, 34, 42, 14, 10, 24, 48, 44, 43, 35, 37, 38,\n",
    "       43, 43, 48]"
   ]
  },
  {
   "cell_type": "code",
   "execution_count": 170,
   "id": "01a1768e",
   "metadata": {},
   "outputs": [
    {
     "data": {
      "text/plain": [
       "29.5"
      ]
     },
     "execution_count": 170,
     "metadata": {},
     "output_type": "execute_result"
    }
   ],
   "source": [
    "np.mean(a_score)"
   ]
  },
  {
   "cell_type": "code",
   "execution_count": 171,
   "id": "ca159cbc",
   "metadata": {},
   "outputs": [
    {
     "data": {
      "text/plain": [
       "32.5"
      ]
     },
     "execution_count": 171,
     "metadata": {},
     "output_type": "execute_result"
    }
   ],
   "source": [
    "np.mean(b_score)"
   ]
  },
  {
   "cell_type": "code",
   "execution_count": 172,
   "id": "d85f11a1",
   "metadata": {},
   "outputs": [
    {
     "data": {
      "text/plain": [
       "Ttest_relResult(statistic=-1.2411851354816255, pvalue=0.22964363243911423)"
      ]
     },
     "execution_count": 172,
     "metadata": {},
     "output_type": "execute_result"
    }
   ],
   "source": [
    "scipy.stats.ttest_rel(a_score,b_score)"
   ]
  },
  {
   "cell_type": "code",
   "execution_count": null,
   "id": "98332a46",
   "metadata": {},
   "outputs": [],
   "source": []
  }
 ],
 "metadata": {
  "kernelspec": {
   "display_name": "Python 3 (ipykernel)",
   "language": "python",
   "name": "python3"
  },
  "language_info": {
   "codemirror_mode": {
    "name": "ipython",
    "version": 3
   },
   "file_extension": ".py",
   "mimetype": "text/x-python",
   "name": "python",
   "nbconvert_exporter": "python",
   "pygments_lexer": "ipython3",
   "version": "3.9.13"
  }
 },
 "nbformat": 4,
 "nbformat_minor": 5
}
