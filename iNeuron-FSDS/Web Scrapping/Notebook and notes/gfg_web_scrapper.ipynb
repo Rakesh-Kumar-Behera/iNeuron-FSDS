{
 "cells": [
  {
   "cell_type": "markdown",
   "id": "a71fccee-ff7a-4caa-bb0d-484ef54751c7",
   "metadata": {},
   "source": [
    "## Web Scrapping \n",
    "Date :- 11-02-2023 "
   ]
  },
  {
   "cell_type": "code",
   "execution_count": 1,
   "id": "3b5c67c3-8450-4222-9e28-fb48f390a051",
   "metadata": {},
   "outputs": [],
   "source": [
    "# to fetch data from any url or dataset"
   ]
  },
  {
   "cell_type": "code",
   "execution_count": 2,
   "id": "cb5fa5bd-dc69-4bdd-bbed-921651cd6e92",
   "metadata": {},
   "outputs": [],
   "source": [
    "#to get some information from a website"
   ]
  },
  {
   "cell_type": "markdown",
   "id": "e9d2c06b-7a30-4694-b354-848826c07aed",
   "metadata": {},
   "source": [
    "### Requests Module\n",
    "Requests library is used for making HTTP requests to a specific URL and returns the response. Python requests provide inbuilt functionalities for managing both the request and response."
   ]
  },
  {
   "cell_type": "markdown",
   "id": "bf8dc12f-5ddc-4ce9-aa9a-2d4e962caa4a",
   "metadata": {},
   "source": [
    "#### Making a Request\n",
    "Python requests module has several built-in methods to make HTTP requests to specified URI using `GET, POST, PUT, PATCH, or HEAD` requests. A HTTP request is meant to either retrieve data from a specified URI or to push data to a server. It works as a request-response protocol between a client and a server. Here we will be using the GET request. \n",
    "\n",
    "`GET` method is used to retrieve information from the given server using a given URI. The `GET` method sends the encoded user information appended to the page request. "
   ]
  },
  {
   "cell_type": "code",
   "execution_count": 4,
   "id": "59a9d9e2-8ae0-4a2b-a584-173d97529631",
   "metadata": {},
   "outputs": [],
   "source": [
    "#Example: Python requests making GET request\n",
    "import requests\n",
    " \n",
    "# Making a GET request\n",
    "r = requests.get('https://www.geeksforgeeks.org/python-programming-language/')\n",
    " \n",
    "# check status code for response received\n",
    "# success code - 200\n",
    "# print(r)\n",
    " \n",
    "# print content of request\n",
    "# print(r.content)"
   ]
  },
  {
   "cell_type": "code",
   "execution_count": 5,
   "id": "89351722-cbe6-422f-a9ec-6d1d3fc9f39b",
   "metadata": {},
   "outputs": [
    {
     "name": "stdout",
     "output_type": "stream",
     "text": [
      "https://www.geeksforgeeks.org/python-programming-language/\n",
      "200\n"
     ]
    }
   ],
   "source": [
    "# print request object\n",
    "print(r.url)\n",
    "   \n",
    "# print status code\n",
    "print(r.status_code)"
   ]
  },
  {
   "cell_type": "markdown",
   "id": "3e08a74e-e4d3-4a35-807d-d8e0a5cee019",
   "metadata": {},
   "source": [
    "### BeautifulSoup Library \n",
    "BeautifulSoup is used extract information from the HTML and XML files. It provides a parse tree and the functions to navigate, search or modify this parse tree.\n",
    "\n",
    "- Beautiful Soup is a Python library used to pull the data out of HTML and XML files for web scraping purposes. It produces a parse tree from page source code that can be utilized to drag data hierarchically and more legibly. "
   ]
  },
  {
   "cell_type": "markdown",
   "id": "1c5c0c2b-079c-4245-a1b2-2e97ca749284",
   "metadata": {},
   "source": [
    "<b>Note:</b> BeautifulSoup library is built on top of the HTML parsing libraries like html5lib, lxml, html.parser, etc. So BeautifulSoup object and specify the parser library can be created at the same time."
   ]
  },
  {
   "cell_type": "code",
   "execution_count": 7,
   "id": "9d59e804-93a3-4943-a5ce-07f38aa3c187",
   "metadata": {},
   "outputs": [
    {
     "name": "stdout",
     "output_type": "stream",
     "text": [
      "<Response [200]>\n"
     ]
    }
   ],
   "source": [
    "import requests\n",
    "from bs4 import BeautifulSoup\n",
    "\n",
    "\n",
    "# Making a GET request\n",
    "r = requests.get('https://www.geeksforgeeks.org/python-programming-language/')\n",
    "\n",
    "# check status code for response received\n",
    "# success code - 200\n",
    "print(r)\n",
    "\n",
    "# Parsing the HTML\n",
    "soup = BeautifulSoup(r.content, 'html.parser')\n",
    "#print(soup.prettify())\n"
   ]
  },
  {
   "cell_type": "code",
   "execution_count": 8,
   "id": "1014b6c3-ebd7-43c1-aa23-8e5ac72ee11c",
   "metadata": {},
   "outputs": [
    {
     "name": "stdout",
     "output_type": "stream",
     "text": [
      "<title>Python Tutorial | Learn Python Programming</title>\n",
      "title\n",
      "head\n"
     ]
    }
   ],
   "source": [
    "import requests\n",
    "from bs4 import BeautifulSoup\n",
    "\n",
    "\n",
    "# Making a GET request\n",
    "r = requests.get('https://www.geeksforgeeks.org/python-programming-language/')\n",
    "\n",
    "# Parsing the HTML\n",
    "soup = BeautifulSoup(r.content, 'html.parser')\n",
    "\n",
    "# Getting the title tag\n",
    "print(soup.title)\n",
    "\n",
    "# Getting the name of the tag\n",
    "print(soup.title.name)\n",
    "\n",
    "# Getting the name of parent tag\n",
    "print(soup.title.parent.name)\n",
    "\n",
    "# use the child attribute to get\n",
    "# the name of the child tag\n"
   ]
  },
  {
   "cell_type": "markdown",
   "id": "b70be174-809d-4d3a-a946-0fea247bee97",
   "metadata": {},
   "source": [
    "We can see that the content of the page is under the `<p>` tag. Now we have to find all the p tags present in this class. We can use the `find_all` class of the BeautifulSoup."
   ]
  },
  {
   "cell_type": "code",
   "execution_count": 11,
   "id": "7bcfe0ce-1be2-47b5-a6f2-042ef89e952d",
   "metadata": {},
   "outputs": [
    {
     "name": "stdout",
     "output_type": "stream",
     "text": [
      "[<p></p>, <p>This Python Tutorial is very well suited for Beginners, and also for experienced programmers with other programming languages like C++ and Java. This specially designed Python tutorial will help you learn Python Programming Language in the most efficient way, with topics from basics to advanced (like Web-scraping, Django, Deep-Learning, etc.) with examples.</p>, <p><span id=\"more-136942\"></span></p>, <p><img alt=\"Python Tutorial\" class=\"alignnone size-full wp-image-973034\" height=\"470\" sizes=\"(max-width: 1000px) 100vw, 1000px\" src=\"https://media.geeksforgeeks.org/wp-content/cdn-uploads/20230305181456/Python4.png\" srcset=\"https://media.geeksforgeeks.org/wp-content/cdn-uploads/20230305181456/Python4.png 1000w, https://media.geeksforgeeks.org/wp-content/cdn-uploads/20230305181456/Python4-300x141.png 300w, https://media.geeksforgeeks.org/wp-content/cdn-uploads/20230305181456/Python4-768x361.png 768w, https://media.geeksforgeeks.org/wp-content/cdn-uploads/20230305181456/Python4-660x310.png 660w\" width=\"1000\"/></p>, <p>Python is a high-level, general-purpose, and very popular programming language. Python programming language (latest Python 3) is being used in web development, Machine Learning applications, along with all cutting-edge technology in Software Industry.</p>, <p>Python language is being used by almost all tech-giant companies like – Google, Amazon, Facebook, Instagram, Dropbox, Uber… etc.</p>, <p>The biggest strength of Python is huge collection of standard library which can be used for the following:</p>, <p>Python is currently the most widely used multi-purpose, high-level programming language, which allows programming in Object-Oriented and Procedural paradigms. Python programs generally are smaller than other programming languages like Java. Programmers have to type relatively less and the indentation requirement of the language, makes them readable all the time.</p>, <p><a href=\"#Basics\">Basics</a>, <a href=\"#io\">Input/Output</a>, <a href=\"#Data Types\">Data Types</a>, <a href=\"#Variables\">Variables</a>, <a href=\"#Operators\">Operators</a>, <a href=\"#Control Flow\">Control Flow</a>, <a href=\"#Functions\">Functions</a>, <a href=\"#Object Oriented Concepts\">Object Oriented Concepts</a>, <a href=\"#Exception Handling\">Exception Handling</a>, <a href=\"#Python Collections\">Python Collections</a>, <a href=\"#Django tutorial\">Django Framework</a>, <a href=\"#Data Analysis\">Data Analysis</a>, <a href=\"#Numpy\">Numpy</a>, <a href=\"#Pandas\">Pandas</a>, <a href=\"#Machine Learning with Python\">Machine Learning with Python</a>, <a href=\"#PythonGUI\">Python GUI</a>, <a href=\"#Modules in Python\">Modules in Python</a>, <a href=\"#WorkingWithDatabase\">Working with Database</a>, <a href=\"#Misc\">Misc</a>, <a href=\"#Applications and Projects\">Applications and Projects</a>, <a href=\"https://www.geeksforgeeks.org/python-multiple-choice-questions/\">Multiple Choice Questions</a></p>, <p>Here are the important topics that come under Python. After completing all the important topics, you’ll have a basic understanding of the Python programming language:-</p>, <p></p>, <p><a name=\"io\"></a><center></center></p>, <p><a name=\"Data Types\"></a><center></center></p>, <p></p>, <p><center></center></p>, <p></p>, <p><a name=\"Operators\"></a><center></center></p>, <p></p>, <p><a name=\"Control Flow\"></a><center></center></p>, <p></p>, <p><a name=\"Functions\"></a><center></center></p>, <p></p>, <p><a name=\"Object Oriented Concepts\"></a><center></center></p>, <p></p>, <p><a name=\"Exception Handling\"></a><center></center></p>, <p></p>, <p><a name=\"Python Collections\"></a><center></center></p>, <p></p>, <p></p>, <p><a name=\"Data Analysis\"></a><center></center></p>, <p></p>, <p><a name=\"Numpy\"></a><center></center></p>, <p></p>, <p><a name=\"Pandas\"></a><center></center></p>, <p></p>, <p><a name=\"Machine Learning with Python\"></a><center></center></p>, <p></p>, <p><a name=\"PythonGUI\"></a><center></center></p>, <p></p>, <p><a name=\"Modules in Python\"></a><center></center></p>, <p></p>, <p><a name=\"WorkingWithDatabase\"></a><center></center></p>, <p></p>, <p><a name=\"Misc\"></a><center></center></p>, <p></p>, <p><a name=\"Applications and Projects\"></a><center></center></p>, <p></p>, <p> <br/> </p>, <p><strong>Also, check</strong></p>]\n"
     ]
    }
   ],
   "source": [
    "import requests\n",
    "from bs4 import BeautifulSoup\n",
    "\n",
    "\n",
    "# Making a GET request\n",
    "r = requests.get('https://www.geeksforgeeks.org/python-programming-language/')\n",
    "\n",
    "# Parsing the HTML\n",
    "soup = BeautifulSoup(r.content, 'html.parser')\n",
    "\n",
    "s = soup.find('div', class_='entry-content')\n",
    "content = s.find_all('p')\n",
    "\n",
    "print(content)\n"
   ]
  },
  {
   "cell_type": "code",
   "execution_count": 12,
   "id": "3a1529c2-fb57-4c35-a6a3-9e85cc46eb21",
   "metadata": {},
   "outputs": [
    {
     "name": "stdout",
     "output_type": "stream",
     "text": [
      "<p></p>\n",
      "<p>This Python Tutorial is very well suited for Beginners, and also for experienced programmers with other programming languages like C++ and Java. This specially designed Python tutorial will help you learn Python Programming Language in the most efficient way, with topics from basics to advanced (like Web-scraping, Django, Deep-Learning, etc.) with examples.</p>\n",
      "<p><span id=\"more-136942\"></span></p>\n",
      "<p><img alt=\"Python Tutorial\" class=\"alignnone size-full wp-image-973034\" height=\"470\" sizes=\"(max-width: 1000px) 100vw, 1000px\" src=\"https://media.geeksforgeeks.org/wp-content/cdn-uploads/20230305181456/Python4.png\" srcset=\"https://media.geeksforgeeks.org/wp-content/cdn-uploads/20230305181456/Python4.png 1000w, https://media.geeksforgeeks.org/wp-content/cdn-uploads/20230305181456/Python4-300x141.png 300w, https://media.geeksforgeeks.org/wp-content/cdn-uploads/20230305181456/Python4-768x361.png 768w, https://media.geeksforgeeks.org/wp-content/cdn-uploads/20230305181456/Python4-660x310.png 660w\" width=\"1000\"/></p>\n",
      "<p>Python is a high-level, general-purpose, and very popular programming language. Python programming language (latest Python 3) is being used in web development, Machine Learning applications, along with all cutting-edge technology in Software Industry.</p>\n",
      "<p>Python language is being used by almost all tech-giant companies like – Google, Amazon, Facebook, Instagram, Dropbox, Uber… etc.</p>\n",
      "<p>The biggest strength of Python is huge collection of standard library which can be used for the following:</p>\n",
      "<p>Python is currently the most widely used multi-purpose, high-level programming language, which allows programming in Object-Oriented and Procedural paradigms. Python programs generally are smaller than other programming languages like Java. Programmers have to type relatively less and the indentation requirement of the language, makes them readable all the time.</p>\n",
      "<p><a href=\"#Basics\">Basics</a>, <a href=\"#io\">Input/Output</a>, <a href=\"#Data Types\">Data Types</a>, <a href=\"#Variables\">Variables</a>, <a href=\"#Operators\">Operators</a>, <a href=\"#Control Flow\">Control Flow</a>, <a href=\"#Functions\">Functions</a>, <a href=\"#Object Oriented Concepts\">Object Oriented Concepts</a>, <a href=\"#Exception Handling\">Exception Handling</a>, <a href=\"#Python Collections\">Python Collections</a>, <a href=\"#Django tutorial\">Django Framework</a>, <a href=\"#Data Analysis\">Data Analysis</a>, <a href=\"#Numpy\">Numpy</a>, <a href=\"#Pandas\">Pandas</a>, <a href=\"#Machine Learning with Python\">Machine Learning with Python</a>, <a href=\"#PythonGUI\">Python GUI</a>, <a href=\"#Modules in Python\">Modules in Python</a>, <a href=\"#WorkingWithDatabase\">Working with Database</a>, <a href=\"#Misc\">Misc</a>, <a href=\"#Applications and Projects\">Applications and Projects</a>, <a href=\"https://www.geeksforgeeks.org/python-multiple-choice-questions/\">Multiple Choice Questions</a></p>\n",
      "<p>Here are the important topics that come under Python. After completing all the important topics, you’ll have a basic understanding of the Python programming language:-</p>\n",
      "<p></p>\n",
      "<p><a name=\"io\"></a><center></center></p>\n",
      "<p><a name=\"Data Types\"></a><center></center></p>\n",
      "<p></p>\n",
      "<p><center></center></p>\n",
      "<p></p>\n",
      "<p><a name=\"Operators\"></a><center></center></p>\n",
      "<p></p>\n",
      "<p><a name=\"Control Flow\"></a><center></center></p>\n",
      "<p></p>\n",
      "<p><a name=\"Functions\"></a><center></center></p>\n",
      "<p></p>\n",
      "<p><a name=\"Object Oriented Concepts\"></a><center></center></p>\n",
      "<p></p>\n",
      "<p><a name=\"Exception Handling\"></a><center></center></p>\n",
      "<p></p>\n",
      "<p><a name=\"Python Collections\"></a><center></center></p>\n",
      "<p></p>\n",
      "<p></p>\n",
      "<p><a name=\"Data Analysis\"></a><center></center></p>\n",
      "<p></p>\n",
      "<p><a name=\"Numpy\"></a><center></center></p>\n",
      "<p></p>\n",
      "<p><a name=\"Pandas\"></a><center></center></p>\n",
      "<p></p>\n",
      "<p><a name=\"Machine Learning with Python\"></a><center></center></p>\n",
      "<p></p>\n",
      "<p><a name=\"PythonGUI\"></a><center></center></p>\n",
      "<p></p>\n",
      "<p><a name=\"Modules in Python\"></a><center></center></p>\n",
      "<p></p>\n",
      "<p><a name=\"WorkingWithDatabase\"></a><center></center></p>\n",
      "<p></p>\n",
      "<p><a name=\"Misc\"></a><center></center></p>\n",
      "<p></p>\n",
      "<p><a name=\"Applications and Projects\"></a><center></center></p>\n",
      "<p></p>\n",
      "<p> <br/> </p>\n",
      "<p><strong>Also, check</strong></p>\n"
     ]
    }
   ],
   "source": [
    "import requests\n",
    "from bs4 import BeautifulSoup\n",
    "\n",
    "\n",
    "# Making a GET request\n",
    "r = requests.get('https://www.geeksforgeeks.org/python-programming-language/')\n",
    "\n",
    "# Parsing the HTML\n",
    "soup = BeautifulSoup(r.content, 'html.parser')\n",
    "\n",
    "s = soup.find('div', class_='entry-content')\n",
    "content = s.find_all('p')\n",
    "\n",
    "for line in content:\n",
    "    print(line)"
   ]
  },
  {
   "cell_type": "code",
   "execution_count": 13,
   "id": "db38f5bc-87bf-41cf-a544-ae8ae01462b2",
   "metadata": {},
   "outputs": [
    {
     "name": "stdout",
     "output_type": "stream",
     "text": [
      "\n",
      "This Python Tutorial is very well suited for Beginners, and also for experienced programmers with other programming languages like C++ and Java. This specially designed Python tutorial will help you learn Python Programming Language in the most efficient way, with topics from basics to advanced (like Web-scraping, Django, Deep-Learning, etc.) with examples.\n",
      "\n",
      "\n",
      "Python is a high-level, general-purpose, and very popular programming language. Python programming language (latest Python 3) is being used in web development, Machine Learning applications, along with all cutting-edge technology in Software Industry.\n",
      "Python language is being used by almost all tech-giant companies like – Google, Amazon, Facebook, Instagram, Dropbox, Uber… etc.\n",
      "The biggest strength of Python is huge collection of standard library which can be used for the following:\n",
      "Python is currently the most widely used multi-purpose, high-level programming language, which allows programming in Object-Oriented and Procedural paradigms. Python programs generally are smaller than other programming languages like Java. Programmers have to type relatively less and the indentation requirement of the language, makes them readable all the time.\n",
      "Basics, Input/Output, Data Types, Variables, Operators, Control Flow, Functions, Object Oriented Concepts, Exception Handling, Python Collections, Django Framework, Data Analysis, Numpy, Pandas, Machine Learning with Python, Python GUI, Modules in Python, Working with Database, Misc, Applications and Projects, Multiple Choice Questions\n",
      "Here are the important topics that come under Python. After completing all the important topics, you’ll have a basic understanding of the Python programming language:-\n",
      "\n",
      "\n",
      "\n",
      "\n",
      "\n",
      "\n",
      "\n",
      "\n",
      "\n",
      "\n",
      "\n",
      "\n",
      "\n",
      "\n",
      "\n",
      "\n",
      "\n",
      "\n",
      "\n",
      "\n",
      "\n",
      "\n",
      "\n",
      "\n",
      "\n",
      "\n",
      "\n",
      "\n",
      "\n",
      "\n",
      "\n",
      "\n",
      "\n",
      "\n",
      "\n",
      "\n",
      "\n",
      "  \n",
      "Also, check\n"
     ]
    }
   ],
   "source": [
    "import requests\n",
    "from bs4 import BeautifulSoup\n",
    "\n",
    "\n",
    "# Making a GET request\n",
    "r = requests.get('https://www.geeksforgeeks.org/python-programming-language/')\n",
    "\n",
    "# Parsing the HTML\n",
    "soup = BeautifulSoup(r.content, 'html.parser')\n",
    "\n",
    "s = soup.find('div', class_='entry-content')\n",
    "\n",
    "lines = s.find_all('p')\n",
    "\n",
    "for line in lines:\n",
    "\tprint(line.text)\n"
   ]
  },
  {
   "cell_type": "code",
   "execution_count": 16,
   "id": "c353b5b7-ece2-46b0-838a-9f9293006225",
   "metadata": {},
   "outputs": [],
   "source": [
    "import requests\n",
    "from bs4 import BeautifulSoup\n",
    "\n",
    "\n",
    "# Making a GET request\n",
    "r = requests.get('https://www.geeksforgeeks.org/python-programming-language/')\n",
    "\n",
    "# Parsing the HTML\n",
    "soup = BeautifulSoup(r.content, 'html.parser')\n",
    "\n",
    "# find all the anchor tags with \"href\"\n",
    "for link in soup.find_all('a'):\n",
    "\t#print(link.get('href'))\n",
    "    pass\n"
   ]
  },
  {
   "cell_type": "code",
   "execution_count": 17,
   "id": "199a2036-3ab8-48a8-adae-c030f9d8cecd",
   "metadata": {},
   "outputs": [
    {
     "name": "stdout",
     "output_type": "stream",
     "text": [
      "{'src': 'https://media.geeksforgeeks.org/gfg-gg-logo.svg', 'alt': 'geeksforgeeks'}\n",
      "{'src': 'https://media.geeksforgeeks.org/wp-content/cdn-uploads/20230305181456/Python4.png', 'alt': 'Python Tutorial'}\n",
      "{'src': 'https://media.geeksforgeeks.org/img-practice/banner/Data-Structures-With-Python-thumbnail.webp?v=19521', 'alt': 'course-img'}\n",
      "{'src': 'https://media.geeksforgeeks.org/img-practice/banner/Python-Foundation-thumbnail.webp?v=19521', 'alt': 'course-img'}\n",
      "{'src': 'https://media.geeksforgeeks.org/img-practice/banner/data-science-live-thumbnail.webp?v=19521', 'alt': 'course-img'}\n",
      "{'src': 'https://media.geeksforgeeks.org/auth-dashboard-uploads/gfgFooterLogo.png', 'alt': 'geeksforgeeks-footer-logo'}\n",
      "{'src': 'https://media.geeksforgeeks.org/auth-dashboard-uploads/googleplay.png', 'alt': 'GFG App on Play Store'}\n",
      "{'src': 'https://media.geeksforgeeks.org/auth-dashboard-uploads/appstore.png', 'alt': 'GFG App on App Store'}\n",
      "{'src': '', 'alt': 'Lightbox'}\n"
     ]
    }
   ],
   "source": [
    "#Example: Python BeautifulSoup Extract Image \n",
    "import requests\n",
    "from bs4 import BeautifulSoup\n",
    "\n",
    "\n",
    "# Making a GET request\n",
    "r = requests.get('https://www.geeksforgeeks.org/python-programming-language/')\n",
    "\n",
    "# Parsing the HTML\n",
    "soup = BeautifulSoup(r.content, 'html.parser')\n",
    "\n",
    "images_list = []\n",
    "\n",
    "images = soup.select('img')\n",
    "for image in images:\n",
    "\tsrc = image.get('src')\n",
    "\talt = image.get('alt')\n",
    "\timages_list.append({\"src\": src, \"alt\": alt})\n",
    "\t\n",
    "for image in images_list:\n",
    "\tprint(image)\n"
   ]
  },
  {
   "cell_type": "code",
   "execution_count": null,
   "id": "58deee9e-f5e2-412c-8ef7-7c5d83afdbca",
   "metadata": {},
   "outputs": [],
   "source": []
  }
 ],
 "metadata": {
  "kernelspec": {
   "display_name": "Python 3 (ipykernel)",
   "language": "python",
   "name": "python3"
  },
  "language_info": {
   "codemirror_mode": {
    "name": "ipython",
    "version": 3
   },
   "file_extension": ".py",
   "mimetype": "text/x-python",
   "name": "python",
   "nbconvert_exporter": "python",
   "pygments_lexer": "ipython3",
   "version": "3.10.6"
  }
 },
 "nbformat": 4,
 "nbformat_minor": 5
}
