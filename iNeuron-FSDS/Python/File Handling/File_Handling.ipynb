{
 "cells": [
  {
   "cell_type": "code",
   "execution_count": 1,
   "id": "3547ac50-05c1-4332-98ac-d78f7bafb851",
   "metadata": {},
   "outputs": [],
   "source": [
    "# File Handling"
   ]
  },
  {
   "cell_type": "code",
   "execution_count": 3,
   "id": "541b4a39-b16c-4f8f-b61c-f75d2dd39b82",
   "metadata": {},
   "outputs": [
    {
     "name": "stdout",
     "output_type": "stream",
     "text": [
      " Exception_Handling.ipynb   list.ipynb        sample-code.ipynb\n",
      "\u001b[0m\u001b[01;34m'File Handling'\u001b[0m/            questions.ipynb  'task questions part 2.ipynb'\n",
      " \u001b[01;34mFunctions\u001b[0m/                 README.md\n"
     ]
    }
   ],
   "source": [
    "%ls #list all files"
   ]
  },
  {
   "cell_type": "code",
   "execution_count": 10,
   "id": "787746c2-e867-4b63-bf45-9cd8a6d50a5d",
   "metadata": {},
   "outputs": [],
   "source": [
    "#present working directory"
   ]
  },
  {
   "cell_type": "code",
   "execution_count": 8,
   "id": "69d38635-90d6-4ca9-9d1b-4795b5e68418",
   "metadata": {},
   "outputs": [
    {
     "data": {
      "text/plain": [
       "'/home/jovyan/work'"
      ]
     },
     "execution_count": 8,
     "metadata": {},
     "output_type": "execute_result"
    }
   ],
   "source": [
    "pwd()"
   ]
  },
  {
   "cell_type": "code",
   "execution_count": 42,
   "id": "df6789b0-a129-4e46-9e85-71cfa5e929e7",
   "metadata": {},
   "outputs": [],
   "source": [
    "# open() - used to open a file\n",
    "f = open(\"File Handling/test.txt\")\n",
    "# f = open(r\"C:users/rakesh/downloads/test.txt\",'r') , r at the beginning represents raw - means for backslash / we use // but if we add r we can use escape characts as it is"
   ]
  },
  {
   "cell_type": "code",
   "execution_count": 16,
   "id": "7f8e5a90-df5b-4d28-9c29-22884e585731",
   "metadata": {},
   "outputs": [
    {
     "data": {
      "text/plain": [
       "_io.TextIOWrapper"
      ]
     },
     "execution_count": 16,
     "metadata": {},
     "output_type": "execute_result"
    }
   ],
   "source": [
    "type(f)"
   ]
  },
  {
   "cell_type": "code",
   "execution_count": 17,
   "id": "4a42616a-6f2e-4f90-8d39-68357a7c11ce",
   "metadata": {},
   "outputs": [],
   "source": [
    "# close() - close a file\n",
    "f.close()"
   ]
  },
  {
   "cell_type": "code",
   "execution_count": 41,
   "id": "0ff9a6f7-3e70-4533-8095-fe57ef555c90",
   "metadata": {},
   "outputs": [
    {
     "data": {
      "text/plain": [
       "''"
      ]
     },
     "execution_count": 41,
     "metadata": {},
     "output_type": "execute_result"
    }
   ],
   "source": [
    "# to read a file\n",
    "f.read()"
   ]
  },
  {
   "cell_type": "code",
   "execution_count": 20,
   "id": "5dfd9c5a-8c45-4112-aa6c-fa83398d037e",
   "metadata": {},
   "outputs": [
    {
     "data": {
      "text/plain": [
       "''"
      ]
     },
     "execution_count": 20,
     "metadata": {},
     "output_type": "execute_result"
    }
   ],
   "source": [
    "f.read()"
   ]
  },
  {
   "cell_type": "code",
   "execution_count": 34,
   "id": "9e1f22df-5437-4631-aa9e-0af16b2f9a24",
   "metadata": {},
   "outputs": [
    {
     "data": {
      "text/plain": [
       "'t Li'"
      ]
     },
     "execution_count": 34,
     "metadata": {},
     "output_type": "execute_result"
    }
   ],
   "source": [
    "f.read(4) # reads the first 4 (n) bytes"
   ]
  },
  {
   "cell_type": "markdown",
   "id": "4e558f86-e65d-46b9-9c0e-3e38e5132cf6",
   "metadata": {},
   "source": [
    "> The `tell()` method returns the current file position in a file stream.\n",
    "- Tip: You can change the current file position with the `seek()` method."
   ]
  },
  {
   "cell_type": "code",
   "execution_count": 35,
   "id": "49f90feb-bd68-4751-bbe0-b7f356e34aeb",
   "metadata": {},
   "outputs": [
    {
     "data": {
      "text/plain": [
       "8"
      ]
     },
     "execution_count": 35,
     "metadata": {},
     "output_type": "execute_result"
    }
   ],
   "source": [
    "f.tell()\n",
    "#get the current file pointer or cursor position"
   ]
  },
  {
   "cell_type": "code",
   "execution_count": 36,
   "id": "1e496f2b-bba6-459a-bdf5-2b9943c26720",
   "metadata": {},
   "outputs": [
    {
     "data": {
      "text/plain": [
       "0"
      ]
     },
     "execution_count": 36,
     "metadata": {},
     "output_type": "execute_result"
    }
   ],
   "source": [
    "f.seek(0)\n",
    "#to get back the cursor or pointer to any specific position , need to pass an argument where to  keep your pointer"
   ]
  },
  {
   "cell_type": "code",
   "execution_count": 37,
   "id": "49a4a1d0-ff70-46e6-8cc7-dba5d29b55e4",
   "metadata": {},
   "outputs": [
    {
     "data": {
      "text/plain": [
       "['First Line\\n',\n",
       " 'Second Line\\n',\n",
       " 'Third Line\\n',\n",
       " 'Forth line\\n',\n",
       " 'iNeuron\\n',\n",
       " 'Python\\n',\n",
       " 'Rakesh Kumar Behera\\n',\n",
       " 'Data Science\\n',\n",
       " 'QBDJBJKBKJ\\n',\n",
       " 'IBVDBJJnioHBIB\\n',\n",
       " 'KACBUIABCKN\\n',\n",
       " 'bhbhb\\n']"
      ]
     },
     "execution_count": 37,
     "metadata": {},
     "output_type": "execute_result"
    }
   ],
   "source": [
    "f.readlines()"
   ]
  },
  {
   "cell_type": "code",
   "execution_count": 43,
   "id": "44ba03a0-e6c4-4d80-b16e-237698de6135",
   "metadata": {},
   "outputs": [
    {
     "data": {
      "text/plain": [
       "'Fir'"
      ]
     },
     "execution_count": 43,
     "metadata": {},
     "output_type": "execute_result"
    }
   ],
   "source": [
    "f.readline(3)"
   ]
  },
  {
   "cell_type": "code",
   "execution_count": 44,
   "id": "fdad1a75-50b8-412f-9dab-6729e87e36dc",
   "metadata": {},
   "outputs": [
    {
     "data": {
      "text/plain": [
       "['st Line\\n']"
      ]
     },
     "execution_count": 44,
     "metadata": {},
     "output_type": "execute_result"
    }
   ],
   "source": [
    "f.readlines(3)"
   ]
  },
  {
   "cell_type": "code",
   "execution_count": 47,
   "id": "900c4208-cd8e-483d-ba21-0c789662f22c",
   "metadata": {},
   "outputs": [
    {
     "data": {
      "text/plain": [
       "['Forth line\\n']"
      ]
     },
     "execution_count": 47,
     "metadata": {},
     "output_type": "execute_result"
    }
   ],
   "source": [
    "f.readlines(4)"
   ]
  },
  {
   "cell_type": "code",
   "execution_count": 48,
   "id": "9a21505d-66a2-4c8c-835c-f0d98b2a4706",
   "metadata": {},
   "outputs": [],
   "source": [
    "try:\n",
    "    f = open(\"File Handling/test.txt\")\n",
    "finally:\n",
    "    f.close()"
   ]
  },
  {
   "cell_type": "code",
   "execution_count": 51,
   "id": "c3d15740-a269-4480-875e-8ebbe232002d",
   "metadata": {},
   "outputs": [],
   "source": [
    "# with keyword - it will close automatically after the operation , no need to close manually\n",
    "with open(\"File Handling/test.txt\") as f:\n",
    "    #file operation\n",
    "    f.read()\n",
    "    pass"
   ]
  },
  {
   "cell_type": "markdown",
   "id": "5ba4f35d-654e-469b-8e41-ffdd511770ab",
   "metadata": {},
   "source": [
    "### Writing a File"
   ]
  },
  {
   "cell_type": "code",
   "execution_count": 52,
   "id": "93e966b7-2141-40e9-bd08-293fb959955b",
   "metadata": {},
   "outputs": [
    {
     "name": "stdout",
     "output_type": "stream",
     "text": [
      "Done!\n"
     ]
    }
   ],
   "source": [
    "data = \"Writing data into a text file using Python file Handling\"\n",
    "f = open(\"File Handling/test1.txt\" , \"w\")\n",
    "f.write(data)\n",
    "print(\"Done!\")\n",
    "f.close()"
   ]
  },
  {
   "cell_type": "code",
   "execution_count": 53,
   "id": "c4f778f5-282d-4aad-9e11-3fa8e0911a0c",
   "metadata": {},
   "outputs": [],
   "source": [
    "with open(\"File Handling/test2.txt\" , \"w\") as f:\n",
    "    f.write(\"First Line \\n\")\n",
    "    f.write(\"Second Line \\n\")\n"
   ]
  },
  {
   "cell_type": "code",
   "execution_count": 54,
   "id": "8bd118b0-92dc-49cf-9077-b5d5db9ade7a",
   "metadata": {},
   "outputs": [],
   "source": [
    "# with write mode - it will create the file if it does not exists\n",
    "# It will also overwrite existing data, in the file"
   ]
  },
  {
   "cell_type": "code",
   "execution_count": 55,
   "id": "8f0b70ec-d3ed-43bf-a24f-c84296044c30",
   "metadata": {},
   "outputs": [],
   "source": [
    "# 'x' mode - using 'x' mode or create mode it will not overwrite existing data"
   ]
  },
  {
   "cell_type": "code",
   "execution_count": 64,
   "id": "992aeef9-67e9-46e9-989e-32d270b8917b",
   "metadata": {},
   "outputs": [
    {
     "name": "stdin",
     "output_type": "stream",
     "text": [
      "Enter the first number:  5\n",
      "Enter the second number:  0\n"
     ]
    },
    {
     "name": "stdout",
     "output_type": "stream",
     "text": [
      "there is some issue with my code\n"
     ]
    }
   ],
   "source": [
    "try:\n",
    "    a = int(input(\"Enter the first number: \"))\n",
    "    b = int(input(\"Enter the second number: \"))\n",
    "    c = a/b\n",
    "except ArithmeticError as e:\n",
    "    print(\"there is some issue with my code\")\n",
    "    f = open(\"File Handling/ineuron.txt\",'w+') #w+ - for reading and writing\n",
    "    f.write(str(e))\n",
    "    f.read()\n",
    "else:\n",
    "    print(\"this will execute once try is success\")\n",
    "    try:\n",
    "        f = open(\"File Handling/test3.txt\",'w')\n",
    "    except:\n",
    "        print(\"this is an issue with try block\")"
   ]
  },
  {
   "cell_type": "code",
   "execution_count": 66,
   "id": "d3390213-3c68-46cb-b510-843ea2e6cfa3",
   "metadata": {},
   "outputs": [],
   "source": [
    "#check if the file exists or not\n"
   ]
  },
  {
   "cell_type": "code",
   "execution_count": 67,
   "id": "f573c126-c013-49cf-baab-0777e514ecaf",
   "metadata": {},
   "outputs": [],
   "source": [
    "# check the file size"
   ]
  },
  {
   "cell_type": "code",
   "execution_count": 68,
   "id": "50b60038-3faa-4629-b5dd-e51eccf33b62",
   "metadata": {},
   "outputs": [],
   "source": [
    "#count the number of lines"
   ]
  },
  {
   "cell_type": "raw",
   "id": "33936d50-5961-4722-8905-e9aaa0f31d8a",
   "metadata": {},
   "source": [
    "\n",
    "Mode\tDescription\n",
    "r\t--> Open a file for reading. (default)\n",
    "w\t--> Open a file for writing. Creates a new file if it does not exist or truncates the file if it exists.\n",
    "x\t--> Open a file for exclusive creation. If the file already exists,the operation fails.\n",
    "a\t--> Open a file for appending at the end of the file without truncating it. Creates a new file if it does not exist.\n",
    "t\t--> Open in text mode. (default)\n",
    "b\t--> Open in binary mode.\n",
    "+\t--> Open a file for updating (reading and writing)"
   ]
  },
  {
   "cell_type": "code",
   "execution_count": 69,
   "id": "4a39143b-d2da-4f8b-86b0-6d7a6f3eb8dc",
   "metadata": {},
   "outputs": [],
   "source": [
    "# r open a file for reading\n",
    "# w opens a file for writing and creates a new fille if it does not exists or truncates the file if it exists\n",
    "# x opens a file for exclusive creation p\\, if the file already exists ,the operation fails\n",
    "# a opens a file for appending at the end of the file\n",
    "# + opens a file for updating (reading and writing)"
   ]
  },
  {
   "cell_type": "code",
   "execution_count": 70,
   "id": "ae310715-ebb4-43ca-abdd-3622bac1ae89",
   "metadata": {},
   "outputs": [
    {
     "ename": "FileExistsError",
     "evalue": "[Errno 17] File exists: 'File Handling/ineuron.txt'",
     "output_type": "error",
     "traceback": [
      "\u001b[0;31m---------------------------------------------------------------------------\u001b[0m",
      "\u001b[0;31mFileExistsError\u001b[0m                           Traceback (most recent call last)",
      "Cell \u001b[0;32mIn [70], line 1\u001b[0m\n\u001b[0;32m----> 1\u001b[0m f \u001b[38;5;241m=\u001b[39m \u001b[38;5;28;43mopen\u001b[39;49m\u001b[43m(\u001b[49m\u001b[38;5;124;43m\"\u001b[39;49m\u001b[38;5;124;43mFile Handling/ineuron.txt\u001b[39;49m\u001b[38;5;124;43m\"\u001b[39;49m\u001b[43m,\u001b[49m\u001b[43m \u001b[49m\u001b[38;5;124;43m'\u001b[39;49m\u001b[38;5;124;43mx\u001b[39;49m\u001b[38;5;124;43m'\u001b[39;49m\u001b[43m)\u001b[49m\n",
      "\u001b[0;31mFileExistsError\u001b[0m: [Errno 17] File exists: 'File Handling/ineuron.txt'"
     ]
    }
   ],
   "source": [
    "f = open(\"File Handling/ineuron.txt\", 'x')"
   ]
  },
  {
   "cell_type": "code",
   "execution_count": null,
   "id": "30e683e7-a9da-403c-aa30-18c88fec99a0",
   "metadata": {},
   "outputs": [],
   "source": []
  },
  {
   "cell_type": "code",
   "execution_count": null,
   "id": "7ed951b1-c2bb-4d47-b50a-420f6d53e353",
   "metadata": {},
   "outputs": [],
   "source": []
  },
  {
   "cell_type": "code",
   "execution_count": null,
   "id": "83065eaa-deff-492b-a39f-f08789fe86d5",
   "metadata": {},
   "outputs": [],
   "source": []
  },
  {
   "cell_type": "code",
   "execution_count": null,
   "id": "1a29fc6b-ba60-4ccc-a616-8378b41903bd",
   "metadata": {},
   "outputs": [],
   "source": []
  }
 ],
 "metadata": {
  "kernelspec": {
   "display_name": "Python 3 (ipykernel)",
   "language": "python",
   "name": "python3"
  },
  "language_info": {
   "codemirror_mode": {
    "name": "ipython",
    "version": 3
   },
   "file_extension": ".py",
   "mimetype": "text/x-python",
   "name": "python",
   "nbconvert_exporter": "python",
   "pygments_lexer": "ipython3",
   "version": "3.10.6"
  }
 },
 "nbformat": 4,
 "nbformat_minor": 5
}
