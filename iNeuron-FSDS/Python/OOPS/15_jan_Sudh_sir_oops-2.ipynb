{
 "cells": [
  {
   "cell_type": "markdown",
   "id": "ba8a1840-3278-4cb8-b30f-5015ec8de913",
   "metadata": {},
   "source": [
    "## Day-2 - OOPS"
   ]
  },
  {
   "cell_type": "code",
   "execution_count": 4,
   "id": "3d50a7ec-ad20-49cf-8533-c350d645ca9d",
   "metadata": {},
   "outputs": [],
   "source": [
    "class test:\n",
    "    \n",
    "    def meth1(self):\n",
    "        return \"This is my First Method\""
   ]
  },
  {
   "cell_type": "code",
   "execution_count": 5,
   "id": "d829e712-facc-4867-9e60-9a60a6cae915",
   "metadata": {},
   "outputs": [],
   "source": [
    "a = test() #crating object of the class"
   ]
  },
  {
   "cell_type": "code",
   "execution_count": 6,
   "id": "c493516f-c99e-4625-ba19-24e506816ffe",
   "metadata": {},
   "outputs": [
    {
     "data": {
      "text/plain": [
       "'This is my First Method'"
      ]
     },
     "execution_count": 6,
     "metadata": {},
     "output_type": "execute_result"
    }
   ],
   "source": [
    "a.meth1() # accessing the method"
   ]
  },
  {
   "cell_type": "code",
   "execution_count": 7,
   "id": "0426b7e5-e0d9-4f12-a265-1ceaf7502510",
   "metadata": {},
   "outputs": [],
   "source": [
    "#we have to create an object of a class to access the method"
   ]
  },
  {
   "cell_type": "markdown",
   "id": "c74498bc-3a36-4572-aac7-fb58a0795cb7",
   "metadata": {},
   "source": [
    "### Static Method\n",
    "\n",
    "Static Methods are a kind of method which is directly register with the class and we can access it without creating an object"
   ]
  },
  {
   "cell_type": "code",
   "execution_count": 24,
   "id": "a1f6ac29-dde1-456f-93b1-d4167f4172e2",
   "metadata": {},
   "outputs": [],
   "source": [
    "class Test1:\n",
    "    \n",
    "    @staticmethod  # no need to bind to the class with self parameter\n",
    "    def meth1():\n",
    "        return \"this is a method u canaccess without reating an object\"\n",
    "    \n",
    "    def meth2(self):\n",
    "        return \"This is a method with out static\""
   ]
  },
  {
   "cell_type": "code",
   "execution_count": 20,
   "id": "9d170d44-61b9-47d1-91b9-4eecb2533071",
   "metadata": {},
   "outputs": [],
   "source": [
    "b = Test1()"
   ]
  },
  {
   "cell_type": "code",
   "execution_count": 21,
   "id": "763b936e-c2ea-45d3-b3a6-1c94b9b7187b",
   "metadata": {},
   "outputs": [
    {
     "data": {
      "text/plain": [
       "'this is a method u canaccess without reating an object'"
      ]
     },
     "execution_count": 21,
     "metadata": {},
     "output_type": "execute_result"
    }
   ],
   "source": [
    "b.meth1() #we can not access static method with object we have to call it with classNmae"
   ]
  },
  {
   "cell_type": "code",
   "execution_count": 22,
   "id": "cb914a13-ea73-4c59-9757-7ca61c4565d6",
   "metadata": {},
   "outputs": [
    {
     "data": {
      "text/plain": [
       "'This is a method with out static'"
      ]
     },
     "execution_count": 22,
     "metadata": {},
     "output_type": "execute_result"
    }
   ],
   "source": [
    "b.meth2()"
   ]
  },
  {
   "cell_type": "code",
   "execution_count": 25,
   "id": "4dd7b140-219d-424f-acae-42435c8cb47d",
   "metadata": {},
   "outputs": [
    {
     "data": {
      "text/plain": [
       "'this is a method u canaccess without reating an object'"
      ]
     },
     "execution_count": 25,
     "metadata": {},
     "output_type": "execute_result"
    }
   ],
   "source": [
    "Test1.meth1()"
   ]
  },
  {
   "cell_type": "code",
   "execution_count": 26,
   "id": "4846209f-a2a2-4372-a898-a01830de8e00",
   "metadata": {},
   "outputs": [],
   "source": [
    "# used for utility method / classes ---> for database connectivity class"
   ]
  },
  {
   "cell_type": "code",
   "execution_count": 27,
   "id": "4e4ac6da-ff54-4799-8c0a-a180d7a7ee00",
   "metadata": {},
   "outputs": [],
   "source": [
    "class test2:\n",
    "    \n",
    "    def __init__(self,a,b,c):\n",
    "        self.a = a\n",
    "        self.b = b\n",
    "        self.c = c\n",
    "        \n",
    "    def meth1(self):\n",
    "        return \"this is my meth1\"\n",
    "    \n",
    "    def meth2(self,n):\n",
    "        return n\n",
    "    \n",
    "    def meth3(self,m):\n",
    "        return m"
   ]
  },
  {
   "cell_type": "code",
   "execution_count": 31,
   "id": "4059dd1a-1e2c-477f-82d2-d931f103b677",
   "metadata": {},
   "outputs": [],
   "source": [
    "a_test2 = test2(\"sudh\" , 34 , \"kumar\")"
   ]
  },
  {
   "cell_type": "code",
   "execution_count": 30,
   "id": "7310019a-6809-4d6b-9f5d-35bf670c322d",
   "metadata": {},
   "outputs": [],
   "source": [
    "b_test2 = test2(\"Ane=wesh\" , 24 , \"kumar\")"
   ]
  },
  {
   "cell_type": "code",
   "execution_count": 32,
   "id": "ed760890-354e-4ca3-bd20-0fdea4b35057",
   "metadata": {},
   "outputs": [],
   "source": [
    "c_test2 = test2(\"Annu\" , 31 , \"Mallik\")"
   ]
  },
  {
   "cell_type": "markdown",
   "id": "b711faf7-768d-4697-9413-1a717aff009a",
   "metadata": {},
   "source": [
    "For example - there are 30 students in a class, we have to load the details of all the students in the of the class. So basically we have to perform CRUD operation on a database, And the Database credential will be same for all the student objects for we can create a single static method where we can provide the username and password at once rather than providing the credential repeatedly with all the objects of the student class. That is where Static method can be used , to make the credential available at class level so that all the objects could access it."
   ]
  },
  {
   "cell_type": "markdown",
   "id": "4ee1f95d-149b-4779-8a07-5bde04588419",
   "metadata": {},
   "source": [
    "## Inheritance"
   ]
  },
  {
   "cell_type": "code",
   "execution_count": 39,
   "id": "7abd165d-0c5f-4dfe-8e89-80fac223fcf8",
   "metadata": {},
   "outputs": [],
   "source": [
    "class parent1:\n",
    "    def parent_meth(self):\n",
    "        return \"this is parent1 method\"\n",
    "    \n",
    "class parent2:\n",
    "    def parent_meth2(self):\n",
    "        return \"this is parent2 method 2\"\n",
    "    \n",
    "class parent23:\n",
    "    def parent_meth3(self):\n",
    "        return \"this is parent3 method 3\"\n",
    "    \n",
    "class child(parent1):\n",
    "    \n",
    "    def child_meth(self):\n",
    "        return \"this is a child method\""
   ]
  },
  {
   "cell_type": "code",
   "execution_count": 40,
   "id": "df8afe9f-e3d2-44a1-8636-c194282405fe",
   "metadata": {},
   "outputs": [],
   "source": [
    "var_child = child()"
   ]
  },
  {
   "cell_type": "code",
   "execution_count": 41,
   "id": "b8f49cdb-0893-4f68-8e31-8d4d68e0a3e9",
   "metadata": {},
   "outputs": [
    {
     "data": {
      "text/plain": [
       "'this is parent1 method'"
      ]
     },
     "execution_count": 41,
     "metadata": {},
     "output_type": "execute_result"
    }
   ],
   "source": [
    "var_child.parent_meth()"
   ]
  },
  {
   "cell_type": "code",
   "execution_count": 50,
   "id": "78d88705-b355-4f20-82ab-085cff89cb27",
   "metadata": {},
   "outputs": [],
   "source": [
    "class parent1:\n",
    "    def parent_meth(self):\n",
    "        return \"this is parent1 method\"\n",
    "    \n",
    "class parent2:\n",
    "    def parent_meth2(self):\n",
    "        return \"this is parent2 method 2\"\n",
    "    \n",
    "class parent3:\n",
    "    def parent_meth3(self):\n",
    "        return \"this is parent3 method 3\"\n",
    "    \n",
    "class child(parent1,parent2,parent3):\n",
    "    \n",
    "    def child_meth(self):\n",
    "        return \"this is a child method\""
   ]
  },
  {
   "cell_type": "code",
   "execution_count": 51,
   "id": "5f0ace54-0487-4318-8065-c7d7a9387939",
   "metadata": {},
   "outputs": [],
   "source": [
    "var_child2 = child()"
   ]
  },
  {
   "cell_type": "code",
   "execution_count": 52,
   "id": "221980a5-33b2-4c71-a8f1-f923c8d8f353",
   "metadata": {},
   "outputs": [
    {
     "data": {
      "text/plain": [
       "'this is parent2 method 2'"
      ]
     },
     "execution_count": 52,
     "metadata": {},
     "output_type": "execute_result"
    }
   ],
   "source": [
    "var_child2.parent_meth2()"
   ]
  },
  {
   "cell_type": "code",
   "execution_count": 53,
   "id": "6b16d43a-9847-4241-baad-6d5124e2586d",
   "metadata": {},
   "outputs": [
    {
     "data": {
      "text/plain": [
       "'this is parent3 method 3'"
      ]
     },
     "execution_count": 53,
     "metadata": {},
     "output_type": "execute_result"
    }
   ],
   "source": [
    "var_child2.parent_meth3()"
   ]
  },
  {
   "cell_type": "code",
   "execution_count": 54,
   "id": "dac21cea-3794-4c0b-863d-8f9de148cacb",
   "metadata": {},
   "outputs": [],
   "source": [
    "class test1:\n",
    "    def meth(self):\n",
    "        return \"this is a method from test1\"\n",
    "    \n",
    "class test2:\n",
    "    def meth(self):\n",
    "        return \"this is a method from class test2\"\n",
    "    \n",
    "class test3(test1):\n",
    "    def meth(self):\n",
    "        return \"this is a method from test3\""
   ]
  },
  {
   "cell_type": "code",
   "execution_count": 55,
   "id": "15dab8df-0ee6-4862-9075-f54da2578704",
   "metadata": {},
   "outputs": [],
   "source": [
    "var_test3 = test3()"
   ]
  },
  {
   "cell_type": "code",
   "execution_count": 57,
   "id": "538afb72-6ee3-4e96-beb4-66fbdf318937",
   "metadata": {},
   "outputs": [
    {
     "data": {
      "text/plain": [
       "'this is a method from test3'"
      ]
     },
     "execution_count": 57,
     "metadata": {},
     "output_type": "execute_result"
    }
   ],
   "source": [
    "var_test3.meth() # method overrideing --> child class override the parent class method"
   ]
  },
  {
   "cell_type": "code",
   "execution_count": 58,
   "id": "d6a7dcf7-dbc6-4d53-9392-a9685f1163d6",
   "metadata": {},
   "outputs": [],
   "source": [
    "#method overloading\n",
    "class test8:\n",
    "    \n",
    "    def test(self, c = 5 , b = 4 , d = 7):\n",
    "        return c,b,d"
   ]
  },
  {
   "cell_type": "code",
   "execution_count": 60,
   "id": "cf785387-ddf1-4898-9b8c-c6e1ccd6b5e8",
   "metadata": {},
   "outputs": [],
   "source": [
    "var_test8 = test8()"
   ]
  },
  {
   "cell_type": "code",
   "execution_count": 61,
   "id": "addbc1a7-26ae-471f-a989-c048b412d824",
   "metadata": {},
   "outputs": [
    {
     "data": {
      "text/plain": [
       "(5, 4, 7)"
      ]
     },
     "execution_count": 61,
     "metadata": {},
     "output_type": "execute_result"
    }
   ],
   "source": [
    "var_test8.test()"
   ]
  },
  {
   "cell_type": "code",
   "execution_count": 62,
   "id": "ffef5442-ce58-46f9-ba8e-fa3895243afc",
   "metadata": {},
   "outputs": [
    {
     "data": {
      "text/plain": [
       "('raka', 4, 7)"
      ]
     },
     "execution_count": 62,
     "metadata": {},
     "output_type": "execute_result"
    }
   ],
   "source": [
    "var_test8.test(\"raka\")"
   ]
  },
  {
   "cell_type": "code",
   "execution_count": 63,
   "id": "43fe9416-e9fd-456d-b8cd-fd856dbf3da1",
   "metadata": {},
   "outputs": [
    {
     "data": {
      "text/plain": [
       "('raka', 'behera', 7)"
      ]
     },
     "execution_count": 63,
     "metadata": {},
     "output_type": "execute_result"
    }
   ],
   "source": [
    "var_test8.test(\"raka\",\"behera\")"
   ]
  },
  {
   "cell_type": "code",
   "execution_count": 65,
   "id": "60d7d5df-caab-4834-a338-62e3f9615c5c",
   "metadata": {},
   "outputs": [],
   "source": [
    "# method overloading ---> method name is not going to change, but its retun_type and and number/type of parameter or arguments is goingto change\n",
    "# method overriding --> signature of method remain same(no of arg is fixed), but the method definition changes"
   ]
  },
  {
   "cell_type": "markdown",
   "id": "22ad8296-e481-454b-b23e-b09eb0b1b362",
   "metadata": {},
   "source": [
    "### Polymorphism"
   ]
  },
  {
   "cell_type": "code",
   "execution_count": 66,
   "id": "170d4c68-bb52-4edc-8992-15690691a64a",
   "metadata": {},
   "outputs": [],
   "source": [
    "def test(a,b):\n",
    "    return a+b"
   ]
  },
  {
   "cell_type": "code",
   "execution_count": 70,
   "id": "7406a2ae-7ff8-494d-9225-44670ebfd71e",
   "metadata": {},
   "outputs": [
    {
     "data": {
      "text/plain": [
       "7"
      ]
     },
     "execution_count": 70,
     "metadata": {},
     "output_type": "execute_result"
    }
   ],
   "source": [
    "test(3,4) #addition"
   ]
  },
  {
   "cell_type": "code",
   "execution_count": 69,
   "id": "17a2200b-18d4-490b-89a7-3414d962e170",
   "metadata": {},
   "outputs": [
    {
     "data": {
      "text/plain": [
       "'rakabehera'"
      ]
     },
     "execution_count": 69,
     "metadata": {},
     "output_type": "execute_result"
    }
   ],
   "source": [
    "test(\"raka\" ,\"behera\") #concatenation"
   ]
  },
  {
   "cell_type": "code",
   "execution_count": 71,
   "id": "d87f6ef5-678e-4b69-b1a1-33979b857320",
   "metadata": {},
   "outputs": [],
   "source": [
    "class test1:\n",
    "    def meth(self):\n",
    "        return \"this is a method from test1\"\n",
    "    \n",
    "class test2:\n",
    "    def meth(self):\n",
    "        return \"this is a method from class test2\"\n",
    "    \n",
    "class test3:\n",
    "    def meth(self):\n",
    "        return \"this is a method from test3\""
   ]
  },
  {
   "cell_type": "code",
   "execution_count": 72,
   "id": "c78d0a67-2a1f-46eb-9136-8602f893ef5e",
   "metadata": {},
   "outputs": [],
   "source": [
    "var_class = [test1() , test2() , test3()]"
   ]
  },
  {
   "cell_type": "code",
   "execution_count": 73,
   "id": "9c7ab8da-9a75-46e4-986b-c269e799c1c4",
   "metadata": {},
   "outputs": [
    {
     "name": "stdout",
     "output_type": "stream",
     "text": [
      "this is a method from test1\n",
      "this is a method from class test2\n",
      "this is a method from test3\n"
     ]
    }
   ],
   "source": [
    "for i in var_class :\n",
    "    print(i.meth())"
   ]
  },
  {
   "cell_type": "code",
   "execution_count": 74,
   "id": "6aefeb74-536b-4027-b093-b8adb7b46708",
   "metadata": {},
   "outputs": [],
   "source": [
    "# create a file class for reading a data from one of the file with a method name read and write"
   ]
  },
  {
   "cell_type": "code",
   "execution_count": null,
   "id": "1585846b-4f0c-4903-a842-204c02d3edab",
   "metadata": {},
   "outputs": [],
   "source": [
    "#use logging and exception handling\n",
    "import logging\n",
    "\n",
    "class File:\n",
    "    \n",
    "    def read(self,file_name):\n",
    "        \n",
    "        try:\n",
    "            logging.INFO(\"Inside Read Method\")\n",
    "            f = open(file_name , r)\n",
    "            f.read()\n",
    "            logging.INFO(\"Successfully read rhe code\")\n",
    "            \n",
    "        except FileNotFoundError e:\n",
    "            logging.ERROR(f\"File Not Found {e}\")\n",
    "            \n",
    "            \n",
    "    def write(self):\n",
    "        \n",
    "        "
   ]
  },
  {
   "cell_type": "code",
   "execution_count": 83,
   "id": "ac22dc85-95fe-44d8-8a77-5d4fd9c0b6d9",
   "metadata": {},
   "outputs": [],
   "source": [
    "def read():\n",
    "    try:\n",
    "        with open('test.txt' , 'r') as file:\n",
    "            data = file.read()\n",
    "            return data\n",
    "    except FileNotFoundError as e:\n",
    "            print(f\"File Not Found {e}\")"
   ]
  },
  {
   "cell_type": "code",
   "execution_count": 84,
   "id": "2fb187c8-2fdc-4e0c-beea-bcc4f1e55d17",
   "metadata": {},
   "outputs": [
    {
     "data": {
      "text/plain": [
       "'This is my data for file'"
      ]
     },
     "execution_count": 84,
     "metadata": {},
     "output_type": "execute_result"
    }
   ],
   "source": [
    "read()"
   ]
  },
  {
   "cell_type": "code",
   "execution_count": 81,
   "id": "ecc400af-4da7-44f5-89e6-3c49fbd811c2",
   "metadata": {},
   "outputs": [],
   "source": [
    "def write():\n",
    "    \n",
    "    with open('test.txt' , 'w') as file:\n",
    "        data = file.write(\"This is my data for file\")"
   ]
  },
  {
   "cell_type": "code",
   "execution_count": 82,
   "id": "52625d3c-edfb-44f8-bfdd-9dcf32fdca2c",
   "metadata": {},
   "outputs": [],
   "source": [
    "write()"
   ]
  },
  {
   "cell_type": "code",
   "execution_count": 88,
   "id": "4ade148e-e849-4331-aec8-7502b4938832",
   "metadata": {},
   "outputs": [],
   "source": [
    "class File:\n",
    "    \n",
    "    def read(self):\n",
    "        try:\n",
    "            with open('test.txt' , 'r') as file:\n",
    "                data = file.read()\n",
    "                return data\n",
    "        except FileNotFoundError as e:\n",
    "                print(f\"File Not Found {e}\")\n",
    "            \n",
    "    def write(self,data1):\n",
    "        try:\n",
    "            with open('test.txt' , 'w') as file: # 'a' for append\n",
    "                 data = file.write(data1)\n",
    "                \n",
    "        except Exception as e:\n",
    "            print(e)\n",
    "            "
   ]
  },
  {
   "cell_type": "code",
   "execution_count": 89,
   "id": "a0eb732d-a88a-47b7-a17b-e05553cf9e31",
   "metadata": {},
   "outputs": [],
   "source": [
    "file_obj = File()"
   ]
  },
  {
   "cell_type": "code",
   "execution_count": 90,
   "id": "1ae1964e-654d-400e-9181-550bdb9988f1",
   "metadata": {},
   "outputs": [
    {
     "data": {
      "text/plain": [
       "'This is my data for file'"
      ]
     },
     "execution_count": 90,
     "metadata": {},
     "output_type": "execute_result"
    }
   ],
   "source": [
    "file_obj.read()"
   ]
  },
  {
   "cell_type": "code",
   "execution_count": 91,
   "id": "a4911633-0405-454f-90bb-a2bc03529c7b",
   "metadata": {},
   "outputs": [],
   "source": [
    "file_obj.write(\"This will remove the existing content\")"
   ]
  },
  {
   "cell_type": "code",
   "execution_count": 98,
   "id": "7ecf397c-1505-4168-aa1d-883eba99ca23",
   "metadata": {},
   "outputs": [],
   "source": [
    "file_obj1.write(\"This is my data to be written inside the file\")"
   ]
  },
  {
   "cell_type": "code",
   "execution_count": 92,
   "id": "0d0a1fe6-da22-4d85-b805-1640eb81a90e",
   "metadata": {},
   "outputs": [
    {
     "data": {
      "text/plain": [
       "'This will remove the existing content'"
      ]
     },
     "execution_count": 92,
     "metadata": {},
     "output_type": "execute_result"
    }
   ],
   "source": [
    "file_obj.read()"
   ]
  },
  {
   "cell_type": "code",
   "execution_count": 109,
   "id": "df5f498a-7d2e-475a-b065-a0cf83397b92",
   "metadata": {},
   "outputs": [],
   "source": [
    "import logging\n",
    "\n",
    "logging.basicConfig(filename='file_class.log' , level= logging.DEBUG ,filemode='w', format= '%(asctime)s  %(levelname)s %(message)s')\n",
    "\n",
    "class File:\n",
    "    def __init__(self,filename):\n",
    "        self.filename = filename\n",
    "        \n",
    "    def read(self):\n",
    "        logging.info(\"This is the start of read operation\")\n",
    "        try:\n",
    "            logging.info(\"inside try block of read method\")\n",
    "            with open(self.filename , 'r') as file:\n",
    "                data = file.read()\n",
    "                logging.info(\"File read successfully\")\n",
    "                return data\n",
    "        except FileNotFoundError as e:\n",
    "                logging.error(\"File Not Found\")\n",
    "                logging.error(e)\n",
    "            \n",
    "    def write(self,data1):\n",
    "        try:\n",
    "            with open(self.filename , 'w') as file: # 'a' for append\n",
    "                 data = file.write(data1)\n",
    "                \n",
    "        except Exception as e:\n",
    "            print(e)"
   ]
  },
  {
   "cell_type": "code",
   "execution_count": 110,
   "id": "05cc3a4a-7107-49e6-8141-610f945887f5",
   "metadata": {},
   "outputs": [],
   "source": [
    "file_obj1 = File('test1.txt')"
   ]
  },
  {
   "cell_type": "code",
   "execution_count": null,
   "id": "81b28959-a3c3-4907-8a4d-4438a80d5108",
   "metadata": {},
   "outputs": [],
   "source": []
  },
  {
   "cell_type": "code",
   "execution_count": 7,
   "id": "c952521d-2b6b-4aa6-9a54-2b0cfec5beac",
   "metadata": {},
   "outputs": [],
   "source": [
    "import logging\n",
    "\n",
    "logging.basicConfig(filename='file_class.log', level=logging.DEBUG , filemode='w', format=\"%(asctime)s %(levelname)s %(message)s\")\n",
    "\n",
    "class file : \n",
    "    def __init__(self , filename)  :\n",
    "        self.filename = filename \n",
    "                    \n",
    "    def read(self):\n",
    "        logging.info(\"This is a start of read operation \" )\n",
    "        try :\n",
    "            logging.info(\"i am inside try block of read method \")\n",
    "            with open(\"/home/jovyan/work/OOPS\"+self.filename , 'r') as file :\n",
    "                data = file.read()\n",
    "                logging.info(\"I am able to read the file \")\n",
    "                return data\n",
    "        except FileNotFoundError as e :\n",
    "            #print(e)\n",
    "            logging.error(\"there is some issue with  the read file operation\")\n",
    "            logging.error(e)\n",
    "        \n",
    "    def write(self,data1):\n",
    "        try: \n",
    "            logging.info(\"i am inside a try to write fun\")\n",
    "            with open(\"/home/jovyan/work/OOPS\"+self.filename, 'a') as file :\n",
    "                data = file.write(data1) \n",
    "                logging.info(\"i am able to write a data into file succesfully\")\n",
    "        except Exception as e : \n",
    "            #print(e)\n",
    "            logging.error(\"there is an issue with write ops\")\n",
    "            logging.error(e)"
   ]
  },
  {
   "cell_type": "code",
   "execution_count": 8,
   "id": "c9b7627c-f121-4970-a32a-44f4ef2035cb",
   "metadata": {},
   "outputs": [],
   "source": [
    "file_obj = file(\"test1.txt\")\n",
    "file_obj.read()"
   ]
  },
  {
   "cell_type": "code",
   "execution_count": 1,
   "id": "78f69950-4787-47bb-b559-19f34e6a11c2",
   "metadata": {},
   "outputs": [
    {
     "name": "stdout",
     "output_type": "stream",
     "text": [
      " 14_jan_Sudh_sir_oops-1.ipynb   OOPS-1.ipynb                    test1.txt\n",
      " 15_jan_Sudh_sir_oops-2.ipynb  'OOPS-2 - Encapsulation.ipynb'   test.txt\n",
      " file_class.log                'OOPS-3 - Inheritance.ipynb'\n"
     ]
    }
   ],
   "source": [
    "ls"
   ]
  },
  {
   "cell_type": "code",
   "execution_count": 2,
   "id": "c395c375-c7b8-489e-9eb2-fe4708d82dcd",
   "metadata": {},
   "outputs": [
    {
     "data": {
      "text/plain": [
       "'/home/jovyan/work/OOPS'"
      ]
     },
     "execution_count": 2,
     "metadata": {},
     "output_type": "execute_result"
    }
   ],
   "source": [
    "import os\n",
    "os.getcwd()"
   ]
  },
  {
   "cell_type": "code",
   "execution_count": 9,
   "id": "4a5fa775-5a10-472b-aeef-8c65d2fb8bc4",
   "metadata": {},
   "outputs": [],
   "source": [
    "file_obj.write(\"This is my data to be written inside the file\")"
   ]
  },
  {
   "cell_type": "code",
   "execution_count": 10,
   "id": "15662fde-37c0-4434-8458-0294b7efc3ab",
   "metadata": {},
   "outputs": [
    {
     "data": {
      "text/plain": [
       "'This is my data to be written inside the file'"
      ]
     },
     "execution_count": 10,
     "metadata": {},
     "output_type": "execute_result"
    }
   ],
   "source": [
    "file_obj.read()"
   ]
  },
  {
   "cell_type": "code",
   "execution_count": null,
   "id": "062ab1bd-6f36-4d6e-b960-f3dbdb31d72c",
   "metadata": {},
   "outputs": [],
   "source": [
    "q1 : Create your own class to perform a list search operation \n",
    "q2 : create a class for dict new element addition\n",
    "q3 : create a class for tuple data extraction operation\n",
    "q4 : Create a class to implement all insert , update , delete operation for mysql\n",
    "q5 : create a class to implement insert , uupdate and delete in monngo db \n",
    "q6 : create a class to perform append and delete operation in a file and inherit it in child class \n",
    "q7 : create a class to import a data into file from mongo db \n",
    "q8 : Create a class to build a calculator funcnalities addition , subtraction , multiplication ,div , log , exponenet , power \n",
    "q9 : create a class method to find a time and space complexity of any function\n",
    "q10: create a class to do a bulk uplaod of a file in mysql \n",
    "q11: give 10 different example of ploymorphism , encaptulation ,data  abstraction , overloading , ovverriding , multiple inheritance\n",
    "q12: Try to explore a meaning of \"-> \" this sinnature in python "
   ]
  },
  {
   "cell_type": "code",
   "execution_count": null,
   "id": "becdb71d-ac7f-4102-b7f7-a323d211e996",
   "metadata": {},
   "outputs": [],
   "source": []
  }
 ],
 "metadata": {
  "kernelspec": {
   "display_name": "Python 3 (ipykernel)",
   "language": "python",
   "name": "python3"
  },
  "language_info": {
   "codemirror_mode": {
    "name": "ipython",
    "version": 3
   },
   "file_extension": ".py",
   "mimetype": "text/x-python",
   "name": "python",
   "nbconvert_exporter": "python",
   "pygments_lexer": "ipython3",
   "version": "3.10.6"
  }
 },
 "nbformat": 4,
 "nbformat_minor": 5
}
