{
 "cells": [
  {
   "cell_type": "markdown",
   "id": "7d6399e9",
   "metadata": {},
   "source": [
    "# Class Variable"
   ]
  },
  {
   "cell_type": "markdown",
   "id": "6036d400",
   "metadata": {},
   "source": [
    "<b>Class Variables</b>: A class variable is a variable that is declared inside of class, but outside of any instance method or `__init__()` method."
   ]
  },
  {
   "cell_type": "markdown",
   "id": "a3f278a2",
   "metadata": {},
   "source": [
    "<b>If the value of a variable is not varied from object to object, such types of variables are called class variables or static variables.</b>\n",
    "\n",
    "Class variables are shared by all instances of a class. Unlike instance variable, the value of a class variable is not varied from object to object,\n",
    "\n",
    "In Python, Class variables are declared when a class is being constructed. They are not defined inside any methods of a class because of this only one copy of the static variable will be created and shared between all objects of the class."
   ]
  },
  {
   "cell_type": "markdown",
   "id": "7a0a549e",
   "metadata": {},
   "source": [
    "For example, in Student class, we can have different instance variables such as name and roll number because each student’s name and roll number are different.\n",
    "\n",
    "But, if we want to include the school name in the student class, we must use the class variable instead of an instance variable as the school name is the same for all students. So instead of maintaining the separate copy in each object, we can create a class variable that will hold the school name so all students (objects) can share it."
   ]
  },
  {
   "cell_type": "code",
   "execution_count": 1,
   "id": "43c3199f",
   "metadata": {},
   "outputs": [
    {
     "name": "stdout",
     "output_type": "stream",
     "text": [
      "Emma 10 ABC School \n",
      "Jessa 20 ABC School \n"
     ]
    }
   ],
   "source": [
    "class Student:\n",
    "    # Class variable\n",
    "    school_name = 'ABC School '\n",
    "    \n",
    "    def __init__(self, name, roll_no):\n",
    "        self.name = name\n",
    "        self.roll_no = roll_no\n",
    "\n",
    "# create first object\n",
    "s1 = Student('Emma', 10)\n",
    "print(s1.name, s1.roll_no, Student.school_name)\n",
    "# access class variable\n",
    "\n",
    "# create second object\n",
    "s2 = Student('Jessa', 20)\n",
    "# access class variable\n",
    "print(s2.name, s2.roll_no, Student.school_name)\n"
   ]
  },
  {
   "cell_type": "code",
   "execution_count": 3,
   "id": "14af71e5",
   "metadata": {},
   "outputs": [
    {
     "data": {
      "text/plain": [
       "'ABC School '"
      ]
     },
     "execution_count": 3,
     "metadata": {},
     "output_type": "execute_result"
    }
   ],
   "source": [
    "#we can access class variable using the object and class name.\n",
    "s1.school_name"
   ]
  },
  {
   "cell_type": "code",
   "execution_count": 4,
   "id": "5fce088d",
   "metadata": {},
   "outputs": [
    {
     "data": {
      "text/plain": [
       "<function Student.mro()>"
      ]
     },
     "execution_count": 4,
     "metadata": {},
     "output_type": "execute_result"
    }
   ],
   "source": [
    "Student.mro"
   ]
  },
  {
   "cell_type": "code",
   "execution_count": 5,
   "id": "cd0a8dcf",
   "metadata": {},
   "outputs": [
    {
     "data": {
      "text/plain": [
       "'ABC School '"
      ]
     },
     "execution_count": 5,
     "metadata": {},
     "output_type": "execute_result"
    }
   ],
   "source": [
    "Student.school_name"
   ]
  },
  {
   "cell_type": "code",
   "execution_count": 14,
   "id": "697dc09d",
   "metadata": {},
   "outputs": [],
   "source": [
    "Student.school_name = 'XYZ School'"
   ]
  },
  {
   "cell_type": "code",
   "execution_count": 7,
   "id": "4861f90f",
   "metadata": {},
   "outputs": [
    {
     "data": {
      "text/plain": [
       "'XYZ School'"
      ]
     },
     "execution_count": 7,
     "metadata": {},
     "output_type": "execute_result"
    }
   ],
   "source": [
    "Student.school_name"
   ]
  },
  {
   "cell_type": "code",
   "execution_count": 8,
   "id": "b110a34d",
   "metadata": {},
   "outputs": [
    {
     "data": {
      "text/plain": [
       "'XYZ School'"
      ]
     },
     "execution_count": 8,
     "metadata": {},
     "output_type": "execute_result"
    }
   ],
   "source": [
    "s2.school_name"
   ]
  },
  {
   "cell_type": "code",
   "execution_count": 12,
   "id": "4e443b33",
   "metadata": {},
   "outputs": [
    {
     "name": "stdout",
     "output_type": "stream",
     "text": [
      "ABC School\n"
     ]
    }
   ],
   "source": [
    "s1.school_name = 'ABC School'\n",
    "print(s1.school_name)"
   ]
  },
  {
   "cell_type": "code",
   "execution_count": 10,
   "id": "f5f6435b",
   "metadata": {},
   "outputs": [
    {
     "data": {
      "text/plain": [
       "'XYZ School'"
      ]
     },
     "execution_count": 10,
     "metadata": {},
     "output_type": "execute_result"
    }
   ],
   "source": [
    "Student.school_name"
   ]
  },
  {
   "cell_type": "code",
   "execution_count": 11,
   "id": "c34fc727",
   "metadata": {},
   "outputs": [
    {
     "data": {
      "text/plain": [
       "'XYZ School'"
      ]
     },
     "execution_count": 11,
     "metadata": {},
     "output_type": "execute_result"
    }
   ],
   "source": [
    "s2.school_name"
   ]
  },
  {
   "cell_type": "code",
   "execution_count": 15,
   "id": "b98c4a38",
   "metadata": {},
   "outputs": [
    {
     "data": {
      "text/plain": [
       "'ABC School'"
      ]
     },
     "execution_count": 15,
     "metadata": {},
     "output_type": "execute_result"
    }
   ],
   "source": [
    "s1.school_name"
   ]
  },
  {
   "cell_type": "markdown",
   "id": "730aceb6",
   "metadata": {},
   "source": [
    "We can access static variables either by class name or by object reference, but it is recommended to use the class name.\n",
    "\n",
    "In Python, we can access the class variable in the following places\n",
    "\n",
    "\n",
    "- Access inside the constructor by using either self parameter or class name.\n",
    "- Access class variable inside instance method by using either self of class name\n",
    "- Access from outside of class by using either object reference or class name."
   ]
  },
  {
   "cell_type": "code",
   "execution_count": 16,
   "id": "af87c36b",
   "metadata": {},
   "outputs": [
    {
     "name": "stdout",
     "output_type": "stream",
     "text": [
      "ABC School \n",
      "ABC School \n"
     ]
    }
   ],
   "source": [
    "#Access Class Variable in the constructor\n",
    "class Student:\n",
    "    # Class variable\n",
    "    school_name = 'ABC School '\n",
    "\n",
    "    # constructor\n",
    "    def __init__(self, name):\n",
    "        self.name = name\n",
    "        # access class variable inside constructor using self\n",
    "        print(self.school_name)\n",
    "        # access using class name\n",
    "        print(Student.school_name)\n",
    "\n",
    "# create Object\n",
    "s1 = Student('Emma')"
   ]
  },
  {
   "cell_type": "code",
   "execution_count": 18,
   "id": "ee204ce2",
   "metadata": {},
   "outputs": [
    {
     "name": "stdout",
     "output_type": "stream",
     "text": [
      "Inside instance method\n",
      "Emma 10 ABC School \n",
      "ABC School \n",
      "Outside class\n",
      "ABC School \n",
      "ABC School \n"
     ]
    }
   ],
   "source": [
    "#Access Class Variable in Instance method and outside class\n",
    "class Student:\n",
    "    # Class variable\n",
    "    school_name = 'ABC School '\n",
    "\n",
    "    # constructor\n",
    "    def __init__(self, name, roll_no):\n",
    "        self.name = name\n",
    "        self.roll_no = roll_no\n",
    "\n",
    "    # Instance method\n",
    "    def show(self):\n",
    "        print('Inside instance method')\n",
    "        # access using self\n",
    "        print(self.name, self.roll_no, self.school_name)\n",
    "        # access using class name\n",
    "        print(Student.school_name)\n",
    "\n",
    "# create Object\n",
    "s1 = Student('Emma', 10)\n",
    "s1.show()\n",
    "\n",
    "print('Outside class')\n",
    "# access class variable outside class\n",
    "# access using object reference\n",
    "print(s1.school_name)\n",
    "\n",
    "# access using class name\n",
    "print(Student.school_name)\n"
   ]
  },
  {
   "cell_type": "markdown",
   "id": "245efa0b",
   "metadata": {},
   "source": [
    "#### Modify Class Variables\n",
    "Generally, we assign value to a class variable inside the class declaration. However, we can change the value of the class variable either in the class or outside of class."
   ]
  },
  {
   "cell_type": "code",
   "execution_count": 19,
   "id": "19e1d8cf",
   "metadata": {},
   "outputs": [
    {
     "name": "stdout",
     "output_type": "stream",
     "text": [
      "Before\n",
      "Emma 10 ABC School \n",
      "After\n",
      "Emma 10 XYZ School\n"
     ]
    }
   ],
   "source": [
    "class Student:\n",
    "    # Class variable\n",
    "    school_name = 'ABC School '\n",
    "\n",
    "    # constructor\n",
    "    def __init__(self, name, roll_no):\n",
    "        self.name = name\n",
    "        self.roll_no = roll_no\n",
    "\n",
    "    # Instance method\n",
    "    def show(self):\n",
    "        print(self.name, self.roll_no, Student.school_name)\n",
    "\n",
    "# create Object\n",
    "s1 = Student('Emma', 10)\n",
    "print('Before')\n",
    "s1.show()\n",
    "\n",
    "# Modify class variable\n",
    "Student.school_name = 'XYZ School'\n",
    "print('After')\n",
    "s1.show()\n"
   ]
  },
  {
   "cell_type": "markdown",
   "id": "e2bbd419",
   "metadata": {},
   "source": [
    "<b>Note</b> : It is best practice to use a class name to change the value of a class variable. Because if we try to change the class variable’s value by using an object, a new instance variable is created for that particular object, which shadows the class variables."
   ]
  },
  {
   "cell_type": "code",
   "execution_count": 20,
   "id": "39aaa048",
   "metadata": {},
   "outputs": [
    {
     "name": "stdout",
     "output_type": "stream",
     "text": [
      "Before\n",
      "Emma 10 ABC School \n",
      "Jessa 20 ABC School \n",
      "After\n",
      "Emma 10 PQR School\n",
      "Jessa 20 ABC School \n"
     ]
    }
   ],
   "source": [
    "class Student:\n",
    "    # Class variable\n",
    "    school_name = 'ABC School '\n",
    "\n",
    "    # constructor\n",
    "    def __init__(self, name, roll_no):\n",
    "        self.name = name\n",
    "        self.roll_no = roll_no\n",
    "\n",
    "# create Objects\n",
    "s1 = Student('Emma', 10)\n",
    "s2 = Student('Jessa', 20)\n",
    "\n",
    "print('Before')\n",
    "print(s1.name, s1.roll_no, s1.school_name)\n",
    "print(s2.name, s2.roll_no, s2.school_name)\n",
    "\n",
    "# Modify class variable using object reference\n",
    "s1.school_name = 'PQR School'\n",
    "print('After')\n",
    "print(s1.name, s1.roll_no, s1.school_name)\n",
    "print(s2.name, s2.roll_no, s2.school_name)\n"
   ]
  },
  {
   "cell_type": "markdown",
   "id": "fd6ec2d9",
   "metadata": {},
   "source": [
    "|<p>Instance Variable</p> | <p>Class Variable</p>|\n",
    "|-|-|\n",
    "| <p>Instance variables are not shared by objects. Every object has its own copy of the instance attribute</p> | <p>Class variables are shared by all instances.</p> |\n",
    "|-|-|\n",
    "| <p>Instance variables are declared inside the constructor i.e., the `__init__()` method.</p> | <p>Class variables are declared inside the class definition but outside any of the instance methods and constructors.</p> |\n",
    "|-|-|\n",
    "| <p>It is gets created when an instance of the class is created.</p> | <p>It is created when the program begins to execute.</p> |\n",
    "|-|-|\n",
    "| <p>Changes made to these variables through one object will not reflect in another object</p> | <p>Changes made in the class variable will reflect in all objects.</p> |\n",
    "|-|-|"
   ]
  },
  {
   "cell_type": "code",
   "execution_count": 21,
   "id": "04ea6141",
   "metadata": {},
   "outputs": [
    {
     "name": "stdout",
     "output_type": "stream",
     "text": [
      "x1 2500 BMW\n"
     ]
    }
   ],
   "source": [
    "class Car:\n",
    "    # Class variable\n",
    "    manufacturer = 'BMW'\n",
    "\n",
    "    def __init__(self, model, price):\n",
    "        # instance variable\n",
    "        self.model = model\n",
    "        self.price = price\n",
    "\n",
    "# create Object\n",
    "car = Car('x1', 2500)\n",
    "print(car.model, car.price, Car.manufacturer)"
   ]
  },
  {
   "cell_type": "markdown",
   "id": "112b4236",
   "metadata": {},
   "source": [
    "#### Class Variables In Inheritance\n",
    "As you know, only one copy of the class variable will be created and shared between all objects of that class.\n",
    "\n",
    "When we use inheritance, all variables and methods of the base class are available to the child class. In such cases, We can also change the value of the parent class’s class variable in the child class.\n",
    "\n",
    "\n",
    "We can use the parent class or child class name to change the value of a parent class’s class variable in the child class."
   ]
  },
  {
   "cell_type": "code",
   "execution_count": 22,
   "id": "ffdb952e",
   "metadata": {},
   "outputs": [
    {
     "name": "stdout",
     "output_type": "stream",
     "text": [
      "Before\n",
      "Student name: Emma Course Name: Python\n",
      "Now\n",
      "Student name: Emma Course Name: Machine Learning\n"
     ]
    }
   ],
   "source": [
    "class Course:\n",
    "    # class variable\n",
    "    course = \"Python\"\n",
    "\n",
    "class Student(Course):\n",
    "\n",
    "    def __init__(self, name):\n",
    "        self.name = name\n",
    "\n",
    "    def show_student(self):\n",
    "        # Accessing class variable of parent class\n",
    "        print('Before')\n",
    "        print(\"Student name:\", self.name, \"Course Name:\", Student.course)\n",
    "        # changing class variable value of base class\n",
    "        print('Now')\n",
    "        Student.course = \"Machine Learning\"\n",
    "        print(\"Student name:\", self.name, \"Course Name:\", Student.course)\n",
    "\n",
    "# creating object of Student class\n",
    "stud = Student(\"Emma\")\n",
    "stud.show_student()"
   ]
  },
  {
   "cell_type": "markdown",
   "id": "ebe138d4",
   "metadata": {},
   "source": [
    "<b>Note : What if both child class and parent class has the same class variable name.</b> In this case, the child class will not inherit the class variable of a base class. <b>So it is recommended to create a separate class variable for child class instead of inheriting the base class variable</b>"
   ]
  },
  {
   "cell_type": "code",
   "execution_count": 23,
   "id": "7596b5c4",
   "metadata": {},
   "outputs": [
    {
     "name": "stdout",
     "output_type": "stream",
     "text": [
      "Before\n",
      "Student name: Emma Course Name: SQL\n",
      "Now\n",
      "Student name: Emma Course Name: Machine Learning\n",
      "Parent Class Course Name: Python\n"
     ]
    }
   ],
   "source": [
    "class Course:\n",
    "    # class variable\n",
    "    course = \"Python\"\n",
    "\n",
    "class Student(Course):\n",
    "    # class variable\n",
    "    course = \"SQL\"\n",
    "\n",
    "    def __init__(self, name):\n",
    "        self.name = name\n",
    "\n",
    "    def show_student(self):\n",
    "        # Accessing class variable\n",
    "        print('Before')\n",
    "        print(\"Student name:\", self.name, \"Course Name:\", Student.course)\n",
    "        # changing class variable's value\n",
    "        print('Now')\n",
    "        Student.course = \"Machine Learning\"\n",
    "        print(\"Student name:\", self.name, \"Course Name:\", Student.course)\n",
    "\n",
    "# creating object of Student class\n",
    "stud = Student(\"Emma\")\n",
    "stud.show_student()\n",
    "\n",
    "# parent class course name\n",
    "print('Parent Class Course Name:', Course.course)"
   ]
  },
  {
   "cell_type": "markdown",
   "id": "e06e84b6",
   "metadata": {},
   "source": [
    "### Wrong Use of Class Variables\n",
    "In Python, we should properly use the class variable because all objects share the same copy. Thus, if one of the objects modifies the value of a class variable, then all objects start referring to the fresh copy."
   ]
  },
  {
   "cell_type": "code",
   "execution_count": 24,
   "id": "f7b901ff",
   "metadata": {},
   "outputs": [
    {
     "name": "stdout",
     "output_type": "stream",
     "text": [
      "Player : Name: John Club: FC Sports: Football\n",
      "Player : Name: Emma Club: Chelsea Sports: Tennis\n",
      "Club: Chelsea Sport: Football\n"
     ]
    }
   ],
   "source": [
    "class Player:\n",
    "    # class variables\n",
    "    club = 'Chelsea'\n",
    "    sport = 'Football'\n",
    "\n",
    "    def __init__(self, name):\n",
    "        # Instance variable\n",
    "        self.name = name\n",
    "\n",
    "    def show(self):\n",
    "        print(\"Player :\", 'Name:', self.name, 'Club:', self.club, 'Sports:', self.sport)\n",
    "\n",
    "p1 = Player('John')\n",
    "\n",
    "# wrong use of class variable\n",
    "p1.club = 'FC'\n",
    "p1.show()\n",
    "\n",
    "p2 = Player('Emma')\n",
    "p2.sport = 'Tennis'\n",
    "p2.show()\n",
    "\n",
    "# actual class variable value\n",
    "print('Club:', Player.club, 'Sport:', Player.sport)"
   ]
  },
  {
   "cell_type": "markdown",
   "id": "ab3b1a96",
   "metadata": {},
   "source": [
    "Because both objects modified the class variable, a new instance variable is created for that particular object with the same name as the class variable, which shadows the class variables.\n",
    "\n",
    "In our case, for object p1 new instance variable club gets created, and for object p2 new instance variable sport gets created.\n",
    "\n",
    "So when you try to access the class variable using the p1 or p2 object, it will not return the actual class variable value.\n",
    "\n",
    "To avoid this, always modify the class variable value using the class name so that all objects gets the updated value. Like this"
   ]
  },
  {
   "cell_type": "code",
   "execution_count": 25,
   "id": "7cec2fde",
   "metadata": {},
   "outputs": [],
   "source": [
    "Player.club = 'FC'\n",
    "Player.sport = 'Tennis'"
   ]
  },
  {
   "cell_type": "markdown",
   "id": "a2d7534b",
   "metadata": {},
   "source": [
    "# Class Method"
   ]
  },
  {
   "cell_type": "markdown",
   "id": "7f9cc958",
   "metadata": {},
   "source": [
    "<b>Class method</b>: Used to access or modify the class state. In method implementation, if we use only class variables, then such type of methods we should declare as a class method. The class method has a `cls` parameter which refers to the class.\n",
    "\n",
    "<b>Static method:</b> It is a general utility method that performs a task in isolation. Inside this method, we don’t use instance or class variable because this static method doesn’t take any parameters like `self` and `cls`."
   ]
  },
  {
   "cell_type": "markdown",
   "id": "4d13a671",
   "metadata": {},
   "source": [
    "#### What is Class Method in Python\n",
    "Class methods are methods that are called on the class itself, not on a specific object instance. Therefore, it belongs to a class level, and all class instances share a class method.\n",
    "\n",
    "- <b>A class method is bound to the class </b>and not the object of the class. <b>It can access only class variables.</b>\n",
    "- It can modify the class state by changing the value of a class variable that would apply across all the class objects."
   ]
  },
  {
   "cell_type": "markdown",
   "id": "b920f1aa",
   "metadata": {},
   "source": [
    "In method implementation, if we use only class variables, we should declare such methods as class methods. The class method has a `cls` as the first parameter, which refers to the class.\n",
    "\n",
    "Class methods are used when we are <b>dealing with factory methods</b>. <b>Factory methods</b> are those methods that <b>return a class object for different use cases</b>. Thus, factory methods create concrete implementations of a common interface.\n",
    "\n",
    "The class method can be called using `ClassName.method_name()` as well as by using an object of the class.\n",
    "\n"
   ]
  },
  {
   "cell_type": "markdown",
   "id": "f01c343e",
   "metadata": {},
   "source": [
    "Any method we create in a class will automatically be created as an instance method. We must explicitly tell Python that it is a class method using the `@classmethod` decorator or `classmethod()` function."
   ]
  },
  {
   "cell_type": "markdown",
   "id": "4e42f16b",
   "metadata": {},
   "source": [
    "we use the `cls` keyword as a first parameter to access class variables. Therefore the class method gives us control of changing the class state.\n",
    "\n",
    "- You may use a variable named differently for `cls`, but it is discouraged since `self` is the recommended convention in Python.\n",
    "- The class method can only access the class attributes, not the instance attributes"
   ]
  },
  {
   "cell_type": "code",
   "execution_count": 27,
   "id": "6f33b152",
   "metadata": {},
   "outputs": [
    {
     "name": "stdout",
     "output_type": "stream",
     "text": [
      "Jessa's age is: 20\n",
      "Joy's age is: 28\n"
     ]
    }
   ],
   "source": [
    "#Create Class Method Using @classmethod Decorator\n",
    "from datetime import date\n",
    "\n",
    "class Student:\n",
    "    def __init__(self, name, age):\n",
    "        self.name = name\n",
    "        self.age = age\n",
    "\n",
    "    @classmethod\n",
    "    def calculate_age(cls, name, birth_year):\n",
    "        # calculate age an set it as a age\n",
    "        # return new object\n",
    "        return cls(name, date.today().year - birth_year)\n",
    "\n",
    "    def show(self):\n",
    "        print(self.name + \"'s age is: \" + str(self.age))\n",
    "\n",
    "jessa = Student('Jessa', 20)\n",
    "jessa.show()\n",
    "\n",
    "# create new object using the factory method\n",
    "joy = Student.calculate_age(\"Joy\", 1995)\n",
    "joy.show()\n"
   ]
  },
  {
   "cell_type": "markdown",
   "id": "e79daa4f",
   "metadata": {},
   "source": [
    "In the above example, we created two objects, one using the constructor and the second using the `calculate_age()` method.\n",
    "\n",
    "The constructor takes two arguments `name` and `age`. On the other hand, class method takes `cls`, `name`, and `birth_year` and returns a class instance which nothing but a new object.\n",
    "\n",
    "The `@classmethod` decorator is used for converting `calculate_age()` method to a class method.\n",
    "\n",
    "The `calculate_age()` method takes `Student class (cls)` as a first parameter and returns constructor by calling `Student(name, date.today().year - birthYear)`, which is equivalent to `Student(name, age)`"
   ]
  },
  {
   "cell_type": "code",
   "execution_count": 32,
   "id": "0bad1e88",
   "metadata": {},
   "outputs": [
    {
     "name": "stdout",
     "output_type": "stream",
     "text": [
      "raka's age is: 25\n"
     ]
    }
   ],
   "source": [
    "jessa.calculate_age('raka',1998).show()"
   ]
  },
  {
   "cell_type": "code",
   "execution_count": 29,
   "id": "fe14a519",
   "metadata": {},
   "outputs": [
    {
     "data": {
      "text/plain": [
       "28"
      ]
     },
     "execution_count": 29,
     "metadata": {},
     "output_type": "execute_result"
    }
   ],
   "source": [
    "joy.age"
   ]
  },
  {
   "cell_type": "code",
   "execution_count": 30,
   "id": "607b02d4",
   "metadata": {},
   "outputs": [
    {
     "data": {
      "text/plain": [
       "'Joy'"
      ]
     },
     "execution_count": 30,
     "metadata": {},
     "output_type": "execute_result"
    }
   ],
   "source": [
    "joy.name"
   ]
  },
  {
   "cell_type": "code",
   "execution_count": 31,
   "id": "945a8ee4",
   "metadata": {},
   "outputs": [
    {
     "name": "stdout",
     "output_type": "stream",
     "text": [
      "Joy's age is: 28\n"
     ]
    }
   ],
   "source": [
    "joy.show()"
   ]
  },
  {
   "cell_type": "code",
   "execution_count": 33,
   "id": "fe376a2f",
   "metadata": {},
   "outputs": [
    {
     "data": {
      "text/plain": [
       "'Jessa'"
      ]
     },
     "execution_count": 33,
     "metadata": {},
     "output_type": "execute_result"
    }
   ],
   "source": [
    "jessa.name"
   ]
  },
  {
   "cell_type": "markdown",
   "id": "92fa160c",
   "metadata": {},
   "source": [
    "#### Create Class Method Using classmethod() function\n",
    "Apart from a decorator, the built-in function `classmethod()` is used to <b>convert a normal method into a class method</b>. The `classmethod()` is an inbuilt function in Python, which returns a class method for a given function"
   ]
  },
  {
   "cell_type": "markdown",
   "id": "b954c82a",
   "metadata": {},
   "source": [
    "`\n",
    "Syntax: classmethod(function)\n",
    "`"
   ]
  },
  {
   "cell_type": "markdown",
   "id": "c57f3602",
   "metadata": {},
   "source": [
    "- function: It is the name of the method you want to convert as a class method.\n",
    "- It returns the converted class method"
   ]
  },
  {
   "cell_type": "code",
   "execution_count": 35,
   "id": "784f3128",
   "metadata": {},
   "outputs": [
    {
     "ename": "TypeError",
     "evalue": "school_name() missing 1 required positional argument: 'cls'",
     "output_type": "error",
     "traceback": [
      "\u001b[1;31m---------------------------------------------------------------------------\u001b[0m",
      "\u001b[1;31mTypeError\u001b[0m                                 Traceback (most recent call last)",
      "\u001b[1;32m~\\AppData\\Local\\Temp\\ipykernel_23372\\1884549574.py\u001b[0m in \u001b[0;36m<module>\u001b[1;34m\u001b[0m\n\u001b[0;32m     10\u001b[0m \u001b[1;33m\u001b[0m\u001b[0m\n\u001b[0;32m     11\u001b[0m \u001b[1;31m# call class method\u001b[0m\u001b[1;33m\u001b[0m\u001b[1;33m\u001b[0m\u001b[0m\n\u001b[1;32m---> 12\u001b[1;33m \u001b[0mSchool\u001b[0m\u001b[1;33m.\u001b[0m\u001b[0mschool_name\u001b[0m\u001b[1;33m(\u001b[0m\u001b[1;33m)\u001b[0m\u001b[1;33m\u001b[0m\u001b[1;33m\u001b[0m\u001b[0m\n\u001b[0m",
      "\u001b[1;31mTypeError\u001b[0m: school_name() missing 1 required positional argument: 'cls'"
     ]
    }
   ],
   "source": [
    "class School:\n",
    "    # class variable\n",
    "    name = 'ABC School'\n",
    "\n",
    "    def school_name(cls):\n",
    "        print('School Name is :', cls.name)\n",
    "\n",
    "# create class method\n",
    "#School.school_name = classmethod(School.school_name)\n",
    "\n",
    "# call class method\n",
    "School.school_name()\n"
   ]
  },
  {
   "cell_type": "code",
   "execution_count": 36,
   "id": "0db4b454",
   "metadata": {},
   "outputs": [
    {
     "name": "stdout",
     "output_type": "stream",
     "text": [
      "School Name is : ABC School\n"
     ]
    }
   ],
   "source": [
    "class School:\n",
    "    # class variable\n",
    "    name = 'ABC School'\n",
    "\n",
    "    @classmethod\n",
    "    def school_name(cls):\n",
    "        print('School Name is :', cls.name)\n",
    "\n",
    "# create class method\n",
    "#School.school_name = classmethod(School.school_name)\n",
    "\n",
    "# call class method\n",
    "School.school_name()\n"
   ]
  },
  {
   "cell_type": "code",
   "execution_count": 38,
   "id": "3e0e7e21",
   "metadata": {},
   "outputs": [
    {
     "name": "stdout",
     "output_type": "stream",
     "text": [
      "School Name is : ABC School\n"
     ]
    }
   ],
   "source": [
    "class School:\n",
    "    # class variable\n",
    "    name = 'ABC School'\n",
    "\n",
    "    def school_name(cls):\n",
    "        print('School Name is :', cls.name)\n",
    "\n",
    "# create class method\n",
    "School.school_name = classmethod(School.school_name) #returns the converted class method\n",
    "\n",
    "# call class method\n",
    "School.school_name()\n"
   ]
  },
  {
   "cell_type": "markdown",
   "id": "57f24c07",
   "metadata": {},
   "source": [
    "Class variables are shared by all instances of a class. Using the class method we can modify the class state by changing the value of a class variable that would apply across all the class objects."
   ]
  },
  {
   "cell_type": "code",
   "execution_count": 39,
   "id": "f49a77a6",
   "metadata": {},
   "outputs": [
    {
     "name": "stdout",
     "output_type": "stream",
     "text": [
      "Jessa 20 School: ABC School\n",
      "Jessa 20 School: XYZ School\n"
     ]
    }
   ],
   "source": [
    "class Student:\n",
    "    school_name = 'ABC School'\n",
    "\n",
    "    def __init__(self, name, age):\n",
    "        self.name = name\n",
    "        self.age = age\n",
    "\n",
    "    @classmethod\n",
    "    def change_school(cls, school_name):\n",
    "        # class_name.class_variable\n",
    "        cls.school_name = school_name\n",
    "\n",
    "    # instance method\n",
    "    def show(self):\n",
    "        print(self.name, self.age, 'School:', Student.school_name)\n",
    "\n",
    "jessa = Student('Jessa', 20)\n",
    "jessa.show()\n",
    "\n",
    "# change school_name\n",
    "Student.change_school('XYZ School')\n",
    "jessa.show()"
   ]
  },
  {
   "cell_type": "code",
   "execution_count": 40,
   "id": "3e0f68d0",
   "metadata": {},
   "outputs": [
    {
     "name": "stdout",
     "output_type": "stream",
     "text": [
      "BMW X5 65000\n",
      "BMW X5 4875000\n",
      "<class '__main__.Car'>\n"
     ]
    }
   ],
   "source": [
    "#Class Method in Inheritance\n",
    "class Vehicle:\n",
    "    brand_name = 'BMW'\n",
    "\n",
    "    def __init__(self, name, price):\n",
    "        self.name = name\n",
    "        self.price = price\n",
    "\n",
    "    @classmethod\n",
    "    def from_price(cls, name, price):\n",
    "        # ind_price = dollar * 76\n",
    "        # create new Vehicle object\n",
    "        return cls(name, (price * 75))\n",
    "\n",
    "    def show(self):\n",
    "        print(self.name, self.price)\n",
    "\n",
    "class Car(Vehicle):\n",
    "    def average(self, distance, fuel_used):\n",
    "        mileage = distance / fuel_used\n",
    "        print(self.name, 'Mileage', mileage)\n",
    "\n",
    "bmw_us = Car('BMW X5', 65000)\n",
    "bmw_us.show()\n",
    "\n",
    "# class method of parent class is available to child class\n",
    "# this will return the object of calling class\n",
    "bmw_ind = Car.from_price('BMW X5', 65000)\n",
    "bmw_ind.show()\n",
    "\n",
    "# check type\n",
    "print(type(bmw_ind))"
   ]
  },
  {
   "cell_type": "markdown",
   "id": "3a945462",
   "metadata": {},
   "source": [
    "#### Dynamically Add Class Method to a Class\n",
    "Typically, we add class methods to a class body when defining a class. However, Python is a dynamic language that allows us to add or delete methods at runtime. Therefore, it is helpful when you wanted to extend the class functionality without changing its basic structure because many systems use the same structure.\n",
    "\n",
    "We need to use the `classmethod()` function to add a new class method to a class."
   ]
  },
  {
   "cell_type": "code",
   "execution_count": 41,
   "id": "77299667",
   "metadata": {},
   "outputs": [
    {
     "name": "stdout",
     "output_type": "stream",
     "text": [
      "Jessa 14\n",
      "Below exercises for ABC School\n"
     ]
    }
   ],
   "source": [
    "class Student:\n",
    "    school_name = 'ABC School'\n",
    "\n",
    "    def __init__(self, name, age):\n",
    "        self.name = name\n",
    "        self.age = age\n",
    "\n",
    "    def show(self):\n",
    "        print(self.name, self.age)\n",
    "\n",
    "# class ended\n",
    "\n",
    "# method outside class\n",
    "def exercises(cls):\n",
    "    # access class variables\n",
    "    print(\"Below exercises for\", cls.school_name)\n",
    "\n",
    "# Adding class method at runtime to class\n",
    "Student.exercises = classmethod(exercises)\n",
    "\n",
    "jessa = Student(\"Jessa\", 14)\n",
    "jessa.show()\n",
    "# call the new method\n",
    "Student.exercises()\n"
   ]
  },
  {
   "cell_type": "markdown",
   "id": "7c8dc161",
   "metadata": {},
   "source": [
    "### Dynamically Delete Class Methods\n",
    "We can dynamically delete the class methods from the class. In Python, there are two ways to do it:\n",
    "\n",
    "- By using the `del` operator\n",
    "- By using `delattr()` method"
   ]
  },
  {
   "cell_type": "code",
   "execution_count": 42,
   "id": "35912625",
   "metadata": {},
   "outputs": [
    {
     "name": "stdout",
     "output_type": "stream",
     "text": [
      "None\n",
      "XYZ School\n"
     ]
    },
    {
     "ename": "AttributeError",
     "evalue": "type object 'Student' has no attribute 'change_school'",
     "output_type": "error",
     "traceback": [
      "\u001b[1;31m---------------------------------------------------------------------------\u001b[0m",
      "\u001b[1;31mAttributeError\u001b[0m                            Traceback (most recent call last)",
      "\u001b[1;32m~\\AppData\\Local\\Temp\\ipykernel_23372\\2802865589.py\u001b[0m in \u001b[0;36m<module>\u001b[1;34m\u001b[0m\n\u001b[0;32m     19\u001b[0m \u001b[1;31m# call class method\u001b[0m\u001b[1;33m\u001b[0m\u001b[1;33m\u001b[0m\u001b[0m\n\u001b[0;32m     20\u001b[0m \u001b[1;31m# it will give error\u001b[0m\u001b[1;33m\u001b[0m\u001b[1;33m\u001b[0m\u001b[0m\n\u001b[1;32m---> 21\u001b[1;33m \u001b[0mprint\u001b[0m\u001b[1;33m(\u001b[0m\u001b[0mStudent\u001b[0m\u001b[1;33m.\u001b[0m\u001b[0mchange_school\u001b[0m\u001b[1;33m(\u001b[0m\u001b[1;34m'PQR School'\u001b[0m\u001b[1;33m)\u001b[0m\u001b[1;33m)\u001b[0m\u001b[1;33m\u001b[0m\u001b[1;33m\u001b[0m\u001b[0m\n\u001b[0m",
      "\u001b[1;31mAttributeError\u001b[0m: type object 'Student' has no attribute 'change_school'"
     ]
    }
   ],
   "source": [
    "class Student:\n",
    "    school_name = 'ABC School'\n",
    "\n",
    "    def __init__(self, name, age):\n",
    "        self.name = name\n",
    "        self.age = age\n",
    "\n",
    "    @classmethod\n",
    "    def change_school(cls, school_name):\n",
    "        cls.school_name = school_name\n",
    "\n",
    "jessa = Student('Jessa', 20)\n",
    "print(Student.change_school('XYZ School'))\n",
    "print(Student.school_name)\n",
    "\n",
    "# delete class method\n",
    "del Student.change_school\n",
    "\n",
    "# call class method\n",
    "# it will give error\n",
    "print(Student.change_school('PQR School'))\n"
   ]
  },
  {
   "cell_type": "code",
   "execution_count": 43,
   "id": "f2448c84",
   "metadata": {},
   "outputs": [
    {
     "ename": "AttributeError",
     "evalue": "type object 'Student' has no attribute 'change_school'",
     "output_type": "error",
     "traceback": [
      "\u001b[1;31m---------------------------------------------------------------------------\u001b[0m",
      "\u001b[1;31mAttributeError\u001b[0m                            Traceback (most recent call last)",
      "\u001b[1;32m~\\AppData\\Local\\Temp\\ipykernel_23372\\443418358.py\u001b[0m in \u001b[0;36m<module>\u001b[1;34m\u001b[0m\n\u001b[0;32m      1\u001b[0m \u001b[0mjessa\u001b[0m \u001b[1;33m=\u001b[0m \u001b[0mStudent\u001b[0m\u001b[1;33m(\u001b[0m\u001b[1;34m'Jessa'\u001b[0m\u001b[1;33m,\u001b[0m \u001b[1;36m20\u001b[0m\u001b[1;33m)\u001b[0m\u001b[1;33m\u001b[0m\u001b[1;33m\u001b[0m\u001b[0m\n\u001b[1;32m----> 2\u001b[1;33m \u001b[0mprint\u001b[0m\u001b[1;33m(\u001b[0m\u001b[0mStudent\u001b[0m\u001b[1;33m.\u001b[0m\u001b[0mchange_school\u001b[0m\u001b[1;33m(\u001b[0m\u001b[1;34m'XYZ School'\u001b[0m\u001b[1;33m)\u001b[0m\u001b[1;33m)\u001b[0m\u001b[1;33m\u001b[0m\u001b[1;33m\u001b[0m\u001b[0m\n\u001b[0m\u001b[0;32m      3\u001b[0m \u001b[0mprint\u001b[0m\u001b[1;33m(\u001b[0m\u001b[0mStudent\u001b[0m\u001b[1;33m.\u001b[0m\u001b[0mschool_name\u001b[0m\u001b[1;33m)\u001b[0m\u001b[1;33m\u001b[0m\u001b[1;33m\u001b[0m\u001b[0m\n\u001b[0;32m      4\u001b[0m \u001b[1;33m\u001b[0m\u001b[0m\n\u001b[0;32m      5\u001b[0m \u001b[1;31m# delete class method\u001b[0m\u001b[1;33m\u001b[0m\u001b[1;33m\u001b[0m\u001b[0m\n",
      "\u001b[1;31mAttributeError\u001b[0m: type object 'Student' has no attribute 'change_school'"
     ]
    }
   ],
   "source": [
    "jessa = Student('Jessa', 20)\n",
    "print(Student.change_school('XYZ School'))\n",
    "print(Student.school_name)\n",
    "\n",
    "# delete class method\n",
    "delattr(Student, 'change_school')\n",
    "\n",
    "# call class method\n",
    "# it will give error\n",
    "print(Student.change_school('PQR School'))\n"
   ]
  },
  {
   "cell_type": "code",
   "execution_count": null,
   "id": "39355b1b",
   "metadata": {},
   "outputs": [],
   "source": []
  }
 ],
 "metadata": {
  "kernelspec": {
   "display_name": "Python 3 (ipykernel)",
   "language": "python",
   "name": "python3"
  },
  "language_info": {
   "codemirror_mode": {
    "name": "ipython",
    "version": 3
   },
   "file_extension": ".py",
   "mimetype": "text/x-python",
   "name": "python",
   "nbconvert_exporter": "python",
   "pygments_lexer": "ipython3",
   "version": "3.9.13"
  }
 },
 "nbformat": 4,
 "nbformat_minor": 5
}
