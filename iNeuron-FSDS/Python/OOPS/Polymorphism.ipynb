{
 "cells": [
  {
   "cell_type": "markdown",
   "id": "0949ac48",
   "metadata": {},
   "source": [
    "# Polymorphism"
   ]
  },
  {
   "cell_type": "markdown",
   "id": "d269fc01",
   "metadata": {},
   "source": [
    "- Object-Oriented Programming (OOP) has four essential characteristics: `abstraction, encapsulation, inheritance, and polymorphism`."
   ]
  },
  {
   "cell_type": "markdown",
   "id": "68be5ecd",
   "metadata": {},
   "source": [
    "- The word \"polymorphism\" means \"many forms\", and in programming it refers to methods/functions/operators with the same name that can be executed on many objects or classes.\n",
    "\n"
   ]
  },
  {
   "cell_type": "markdown",
   "id": "068649af",
   "metadata": {},
   "source": [
    "An example of a Python function that can be used on different objects is the `len()` function."
   ]
  },
  {
   "cell_type": "code",
   "execution_count": 2,
   "id": "d76b769d",
   "metadata": {},
   "outputs": [
    {
     "name": "stdout",
     "output_type": "stream",
     "text": [
      "6\n",
      "6\n",
      "5\n",
      "3\n"
     ]
    }
   ],
   "source": [
    "#String - For strings len() returns the number of characters:\n",
    "st = \"Rakesh\"\n",
    "print(len(st))\n",
    "\n",
    "#tuple - For tuples len() returns the number of items in the tuple:\n",
    "tu = (12,2,3,34,4,5)\n",
    "print(len(tu))\n",
    "\n",
    "#list\n",
    "li = [12,56,73,68,366]\n",
    "print(len(li))\n",
    "\n",
    "#dictionary - For dictionaries len() returns the number of key/value pairs in the dictionary:\n",
    "thisdict = {\n",
    "  \"brand\": \"Ford\",\n",
    "  \"model\": \"Mustang\",\n",
    "  \"year\": 1964\n",
    "}\n",
    "\n",
    "print(len(thisdict))"
   ]
  },
  {
   "cell_type": "markdown",
   "id": "13b78ae1",
   "metadata": {},
   "source": [
    "#### Class Polymorphism\n",
    "> Polymorphism is often used in Class methods, where we can have multiple classes with the same method name.\n",
    "\n",
    "For example, say we have three classes: Car, Boat, and Plane, and they all have a method called move():"
   ]
  },
  {
   "cell_type": "code",
   "execution_count": 3,
   "id": "e1640cf6",
   "metadata": {},
   "outputs": [
    {
     "name": "stdout",
     "output_type": "stream",
     "text": [
      "Drive!\n",
      "Sail!\n",
      "Fly!\n"
     ]
    }
   ],
   "source": [
    "class Car:\n",
    "    def __init__(self, brand, model):\n",
    "        self.brand = brand\n",
    "        self.model = model\n",
    "        \n",
    "    def move(self):\n",
    "        print(\"Drive!\")\n",
    "\n",
    "class Boat:\n",
    "    def __init__(self, brand, model):\n",
    "        self.brand = brand\n",
    "        self.model = model\n",
    "        \n",
    "    def move(self):\n",
    "        print(\"Sail!\")\n",
    "\n",
    "class Plane:\n",
    "    def __init__(self, brand, model):\n",
    "        self.brand = brand\n",
    "        self.model = model\n",
    "        \n",
    "    def move(self):\n",
    "        print(\"Fly!\")\n",
    "\n",
    "car1 = Car(\"Ford\", \"Mustang\")       #Create a Car class\n",
    "boat1 = Boat(\"Ibiza\", \"Touring 20\") #Create a Boat class\n",
    "plane1 = Plane(\"Boeing\", \"747\")     #Create a Plane class\n",
    "\n",
    "for x in (car1, boat1, plane1):\n",
    "    x.move()"
   ]
  },
  {
   "cell_type": "code",
   "execution_count": 4,
   "id": "ada17f15",
   "metadata": {},
   "outputs": [
    {
     "name": "stdout",
     "output_type": "stream",
     "text": [
      "Ford\n",
      "Mustang\n",
      "Move!\n",
      "Ibiza\n",
      "Touring 20\n",
      "Sail!\n",
      "Boeing\n",
      "747\n",
      "Fly!\n"
     ]
    }
   ],
   "source": [
    "class Vehicle:\n",
    "    def __init__(self, brand, model):\n",
    "        self.brand = brand\n",
    "        self.model = model\n",
    "        \n",
    "    def move(self):\n",
    "        print(\"Move!\")\n",
    "\n",
    "\n",
    "class Car(Vehicle):\n",
    "    pass\n",
    "\n",
    "class Boat(Vehicle):\n",
    "    def move(self):\n",
    "        print(\"Sail!\")\n",
    "\n",
    "class Plane(Vehicle):\n",
    "    def move(self):\n",
    "        print(\"Fly!\")\n",
    "\n",
    "car1 = Car(\"Ford\", \"Mustang\") #Create a Car object\n",
    "boat1 = Boat(\"Ibiza\", \"Touring 20\") #Create a Boat object\n",
    "plane1 = Plane(\"Boeing\", \"747\") #Create a Plane object\n",
    "\n",
    "for x in (car1, boat1, plane1):\n",
    "    print(x.brand)\n",
    "    print(x.model)\n",
    "    x.move()"
   ]
  },
  {
   "cell_type": "markdown",
   "id": "2a5322bf",
   "metadata": {},
   "source": [
    "### Polymorphism With Inheritance\n",
    "\n",
    "> Polymorphism is mainly used with inheritance. In inheritance, child class inherits the attributes and methods of a parent class. The existing class is called a base class or parent class, and the new class is called a subclass or child class or derived class.\n",
    "\n",
    "> Using `method overriding` polymorphism allows us to defines methods in the child class that have the same name as the methods in the parent class. This process of <b>re-implementing the inherited method in the child class is known as Method Overriding.</b>\n",
    "\n",
    "##### Advantage of method overriding\n",
    "\n",
    "- It is effective when we want to extend the functionality by altering the inherited method. Or the method inherited from the parent class doesn’t fulfill the need of a child class, so we need to re-implement the same method in the child class in a different way.\n",
    "- Method overriding is useful when a parent class has multiple child classes, and one of that child class wants to redefine the method. The other child classes can use the parent class method. Due to this, we don’t need to modification the parent class code"
   ]
  },
  {
   "cell_type": "code",
   "execution_count": 1,
   "id": "8442f1bd",
   "metadata": {},
   "outputs": [
    {
     "name": "stdout",
     "output_type": "stream",
     "text": [
      "Details: Car x1 Red 20000\n",
      "Car max speed is 240\n",
      "Car change 7 gear\n",
      "Details: Truck x1 white 75000\n",
      "Vehicle max speed is 150\n",
      "Vehicle change 6 gear\n"
     ]
    }
   ],
   "source": [
    "class Vehicle:\n",
    "\n",
    "    def __init__(self, name, color, price):\n",
    "        self.name = name\n",
    "        self.color = color\n",
    "        self.price = price\n",
    "\n",
    "    def show(self):\n",
    "        print('Details:', self.name, self.color, self.price)\n",
    "\n",
    "    def max_speed(self):\n",
    "        print('Vehicle max speed is 150')\n",
    "\n",
    "    def change_gear(self):\n",
    "        print('Vehicle change 6 gear')\n",
    "\n",
    "\n",
    "# inherit from vehicle class\n",
    "class Car(Vehicle):\n",
    "    def max_speed(self):\n",
    "        print('Car max speed is 240')\n",
    "\n",
    "    def change_gear(self):\n",
    "        print('Car change 7 gear')\n",
    "\n",
    "\n",
    "# Car Object\n",
    "car = Car('Car x1', 'Red', 20000)\n",
    "car.show()\n",
    "# calls methods from Car class\n",
    "car.max_speed()\n",
    "car.change_gear()\n",
    "\n",
    "# Vehicle Object\n",
    "vehicle = Vehicle('Truck x1', 'white', 75000)\n",
    "vehicle.show()\n",
    "# calls method from a Vehicle class\n",
    "vehicle.max_speed()\n",
    "vehicle.change_gear()"
   ]
  },
  {
   "cell_type": "markdown",
   "id": "1b0ff88d",
   "metadata": {},
   "source": [
    "As you can see, due to polymorphism, the Python interpreter recognizes that the max_speed() and change_gear() methods are overridden for the car object. So, it uses the one defined in the child class (Car)\n",
    "\n",
    "On the other hand, the show() method isn’t overridden in the Car class, so it is used from the Vehicle class."
   ]
  },
  {
   "cell_type": "markdown",
   "id": "c7782211",
   "metadata": {},
   "source": [
    "#### Overrride Built-in Functions\n",
    "\n",
    "In Python, we can change the default behavior of the built-in functions. For example, we can change or extend the built-in functions such as `len(), abs(), or divmod()` by redefining them in our class. Let’s see the example."
   ]
  },
  {
   "cell_type": "code",
   "execution_count": 2,
   "id": "d0a4f0f1",
   "metadata": {},
   "outputs": [
    {
     "name": "stdout",
     "output_type": "stream",
     "text": [
      "Redefine length\n",
      "4\n"
     ]
    }
   ],
   "source": [
    "class Shopping:\n",
    "    def __init__(self, basket, buyer):\n",
    "        self.basket = list(basket)\n",
    "        self.buyer = buyer\n",
    "\n",
    "    def __len__(self):\n",
    "        print('Redefine length')\n",
    "        count = len(self.basket)\n",
    "        # count total items in a different way\n",
    "        # pair of shoes and shir+pant\n",
    "        return count * 2\n",
    "\n",
    "shopping = Shopping(['Shoes', 'dress'], 'Jessa')\n",
    "print(len(shopping))\n"
   ]
  },
  {
   "cell_type": "markdown",
   "id": "7cfc0a02",
   "metadata": {},
   "source": [
    "### Polymorphism In Class methods\n",
    "\n",
    "Polymorphism with class methods is useful when we group different objects having the same method. we can add them to a list or a tuple, and we don’t need to check the object type before calling their methods. Instead, Python will check object type at runtime and call the correct method. Thus, we can call the methods without being concerned about which class type each object is. We assume that these methods exist in each class.\n",
    "\n",
    "Python allows different classes to have methods with the same name."
   ]
  },
  {
   "cell_type": "code",
   "execution_count": 4,
   "id": "8f6362c5",
   "metadata": {},
   "outputs": [
    {
     "name": "stdout",
     "output_type": "stream",
     "text": [
      "Petrol\n",
      "Max speed 350\n",
      "--------------------\n",
      "Diesel\n",
      "Max speed is 240\n",
      "--------------------\n"
     ]
    }
   ],
   "source": [
    "# In the below example, fuel_type() and max_speed() are the instance methods created in both classes.\n",
    "class Ferrari:\n",
    "    def fuel_type(self):\n",
    "        print(\"Petrol\")\n",
    "\n",
    "    def max_speed(self):\n",
    "        print(\"Max speed 350\")\n",
    "\n",
    "class BMW:\n",
    "    def fuel_type(self):\n",
    "        print(\"Diesel\")\n",
    "\n",
    "    def max_speed(self):\n",
    "        print(\"Max speed is 240\")\n",
    "\n",
    "ferrari = Ferrari()\n",
    "bmw = BMW()\n",
    "\n",
    "# iterate objects of same type\n",
    "for car in (ferrari, bmw):\n",
    "    # call methods without checking class of object\n",
    "    car.fuel_type()\n",
    "    car.max_speed()\n",
    "    print('-' * 20)"
   ]
  },
  {
   "cell_type": "markdown",
   "id": "75bd4a80",
   "metadata": {},
   "source": [
    "As you can see, we have created two classes Ferrari and BMW. They have the same instance method names fuel_type() and max_speed(). However, we have not linked both the classes nor have we used inheritance.\n",
    "\n",
    "\n",
    "We packed two different objects into a tuple and iterate through it using a car variable. It is possible due to polymorphism because we have added the same method in both classes Python first checks the object’s class type and executes the method present in its class."
   ]
  },
  {
   "cell_type": "markdown",
   "id": "f25dbfe1",
   "metadata": {},
   "source": [
    "### Polymorphism with Function and Objects\n",
    "\n",
    "We can create polymorphism with a function that can take any object as a parameter and execute its method without checking its class type. Using this, we can call object actions using the same function instead of repeating method calls."
   ]
  },
  {
   "cell_type": "code",
   "execution_count": 5,
   "id": "176593d7",
   "metadata": {},
   "outputs": [
    {
     "name": "stdout",
     "output_type": "stream",
     "text": [
      "Petrol\n",
      "Max speed 350\n",
      "--------------------\n",
      "Diesel\n",
      "Max speed is 240\n",
      "--------------------\n"
     ]
    }
   ],
   "source": [
    "class Ferrari:\n",
    "    def fuel_type(self):\n",
    "        print(\"Petrol\")\n",
    "\n",
    "    def max_speed(self):\n",
    "        print(\"Max speed 350\")\n",
    "\n",
    "class BMW:\n",
    "    def fuel_type(self):\n",
    "        print(\"Diesel\")\n",
    "\n",
    "    def max_speed(self):\n",
    "        print(\"Max speed is 240\")\n",
    "\n",
    "# normal function\n",
    "def car_details(obj):\n",
    "    obj.fuel_type()\n",
    "    obj.max_speed()\n",
    "    print('-'*20)\n",
    "\n",
    "ferrari = Ferrari()\n",
    "bmw = BMW()\n",
    "\n",
    "car_details(ferrari)\n",
    "car_details(bmw)\n"
   ]
  },
  {
   "cell_type": "markdown",
   "id": "c094d2ca",
   "metadata": {},
   "source": [
    "### Polymorphism In Built-in Methods\n",
    "\n",
    "The word polymorphism is taken from the Greek words poly (many) and morphism (forms). It means a <b>method can process objects differently depending on the class type or data type.</b>\n",
    "\n",
    "The built-in function `reversed(obj)` returns the iterable by reversing the given object. For example, if you pass a string to it, it will reverse it. But if you pass a list of strings to it, it will return the iterable by reversing the order of elements (it will not reverse the individual string)."
   ]
  },
  {
   "cell_type": "code",
   "execution_count": 7,
   "id": "378a1ca9",
   "metadata": {},
   "outputs": [
    {
     "name": "stdout",
     "output_type": "stream",
     "text": [
      "Reverse string\n",
      "r t S n o h T Y P \n",
      "Reverse list\n",
      "Kelly Jessa Emma "
     ]
    }
   ],
   "source": [
    "students = ['Emma', 'Jessa', 'Kelly']\n",
    "school = 'ABC School'\n",
    "\n",
    "print('Reverse string')\n",
    "for i in reversed('PYThonStr'):\n",
    "    print(i, end=' ')\n",
    "\n",
    "print('\\nReverse list')\n",
    "for i in reversed(['Emma', 'Jessa', 'Kelly']):\n",
    "    print(i, end=' ')"
   ]
  },
  {
   "cell_type": "markdown",
   "id": "d8387159",
   "metadata": {},
   "source": [
    "## Method Overloading\n",
    "\n",
    "<em><b>The process of calling the same method with different parameters is known as method overloading</b></em>.<b>Python does not support method overloading</b>. Python considers only the latest defined method even if you overload the method. Python will raise a TypeError if you overload the method."
   ]
  },
  {
   "cell_type": "code",
   "execution_count": 9,
   "id": "029a89ba",
   "metadata": {},
   "outputs": [
    {
     "ename": "TypeError",
     "evalue": "addition() missing 1 required positional argument: 'c'",
     "output_type": "error",
     "traceback": [
      "\u001b[1;31m---------------------------------------------------------------------------\u001b[0m",
      "\u001b[1;31mTypeError\u001b[0m                                 Traceback (most recent call last)",
      "\u001b[1;32m~\\AppData\\Local\\Temp\\ipykernel_1460\\3620966422.py\u001b[0m in \u001b[0;36m<module>\u001b[1;34m\u001b[0m\n\u001b[0;32m     10\u001b[0m \u001b[1;33m\u001b[0m\u001b[0m\n\u001b[0;32m     11\u001b[0m \u001b[1;31m# the below line shows an error\u001b[0m\u001b[1;33m\u001b[0m\u001b[1;33m\u001b[0m\u001b[0m\n\u001b[1;32m---> 12\u001b[1;33m \u001b[0maddition\u001b[0m\u001b[1;33m(\u001b[0m\u001b[1;36m4\u001b[0m\u001b[1;33m,\u001b[0m \u001b[1;36m5\u001b[0m\u001b[1;33m)\u001b[0m\u001b[1;33m\u001b[0m\u001b[1;33m\u001b[0m\u001b[0m\n\u001b[0m\u001b[0;32m     13\u001b[0m \u001b[1;33m\u001b[0m\u001b[0m\n\u001b[0;32m     14\u001b[0m \u001b[1;31m# This line will call the second product method\u001b[0m\u001b[1;33m\u001b[0m\u001b[1;33m\u001b[0m\u001b[0m\n",
      "\u001b[1;31mTypeError\u001b[0m: addition() missing 1 required positional argument: 'c'"
     ]
    }
   ],
   "source": [
    "def addition(a, b):\n",
    "    c = a + b\n",
    "    print(c)\n",
    "\n",
    "\n",
    "def addition(a, b, c):\n",
    "    d = a + b + c\n",
    "    print(d)\n",
    "\n",
    "\n",
    "# the below line shows an error\n",
    "addition(4, 5)\n",
    "\n",
    "# This line will call the second product method\n",
    "addition(3, 7, 5)\n"
   ]
  },
  {
   "cell_type": "code",
   "execution_count": 10,
   "id": "8bf0b0fd",
   "metadata": {},
   "outputs": [
    {
     "name": "stdout",
     "output_type": "stream",
     "text": [
      "15\n"
     ]
    }
   ],
   "source": [
    "def addition(a, b):\n",
    "    c = a + b\n",
    "    print(c)\n",
    "\n",
    "\n",
    "def addition(a, b, c):\n",
    "    d = a + b + c\n",
    "    print(d)\n",
    "\n",
    "\n",
    "# the below line shows an error\n",
    "# addition(4, 5)\n",
    "\n",
    "# This line will call the second product method\n",
    "addition(3, 7, 5)\n"
   ]
  },
  {
   "cell_type": "code",
   "execution_count": 11,
   "id": "6333b88e",
   "metadata": {},
   "outputs": [
    {
     "ename": "TypeError",
     "evalue": "addition() missing 1 required positional argument: 'c'",
     "output_type": "error",
     "traceback": [
      "\u001b[1;31m---------------------------------------------------------------------------\u001b[0m",
      "\u001b[1;31mTypeError\u001b[0m                                 Traceback (most recent call last)",
      "\u001b[1;32m~\\AppData\\Local\\Temp\\ipykernel_1460\\3923757528.py\u001b[0m in \u001b[0;36m<module>\u001b[1;34m\u001b[0m\n\u001b[0;32m     10\u001b[0m \u001b[1;33m\u001b[0m\u001b[0m\n\u001b[0;32m     11\u001b[0m \u001b[1;31m# the below line shows an error\u001b[0m\u001b[1;33m\u001b[0m\u001b[1;33m\u001b[0m\u001b[0m\n\u001b[1;32m---> 12\u001b[1;33m \u001b[0maddition\u001b[0m\u001b[1;33m(\u001b[0m\u001b[1;36m4\u001b[0m\u001b[1;33m,\u001b[0m \u001b[1;36m5\u001b[0m\u001b[1;33m)\u001b[0m\u001b[1;33m\u001b[0m\u001b[1;33m\u001b[0m\u001b[0m\n\u001b[0m\u001b[0;32m     13\u001b[0m \u001b[1;33m\u001b[0m\u001b[0m\n\u001b[0;32m     14\u001b[0m \u001b[1;31m# This line will call the second product method\u001b[0m\u001b[1;33m\u001b[0m\u001b[1;33m\u001b[0m\u001b[0m\n",
      "\u001b[1;31mTypeError\u001b[0m: addition() missing 1 required positional argument: 'c'"
     ]
    }
   ],
   "source": [
    "def addition(a, b):\n",
    "    c = a + b\n",
    "    print(c)\n",
    "\n",
    "\n",
    "def addition(a, b, c):\n",
    "    d = a + b + c\n",
    "    print(d)\n",
    "\n",
    "\n",
    "# the below line shows an error\n",
    "addition(4, 5)\n",
    "\n",
    "# This line will call the second product method\n",
    "#addition(3, 7, 5)\n"
   ]
  },
  {
   "cell_type": "markdown",
   "id": "405b8899",
   "metadata": {},
   "source": [
    "To overcome the above problem, we can use different ways to achieve the method overloading. In Python, to overload the class method, we need to write the method’s logic so that different code executes inside the function depending on the parameter passes.\n",
    "\n",
    "For example, the built-in function range() takes three parameters and produce different result depending upon the number of parameters passed to it."
   ]
  },
  {
   "cell_type": "code",
   "execution_count": 12,
   "id": "0b483db9",
   "metadata": {},
   "outputs": [
    {
     "name": "stdout",
     "output_type": "stream",
     "text": [
      "0, 1, 2, 3, 4, \n",
      "5, 6, 7, 8, 9, \n",
      "2, 4, 6, 8, 10, "
     ]
    }
   ],
   "source": [
    "for i in range(5): print(i, end=', ')\n",
    "print()\n",
    "for i in range(5, 10): print(i, end=', ')\n",
    "print()\n",
    "for i in range(2, 12, 2): print(i, end=', ')"
   ]
  },
  {
   "cell_type": "markdown",
   "id": "73c5deed",
   "metadata": {},
   "source": [
    "Let’s assume we have an area() method to calculate the area of a square and rectangle. The method will calculate the area depending upon the number of parameters passed to it.\n",
    "\n",
    "- If one parameter is passed, then the area of a square is calculated\n",
    "- If two parameters are passed, then the area of a rectangle is calculated."
   ]
  },
  {
   "cell_type": "code",
   "execution_count": 13,
   "id": "252bf405",
   "metadata": {},
   "outputs": [
    {
     "name": "stdout",
     "output_type": "stream",
     "text": [
      "Area of Square is: 25\n",
      "Area of Rectangle is: 15\n"
     ]
    }
   ],
   "source": [
    "class Shape:\n",
    "    # function with two default parameters\n",
    "    def area(self, a, b=0):\n",
    "        if b > 0:\n",
    "            print('Area of Rectangle is:', a * b)\n",
    "        else:\n",
    "            print('Area of Square is:', a ** 2)\n",
    "\n",
    "square = Shape()\n",
    "square.area(5)\n",
    "\n",
    "rectangle = Shape()\n",
    "rectangle.area(5, 3)\n"
   ]
  },
  {
   "cell_type": "markdown",
   "id": "f8a9ccb2",
   "metadata": {},
   "source": [
    "### Operator Overloading in Python\n",
    "\n",
    "Operator overloading means changing the default behavior of an operator depending on the operands (values) that we use. In other words, we can use the same operator for multiple purposes.\n",
    "\n",
    "For example, the `+` operator will perform an <b>arithmetic addition operation</b> when used with numbers. Likewise, it will perform <b>concatenation</b> when used with strings.\n",
    "\n",
    "The operator `+` is used to carry out different operations for distinct data types. This is one of the most simple occurrences of polymorphism in Python."
   ]
  },
  {
   "cell_type": "code",
   "execution_count": 14,
   "id": "3b9a4b0b",
   "metadata": {},
   "outputs": [
    {
     "name": "stdout",
     "output_type": "stream",
     "text": [
      "300\n",
      "JessRoy\n",
      "[10, 20, 30, 'jessa', 'emma', 'kelly']\n"
     ]
    }
   ],
   "source": [
    "# add 2 numbers\n",
    "print(100 + 200)\n",
    "\n",
    "# concatenate two strings\n",
    "print('Jess' + 'Roy')\n",
    "\n",
    "# merger two list\n",
    "print([10, 20, 30] + ['jessa', 'emma', 'kelly'])\n"
   ]
  },
  {
   "cell_type": "markdown",
   "id": "1d146055",
   "metadata": {},
   "source": [
    "#### Overloading + operator for custom objects\n",
    "Suppose we have two objects, and we want to add these two objects with a binary `+` operator. However, <b>it will throw an error if we perform addition because the compiler doesn’t add two objects</b>. See the following example for more details."
   ]
  },
  {
   "cell_type": "code",
   "execution_count": 15,
   "id": "06b9dccf",
   "metadata": {},
   "outputs": [
    {
     "ename": "TypeError",
     "evalue": "unsupported operand type(s) for +: 'Book' and 'Book'",
     "output_type": "error",
     "traceback": [
      "\u001b[1;31m---------------------------------------------------------------------------\u001b[0m",
      "\u001b[1;31mTypeError\u001b[0m                                 Traceback (most recent call last)",
      "\u001b[1;32m~\\AppData\\Local\\Temp\\ipykernel_1460\\2915488568.py\u001b[0m in \u001b[0;36m<module>\u001b[1;34m\u001b[0m\n\u001b[0;32m      8\u001b[0m \u001b[1;33m\u001b[0m\u001b[0m\n\u001b[0;32m      9\u001b[0m \u001b[1;31m# add two objects\u001b[0m\u001b[1;33m\u001b[0m\u001b[1;33m\u001b[0m\u001b[0m\n\u001b[1;32m---> 10\u001b[1;33m \u001b[0mprint\u001b[0m\u001b[1;33m(\u001b[0m\u001b[0mb1\u001b[0m \u001b[1;33m+\u001b[0m \u001b[0mb2\u001b[0m\u001b[1;33m)\u001b[0m\u001b[1;33m\u001b[0m\u001b[1;33m\u001b[0m\u001b[0m\n\u001b[0m",
      "\u001b[1;31mTypeError\u001b[0m: unsupported operand type(s) for +: 'Book' and 'Book'"
     ]
    }
   ],
   "source": [
    "class Book:\n",
    "    def __init__(self, pages):\n",
    "        self.pages = pages\n",
    "\n",
    "# creating two objects\n",
    "b1 = Book(400)\n",
    "b2 = Book(300)\n",
    "\n",
    "# add two objects\n",
    "print(b1 + b2)\n"
   ]
  },
  {
   "cell_type": "markdown",
   "id": "50a14da9",
   "metadata": {},
   "source": [
    "We can overload `+` operator to work with custom objects also. Python provides some <b>special or magic function</b> that is automatically invoked when associated with that particular operator.\n",
    "\n",
    "For example, when we use the `+` operator, the magic method `__add__()` is automatically invoked. Internally `+` operator is implemented by using `__add__()` method. We have to override this method in our class if you want to add two custom objects."
   ]
  },
  {
   "cell_type": "code",
   "execution_count": 19,
   "id": "491549a9",
   "metadata": {},
   "outputs": [
    {
     "name": "stdout",
     "output_type": "stream",
     "text": [
      "Total number of pages:  700\n"
     ]
    }
   ],
   "source": [
    "class Book:\n",
    "    def __init__(self, pages):\n",
    "        self.pages = pages\n",
    "\n",
    "    # Overloading + operator with magic method\n",
    "    def __add__(self, other):\n",
    "        return self.pages + other.pages\n",
    "\n",
    "b1 = Book(400)\n",
    "b2 = Book(300)\n",
    "print(\"Total number of pages: \", b1 + b2)\n"
   ]
  },
  {
   "cell_type": "markdown",
   "id": "fb7f166a",
   "metadata": {},
   "source": [
    "#### Overloading the `*` Operator\n",
    "\n",
    "The `*` operator is used to perform the multiplication. Let’s see how to overload it to calculate the salary of an employee for a specific period. Internally `*` operator is implemented by using the `__mul__()` method."
   ]
  },
  {
   "cell_type": "code",
   "execution_count": 20,
   "id": "62fa3ada",
   "metadata": {},
   "outputs": [
    {
     "name": "stdout",
     "output_type": "stream",
     "text": [
      "Worked for 50 days\n",
      "salary is:  40000\n"
     ]
    }
   ],
   "source": [
    "class Employee:\n",
    "    def __init__(self, name, salary):\n",
    "        self.name = name\n",
    "        self.salary = salary\n",
    "\n",
    "    def __mul__(self, timesheet):\n",
    "        print('Worked for', timesheet.days, 'days')\n",
    "        # calculate salary\n",
    "        return self.salary * timesheet.days\n",
    "\n",
    "\n",
    "class TimeSheet:\n",
    "    def __init__(self, name, days):\n",
    "        self.name = name\n",
    "        self.days = days\n",
    "\n",
    "\n",
    "emp = Employee(\"Jessa\", 800)\n",
    "timesheet = TimeSheet(\"Jessa\", 50)\n",
    "print(\"salary is: \", emp * timesheet)\n"
   ]
  },
  {
   "cell_type": "markdown",
   "id": "c38f746a",
   "metadata": {},
   "source": [
    "## Magic Methods\n",
    "In Python, there are different magic methods available to perform overloading operations. The below table shows the magic methods names to overload the mathematical operator, assignment operator, and relational operators in Python"
   ]
  },
  {
   "cell_type": "raw",
   "id": "3c0653ac",
   "metadata": {},
   "source": [
    "Operator Name\t              Symbol\t                Magic method\n",
    "Addition\t\t\t\t\t\t+\t\t\t\t\t__add__(self, other)\n",
    "Subtraction\t\t\t\t\t\t-\t\t\t\t\t__sub__(self, other)\n",
    "Multiplication\t\t\t\t\t*\t\t\t\t\t__mul__(self, other)\n",
    "Division\t\t\t\t\t\t/\t\t\t\t\t__div__(self, other)\n",
    "Floor Division\t\t\t\t\t//\t\t\t\t\t__floordiv__(self,other)\n",
    "Modulus\t\t\t\t\t\t\t%\t\t\t\t\t__mod__(self, other)\n",
    "Power\t\t\t\t\t\t\t**\t\t\t\t\t__pow__(self, other)\n",
    "Increment\t\t\t\t\t\t+=\t\t\t\t\t__iadd__(self, other)\n",
    "Decrement\t\t\t\t\t\t-=\t\t\t\t\t__isub__(self, other)\n",
    "Product\t\t\t\t\t\t\t*=\t\t\t\t\t__imul__(self, other)\n",
    "Division\t\t\t\t\t\t/=\t\t\t\t\t__idiv__(self, other)\n",
    "Modulus\t\t\t\t\t\t\t%=\t\t\t\t\t__imod__(self, other)\n",
    "Power\t\t\t\t\t\t\t**=\t\t\t\t\t__ipow__(self, other)\n",
    "Less than\t\t\t\t\t\t<\t\t\t\t\t__lt__(self, other)\n",
    "Greater than\t\t\t\t\t>\t\t\t\t\t__gt__(self, other)\n",
    "Less than or equal to\t\t\t<=\t\t\t\t\t__le__(self, other)\n",
    "Greater than or equal to\t\t>=\t\t\t\t\t__ge__(self, other)\n",
    "Equal to\t\t\t\t\t\t==\t\t\t\t\t__eq__(self, other)\n",
    "Not equal\t\t\t\t\t\t!=\t\t\t\t\t__ne__(self, other)"
   ]
  },
  {
   "cell_type": "code",
   "execution_count": null,
   "id": "d4221a71",
   "metadata": {},
   "outputs": [],
   "source": []
  }
 ],
 "metadata": {
  "kernelspec": {
   "display_name": "Python 3 (ipykernel)",
   "language": "python",
   "name": "python3"
  },
  "language_info": {
   "codemirror_mode": {
    "name": "ipython",
    "version": 3
   },
   "file_extension": ".py",
   "mimetype": "text/x-python",
   "name": "python",
   "nbconvert_exporter": "python",
   "pygments_lexer": "ipython3",
   "version": "3.9.13"
  }
 },
 "nbformat": 4,
 "nbformat_minor": 5
}
