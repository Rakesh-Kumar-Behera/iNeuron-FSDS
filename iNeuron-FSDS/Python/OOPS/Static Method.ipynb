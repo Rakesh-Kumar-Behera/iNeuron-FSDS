{
 "cells": [
  {
   "cell_type": "markdown",
   "id": "ae52390f",
   "metadata": {},
   "source": [
    "## Static Method"
   ]
  },
  {
   "cell_type": "markdown",
   "id": "5082d4ab",
   "metadata": {},
   "source": [
    "<b>Static methods</b>: A static method is a general utility method that performs a task in isolation. Inside this method, we don’t use instance or class variable because this static method doesn’t take any parameters like `self` and `cls`."
   ]
  },
  {
   "cell_type": "markdown",
   "id": "35ac231b",
   "metadata": {},
   "source": [
    "A static method is <b>bound to the class and not the object of the class</b>. Therefore, we can call it using the class name.\n",
    "\n",
    "A static method doesn’t have access to the class and instance variables because it does not receive an implicit first argument like `self` and `cls`. Therefore it <b>cannot modify the state of the object or class.</b>\n",
    "\n",
    "The class method can be called using `ClassName.method_name()` as well as by using an object of the class.\n",
    "\n",
    "we can reate staticmethod using the `@staticmethod` decorator and `staticmethod()` function"
   ]
  },
  {
   "cell_type": "code",
   "execution_count": 1,
   "id": "f01313e2",
   "metadata": {},
   "outputs": [
    {
     "name": "stdout",
     "output_type": "stream",
     "text": [
      "Inside static method 10\n",
      "Inside static method 10\n"
     ]
    }
   ],
   "source": [
    "class Employee:\n",
    "    @staticmethod\n",
    "    def sample(x):\n",
    "        print('Inside static method', x)\n",
    "\n",
    "# call static method\n",
    "Employee.sample(10)\n",
    "\n",
    "# can be called using object\n",
    "emp = Employee()\n",
    "emp.sample(10)"
   ]
  },
  {
   "cell_type": "markdown",
   "id": "6d38fbce",
   "metadata": {},
   "source": [
    "##### Define Static Method in Python\n",
    "Any method we create in a class will automatically be created as an instance method. We must explicitly tell Python that it is a static method using the `@staticmethod` decorator or `staticmethod()` function."
   ]
  },
  {
   "cell_type": "code",
   "execution_count": 2,
   "id": "0c6b1814",
   "metadata": {},
   "outputs": [],
   "source": [
    "#Create Static Method Using @staticmethod Decorator"
   ]
  },
  {
   "cell_type": "markdown",
   "id": "7983fbe0",
   "metadata": {},
   "source": [
    "Static methods are a special case of methods. Sometimes, you’ll write code that belongs to a class, but that doesn’t use the object itself at all. It is a utility method and doesn’t need an object (self parameter) to complete its operation. So we declare it as a static method. Also, we can call it from another method of a class."
   ]
  },
  {
   "cell_type": "code",
   "execution_count": 3,
   "id": "34ec2977",
   "metadata": {},
   "outputs": [
    {
     "name": "stdout",
     "output_type": "stream",
     "text": [
      "Completed task_1\n",
      "Completed task_2\n",
      "Completed task_3\n"
     ]
    }
   ],
   "source": [
    "class Employee(object):\n",
    "\n",
    "    def __init__(self, name, salary, project_name):\n",
    "        self.name = name\n",
    "        self.salary = salary\n",
    "        self.project_name = project_name\n",
    "\n",
    "    @staticmethod\n",
    "    def gather_requirement(project_name):\n",
    "        if project_name == 'ABC Project':\n",
    "            requirement = ['task_1', 'task_2', 'task_3']\n",
    "        else:\n",
    "            requirement = ['task_1']\n",
    "        return requirement\n",
    "\n",
    "    # instance method\n",
    "    def work(self):\n",
    "        # call static method from instance method\n",
    "        requirement = self.gather_requirement(self.project_name)\n",
    "        for task in requirement:\n",
    "            print('Completed', task)\n",
    "\n",
    "emp = Employee('Kelly', 12000, 'ABC Project')\n",
    "emp.work()\n"
   ]
  },
  {
   "cell_type": "code",
   "execution_count": 6,
   "id": "ee246889",
   "metadata": {},
   "outputs": [
    {
     "data": {
      "text/plain": [
       "['task_1', 'task_2', 'task_3']"
      ]
     },
     "execution_count": 6,
     "metadata": {},
     "output_type": "execute_result"
    }
   ],
   "source": [
    "emp.gather_requirement('ABC Project')"
   ]
  },
  {
   "cell_type": "code",
   "execution_count": 7,
   "id": "a0332aff",
   "metadata": {},
   "outputs": [
    {
     "name": "stdout",
     "output_type": "stream",
     "text": [
      "Completed task_1\n",
      "Completed task_2\n",
      "Completed task_3\n"
     ]
    }
   ],
   "source": [
    "emp.work()"
   ]
  },
  {
   "cell_type": "code",
   "execution_count": 8,
   "id": "917ce7d8",
   "metadata": {},
   "outputs": [
    {
     "name": "stdout",
     "output_type": "stream",
     "text": [
      "False\n",
      "True\n",
      "True\n"
     ]
    }
   ],
   "source": [
    "kelly = Employee('Kelly', 12000, 'ABC Project')\n",
    "jessa = Employee('Jessa', 7000, 'XYZ Project')\n",
    "\n",
    "# false\n",
    "# because seperate copy of instance method is created for each object\n",
    "print(kelly.work is jessa.work)\n",
    "\n",
    "# True\n",
    "# because only one copy is created\n",
    "# kelly and jess objects share the same methods\n",
    "print(kelly.gather_requirement is jessa.gather_requirement)\n",
    "\n",
    "# True\n",
    "print(kelly.gather_requirement is Employee.gather_requirement)"
   ]
  },
  {
   "cell_type": "markdown",
   "id": "b55f8ae2",
   "metadata": {},
   "source": [
    "### Advantages of a Static Method\n",
    "Here, the static method has the following advantages\n",
    "\n",
    "1. <b>Consume Less memory:</b> Instance methods are object too, and creating them has a cost. Having a static method avoids that. Let’s assume you have ten employee objects and if you create gather_requirement() as a instance method then Python have to create a ten copies of this method (seperate for each object) which will consume more memeory. On the other hand static method has only one copy per class.\n",
    "\n",
    "2. <b>To Write Utility functions:</b> Static methods have limited use because they don’t have access to the attributes of an object (instance variables) and class attributes (class variables). However, they can be helpful in utility such as conversion form one type to another. The parameters provided are enough to operate.\n",
    "\n",
    "3. <b>Readabiltity:</b> Seeing the `@staticmethod` at the top of the method, we know that the method does not depend on the object’s state or the class state."
   ]
  },
  {
   "cell_type": "markdown",
   "id": "175cad10",
   "metadata": {},
   "source": [
    "#### The staticmethod() function"
   ]
  },
  {
   "cell_type": "code",
   "execution_count": 9,
   "id": "39ef4352",
   "metadata": {},
   "outputs": [
    {
     "name": "stdout",
     "output_type": "stream",
     "text": [
      "Inside static method 10\n"
     ]
    }
   ],
   "source": [
    "class Employee:\n",
    "    def sample(x):\n",
    "        print('Inside static method', x)\n",
    "\n",
    "# convert to static method\n",
    "Employee.sample = staticmethod(Employee.sample)\n",
    "# call static method\n",
    "Employee.sample(10)"
   ]
  },
  {
   "cell_type": "markdown",
   "id": "dca5e293",
   "metadata": {},
   "source": [
    "### Call Static Method from Another Method"
   ]
  },
  {
   "cell_type": "code",
   "execution_count": 11,
   "id": "328ad91c",
   "metadata": {},
   "outputs": [
    {
     "name": "stdout",
     "output_type": "stream",
     "text": [
      "static method 1\n"
     ]
    }
   ],
   "source": [
    "class Test :\n",
    "    @staticmethod\n",
    "    def static_method_1():\n",
    "        print('static method 1')\n",
    "\n",
    "    @staticmethod\n",
    "    def static_method_2() :\n",
    "        Test.static_method_1()\n",
    "\n",
    "    @classmethod\n",
    "    def class_method_1(cls) :\n",
    "        cls.static_method_2()\n",
    "\n",
    "# call class method\n",
    "Test.class_method_1()"
   ]
  },
  {
   "cell_type": "code",
   "execution_count": 13,
   "id": "ec65fd38",
   "metadata": {},
   "outputs": [
    {
     "name": "stdout",
     "output_type": "stream",
     "text": [
      "static method 1\n"
     ]
    }
   ],
   "source": [
    "Test.static_method_2()"
   ]
  },
  {
   "cell_type": "code",
   "execution_count": null,
   "id": "1b0ec937",
   "metadata": {},
   "outputs": [],
   "source": []
  }
 ],
 "metadata": {
  "kernelspec": {
   "display_name": "Python 3 (ipykernel)",
   "language": "python",
   "name": "python3"
  },
  "language_info": {
   "codemirror_mode": {
    "name": "ipython",
    "version": 3
   },
   "file_extension": ".py",
   "mimetype": "text/x-python",
   "name": "python",
   "nbconvert_exporter": "python",
   "pygments_lexer": "ipython3",
   "version": "3.9.13"
  }
 },
 "nbformat": 4,
 "nbformat_minor": 5
}
