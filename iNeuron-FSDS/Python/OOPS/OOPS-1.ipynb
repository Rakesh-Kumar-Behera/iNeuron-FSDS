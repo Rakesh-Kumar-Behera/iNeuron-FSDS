{
 "cells": [
  {
   "cell_type": "markdown",
   "id": "1d5eee61-0eb1-441c-9f2c-2f0485d6de57",
   "metadata": {},
   "source": [
    "- class - is a blue print or code template for object creation\n",
    "- object - object is an instance of a class\n"
   ]
  },
  {
   "cell_type": "markdown",
   "id": "b5909e12-2c16-4020-b155-0704fa83d658",
   "metadata": {},
   "source": [
    "- Properties of object ---------> attribute, instance variable\n",
    "- functionality of object --------> menthods/function()"
   ]
  },
  {
   "cell_type": "code",
   "execution_count": 9,
   "id": "17eacc7b-879b-4c55-be50-7493e39cd3fd",
   "metadata": {},
   "outputs": [],
   "source": [
    "class Emp:\n",
    "    pass"
   ]
  },
  {
   "cell_type": "code",
   "execution_count": 10,
   "id": "2f076f08-1522-48f8-a69f-0bfff41a79a0",
   "metadata": {},
   "outputs": [],
   "source": [
    "#creating an object ---? objvar = ClassName()\n",
    "e = Emp()"
   ]
  },
  {
   "cell_type": "code",
   "execution_count": 11,
   "id": "c87d4193-f41c-4217-a99d-f85525200928",
   "metadata": {},
   "outputs": [
    {
     "data": {
      "text/plain": [
       "__main__.Emp"
      ]
     },
     "execution_count": 11,
     "metadata": {},
     "output_type": "execute_result"
    }
   ],
   "source": [
    "type(e)"
   ]
  },
  {
   "cell_type": "code",
   "execution_count": 12,
   "id": "04968d71-e881-47fb-817d-bb87f314240c",
   "metadata": {},
   "outputs": [
    {
     "name": "stdout",
     "output_type": "stream",
     "text": [
      "<class '__main__.Emp'>\n"
     ]
    }
   ],
   "source": [
    "print(type(e))"
   ]
  },
  {
   "cell_type": "code",
   "execution_count": 13,
   "id": "aea0e36b-2192-409a-ba47-58fff73534f1",
   "metadata": {},
   "outputs": [
    {
     "data": {
      "text/plain": [
       "140145470229472"
      ]
     },
     "execution_count": 13,
     "metadata": {},
     "output_type": "execute_result"
    }
   ],
   "source": [
    "id(e)"
   ]
  },
  {
   "cell_type": "code",
   "execution_count": 14,
   "id": "789e37ed-2d66-4a1f-a641-4b0220bd2b79",
   "metadata": {},
   "outputs": [],
   "source": [
    "class Robot:\n",
    "    \n",
    "    def introduce_self(self):\n",
    "        print(\"My name is \" + self.name)"
   ]
  },
  {
   "cell_type": "code",
   "execution_count": 15,
   "id": "7455951f-756b-4ced-879e-3ad19b88b46d",
   "metadata": {},
   "outputs": [],
   "source": [
    "r1 = Robot()"
   ]
  },
  {
   "cell_type": "code",
   "execution_count": 17,
   "id": "6b56c1f8-3672-49aa-83fe-d82f03b20805",
   "metadata": {},
   "outputs": [],
   "source": [
    "r1.name = \"chitti\""
   ]
  },
  {
   "cell_type": "code",
   "execution_count": 18,
   "id": "282afc0d-b64a-4916-9ba1-0c69ee095998",
   "metadata": {},
   "outputs": [
    {
     "data": {
      "text/plain": [
       "'chitti'"
      ]
     },
     "execution_count": 18,
     "metadata": {},
     "output_type": "execute_result"
    }
   ],
   "source": [
    "r1.name"
   ]
  },
  {
   "cell_type": "code",
   "execution_count": 20,
   "id": "c40b15db-e390-460c-8e38-0005d0854496",
   "metadata": {},
   "outputs": [
    {
     "name": "stdout",
     "output_type": "stream",
     "text": [
      "My name is chitti\n"
     ]
    }
   ],
   "source": [
    "r1.introduce_self()"
   ]
  },
  {
   "cell_type": "code",
   "execution_count": 21,
   "id": "53cb6e81-99f0-4302-a806-e946b15b9f04",
   "metadata": {},
   "outputs": [],
   "source": [
    "r2 = Robot()"
   ]
  },
  {
   "cell_type": "code",
   "execution_count": 22,
   "id": "c340e79a-7c00-4793-a5f5-ea7449386d39",
   "metadata": {},
   "outputs": [],
   "source": [
    "r2.name = \"robo9\""
   ]
  },
  {
   "cell_type": "code",
   "execution_count": 23,
   "id": "c94118c5-2a95-4e73-97b2-dd743f858d7f",
   "metadata": {},
   "outputs": [
    {
     "name": "stdout",
     "output_type": "stream",
     "text": [
      "My name is robo9\n"
     ]
    }
   ],
   "source": [
    "r2.introduce_self()"
   ]
  },
  {
   "cell_type": "code",
   "execution_count": 24,
   "id": "72ecb15f-a058-4e60-ac4e-7ff93a7e5f12",
   "metadata": {},
   "outputs": [
    {
     "data": {
      "text/plain": [
       "['__class__',\n",
       " '__delattr__',\n",
       " '__dict__',\n",
       " '__dir__',\n",
       " '__doc__',\n",
       " '__eq__',\n",
       " '__format__',\n",
       " '__ge__',\n",
       " '__getattribute__',\n",
       " '__gt__',\n",
       " '__hash__',\n",
       " '__init__',\n",
       " '__init_subclass__',\n",
       " '__le__',\n",
       " '__lt__',\n",
       " '__module__',\n",
       " '__ne__',\n",
       " '__new__',\n",
       " '__reduce__',\n",
       " '__reduce_ex__',\n",
       " '__repr__',\n",
       " '__setattr__',\n",
       " '__sizeof__',\n",
       " '__str__',\n",
       " '__subclasshook__',\n",
       " '__weakref__',\n",
       " 'introduce_self',\n",
       " 'name']"
      ]
     },
     "execution_count": 24,
     "metadata": {},
     "output_type": "execute_result"
    }
   ],
   "source": [
    "dir(r1)"
   ]
  },
  {
   "cell_type": "code",
   "execution_count": 25,
   "id": "a2a62e9e-c3a6-4a00-8fe2-c41e257a2ae1",
   "metadata": {},
   "outputs": [],
   "source": [
    "r3 = Robot()"
   ]
  },
  {
   "cell_type": "code",
   "execution_count": 26,
   "id": "8e036aba-4db5-4da4-b151-33d158b6d620",
   "metadata": {},
   "outputs": [
    {
     "ename": "AttributeError",
     "evalue": "'Robot' object has no attribute 'name'",
     "output_type": "error",
     "traceback": [
      "\u001b[0;31m---------------------------------------------------------------------------\u001b[0m",
      "\u001b[0;31mAttributeError\u001b[0m                            Traceback (most recent call last)",
      "Cell \u001b[0;32mIn [26], line 1\u001b[0m\n\u001b[0;32m----> 1\u001b[0m \u001b[43mr3\u001b[49m\u001b[38;5;241;43m.\u001b[39;49m\u001b[43mintroduce_self\u001b[49m\u001b[43m(\u001b[49m\u001b[43m)\u001b[49m\n",
      "Cell \u001b[0;32mIn [14], line 4\u001b[0m, in \u001b[0;36mRobot.introduce_self\u001b[0;34m(self)\u001b[0m\n\u001b[1;32m      3\u001b[0m \u001b[38;5;28;01mdef\u001b[39;00m \u001b[38;5;21mintroduce_self\u001b[39m(\u001b[38;5;28mself\u001b[39m):\n\u001b[0;32m----> 4\u001b[0m     \u001b[38;5;28mprint\u001b[39m(\u001b[38;5;124m\"\u001b[39m\u001b[38;5;124mMy name is \u001b[39m\u001b[38;5;124m\"\u001b[39m \u001b[38;5;241m+\u001b[39m \u001b[38;5;28;43mself\u001b[39;49m\u001b[38;5;241;43m.\u001b[39;49m\u001b[43mname\u001b[49m)\n",
      "\u001b[0;31mAttributeError\u001b[0m: 'Robot' object has no attribute 'name'"
     ]
    }
   ],
   "source": [
    "r3.introduce_self() #r3 object does not have a name associated with it"
   ]
  },
  {
   "cell_type": "markdown",
   "id": "fc0e856c-3949-48db-a000-43266ee85f08",
   "metadata": {},
   "source": [
    "#### Constructor - the `__init__()`"
   ]
  },
  {
   "cell_type": "markdown",
   "id": "78d03d74-3b21-4283-8cdf-768e9fd07c62",
   "metadata": {},
   "source": [
    "> All classes have a function called `__init__()`, which is always executed when the class is being initiated.\n",
    "\n",
    "> Use the `__init__()` function to assign values to object properties, or other operations that are necessary to do when the object is being created:"
   ]
  },
  {
   "cell_type": "code",
   "execution_count": 27,
   "id": "89b39581-2630-43c2-b486-c4c5b894777c",
   "metadata": {},
   "outputs": [
    {
     "name": "stdout",
     "output_type": "stream",
     "text": [
      "John\n",
      "36\n"
     ]
    }
   ],
   "source": [
    "class Person:\n",
    "    def __init__(self, name, age):\n",
    "        self.name = name\n",
    "        self.age = age\n",
    "\n",
    "p1 = Person(\"John\", 36)\n",
    "\n",
    "print(p1.name)\n",
    "print(p1.age)\n"
   ]
  },
  {
   "cell_type": "markdown",
   "id": "efae97a3-df9d-4bde-8141-ee27b5791995",
   "metadata": {},
   "source": [
    "- Note: The __init__() function is called automatically every time the class is being used to create a new object."
   ]
  },
  {
   "cell_type": "markdown",
   "id": "60c320c2-950f-40b3-a61e-12190b12f087",
   "metadata": {},
   "source": [
    "#### The `__str__()` Function\n",
    "> The `__str__()` function controls what should be returned when the class object is represented as a string.\n",
    "\n",
    "> If the `__str__()` function is not set, the string representation of the object is returned:"
   ]
  },
  {
   "cell_type": "code",
   "execution_count": 29,
   "id": "e25d5be7-d767-4125-8868-ce171b8cf263",
   "metadata": {},
   "outputs": [
    {
     "name": "stdout",
     "output_type": "stream",
     "text": [
      "<__main__.Person object at 0x7f76243ec8b0>\n"
     ]
    }
   ],
   "source": [
    "class Person:\n",
    "    def __init__(self, name, age):\n",
    "        self.name = name\n",
    "        self.age = age\n",
    "\n",
    "p1 = Person(\"John\", 36)\n",
    "\n",
    "print(p1) #The string representation of an object WITHOUT the __str__() function:"
   ]
  },
  {
   "cell_type": "code",
   "execution_count": 31,
   "id": "64ca90cb-6426-4383-8429-3ac39f5b0578",
   "metadata": {},
   "outputs": [
    {
     "name": "stdout",
     "output_type": "stream",
     "text": [
      "John is 36 years old\n"
     ]
    }
   ],
   "source": [
    "#The string representation of an object WITH the __str__() function:\n",
    "\n",
    "class Person:\n",
    "    def __init__(self, name, age):\n",
    "        self.name = name\n",
    "        self.age = age\n",
    "    \n",
    "    def __str__(self):\n",
    "        return f\"{self.name} is {self.age} years old\"\n",
    "\n",
    "p1 = Person(\"John\", 36)\n",
    "\n",
    "print(p1)\n"
   ]
  },
  {
   "cell_type": "code",
   "execution_count": 33,
   "id": "2b7a0909-91cc-4aa9-88f4-2cb663f7fd32",
   "metadata": {},
   "outputs": [
    {
     "name": "stdout",
     "output_type": "stream",
     "text": [
      "Hello!, my name is John\n"
     ]
    }
   ],
   "source": [
    "class Person:\n",
    "    \n",
    "    def __init__(self, name, age):\n",
    "        self.name = name\n",
    "        self.age = age\n",
    "    \n",
    "    def myfunc(self):\n",
    "        print(\"Hello!, my name is \" + self.name)\n",
    "\n",
    "p1 = Person(\"John\", 36)\n",
    "p1.myfunc()"
   ]
  },
  {
   "cell_type": "markdown",
   "id": "d444cfd1-bd92-4237-82c1-df62908fbbb9",
   "metadata": {},
   "source": [
    "##### The self Parameter\n",
    "> The self parameter is a reference to the current instance of the class, and is used to access variables that belongs to the class.\n",
    "\n",
    "> It does not have to be named self , you can call it whatever you like, but it has to be the first parameter of any function in the class:"
   ]
  },
  {
   "cell_type": "code",
   "execution_count": 34,
   "id": "89b6acf3-2504-4c6d-9d17-f94cb6601026",
   "metadata": {},
   "outputs": [
    {
     "name": "stdout",
     "output_type": "stream",
     "text": [
      "Hello my name is John\n"
     ]
    }
   ],
   "source": [
    "class Person:\n",
    "    \n",
    "    def __init__(mysillyobject, name, age):\n",
    "        mysillyobject.name = name\n",
    "        mysillyobject.age = age\n",
    "    \n",
    "    def myfunc(abc):\n",
    "        print(\"Hello my name is \" + abc.name)\n",
    "\n",
    "p1 = Person(\"John\", 36)\n",
    "p1.myfunc()"
   ]
  },
  {
   "cell_type": "code",
   "execution_count": 35,
   "id": "870c512c-9fd5-4e42-93d9-97b9db7d8f1e",
   "metadata": {},
   "outputs": [],
   "source": [
    "#Set the age of p1 to 40:\n",
    "\n",
    "p1.age = 40"
   ]
  },
  {
   "cell_type": "code",
   "execution_count": 36,
   "id": "34e3f0e9-e62f-4958-aa85-5431be027765",
   "metadata": {},
   "outputs": [
    {
     "data": {
      "text/plain": [
       "40"
      ]
     },
     "execution_count": 36,
     "metadata": {},
     "output_type": "execute_result"
    }
   ],
   "source": [
    "p1.age"
   ]
  },
  {
   "cell_type": "code",
   "execution_count": 39,
   "id": "09e97ee6-ae13-4998-b117-32bd12cf0438",
   "metadata": {},
   "outputs": [],
   "source": [
    "#ading new attributes\n",
    "p1.gender = \"male\""
   ]
  },
  {
   "cell_type": "code",
   "execution_count": 40,
   "id": "fcdd858f-6337-452d-8392-fe0bf3d89fc2",
   "metadata": {},
   "outputs": [
    {
     "data": {
      "text/plain": [
       "'male'"
      ]
     },
     "execution_count": 40,
     "metadata": {},
     "output_type": "execute_result"
    }
   ],
   "source": [
    "p1.gender"
   ]
  },
  {
   "cell_type": "code",
   "execution_count": 41,
   "id": "f73a26c5-7380-4707-8dda-a6867724c34e",
   "metadata": {},
   "outputs": [],
   "source": [
    "# Delete the age property from the p1 object:\n",
    "\n",
    "del p1.gender\n"
   ]
  },
  {
   "cell_type": "code",
   "execution_count": 42,
   "id": "e6ac6430-263a-426c-a92d-e12692d770fa",
   "metadata": {},
   "outputs": [
    {
     "ename": "AttributeError",
     "evalue": "'Person' object has no attribute 'gender'",
     "output_type": "error",
     "traceback": [
      "\u001b[0;31m---------------------------------------------------------------------------\u001b[0m",
      "\u001b[0;31mAttributeError\u001b[0m                            Traceback (most recent call last)",
      "Cell \u001b[0;32mIn [42], line 1\u001b[0m\n\u001b[0;32m----> 1\u001b[0m \u001b[43mp1\u001b[49m\u001b[38;5;241;43m.\u001b[39;49m\u001b[43mgender\u001b[49m\n",
      "\u001b[0;31mAttributeError\u001b[0m: 'Person' object has no attribute 'gender'"
     ]
    }
   ],
   "source": [
    "p1.gender"
   ]
  },
  {
   "cell_type": "code",
   "execution_count": 1,
   "id": "314a35d3-06ae-4d77-b9cb-80c327407136",
   "metadata": {},
   "outputs": [],
   "source": [
    "class Robot:\n",
    "    \n",
    "    def __init__(self,name,color,weight):\n",
    "        self.name = name\n",
    "        self.color = color\n",
    "        self.weight = weight\n",
    "        \n",
    "    def introduce_self(self):\n",
    "        print(\"My name is \" + self.name)\n",
    "        "
   ]
  },
  {
   "cell_type": "code",
   "execution_count": 2,
   "id": "da8d4add-8a15-4786-87fa-941c514fbdbb",
   "metadata": {},
   "outputs": [],
   "source": [
    "r1 = Robot(\"abc\" , \"red\" , 30)"
   ]
  },
  {
   "cell_type": "code",
   "execution_count": 3,
   "id": "8c6df79d-4b21-405b-8e4c-a48e5f15b442",
   "metadata": {},
   "outputs": [],
   "source": [
    "r2 = Robot(\"pqr\" , \"blue\" , 40)"
   ]
  },
  {
   "cell_type": "code",
   "execution_count": 4,
   "id": "8c9c098d-2157-44ed-82cb-7e0e774be4f5",
   "metadata": {},
   "outputs": [
    {
     "data": {
      "text/plain": [
       "'red'"
      ]
     },
     "execution_count": 4,
     "metadata": {},
     "output_type": "execute_result"
    }
   ],
   "source": [
    "r1.color"
   ]
  },
  {
   "cell_type": "code",
   "execution_count": 5,
   "id": "77e5bf78-a9cc-4dc0-871d-66bffa76e860",
   "metadata": {},
   "outputs": [
    {
     "data": {
      "text/plain": [
       "'pqr'"
      ]
     },
     "execution_count": 5,
     "metadata": {},
     "output_type": "execute_result"
    }
   ],
   "source": [
    "r2.name"
   ]
  },
  {
   "cell_type": "code",
   "execution_count": 7,
   "id": "77541595-2ff9-43fb-9b59-16a0f379220e",
   "metadata": {},
   "outputs": [
    {
     "name": "stdout",
     "output_type": "stream",
     "text": [
      "My name is abc\n"
     ]
    }
   ],
   "source": [
    "r1.introduce_self()"
   ]
  },
  {
   "cell_type": "code",
   "execution_count": 8,
   "id": "1f34a6af-0161-46c3-b51d-195f6f7a4115",
   "metadata": {},
   "outputs": [
    {
     "data": {
      "text/plain": [
       "40"
      ]
     },
     "execution_count": 8,
     "metadata": {},
     "output_type": "execute_result"
    }
   ],
   "source": [
    "r2.weight"
   ]
  },
  {
   "cell_type": "code",
   "execution_count": 10,
   "id": "0307d488-f4ff-4a7b-af12-3a0321a73f27",
   "metadata": {},
   "outputs": [],
   "source": [
    "class Person:\n",
    "    \n",
    "    def __init__(self,name,gender,profession):\n",
    "        self.name = name\n",
    "        self.gender = gender\n",
    "        self.profession = profession\n",
    "        \n",
    "    def show(self):\n",
    "        print('Name' , self.name, 'Gender' , self.gender , \"Profession\" , self.profession)\n",
    "    \n",
    "    def work(self):\n",
    "        print(self.name, 'working as a' ,self.profession)"
   ]
  },
  {
   "cell_type": "code",
   "execution_count": 12,
   "id": "b00ac36c-523e-4826-9e8f-a9b04ad1ac09",
   "metadata": {},
   "outputs": [],
   "source": [
    "p1 = Person('Rakesh' , 'Male' , 'Engineer')"
   ]
  },
  {
   "cell_type": "code",
   "execution_count": 13,
   "id": "0886f89f-2e58-48f5-b243-a64ae959b93a",
   "metadata": {},
   "outputs": [
    {
     "name": "stdout",
     "output_type": "stream",
     "text": [
      "Name Rakesh Gender Male Profession Engineer\n"
     ]
    }
   ],
   "source": [
    "p1.show()"
   ]
  },
  {
   "cell_type": "code",
   "execution_count": 14,
   "id": "db6b6d57-eb49-4c75-9a52-cfe93013fe1e",
   "metadata": {},
   "outputs": [
    {
     "name": "stdout",
     "output_type": "stream",
     "text": [
      "Rakesh working as a Engineer\n"
     ]
    }
   ],
   "source": [
    "p1.work()"
   ]
  },
  {
   "cell_type": "code",
   "execution_count": 15,
   "id": "4d6e7a97-3b6e-4caf-8e81-37e3cc1e850f",
   "metadata": {},
   "outputs": [
    {
     "data": {
      "text/plain": [
       "['__class__',\n",
       " '__delattr__',\n",
       " '__dict__',\n",
       " '__dir__',\n",
       " '__doc__',\n",
       " '__eq__',\n",
       " '__format__',\n",
       " '__ge__',\n",
       " '__getattribute__',\n",
       " '__gt__',\n",
       " '__hash__',\n",
       " '__init__',\n",
       " '__init_subclass__',\n",
       " '__le__',\n",
       " '__lt__',\n",
       " '__module__',\n",
       " '__ne__',\n",
       " '__new__',\n",
       " '__reduce__',\n",
       " '__reduce_ex__',\n",
       " '__repr__',\n",
       " '__setattr__',\n",
       " '__sizeof__',\n",
       " '__str__',\n",
       " '__subclasshook__',\n",
       " '__weakref__',\n",
       " 'gender',\n",
       " 'name',\n",
       " 'profession',\n",
       " 'show',\n",
       " 'work']"
      ]
     },
     "execution_count": 15,
     "metadata": {},
     "output_type": "execute_result"
    }
   ],
   "source": [
    "dir(p1)"
   ]
  },
  {
   "cell_type": "code",
   "execution_count": 16,
   "id": "18c93731-1f02-48f7-9920-b51802df89f8",
   "metadata": {},
   "outputs": [],
   "source": [
    "class Emp:\n",
    "    \n",
    "    def __init__(self):\n",
    "        print(id(self))\n",
    "        self.age = 25\n",
    "        self.name = 'Raka'\n",
    "        self.salary = 50000"
   ]
  },
  {
   "cell_type": "code",
   "execution_count": 17,
   "id": "3f2c1611-dfe2-4b4d-9df8-d197df733f82",
   "metadata": {},
   "outputs": [
    {
     "name": "stdout",
     "output_type": "stream",
     "text": [
      "139815193937472\n"
     ]
    }
   ],
   "source": [
    "e1 = Emp()"
   ]
  },
  {
   "cell_type": "code",
   "execution_count": 18,
   "id": "7e69008e-7626-4b2d-94c2-663b9bb4542f",
   "metadata": {},
   "outputs": [
    {
     "data": {
      "text/plain": [
       "50000"
      ]
     },
     "execution_count": 18,
     "metadata": {},
     "output_type": "execute_result"
    }
   ],
   "source": [
    "e1.salary"
   ]
  },
  {
   "cell_type": "code",
   "execution_count": 19,
   "id": "fd424020-a7b3-4ccc-bf1d-fedb8ff35e04",
   "metadata": {},
   "outputs": [],
   "source": [
    "e1.weight = 87"
   ]
  },
  {
   "cell_type": "code",
   "execution_count": 20,
   "id": "79943cb8-1a60-44d7-9301-14efbc3d3db5",
   "metadata": {},
   "outputs": [
    {
     "data": {
      "text/plain": [
       "87"
      ]
     },
     "execution_count": 20,
     "metadata": {},
     "output_type": "execute_result"
    }
   ],
   "source": [
    "e1.weight"
   ]
  },
  {
   "cell_type": "code",
   "execution_count": 27,
   "id": "8be8f898-f433-43f1-a60b-b2c1537dcccb",
   "metadata": {},
   "outputs": [],
   "source": [
    "#Area of a circle\n",
    "import math\n",
    "class Circle:\n",
    "    \n",
    "    def __init__(self, radius):\n",
    "        self.radius = radius\n",
    "        \n",
    "    def area(self):\n",
    "        print(f\"Area of Circle = {self.radius * self.radius * math.pi }\")\n",
    "    \n",
    "    def circumference(self):\n",
    "        print(f\"Circumference of the circle = {2* math.pi * self.radius}\")"
   ]
  },
  {
   "cell_type": "code",
   "execution_count": 28,
   "id": "5a517d28-39df-4fd6-b1f4-d39dea853475",
   "metadata": {},
   "outputs": [],
   "source": [
    "c1 = Circle(7)"
   ]
  },
  {
   "cell_type": "code",
   "execution_count": 29,
   "id": "eece23bf-a552-454d-a6ae-1f782a0dcd92",
   "metadata": {},
   "outputs": [
    {
     "name": "stdout",
     "output_type": "stream",
     "text": [
      "Area of Circle = 153.93804002589985\n"
     ]
    }
   ],
   "source": [
    "c1.area()"
   ]
  },
  {
   "cell_type": "code",
   "execution_count": 30,
   "id": "b77cb515-ed00-4278-a756-3dd558cfec33",
   "metadata": {},
   "outputs": [
    {
     "name": "stdout",
     "output_type": "stream",
     "text": [
      "Circumference of the circle = 43.982297150257104\n"
     ]
    }
   ],
   "source": [
    "c1.circumference()"
   ]
  },
  {
   "cell_type": "code",
   "execution_count": 1,
   "id": "dc267488-a303-4c31-ab87-3dd609d2bc26",
   "metadata": {},
   "outputs": [],
   "source": [
    "class BankAccount:\n",
    "    \n",
    "    def __init__(self,accountNum, name, balance):\n",
    "        self.accountNum = accountNum\n",
    "        self.name = name\n",
    "        self.balance = balance\n",
    "        \n",
    "    def deposit(self,amount):\n",
    "        self.balance = self.balance + amount\n",
    "        \n",
    "    def withdraw(self,amount):\n",
    "        self.balance = self.balance - amount\n",
    "        \n",
    "    def display(self):\n",
    "        print(f\"Account number : {self.accountNum} , Name = {self.name} , Balance = {self.balance}\")\n",
    "        \n",
    "    def __str__(self):\n",
    "        return \"This is the Bank Account class\" "
   ]
  },
  {
   "cell_type": "code",
   "execution_count": 2,
   "id": "b8ee4f25-986c-4b96-a605-4fc56be2d92b",
   "metadata": {},
   "outputs": [],
   "source": [
    "b1 = BankAccount(231144,'Rakesh',5000)"
   ]
  },
  {
   "cell_type": "code",
   "execution_count": 35,
   "id": "89f3c835-f7c7-4e0c-a1cc-ace08dd43bca",
   "metadata": {},
   "outputs": [],
   "source": [
    "b1.withdraw(2000)"
   ]
  },
  {
   "cell_type": "code",
   "execution_count": 37,
   "id": "1618a76d-e2c4-4b83-a37b-fc85f8465197",
   "metadata": {},
   "outputs": [
    {
     "name": "stdout",
     "output_type": "stream",
     "text": [
      "Account number : 231144 , Name = Rakesh , Balance = 3000\n"
     ]
    }
   ],
   "source": [
    "b1.display()"
   ]
  },
  {
   "cell_type": "code",
   "execution_count": 38,
   "id": "962e4dd0-cb24-4b8c-bba9-072a149eba1c",
   "metadata": {},
   "outputs": [],
   "source": [
    "b1.deposit(6500)"
   ]
  },
  {
   "cell_type": "code",
   "execution_count": 39,
   "id": "d80dc762-e337-4070-a5df-73c753b886e8",
   "metadata": {},
   "outputs": [
    {
     "name": "stdout",
     "output_type": "stream",
     "text": [
      "Account number : 231144 , Name = Rakesh , Balance = 9500\n"
     ]
    }
   ],
   "source": [
    "b1.display()"
   ]
  },
  {
   "cell_type": "code",
   "execution_count": 3,
   "id": "78ae694d-f460-4622-ba1f-5dd4e7c65b86",
   "metadata": {},
   "outputs": [
    {
     "name": "stdout",
     "output_type": "stream",
     "text": [
      "This is the Bank Account class\n"
     ]
    }
   ],
   "source": [
    "print(b1)"
   ]
  },
  {
   "cell_type": "code",
   "execution_count": 14,
   "id": "ae3eee7c-aad0-477a-ad6d-ad0d17f4d668",
   "metadata": {},
   "outputs": [],
   "source": [
    "# with try and except\n",
    "\n",
    "class Student:\n",
    "    \n",
    "    def __init__(self,name,rollno,joining_data,current_topic):\n",
    "        self.name = name\n",
    "        self.rollno = rollno\n",
    "        self.joining_data = joining_data\n",
    "        self.current_topic = current_topic\n",
    "        \n",
    "    def cur_topic(self):\n",
    "        print(\"Current topic discussed in class is\", self.current_topic)\n",
    "        \n",
    "    def stu_rollno(self):\n",
    "        \n",
    "        try:\n",
    "            if type(self.rollno) == str:\n",
    "                print(\"do nothing\")\n",
    "                \n",
    "            else :\n",
    "                return str(self.rollno)\n",
    "        except Exception as e:\n",
    "            print(\"This is my error message:\",e)\n",
    "                  \n",
    "    def duration(self,current_date):\n",
    "         print(\"Duration of student in my class is \", current_date - self.joining_data)\n",
    "                  \n",
    "    def __str__(self):\n",
    "          return \"This is student Class\"\n",
    "            "
   ]
  },
  {
   "cell_type": "code",
   "execution_count": 6,
   "id": "f2daf930-4400-4d68-b61b-7d19213dcaf0",
   "metadata": {},
   "outputs": [],
   "source": [
    "s1 = Student(\"Rakesh\", 47, 2021 , \"FSDS\")"
   ]
  },
  {
   "cell_type": "code",
   "execution_count": 7,
   "id": "948d4b8b-5f9a-4b47-89e9-495b3eb0c0dd",
   "metadata": {},
   "outputs": [
    {
     "name": "stdout",
     "output_type": "stream",
     "text": [
      "This is student Class\n"
     ]
    }
   ],
   "source": [
    "print(s1)"
   ]
  },
  {
   "cell_type": "code",
   "execution_count": 9,
   "id": "d303618a-8a95-4fb8-8cc2-404df5947dc5",
   "metadata": {},
   "outputs": [
    {
     "name": "stdout",
     "output_type": "stream",
     "text": [
      "Duration of student in my class is  2\n"
     ]
    }
   ],
   "source": [
    "s1.duration(2023)"
   ]
  },
  {
   "cell_type": "code",
   "execution_count": 10,
   "id": "dfe53646-e016-4cb5-a1cc-92226a78fe40",
   "metadata": {},
   "outputs": [
    {
     "data": {
      "text/plain": [
       "'47'"
      ]
     },
     "execution_count": 10,
     "metadata": {},
     "output_type": "execute_result"
    }
   ],
   "source": [
    "s1.stu_rollno()"
   ]
  },
  {
   "cell_type": "code",
   "execution_count": 15,
   "id": "9375e1c3-38c9-44f4-adfa-3b35153e1302",
   "metadata": {},
   "outputs": [
    {
     "name": "stdout",
     "output_type": "stream",
     "text": [
      "Current topic discussed in class  is  FSDS\n"
     ]
    }
   ],
   "source": [
    "s1.cur_topic()"
   ]
  },
  {
   "cell_type": "code",
   "execution_count": 30,
   "id": "199be21e-5e04-4ccb-a8fe-39ee4abc56e8",
   "metadata": {},
   "outputs": [
    {
     "name": "stdin",
     "output_type": "stream",
     "text": [
      "Num 1 =  5\n",
      "Num 2 =  1\n"
     ]
    }
   ],
   "source": [
    "#Calculator\n",
    "\n",
    "class Calculator:\n",
    "    \n",
    "    def __init__(self, a , b):\n",
    "        self.num1 = a \n",
    "        self.num2 = b\n",
    "        \n",
    "    def __str__(self):\n",
    "        return \"This is the Calculator to persorm arithmatic Operation\"\n",
    "    \n",
    "    def add(self):\n",
    "        return self.num1 + self.num2\n",
    "    \n",
    "    def subtract(self):\n",
    "        return self.num1 - self.num2\n",
    "    \n",
    "    def multiply(self):\n",
    "        return self.num1 + self.num2\n",
    "    \n",
    "    def divide(self):\n",
    "        \n",
    "        try:\n",
    "            return self.num1 / self.num2\n",
    "            \n",
    "        except ZeroDivisionError as e:\n",
    "            print(\"Error : \", e)\n",
    "            \n",
    "a = int(input(\"Num 1 = \"))\n",
    "b = int(input(\"Num 2 = \"))\n",
    "            \n",
    "c1 = Calculator(a,b)"
   ]
  },
  {
   "cell_type": "code",
   "execution_count": 20,
   "id": "4993ecdb-4b16-4c57-861c-6011d460d268",
   "metadata": {},
   "outputs": [
    {
     "data": {
      "text/plain": [
       "25"
      ]
     },
     "execution_count": 20,
     "metadata": {},
     "output_type": "execute_result"
    }
   ],
   "source": [
    "c1.add()"
   ]
  },
  {
   "cell_type": "code",
   "execution_count": 21,
   "id": "33e6330a-5606-4808-a1b6-ebbddc6a839b",
   "metadata": {},
   "outputs": [
    {
     "data": {
      "text/plain": [
       "15"
      ]
     },
     "execution_count": 21,
     "metadata": {},
     "output_type": "execute_result"
    }
   ],
   "source": [
    "c1.subtract()"
   ]
  },
  {
   "cell_type": "code",
   "execution_count": 31,
   "id": "36402418-25f4-4986-9a3e-563d7b91a623",
   "metadata": {},
   "outputs": [
    {
     "data": {
      "text/plain": [
       "5.0"
      ]
     },
     "execution_count": 31,
     "metadata": {},
     "output_type": "execute_result"
    }
   ],
   "source": [
    "c1.divide()"
   ]
  },
  {
   "cell_type": "code",
   "execution_count": 32,
   "id": "39f6a3c7-77a8-4291-9818-0a74603e59ef",
   "metadata": {},
   "outputs": [],
   "source": [
    "#### Default Constructor\n",
    "\n",
    "class Student:\n",
    "    \n",
    "    def who(self):\n",
    "        print(\"I am a student\")"
   ]
  },
  {
   "cell_type": "code",
   "execution_count": 33,
   "id": "43d0db1f-3369-45da-b7dd-fd605eaa3267",
   "metadata": {},
   "outputs": [],
   "source": [
    "s1 = Student()"
   ]
  },
  {
   "cell_type": "code",
   "execution_count": 34,
   "id": "62e5b009-a1e4-4ec1-aab7-2b54332358c7",
   "metadata": {},
   "outputs": [
    {
     "name": "stdout",
     "output_type": "stream",
     "text": [
      "I am a student\n"
     ]
    }
   ],
   "source": [
    "s1.who()"
   ]
  },
  {
   "cell_type": "code",
   "execution_count": 35,
   "id": "9da2bd80-133b-4c60-909d-0dfb4296afe6",
   "metadata": {},
   "outputs": [
    {
     "data": {
      "text/plain": [
       "['__class__',\n",
       " '__delattr__',\n",
       " '__dict__',\n",
       " '__dir__',\n",
       " '__doc__',\n",
       " '__eq__',\n",
       " '__format__',\n",
       " '__ge__',\n",
       " '__getattribute__',\n",
       " '__gt__',\n",
       " '__hash__',\n",
       " '__init__',\n",
       " '__init_subclass__',\n",
       " '__le__',\n",
       " '__lt__',\n",
       " '__module__',\n",
       " '__ne__',\n",
       " '__new__',\n",
       " '__reduce__',\n",
       " '__reduce_ex__',\n",
       " '__repr__',\n",
       " '__setattr__',\n",
       " '__sizeof__',\n",
       " '__str__',\n",
       " '__subclasshook__',\n",
       " '__weakref__',\n",
       " 'who']"
      ]
     },
     "execution_count": 35,
     "metadata": {},
     "output_type": "execute_result"
    }
   ],
   "source": [
    "dir(s1)"
   ]
  },
  {
   "cell_type": "code",
   "execution_count": 5,
   "id": "dd34a731-445d-426c-b6cd-8c26481e58ed",
   "metadata": {},
   "outputs": [],
   "source": [
    "#non parameterized constructor\n",
    "class Company:\n",
    "    \n",
    "    def __init__(self):\n",
    "        self.name = \"iNeuron\"\n",
    "        self.address = \"BLR\"\n",
    "        \n",
    "    def show(self):\n",
    "        print(\"Name : \" , self.name , \", Address :\" , self.address)"
   ]
  },
  {
   "cell_type": "code",
   "execution_count": 6,
   "id": "76c76bd0-f93d-4f41-b0f5-44196cdf5d26",
   "metadata": {},
   "outputs": [],
   "source": [
    "cmp = Company()"
   ]
  },
  {
   "cell_type": "code",
   "execution_count": 7,
   "id": "a8e5e41c-c2b5-4b97-a949-0f613a04a206",
   "metadata": {},
   "outputs": [
    {
     "name": "stdout",
     "output_type": "stream",
     "text": [
      "Name :  iNeuron , Address : BLR\n"
     ]
    }
   ],
   "source": [
    "cmp.show()"
   ]
  },
  {
   "cell_type": "code",
   "execution_count": null,
   "id": "cdbbd67e-d4fb-4e8a-aee0-42256749a0e0",
   "metadata": {},
   "outputs": [],
   "source": []
  }
 ],
 "metadata": {
  "kernelspec": {
   "display_name": "Python 3 (ipykernel)",
   "language": "python",
   "name": "python3"
  },
  "language_info": {
   "codemirror_mode": {
    "name": "ipython",
    "version": 3
   },
   "file_extension": ".py",
   "mimetype": "text/x-python",
   "name": "python",
   "nbconvert_exporter": "python",
   "pygments_lexer": "ipython3",
   "version": "3.10.6"
  }
 },
 "nbformat": 4,
 "nbformat_minor": 5
}
