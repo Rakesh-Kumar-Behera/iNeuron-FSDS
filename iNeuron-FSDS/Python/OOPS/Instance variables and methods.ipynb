{
 "cells": [
  {
   "cell_type": "markdown",
   "id": "b7e08da5",
   "metadata": {},
   "source": [
    "### Instance Variables"
   ]
  },
  {
   "cell_type": "markdown",
   "id": "798b82fe",
   "metadata": {},
   "source": [
    "- <b>Instance variables </b>: If the value of a variable varies from object to object, then such variables are called instance variables.\n",
    "- <b>Class Variables</b>: A class variable is a variable that is declared inside of class, but outside of any instance method or `__init__()` method."
   ]
  },
  {
   "cell_type": "markdown",
   "id": "a097d471",
   "metadata": {},
   "source": [
    "Instance variables are not shared by objects. Every object has its own copy of the instance attribute. This means that for each object of a class, the instance variable value is different.\n",
    "\n",
    "Instance variables are used within the instance method. We use the instance method to perform a set of actions on the data/value provided by the instance variable.\n",
    "\n",
    "We can access the instance variable using the object and dot (`.`) operator.\n",
    "\n",
    "In Python, to work with an instance variable and method, we use the `self` keyword. We use the `self` keyword as the first parameter to a method. The `self` refers to the current object."
   ]
  },
  {
   "cell_type": "markdown",
   "id": "c5d68f7d",
   "metadata": {},
   "source": [
    "##### Create Instance Variables\n",
    "Instance variables are declared inside a method using the self keyword. We use a constructor to define and initialize the instance variables."
   ]
  },
  {
   "cell_type": "code",
   "execution_count": 1,
   "id": "020b5e6f",
   "metadata": {},
   "outputs": [
    {
     "name": "stdout",
     "output_type": "stream",
     "text": [
      "Object 1\n",
      "Name: Jessa\n",
      "Age: 20\n",
      "Object 2\n",
      "Name: Kelly\n",
      "Age: 10\n"
     ]
    }
   ],
   "source": [
    "#example, we are creating two instance variable name and age in the Student class\n",
    "class Student:\n",
    "    # constructor\n",
    "    def __init__(self, name, age):\n",
    "        # Instance variable\n",
    "        self.name = name\n",
    "        self.age = age\n",
    "\n",
    "# create first object\n",
    "s1 = Student(\"Jessa\", 20)\n",
    "\n",
    "# access instance variable\n",
    "print('Object 1')\n",
    "print('Name:', s1.name)\n",
    "print('Age:', s1.age)\n",
    "\n",
    "# create second object\n",
    "s2= Student(\"Kelly\", 10)\n",
    "\n",
    "# access instance variable\n",
    "print('Object 2')\n",
    "print('Name:', s2.name)\n",
    "print('Age:', s2.age)\n"
   ]
  },
  {
   "cell_type": "markdown",
   "id": "71d906f3",
   "metadata": {},
   "source": [
    "Note:\n",
    "\n",
    "- When we created an object, we passed the values to the instance variables using a constructor.\n",
    "- Each object contains different values because we passed different values to a constructor to initialize the object.\n",
    "- Variable declared outside `__init__()` belong to the class. They’re shared by all instances."
   ]
  },
  {
   "cell_type": "markdown",
   "id": "2ea5bf1b",
   "metadata": {},
   "source": [
    "We can modify the value of the instance variable and assign a new value to it using the object reference.\n",
    "\n",
    "<b>Note:</b> When you change the instance variable’s values of one object, the changes will not be reflected in the remaining objects because every object maintains a separate copy of the instance variable."
   ]
  },
  {
   "cell_type": "code",
   "execution_count": 2,
   "id": "3f162152",
   "metadata": {},
   "outputs": [
    {
     "name": "stdout",
     "output_type": "stream",
     "text": [
      "Before\n",
      "Name: Jessa Age: 20\n",
      "After\n",
      "Name: Emma Age: 15\n"
     ]
    }
   ],
   "source": [
    "class Student:\n",
    "    # constructor\n",
    "    def __init__(self, name, age):\n",
    "        # Instance variable\n",
    "        self.name = name\n",
    "        self.age = age\n",
    "\n",
    "# create object\n",
    "stud = Student(\"Jessa\", 20)\n",
    "\n",
    "print('Before')\n",
    "print('Name:', stud.name, 'Age:', stud.age)\n",
    "\n",
    "# modify instance variable\n",
    "stud.name = 'Emma'\n",
    "stud.age = 15\n",
    "\n",
    "print('After')\n",
    "print('Name:', stud.name, 'Age:', stud.age)"
   ]
  },
  {
   "cell_type": "markdown",
   "id": "59b6960d",
   "metadata": {},
   "source": [
    "##### Ways to Access Instance Variable\n",
    "There are two ways to access the instance variable of class:\n",
    "\n",
    "- Within the class in instance method by using the object reference (self)\n",
    "- Using `getattr()` method"
   ]
  },
  {
   "cell_type": "code",
   "execution_count": 4,
   "id": "f47c6770",
   "metadata": {},
   "outputs": [
    {
     "name": "stdout",
     "output_type": "stream",
     "text": [
      "Name: Jessa Age: 20\n"
     ]
    }
   ],
   "source": [
    "#Access instance variable in the instance method\n",
    "class Student:\n",
    "    # constructor\n",
    "    def __init__(self, name, age):\n",
    "        # Instance variable\n",
    "        self.name = name\n",
    "        self.age = age\n",
    "\n",
    "    # instance method access instance variable\n",
    "    def show(self): #instance method\n",
    "        print('Name:', stud.name, 'Age:', stud.age)\n",
    "\n",
    "# create object\n",
    "stud = Student(\"Jessa\", 20)\n",
    "\n",
    "# call instance method\n",
    "stud.show()\n"
   ]
  },
  {
   "cell_type": "markdown",
   "id": "0d2cbfee",
   "metadata": {},
   "source": [
    "##### Access instance variable using `getattr()`\n",
    "\n",
    "Syntax - `getattr(Object, 'instance_variable')`\n",
    "\n",
    "Pass the object reference and instance variable name to the `getattr()` method to get the value of an instance variable."
   ]
  },
  {
   "cell_type": "code",
   "execution_count": 5,
   "id": "c2603e9c",
   "metadata": {},
   "outputs": [
    {
     "name": "stdout",
     "output_type": "stream",
     "text": [
      "Name: Jessa\n",
      "Age: 20\n"
     ]
    }
   ],
   "source": [
    "class Student:\n",
    "    # constructor\n",
    "    def __init__(self, name, age):\n",
    "        # Instance variable\n",
    "        self.name = name\n",
    "        self.age = age\n",
    "\n",
    "# create object\n",
    "stud = Student(\"Jessa\", 20)\n",
    "\n",
    "# Use getattr instead of stud.name\n",
    "print('Name:', getattr(stud, 'name'))\n",
    "print('Age:', getattr(stud, 'age'))"
   ]
  },
  {
   "cell_type": "markdown",
   "id": "e8cccbb0",
   "metadata": {},
   "source": [
    "##### Instance Variables Naming Conventions\n",
    "- Instance variable names should be all lower case. For example, id\n",
    "- Words in an instance variable name should be separated by an underscore. For example, store_name\n",
    "- Non-public instance variables should begin with a single underscore\n",
    "- If an instance name needs to be mangled, two underscores may begin its name"
   ]
  },
  {
   "cell_type": "code",
   "execution_count": 6,
   "id": "f2de2f0c",
   "metadata": {},
   "outputs": [
    {
     "name": "stdout",
     "output_type": "stream",
     "text": [
      "Before\n",
      "Name: Jessa Age: 20\n",
      "After\n",
      "Name: Jessa Age: 20 Marks: 75\n"
     ]
    }
   ],
   "source": [
    "class Student:\n",
    "    def __init__(self, name, age):\n",
    "        # Instance variable\n",
    "        self.name = name\n",
    "        self.age = age\n",
    "\n",
    "# create object\n",
    "stud = Student(\"Jessa\", 20)\n",
    "\n",
    "print('Before')\n",
    "print('Name:', stud.name, 'Age:', stud.age)\n",
    "\n",
    "# add new instance variable 'marks' to stud\n",
    "stud.marks = 75\n",
    "print('After')\n",
    "print('Name:', stud.name, 'Age:', stud.age, 'Marks:', stud.marks)\n"
   ]
  },
  {
   "cell_type": "markdown",
   "id": "6efaec12",
   "metadata": {},
   "source": [
    "<b>Note:</b>\n",
    "\n",
    "- We cannot add an instance variable to a class from outside because instance variables belong to objects.\n",
    "- <b>Adding an instance variable to one object will not be reflected the remaining objects</b> because every object has a separate copy of the instance variable."
   ]
  },
  {
   "cell_type": "markdown",
   "id": "8fc6720b",
   "metadata": {},
   "source": [
    "#### Dynamically Delete Instance Variable\n",
    "In Python, we use the `del` statement and `delattr()` function to delete the attribute of an object. Both of them do the same thing.\n",
    "\n",
    "- `del` statement: The `del` keyword is used to delete objects. In Python, everything is an object, so the `del` keyword can also be used to delete variables, lists, or parts of a list, etc.\n",
    "- `delattr()` function: Used to delete an instance variable dynamically.\n",
    "    \n",
    "Note: When we try to access the deleted attribute, it raises an attribute error."
   ]
  },
  {
   "cell_type": "code",
   "execution_count": 8,
   "id": "2036d892",
   "metadata": {},
   "outputs": [
    {
     "name": "stdout",
     "output_type": "stream",
     "text": [
      "10 Jessa\n"
     ]
    },
    {
     "ename": "AttributeError",
     "evalue": "'Student' object has no attribute 'name'",
     "output_type": "error",
     "traceback": [
      "\u001b[1;31m---------------------------------------------------------------------------\u001b[0m",
      "\u001b[1;31mAttributeError\u001b[0m                            Traceback (most recent call last)",
      "\u001b[1;32m~\\AppData\\Local\\Temp\\ipykernel_15348\\3528127285.py\u001b[0m in \u001b[0;36m<module>\u001b[1;34m\u001b[0m\n\u001b[0;32m     12\u001b[0m \u001b[1;32mdel\u001b[0m \u001b[0ms1\u001b[0m\u001b[1;33m.\u001b[0m\u001b[0mname\u001b[0m\u001b[1;33m\u001b[0m\u001b[1;33m\u001b[0m\u001b[0m\n\u001b[0;32m     13\u001b[0m \u001b[1;31m# Try to access name variable\u001b[0m\u001b[1;33m\u001b[0m\u001b[1;33m\u001b[0m\u001b[0m\n\u001b[1;32m---> 14\u001b[1;33m \u001b[0mprint\u001b[0m\u001b[1;33m(\u001b[0m\u001b[0ms1\u001b[0m\u001b[1;33m.\u001b[0m\u001b[0mname\u001b[0m\u001b[1;33m)\u001b[0m\u001b[1;33m\u001b[0m\u001b[1;33m\u001b[0m\u001b[0m\n\u001b[0m",
      "\u001b[1;31mAttributeError\u001b[0m: 'Student' object has no attribute 'name'"
     ]
    }
   ],
   "source": [
    "class Student:\n",
    "    def __init__(self, roll_no, name):\n",
    "        # Instance variable\n",
    "        self.roll_no = roll_no\n",
    "        self.name = name\n",
    "\n",
    "# create object\n",
    "s1 = Student(10, 'Jessa')\n",
    "print(s1.roll_no, s1.name)\n",
    "\n",
    "# del name\n",
    "del s1.name\n",
    "# Try to access name variable\n",
    "print(s1.name)\n"
   ]
  },
  {
   "cell_type": "markdown",
   "id": "9504290f",
   "metadata": {},
   "source": [
    "#### delattr() function\n",
    "\n",
    "The `delattr()` function is used to delete the named attribute from the object with the prior permission of the object. Use the following syntax.\n",
    "\n",
    "<b>`delattr(object, name)`</b>\n",
    "\n",
    "- <b>object</b>: the object whose attribute we want to delete.\n",
    "- <b>name</b>: the name of the instance variable we want to delete from the object."
   ]
  },
  {
   "cell_type": "code",
   "execution_count": 9,
   "id": "d73d4dd8",
   "metadata": {},
   "outputs": [
    {
     "name": "stdout",
     "output_type": "stream",
     "text": [
      "10 Jessa\n"
     ]
    },
    {
     "ename": "AttributeError",
     "evalue": "'Student' object has no attribute 'roll_no'",
     "output_type": "error",
     "traceback": [
      "\u001b[1;31m---------------------------------------------------------------------------\u001b[0m",
      "\u001b[1;31mAttributeError\u001b[0m                            Traceback (most recent call last)",
      "\u001b[1;32m~\\AppData\\Local\\Temp\\ipykernel_15348\\602904497.py\u001b[0m in \u001b[0;36m<module>\u001b[1;34m\u001b[0m\n\u001b[0;32m     13\u001b[0m \u001b[1;31m# delete instance variable using delattr()\u001b[0m\u001b[1;33m\u001b[0m\u001b[1;33m\u001b[0m\u001b[0m\n\u001b[0;32m     14\u001b[0m \u001b[0mdelattr\u001b[0m\u001b[1;33m(\u001b[0m\u001b[0ms1\u001b[0m\u001b[1;33m,\u001b[0m \u001b[1;34m'roll_no'\u001b[0m\u001b[1;33m)\u001b[0m\u001b[1;33m\u001b[0m\u001b[1;33m\u001b[0m\u001b[0m\n\u001b[1;32m---> 15\u001b[1;33m \u001b[0ms1\u001b[0m\u001b[1;33m.\u001b[0m\u001b[0mshow\u001b[0m\u001b[1;33m(\u001b[0m\u001b[1;33m)\u001b[0m\u001b[1;33m\u001b[0m\u001b[1;33m\u001b[0m\u001b[0m\n\u001b[0m",
      "\u001b[1;32m~\\AppData\\Local\\Temp\\ipykernel_15348\\602904497.py\u001b[0m in \u001b[0;36mshow\u001b[1;34m(self)\u001b[0m\n\u001b[0;32m      6\u001b[0m \u001b[1;33m\u001b[0m\u001b[0m\n\u001b[0;32m      7\u001b[0m     \u001b[1;32mdef\u001b[0m \u001b[0mshow\u001b[0m\u001b[1;33m(\u001b[0m\u001b[0mself\u001b[0m\u001b[1;33m)\u001b[0m\u001b[1;33m:\u001b[0m\u001b[1;33m\u001b[0m\u001b[1;33m\u001b[0m\u001b[0m\n\u001b[1;32m----> 8\u001b[1;33m         \u001b[0mprint\u001b[0m\u001b[1;33m(\u001b[0m\u001b[0mself\u001b[0m\u001b[1;33m.\u001b[0m\u001b[0mroll_no\u001b[0m\u001b[1;33m,\u001b[0m \u001b[0mself\u001b[0m\u001b[1;33m.\u001b[0m\u001b[0mname\u001b[0m\u001b[1;33m)\u001b[0m\u001b[1;33m\u001b[0m\u001b[1;33m\u001b[0m\u001b[0m\n\u001b[0m\u001b[0;32m      9\u001b[0m \u001b[1;33m\u001b[0m\u001b[0m\n\u001b[0;32m     10\u001b[0m \u001b[0ms1\u001b[0m \u001b[1;33m=\u001b[0m \u001b[0mStudent\u001b[0m\u001b[1;33m(\u001b[0m\u001b[1;36m10\u001b[0m\u001b[1;33m,\u001b[0m \u001b[1;34m'Jessa'\u001b[0m\u001b[1;33m)\u001b[0m\u001b[1;33m\u001b[0m\u001b[1;33m\u001b[0m\u001b[0m\n",
      "\u001b[1;31mAttributeError\u001b[0m: 'Student' object has no attribute 'roll_no'"
     ]
    }
   ],
   "source": [
    "class Student:\n",
    "    def __init__(self, roll_no, name):\n",
    "        # Instance variable\n",
    "        self.roll_no = roll_no\n",
    "        self.name = name\n",
    "\n",
    "    def show(self):\n",
    "        print(self.roll_no, self.name)\n",
    "\n",
    "s1 = Student(10, 'Jessa')\n",
    "s1.show()\n",
    "\n",
    "# delete instance variable using delattr()\n",
    "delattr(s1, 'roll_no')\n",
    "s1.show()\n"
   ]
  },
  {
   "cell_type": "markdown",
   "id": "b88fe6c6",
   "metadata": {},
   "source": [
    "##### Access Instance Variable From Another Class\n",
    "We can access instance variables of one class from another class using object reference. It is useful when we implement the concept of inheritance in Python, and we want to access the parent class instance variable from a child class"
   ]
  },
  {
   "cell_type": "code",
   "execution_count": 10,
   "id": "5b975b3f",
   "metadata": {},
   "outputs": [
    {
     "name": "stdout",
     "output_type": "stream",
     "text": [
      "Engine: 1500cc\n",
      "Max Speed: 240\n"
     ]
    }
   ],
   "source": [
    "class Vehicle:\n",
    "    def __init__(self):\n",
    "        self.engine = '1500cc'\n",
    "\n",
    "class Car(Vehicle):\n",
    "    def __init__(self, max_speed):\n",
    "        # call parent class constructor\n",
    "        super().__init__()\n",
    "        self.max_speed = max_speed\n",
    "\n",
    "    def display(self):\n",
    "        # access parent class instance variables 'engine'\n",
    "        print(\"Engine:\", self.engine)\n",
    "        print(\"Max Speed:\", self.max_speed)\n",
    "\n",
    "# Object of car\n",
    "car = Car(240)\n",
    "car.display()\n"
   ]
  },
  {
   "cell_type": "markdown",
   "id": "7e1fe35a",
   "metadata": {},
   "source": [
    "#### List all Instance Variables of a Object\n",
    "We can get the list of all the instance variables the object has. Use the `__dict__` function of an object to get all instance variables along with their value.\n",
    "\n",
    "The `__dict__` function returns a dictionary that contains variable name as a key and variable value as a value"
   ]
  },
  {
   "cell_type": "code",
   "execution_count": 11,
   "id": "ef9242ca",
   "metadata": {},
   "outputs": [
    {
     "name": "stdout",
     "output_type": "stream",
     "text": [
      "Instance variable object has\n",
      "{'roll_no': 10, 'name': 'Jessa'}\n",
      "roll_no = 10\n",
      "name = Jessa\n"
     ]
    }
   ],
   "source": [
    "class Student:\n",
    "    def __init__(self, roll_no, name):\n",
    "        # Instance variable\n",
    "        self.roll_no = roll_no\n",
    "        self.name = name\n",
    "\n",
    "s1 = Student(10, 'Jessa')\n",
    "print('Instance variable object has')\n",
    "print(s1.__dict__)\n",
    "\n",
    "# Get each instance variable\n",
    "for key_value in s1.__dict__.items():\n",
    "    print(key_value[0], '=', key_value[1])\n"
   ]
  },
  {
   "cell_type": "markdown",
   "id": "bdc18768",
   "metadata": {},
   "source": [
    "### Instance Methods"
   ]
  },
  {
   "cell_type": "markdown",
   "id": "bc79f689",
   "metadata": {},
   "source": [
    "- <b>Instance methods</b>: Used to access or modify the object state. If we use instance variables inside a method, such methods are called instance methods. It must have a self parameter to refer to the current object.\n",
    "- <b>Class methods</b>: Used to access or modify the class state. In method implementation, if we use only class variables, then such type of methods we should declare as a class method. The class method has a cls parameter which refers to the class"
   ]
  },
  {
   "cell_type": "markdown",
   "id": "a07b4cdc",
   "metadata": {},
   "source": [
    "#### What is Instance Methods in Python\n",
    "If we use instance variables inside a method, such methods are called instance methods. The instance method performs a set of actions on the data/value provided by the instance variables.\n",
    "\n",
    "- A instance method is bound to the object of the class.\n",
    "- It can access or modify the object state by changing the value of a instance variables\n",
    "\n",
    "When we create a class in Python, instance methods are used regularly. To work with an instance method, we use the `self` keyword. We use the `self` keyword as the first parameter to a method. The `self` refers to the current object."
   ]
  },
  {
   "cell_type": "code",
   "execution_count": 1,
   "id": "fa6dc62d",
   "metadata": {},
   "outputs": [],
   "source": [
    "class Student:\n",
    "    # constructor\n",
    "    def __init__(self, name, age):\n",
    "        # Instance variable\n",
    "        self.name = name\n",
    "        self.age = age\n",
    "\n",
    "    # instance method to access instance variable\n",
    "    def show(self):\n",
    "        print('Name:', self.name, 'Age:', self.age)"
   ]
  },
  {
   "cell_type": "code",
   "execution_count": 2,
   "id": "0e3dd188",
   "metadata": {},
   "outputs": [
    {
     "name": "stdout",
     "output_type": "stream",
     "text": [
      "First Student\n",
      "Name: Jessa Age: 14\n",
      "Second Student\n",
      "Name: Kelly Age: 16\n"
     ]
    }
   ],
   "source": [
    "# create first object\n",
    "print('First Student')\n",
    "emma = Student(\"Jessa\", 14)\n",
    "# call instance method\n",
    "emma.show()\n",
    "\n",
    "# create second object\n",
    "print('Second Student')\n",
    "kelly = Student(\"Kelly\", 16)\n",
    "# call instance method\n",
    "kelly.show()"
   ]
  },
  {
   "cell_type": "markdown",
   "id": "d2795dcf",
   "metadata": {},
   "source": [
    "<b>Note </b>:\n",
    "\n",
    "Inside any instance method, we can use `self` to access any data or method that reside in our class. We are unable to access it without a `self` parameter.\n",
    "\n",
    "An instance method can freely access attributes and even modify the value of attributes of an object by using the `self` parameter.\n",
    "\n",
    "By Using `self.__class__ `attribute we can access the class attributes and change the class state. Therefore instance method gives us control of changing the object as well as the class state."
   ]
  },
  {
   "cell_type": "code",
   "execution_count": 3,
   "id": "952d488c",
   "metadata": {},
   "outputs": [
    {
     "name": "stdout",
     "output_type": "stream",
     "text": [
      "class VIII\n",
      "Roll Number: 20 Name: Emma Age: 14\n",
      "class IX\n",
      "Roll Number: 35 Name: Emma Age: 15\n"
     ]
    }
   ],
   "source": [
    "#Modify instance variable inside instance method\n",
    "class Student:\n",
    "    def __init__(self, roll_no, name, age):\n",
    "        # Instance variable\n",
    "        self.roll_no = roll_no\n",
    "        self.name = name\n",
    "        self.age = age\n",
    "\n",
    "    # instance method access instance variable\n",
    "    def show(self):\n",
    "        print('Roll Number:', self.roll_no, 'Name:', self.name, 'Age:', self.age)\n",
    "\n",
    "    # instance method to modify instance variable\n",
    "    def update(self, roll_number, age):\n",
    "        self.roll_no = roll_number\n",
    "        self.age = age\n",
    "\n",
    "# create object\n",
    "print('class VIII')\n",
    "stud = Student(20, \"Emma\", 14)\n",
    "# call instance method\n",
    "stud.show()\n",
    "\n",
    "# Modify instance variables\n",
    "print('class IX')\n",
    "stud.update(35, 15)\n",
    "stud.show()"
   ]
  },
  {
   "cell_type": "markdown",
   "id": "cca708f5",
   "metadata": {},
   "source": [
    "##### Create Instance Variables in Instance Method\n",
    "Till the time we used constructor to create instance attributes. But, instance attributes are not specific only to the `__init__()` method; they can be defined elsewhere in the class"
   ]
  },
  {
   "cell_type": "code",
   "execution_count": 4,
   "id": "983b64ff",
   "metadata": {},
   "outputs": [
    {
     "name": "stdout",
     "output_type": "stream",
     "text": [
      "Roll Number: 20 Name: Emma Age: 14 Marks: 75\n"
     ]
    }
   ],
   "source": [
    "class Student:\n",
    "    def __init__(self, roll_no, name, age):\n",
    "        # Instance variable\n",
    "        self.roll_no = roll_no\n",
    "        self.name = name\n",
    "        self.age = age\n",
    "\n",
    "    # instance method to add instance variable\n",
    "    def add_marks(self, marks):\n",
    "        # add new attribute to current object\n",
    "        self.marks = marks\n",
    "\n",
    "# create object\n",
    "stud = Student(20, \"Emma\", 14)\n",
    "# call instance method\n",
    "stud.add_marks(75)\n",
    "\n",
    "# display object\n",
    "print('Roll Number:', stud.roll_no, 'Name:', stud.name, 'Age:', stud.age, 'Marks:', stud.marks)"
   ]
  },
  {
   "cell_type": "markdown",
   "id": "19d40d2b",
   "metadata": {},
   "source": [
    "#### Dynamically Add Instance Method to a Object\n",
    "Usually, we add methods to a class body when defining a class. However, Python is a dynamic language that allows us to add or delete instance methods at runtime. Therefore, it is helpful in the following scenarios.\n",
    "\n",
    "- When class is in a different file, and you don’t have access to modify the class structure\n",
    "- You wanted to extend the class functionality without changing its basic structure because many systems use the same structure."
   ]
  },
  {
   "cell_type": "markdown",
   "id": "3fe19ed8",
   "metadata": {},
   "source": [
    "We should add a method to the object, so other instances don’t have access to that method. We use the `types` module’s `MethodType()` to add a method to an object. Below is the simplest way to method to an object."
   ]
  },
  {
   "cell_type": "code",
   "execution_count": 5,
   "id": "9adfbd01",
   "metadata": {},
   "outputs": [
    {
     "name": "stdout",
     "output_type": "stream",
     "text": [
      "Name: Jessa Age: 15\n",
      "Hello Jessa Welcome to Class IX\n"
     ]
    }
   ],
   "source": [
    "import types\n",
    "\n",
    "class Student:\n",
    "    # constructor\n",
    "    def __init__(self, name, age):\n",
    "        self.name = name\n",
    "        self.age = age\n",
    "\n",
    "    # instance method\n",
    "    def show(self):\n",
    "        print('Name:', self.name, 'Age:', self.age)\n",
    "\n",
    "# create new method\n",
    "def welcome(self):\n",
    "    print(\"Hello\", self.name, \"Welcome to Class IX\")\n",
    "\n",
    "\n",
    "# create object\n",
    "s1 = Student(\"Jessa\", 15)\n",
    "\n",
    "# Add instance method to object\n",
    "s1.welcome = types.MethodType(welcome, s1)\n",
    "s1.show()\n",
    "\n",
    "# call newly added method\n",
    "s1.welcome()"
   ]
  },
  {
   "cell_type": "markdown",
   "id": "02683deb",
   "metadata": {},
   "source": [
    "#### Dynamically Delete Instance Methods\n",
    "We can dynamically delete the instance method from the class. In Python, there are two ways to delete method:\n",
    "\n",
    "1. By using the `del` operator\n",
    "2. By using `delattr()` method"
   ]
  },
  {
   "cell_type": "code",
   "execution_count": 6,
   "id": "e4bd5a57",
   "metadata": {},
   "outputs": [
    {
     "name": "stdout",
     "output_type": "stream",
     "text": [
      "Name: Emma Age: 14\n",
      "Percentage: 64.5\n"
     ]
    },
    {
     "ename": "AttributeError",
     "evalue": "percentage",
     "output_type": "error",
     "traceback": [
      "\u001b[1;31m---------------------------------------------------------------------------\u001b[0m",
      "\u001b[1;31mAttributeError\u001b[0m                            Traceback (most recent call last)",
      "\u001b[1;32m~\\AppData\\Local\\Temp\\ipykernel_9388\\1972410684.py\u001b[0m in \u001b[0;36m<module>\u001b[1;34m\u001b[0m\n\u001b[0;32m     18\u001b[0m \u001b[1;33m\u001b[0m\u001b[0m\n\u001b[0;32m     19\u001b[0m \u001b[1;31m# Delete the method from class using del operator\u001b[0m\u001b[1;33m\u001b[0m\u001b[1;33m\u001b[0m\u001b[0m\n\u001b[1;32m---> 20\u001b[1;33m \u001b[1;32mdel\u001b[0m \u001b[0memma\u001b[0m\u001b[1;33m.\u001b[0m\u001b[0mpercentage\u001b[0m\u001b[1;33m\u001b[0m\u001b[1;33m\u001b[0m\u001b[0m\n\u001b[0m\u001b[0;32m     21\u001b[0m \u001b[1;33m\u001b[0m\u001b[0m\n\u001b[0;32m     22\u001b[0m \u001b[1;31m# Again calling percentage() method\u001b[0m\u001b[1;33m\u001b[0m\u001b[1;33m\u001b[0m\u001b[0m\n",
      "\u001b[1;31mAttributeError\u001b[0m: percentage"
     ]
    }
   ],
   "source": [
    "class Student:\n",
    "    # constructor\n",
    "    def __init__(self, name, age):\n",
    "        self.name = name\n",
    "        self.age = age\n",
    "\n",
    "    # instance method\n",
    "    def show(self):\n",
    "        print('Name:', self.name, 'Age:', self.age)\n",
    "\n",
    "    # instance method\n",
    "    def percentage(self, sub1, sub2):\n",
    "        print('Percentage:', (sub1 + sub2) / 2)\n",
    "\n",
    "emma = Student('Emma', 14)\n",
    "emma.show()\n",
    "emma.percentage(67, 62)\n",
    "\n",
    "# Delete the method from class using del operator\n",
    "del emma.percentage\n",
    "\n",
    "# Again calling percentage() method\n",
    "# It will raise error\n",
    "emma.percentage(67, 62)\n"
   ]
  },
  {
   "cell_type": "markdown",
   "id": "5a6da0a6",
   "metadata": {},
   "source": [
    "#### By using the `delattr()` method\n",
    "\n",
    "The `delattr()` is used to delete the named attribute from the object with the prior permission of the object. Use the following syntax to delete the instance method.\n",
    "\n",
    "`delattr(object, name)`\n",
    "- <b>object:</b> the object whose attribute we want to delete.\n",
    "- <b>name:</b> the name of the instance method you want to delete from the object."
   ]
  },
  {
   "cell_type": "code",
   "execution_count": 7,
   "id": "d2d18058",
   "metadata": {},
   "outputs": [
    {
     "name": "stdout",
     "output_type": "stream",
     "text": [
      "Name: Emma Age: 14\n",
      "Percentage: 64.5\n"
     ]
    },
    {
     "ename": "AttributeError",
     "evalue": "percentage",
     "output_type": "error",
     "traceback": [
      "\u001b[1;31m---------------------------------------------------------------------------\u001b[0m",
      "\u001b[1;31mAttributeError\u001b[0m                            Traceback (most recent call last)",
      "\u001b[1;32m~\\AppData\\Local\\Temp\\ipykernel_9388\\338822698.py\u001b[0m in \u001b[0;36m<module>\u001b[1;34m\u001b[0m\n\u001b[0;32m      4\u001b[0m \u001b[1;33m\u001b[0m\u001b[0m\n\u001b[0;32m      5\u001b[0m \u001b[1;31m# delete instance method percentage() using delattr()\u001b[0m\u001b[1;33m\u001b[0m\u001b[1;33m\u001b[0m\u001b[0m\n\u001b[1;32m----> 6\u001b[1;33m \u001b[0mdelattr\u001b[0m\u001b[1;33m(\u001b[0m\u001b[0memma\u001b[0m\u001b[1;33m,\u001b[0m \u001b[1;34m'percentage'\u001b[0m\u001b[1;33m)\u001b[0m\u001b[1;33m\u001b[0m\u001b[1;33m\u001b[0m\u001b[0m\n\u001b[0m\u001b[0;32m      7\u001b[0m \u001b[0memma\u001b[0m\u001b[1;33m.\u001b[0m\u001b[0mshow\u001b[0m\u001b[1;33m(\u001b[0m\u001b[1;33m)\u001b[0m\u001b[1;33m\u001b[0m\u001b[1;33m\u001b[0m\u001b[0m\n\u001b[0;32m      8\u001b[0m \u001b[1;33m\u001b[0m\u001b[0m\n",
      "\u001b[1;31mAttributeError\u001b[0m: percentage"
     ]
    }
   ],
   "source": [
    "emma = Student('Emma', 14)\n",
    "emma.show()\n",
    "emma.percentage(67, 62)\n",
    "\n",
    "# delete instance method percentage() using delattr()\n",
    "delattr(emma, 'percentage')\n",
    "emma.show()\n",
    "\n",
    "# Again calling percentage() method\n",
    "# It will raise error\n",
    "emma.percentage(67, 62)"
   ]
  },
  {
   "cell_type": "code",
   "execution_count": null,
   "id": "92ec8234",
   "metadata": {},
   "outputs": [],
   "source": []
  }
 ],
 "metadata": {
  "kernelspec": {
   "display_name": "Python 3 (ipykernel)",
   "language": "python",
   "name": "python3"
  },
  "language_info": {
   "codemirror_mode": {
    "name": "ipython",
    "version": 3
   },
   "file_extension": ".py",
   "mimetype": "text/x-python",
   "name": "python",
   "nbconvert_exporter": "python",
   "pygments_lexer": "ipython3",
   "version": "3.9.13"
  }
 },
 "nbformat": 4,
 "nbformat_minor": 5
}
