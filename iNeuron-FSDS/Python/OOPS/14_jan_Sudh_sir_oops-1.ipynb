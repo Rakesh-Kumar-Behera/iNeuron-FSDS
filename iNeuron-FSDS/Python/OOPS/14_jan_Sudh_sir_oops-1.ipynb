{
 "cells": [
  {
   "cell_type": "markdown",
   "id": "ce91eac4-7950-4738-86d0-ba4fd3628ae0",
   "metadata": {},
   "source": [
    "### OOPs concept fastrack revision by Sudhansu sir"
   ]
  },
  {
   "cell_type": "code",
   "execution_count": null,
   "id": "5d98f5bf-806b-4e65-a261-477c21e569b8",
   "metadata": {},
   "outputs": [],
   "source": []
  }
 ],
 "metadata": {
  "kernelspec": {
   "display_name": "Python 3 (ipykernel)",
   "language": "python",
   "name": "python3"
  },
  "language_info": {
   "codemirror_mode": {
    "name": "ipython",
    "version": 3
   },
   "file_extension": ".py",
   "mimetype": "text/x-python",
   "name": "python",
   "nbconvert_exporter": "python",
   "pygments_lexer": "ipython3",
   "version": "3.10.6"
  }
 },
 "nbformat": 4,
 "nbformat_minor": 5
}
