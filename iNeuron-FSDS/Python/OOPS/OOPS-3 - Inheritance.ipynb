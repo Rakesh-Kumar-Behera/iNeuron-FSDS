{
 "cells": [
  {
   "cell_type": "markdown",
   "id": "f5d12a52-4433-4c67-b39b-0aa3d10f09e1",
   "metadata": {},
   "source": [
    "## Inheritance"
   ]
  },
  {
   "cell_type": "code",
   "execution_count": 4,
   "id": "e3db680c-9c84-4d8d-9426-949a1487b379",
   "metadata": {},
   "outputs": [],
   "source": [
    "#Single Inheritance\n",
    "\n",
    "class Parent:\n",
    "    def func1(self):\n",
    "        print(\"Hello from Parent class\")\n",
    "              \n",
    "class child(Parent):\n",
    "     def func2(self):\n",
    "              print(\"Hello Child\")"
   ]
  },
  {
   "cell_type": "code",
   "execution_count": 5,
   "id": "cabf3663-c10e-4331-b102-14db5a2cc65a",
   "metadata": {},
   "outputs": [],
   "source": [
    "test  = child()"
   ]
  },
  {
   "cell_type": "code",
   "execution_count": 7,
   "id": "11a1034e-6868-48f7-b0ff-f0182db1238f",
   "metadata": {},
   "outputs": [
    {
     "name": "stdout",
     "output_type": "stream",
     "text": [
      "Hello from Parent class\n"
     ]
    }
   ],
   "source": [
    "test.func1()"
   ]
  },
  {
   "cell_type": "code",
   "execution_count": 8,
   "id": "e7322658-034a-4dee-b062-e94df7860036",
   "metadata": {},
   "outputs": [
    {
     "name": "stdout",
     "output_type": "stream",
     "text": [
      "Hello Child\n"
     ]
    }
   ],
   "source": [
    "test.func2()"
   ]
  },
  {
   "cell_type": "code",
   "execution_count": 13,
   "id": "642e2b8c-e37c-4c46-9a57-a695a68fcada",
   "metadata": {},
   "outputs": [],
   "source": [
    "class Ineuron:\n",
    "    company_website = \"https://ineuron.ai\"\n",
    "    name = \"iNeuron\"\n",
    "    \n",
    "    def contact_details(self):\n",
    "        print(\"Contact us at\", self.company_website)\n",
    "        \n",
    "class DataScience(Ineuron):\n",
    "    \n",
    "    def __init__(self):\n",
    "        self.year_of_establishment = 2018\n",
    "        \n",
    "    def est_details(self):\n",
    "        print(\"est details\" , self.name  , self.year_of_establishment)"
   ]
  },
  {
   "cell_type": "code",
   "execution_count": 14,
   "id": "62de38cd-18fb-4433-ab2d-549bf3843fa8",
   "metadata": {},
   "outputs": [],
   "source": [
    "ds = DataScience()"
   ]
  },
  {
   "cell_type": "code",
   "execution_count": 15,
   "id": "c967610a-abe2-4b00-a1ab-4a1002aef824",
   "metadata": {},
   "outputs": [
    {
     "name": "stdout",
     "output_type": "stream",
     "text": [
      "Contact us at https://ineuron.ai\n"
     ]
    }
   ],
   "source": [
    "ds.contact_details()"
   ]
  },
  {
   "cell_type": "code",
   "execution_count": 16,
   "id": "de46eacd-0c49-4d4a-afef-4cb45d56fe1e",
   "metadata": {},
   "outputs": [
    {
     "name": "stdout",
     "output_type": "stream",
     "text": [
      "est details iNeuron 2018\n"
     ]
    }
   ],
   "source": [
    "ds.est_details()"
   ]
  },
  {
   "cell_type": "code",
   "execution_count": 17,
   "id": "eb8386b4-7350-40c9-ae6c-21f17654d9d5",
   "metadata": {},
   "outputs": [
    {
     "data": {
      "text/plain": [
       "2018"
      ]
     },
     "execution_count": 17,
     "metadata": {},
     "output_type": "execute_result"
    }
   ],
   "source": [
    "ds.year_of_establishment"
   ]
  },
  {
   "cell_type": "code",
   "execution_count": 18,
   "id": "ceb73330-c4c6-48ad-a6ae-22e0b4f80ff6",
   "metadata": {},
   "outputs": [],
   "source": [
    "#Multiple inheritance"
   ]
  },
  {
   "cell_type": "code",
   "execution_count": 19,
   "id": "34da6b19-5673-4f35-b8e7-3fd2b1bf25eb",
   "metadata": {},
   "outputs": [],
   "source": [
    "class Parent1:\n",
    "    def func1(self):\n",
    "        print(\"Hello from Parent 1\")\n",
    "        \n",
    "class Parent2:\n",
    "    def func2(self):\n",
    "        print(\"Hello from Parent 2\")\n",
    "        \n",
    "class Child(Parent1,Parent2):\n",
    "    def func3(self):\n",
    "        print(\"Hello Child\")"
   ]
  },
  {
   "cell_type": "code",
   "execution_count": 20,
   "id": "b5280e68-ddeb-4d9b-9665-c3d8ab92149d",
   "metadata": {},
   "outputs": [],
   "source": [
    "test = Child()"
   ]
  },
  {
   "cell_type": "code",
   "execution_count": 21,
   "id": "c0a5167d-cb40-4720-b65a-640114dd969c",
   "metadata": {},
   "outputs": [
    {
     "name": "stdout",
     "output_type": "stream",
     "text": [
      "Hello from Parent 2\n"
     ]
    }
   ],
   "source": [
    "test.func2()"
   ]
  },
  {
   "cell_type": "code",
   "execution_count": 22,
   "id": "14a3daef-78b0-45be-bdbe-9adb6d079257",
   "metadata": {},
   "outputs": [
    {
     "name": "stdout",
     "output_type": "stream",
     "text": [
      "Hello from Parent 1\n"
     ]
    }
   ],
   "source": [
    "test.func1()"
   ]
  },
  {
   "cell_type": "code",
   "execution_count": 26,
   "id": "8a95d4cb-0da9-4263-9524-c97623502a83",
   "metadata": {},
   "outputs": [],
   "source": [
    "#Parent class 1\n",
    "class Batch_number:\n",
    "    batchnumber = \"\"\n",
    "    \n",
    "    def __init__(self,a,b,c):\n",
    "        self.a = a\n",
    "        self.b = b\n",
    "        self.c = c\n",
    "        \n",
    "    def batch(self):\n",
    "        print(self.batchnumber)\n",
    "        \n",
    "#Parent Class 2\n",
    "class course_name:\n",
    "    cname = \"\"\n",
    "    def course(self):\n",
    "        print(self.cname)\n",
    "\n",
    "#Child class\n",
    "class Student(Batch_number,course_name):\n",
    "    def show(self):\n",
    "        print(\"Batch\" , self.batchnumber)\n",
    "        print(\"Course\" , self.cname)"
   ]
  },
  {
   "cell_type": "code",
   "execution_count": 27,
   "id": "b5e6b1cc-70c8-4d78-9e39-c23d3baa235d",
   "metadata": {},
   "outputs": [],
   "source": [
    "s1 = Student(4,5,6)"
   ]
  },
  {
   "cell_type": "code",
   "execution_count": 29,
   "id": "1a53d2aa-71d3-4721-844e-2b96bcfac3b3",
   "metadata": {},
   "outputs": [],
   "source": [
    "s1.batchnumber = '2'"
   ]
  },
  {
   "cell_type": "code",
   "execution_count": 31,
   "id": "0b63137a-acb5-4e17-a394-afb0bd53abfe",
   "metadata": {},
   "outputs": [],
   "source": [
    "s1.cname = 'fsds'"
   ]
  },
  {
   "cell_type": "code",
   "execution_count": 32,
   "id": "7fa30949-6ea8-407b-92b6-c99638ee8551",
   "metadata": {},
   "outputs": [
    {
     "name": "stdout",
     "output_type": "stream",
     "text": [
      "fsds\n"
     ]
    }
   ],
   "source": [
    "s1.course()"
   ]
  },
  {
   "cell_type": "code",
   "execution_count": 33,
   "id": "edc89da9-23d0-4cfd-8135-2d7f632c9b56",
   "metadata": {},
   "outputs": [
    {
     "name": "stdout",
     "output_type": "stream",
     "text": [
      "Batch 2\n",
      "Course fsds\n"
     ]
    }
   ],
   "source": [
    "s1.show()"
   ]
  },
  {
   "cell_type": "code",
   "execution_count": 34,
   "id": "eb07b58f-ebc6-42e0-be36-3800bfe1d927",
   "metadata": {},
   "outputs": [
    {
     "name": "stdout",
     "output_type": "stream",
     "text": [
      "2\n"
     ]
    }
   ],
   "source": [
    "s1.batch()"
   ]
  },
  {
   "cell_type": "code",
   "execution_count": 1,
   "id": "9b4feefb-3d0b-435a-942d-d54bf52e0b34",
   "metadata": {},
   "outputs": [],
   "source": [
    "#Multi-level inheritance"
   ]
  },
  {
   "cell_type": "code",
   "execution_count": 7,
   "id": "dbace181-a353-4e5a-b1a4-c62b4e0675f5",
   "metadata": {},
   "outputs": [],
   "source": [
    "class Test1:\n",
    "    def a(self):\n",
    "        print(\"Inside Test1...\")\n",
    "        \n",
    "class Test2(Test1):\n",
    "    def b(self):\n",
    "        print(\"Inside Test2...\")\n",
    "        \n",
    "class Test3(Test2):\n",
    "    def c(self):\n",
    "        print(\"Inside Test3...\")"
   ]
  },
  {
   "cell_type": "code",
   "execution_count": 8,
   "id": "727d719a-1919-4258-b462-787a28332b86",
   "metadata": {},
   "outputs": [],
   "source": [
    "t1 = Test3()"
   ]
  },
  {
   "cell_type": "code",
   "execution_count": 9,
   "id": "65f2c761-0e48-447f-a127-78cd6b8155fb",
   "metadata": {},
   "outputs": [
    {
     "name": "stdout",
     "output_type": "stream",
     "text": [
      "Inside Test1...\n"
     ]
    }
   ],
   "source": [
    "t1.a()"
   ]
  },
  {
   "cell_type": "code",
   "execution_count": 10,
   "id": "7a9af864-8b6a-4b8f-8eb6-0f66f88604d3",
   "metadata": {},
   "outputs": [
    {
     "name": "stdout",
     "output_type": "stream",
     "text": [
      "Inside Test2...\n"
     ]
    }
   ],
   "source": [
    "t1.b()"
   ]
  },
  {
   "cell_type": "code",
   "execution_count": 11,
   "id": "9105efae-a8b8-482e-8af6-9dd3f9acbe1e",
   "metadata": {},
   "outputs": [
    {
     "name": "stdout",
     "output_type": "stream",
     "text": [
      "Inside Test3...\n"
     ]
    }
   ],
   "source": [
    "t1.c()"
   ]
  },
  {
   "cell_type": "code",
   "execution_count": 14,
   "id": "9394c6c8-60ba-4692-aeae-22d7802a02cc",
   "metadata": {},
   "outputs": [],
   "source": [
    "class Vehicle:\n",
    "    def info(self):\n",
    "        print(\"inside vehicle class\")\n",
    "        \n",
    "class Car(Vehicle):\n",
    "    def car_info(self):\n",
    "        print(\"inside car class\")\n",
    "        \n",
    "class SportsCar(Car):\n",
    "    def sportscar(self):\n",
    "        print(\"inside Sports car class\")"
   ]
  },
  {
   "cell_type": "code",
   "execution_count": 15,
   "id": "47c9f9a3-d4a5-46dd-8672-e5bf992fad55",
   "metadata": {},
   "outputs": [],
   "source": [
    "s1 = SportsCar()"
   ]
  },
  {
   "cell_type": "code",
   "execution_count": 17,
   "id": "b3ec65c3-766f-498d-ae35-6ac50873c7cc",
   "metadata": {},
   "outputs": [
    {
     "name": "stdout",
     "output_type": "stream",
     "text": [
      "inside Sports car class\n"
     ]
    }
   ],
   "source": [
    "s1.sportscar()"
   ]
  },
  {
   "cell_type": "code",
   "execution_count": 19,
   "id": "866155a3-ad55-41a7-bc9c-94bc5632c5ab",
   "metadata": {},
   "outputs": [
    {
     "name": "stdout",
     "output_type": "stream",
     "text": [
      "inside car class\n"
     ]
    }
   ],
   "source": [
    "s1.car_info()"
   ]
  },
  {
   "cell_type": "code",
   "execution_count": 20,
   "id": "d1ddc392-92ef-4c1f-919e-3d5010ec3224",
   "metadata": {},
   "outputs": [
    {
     "name": "stdout",
     "output_type": "stream",
     "text": [
      "inside vehicle class\n"
     ]
    }
   ],
   "source": [
    "s1.info()"
   ]
  },
  {
   "cell_type": "code",
   "execution_count": 34,
   "id": "4fa7cf56-b828-4b96-aba4-4cd94dc16f7e",
   "metadata": {},
   "outputs": [],
   "source": [
    "class Phones:\n",
    "    def __init__(self,brand,model,price):\n",
    "        self.brand = brand\n",
    "        self.model = model\n",
    "        self.price = price\n",
    "    \n",
    "    def specs(self):\n",
    "        return (\"brand\",self.brand , \"price\",self.price)\n",
    "    \n",
    "    def type_of_phone(self):\n",
    "        if self.price < 25000:\n",
    "            return \"This is a Budget Phone\"\n",
    "        else:\n",
    "            return \"This is a Mid Range Phone\"\n",
    "        \n",
    "class SmartPhone(Phones):\n",
    "    def __init__(self,brand,model,price,ram,storage):\n",
    "        super().__init__(brand,model,price)\n",
    "        self.ram= ram\n",
    "        self.storage = storage\n",
    "        \n",
    "class Flashipphone(SmartPhone):\n",
    "    def __init__(self,brand,model,price,ram,storage,frontcamera,backcamera,display):\n",
    "        super().__init__(brand,model,price,ram,storage)\n",
    "        self.frontcamera = frontcamera\n",
    "        self.backcamera = backcamera\n",
    "        self.display = display"
   ]
  },
  {
   "cell_type": "code",
   "execution_count": 35,
   "id": "3f4bd2cc-f0d2-43d3-8fa5-74eb967de90a",
   "metadata": {},
   "outputs": [],
   "source": [
    "p1 = Flashipphone('realme', 'XT' , 17000,6,128,16,64,'Amoled')"
   ]
  },
  {
   "cell_type": "code",
   "execution_count": 36,
   "id": "116511f5-93df-4cff-9da6-6d62179d4fcf",
   "metadata": {},
   "outputs": [
    {
     "data": {
      "text/plain": [
       "('brand', 'realme', 'price', 17000)"
      ]
     },
     "execution_count": 36,
     "metadata": {},
     "output_type": "execute_result"
    }
   ],
   "source": [
    "p1.specs()"
   ]
  },
  {
   "cell_type": "code",
   "execution_count": 37,
   "id": "22aa1376-2254-46c2-a44d-36c69f3eb62b",
   "metadata": {},
   "outputs": [
    {
     "data": {
      "text/plain": [
       "'This is a Budget Phone'"
      ]
     },
     "execution_count": 37,
     "metadata": {},
     "output_type": "execute_result"
    }
   ],
   "source": [
    "p1.type_of_phone()"
   ]
  },
  {
   "cell_type": "code",
   "execution_count": 38,
   "id": "096dc4a5-890c-4ebb-9be4-e2e0416ab1a0",
   "metadata": {},
   "outputs": [],
   "source": [
    "# Hirarchial Inheritance"
   ]
  },
  {
   "cell_type": "code",
   "execution_count": 44,
   "id": "76692356-1bca-431c-b558-757dd81f924c",
   "metadata": {},
   "outputs": [],
   "source": [
    "class Vehicle:\n",
    "    def info(self):\n",
    "        print(\"inside vehicle class\")\n",
    "        \n",
    "class Car(Vehicle):\n",
    "    def car_info(self,name):\n",
    "        print(\"Car Name\",name)\n",
    "        \n",
    "class Truck(Vehicle):\n",
    "    def truck_info(self,name):\n",
    "        print(\"Truck Name\",name)\n",
    "        \n"
   ]
  },
  {
   "cell_type": "code",
   "execution_count": 45,
   "id": "fb07173a-32dd-4d92-93f7-7f3c37abd250",
   "metadata": {},
   "outputs": [],
   "source": [
    "c1 = Car()"
   ]
  },
  {
   "cell_type": "code",
   "execution_count": 46,
   "id": "e58fab1c-b049-4761-857b-0256dd7c8160",
   "metadata": {},
   "outputs": [
    {
     "name": "stdout",
     "output_type": "stream",
     "text": [
      "inside vehicle class\n"
     ]
    }
   ],
   "source": [
    "c1.info()"
   ]
  },
  {
   "cell_type": "code",
   "execution_count": 47,
   "id": "ee8fea27-c426-4b8e-a052-00a4eb71044f",
   "metadata": {},
   "outputs": [
    {
     "name": "stdout",
     "output_type": "stream",
     "text": [
      "Car Name Baleno\n"
     ]
    }
   ],
   "source": [
    "c1.car_info('Baleno')"
   ]
  },
  {
   "cell_type": "code",
   "execution_count": 48,
   "id": "06c867e5-7b9c-41c6-843f-d11a04e11326",
   "metadata": {},
   "outputs": [],
   "source": [
    "t1 = Truck()"
   ]
  },
  {
   "cell_type": "code",
   "execution_count": 49,
   "id": "d209b3e3-7d13-416f-8c69-26483adaa1f9",
   "metadata": {},
   "outputs": [
    {
     "name": "stdout",
     "output_type": "stream",
     "text": [
      "Truck Name Tata\n"
     ]
    }
   ],
   "source": [
    "t1.truck_info('Tata')"
   ]
  },
  {
   "cell_type": "code",
   "execution_count": 50,
   "id": "e87db452-1e63-4d91-8afb-044c6e427eb5",
   "metadata": {},
   "outputs": [],
   "source": [
    "#Hybrid Inheritance"
   ]
  },
  {
   "cell_type": "code",
   "execution_count": 51,
   "id": "dc84df5b-f515-450f-af06-5663390f8926",
   "metadata": {},
   "outputs": [],
   "source": [
    "class Vehicle:\n",
    "    def info(self):\n",
    "        print(\"inside vehicle class\")\n",
    "        \n",
    "class Car(Vehicle):\n",
    "    def car_info(self,name):\n",
    "        print(\"Car Name\",name)\n",
    "        \n",
    "class Truck(Vehicle):\n",
    "    def truck_info(self,name):\n",
    "        print(\"Truck Name\",name)\n",
    "        \n",
    "class Sportscar(Car,Vehicle):\n",
    "    def sportscar(self):\n",
    "        print(\"Inside Sports car class\")"
   ]
  },
  {
   "cell_type": "code",
   "execution_count": 53,
   "id": "0e928869-2691-4389-af2b-c1e1c01013bc",
   "metadata": {},
   "outputs": [],
   "source": [
    "c1 = Car()"
   ]
  },
  {
   "cell_type": "code",
   "execution_count": 55,
   "id": "02d38649-c4c0-4e73-b4a5-664481140572",
   "metadata": {},
   "outputs": [
    {
     "name": "stdout",
     "output_type": "stream",
     "text": [
      "Car Name BMW\n"
     ]
    }
   ],
   "source": [
    "c1.car_info(\"BMW\")"
   ]
  },
  {
   "cell_type": "code",
   "execution_count": 56,
   "id": "9cc08224-318d-4b50-b4e4-f3b53b177739",
   "metadata": {},
   "outputs": [],
   "source": [
    "sp1 = Sportscar()"
   ]
  },
  {
   "cell_type": "code",
   "execution_count": 57,
   "id": "8b189a75-9a3a-49c1-a3de-203959783dba",
   "metadata": {},
   "outputs": [
    {
     "name": "stdout",
     "output_type": "stream",
     "text": [
      "Car Name Mustang GT\n"
     ]
    }
   ],
   "source": [
    "sp1.car_info('Mustang GT')"
   ]
  },
  {
   "cell_type": "code",
   "execution_count": 58,
   "id": "b8f4473d-2ba4-415e-88ce-029f8a6f2313",
   "metadata": {},
   "outputs": [
    {
     "name": "stdout",
     "output_type": "stream",
     "text": [
      "Inside Sports car class\n"
     ]
    }
   ],
   "source": [
    "sp1.sportscar()"
   ]
  },
  {
   "cell_type": "code",
   "execution_count": 59,
   "id": "344fefaa-4f49-483f-8ef9-6103d3db585c",
   "metadata": {},
   "outputs": [
    {
     "name": "stdout",
     "output_type": "stream",
     "text": [
      "inside vehicle class\n"
     ]
    }
   ],
   "source": [
    "sp1.info()"
   ]
  },
  {
   "cell_type": "markdown",
   "id": "20dc21c4-cdd5-4f43-b87b-482d7506ec6d",
   "metadata": {},
   "source": [
    "### super()\n",
    "1. `super()` is used when we need to build classes that extend the functionality of previously biult classes\n",
    "2. `super()` function is used to access the method of immediate parent class"
   ]
  },
  {
   "cell_type": "code",
   "execution_count": 64,
   "id": "27672fb6-5cb1-41f7-9c73-61b487e19afa",
   "metadata": {},
   "outputs": [],
   "source": [
    "class Company:\n",
    "    def company_name(self):\n",
    "        return 'ineuron'\n",
    "    \n",
    "class Employee(Company):\n",
    "    def info(self):\n",
    "        c_name = super().company_name()\n",
    "        print(\"I work at:\", c_name)"
   ]
  },
  {
   "cell_type": "code",
   "execution_count": 65,
   "id": "8092f123-3c29-48e9-8118-8a424475f1c7",
   "metadata": {},
   "outputs": [],
   "source": [
    "emp = Employee()"
   ]
  },
  {
   "cell_type": "code",
   "execution_count": 68,
   "id": "9877bc6a-9e79-48cb-b753-3f2f090db066",
   "metadata": {},
   "outputs": [
    {
     "data": {
      "text/plain": [
       "'ineuron'"
      ]
     },
     "execution_count": 68,
     "metadata": {},
     "output_type": "execute_result"
    }
   ],
   "source": [
    "emp.company_name()"
   ]
  },
  {
   "cell_type": "code",
   "execution_count": 67,
   "id": "359ff4af-55ad-4e83-8f99-7468bc2ffda2",
   "metadata": {},
   "outputs": [
    {
     "name": "stdout",
     "output_type": "stream",
     "text": [
      "I work at: ineuron\n"
     ]
    }
   ],
   "source": [
    "emp.info()"
   ]
  },
  {
   "cell_type": "markdown",
   "id": "a9ff7771-0e0f-420b-875d-fb78b5786fb5",
   "metadata": {},
   "source": [
    "when u initialize a child class in Python, you can call `super` , u can call `super.__init__` to initialize parent class object into child class"
   ]
  },
  {
   "cell_type": "code",
   "execution_count": 69,
   "id": "b29c5090-54c4-4833-adfa-2047e3ce382c",
   "metadata": {},
   "outputs": [],
   "source": [
    "class Parent:\n",
    "    def __init__(self):\n",
    "        print(\"This is Parent \")\n",
    "        \n",
    "class Parent1:\n",
    "    def __init__(self):\n",
    "        print(\"This is Parent 1\")\n",
    "        \n",
    "class Parent2:\n",
    "    def __init__(self):\n",
    "        print(\"This is Parent 2\")\n",
    "        \n",
    "class Child(Parent1,Parent2,Parent):\n",
    "    def __init__(self):\n",
    "        super().__init__()"
   ]
  },
  {
   "cell_type": "code",
   "execution_count": 70,
   "id": "6a8def51-ad5f-453b-8443-726fd15bdb92",
   "metadata": {},
   "outputs": [
    {
     "name": "stdout",
     "output_type": "stream",
     "text": [
      "This is Parent 1\n"
     ]
    }
   ],
   "source": [
    "t1 = Child()"
   ]
  },
  {
   "cell_type": "code",
   "execution_count": 71,
   "id": "b38505f0-bb41-4ded-81fb-101599d54325",
   "metadata": {},
   "outputs": [],
   "source": [
    "class Parent:\n",
    "    def __init__(self):\n",
    "        print(\"This is Parent \")\n",
    "        \n",
    "class Parent1:\n",
    "    def __init__(self):\n",
    "        print(\"This is Parent 1\")\n",
    "        \n",
    "class Parent2:\n",
    "    def __init__(self):\n",
    "        print(\"This is Parent 2\")\n",
    "        \n",
    "class Child(Parent,Parent2,Parent1):\n",
    "    def __init__(self):\n",
    "        super().__init__()"
   ]
  },
  {
   "cell_type": "code",
   "execution_count": 72,
   "id": "504425f4-6547-4d58-9f85-83703122353a",
   "metadata": {},
   "outputs": [
    {
     "name": "stdout",
     "output_type": "stream",
     "text": [
      "This is Parent \n"
     ]
    }
   ],
   "source": [
    "t2 = Child()"
   ]
  },
  {
   "cell_type": "code",
   "execution_count": 75,
   "id": "5b08576e-4ed6-478b-810d-0da4bff02a0d",
   "metadata": {},
   "outputs": [],
   "source": [
    "class Parent:\n",
    "    def __init__(self):\n",
    "        print(\"This is Parent \")\n",
    "        \n",
    "class Parent1:\n",
    "    def __init__(self):\n",
    "        print(\"This is Parent 1\")\n",
    "        \n",
    "class Parent2:\n",
    "    def __init__(self):\n",
    "        print(\"This is Parent 2\")\n",
    "        \n",
    "class Child(Parent2,Parent1,Parent):\n",
    "    def __init__(self):\n",
    "        super().__init__()\n",
    "        #super(Child,self).__init__()"
   ]
  },
  {
   "cell_type": "code",
   "execution_count": 76,
   "id": "cf8e6bc5-2188-4195-baa9-b56f24dc976e",
   "metadata": {},
   "outputs": [
    {
     "name": "stdout",
     "output_type": "stream",
     "text": [
      "This is Parent 2\n"
     ]
    }
   ],
   "source": [
    "t3 = Child()"
   ]
  },
  {
   "cell_type": "code",
   "execution_count": null,
   "id": "3eef5086-42a3-4bbf-8751-76329d8a3ca9",
   "metadata": {},
   "outputs": [],
   "source": []
  }
 ],
 "metadata": {
  "kernelspec": {
   "display_name": "Python 3 (ipykernel)",
   "language": "python",
   "name": "python3"
  },
  "language_info": {
   "codemirror_mode": {
    "name": "ipython",
    "version": 3
   },
   "file_extension": ".py",
   "mimetype": "text/x-python",
   "name": "python",
   "nbconvert_exporter": "python",
   "pygments_lexer": "ipython3",
   "version": "3.10.6"
  }
 },
 "nbformat": 4,
 "nbformat_minor": 5
}
