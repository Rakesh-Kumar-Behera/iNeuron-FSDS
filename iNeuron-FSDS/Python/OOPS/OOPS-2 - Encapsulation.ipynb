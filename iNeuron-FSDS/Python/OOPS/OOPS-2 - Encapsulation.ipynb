{
 "cells": [
  {
   "cell_type": "markdown",
   "id": "7a92b58d-75cf-437a-88f2-1cc86fec4219",
   "metadata": {},
   "source": [
    "#### OOPs Properties"
   ]
  },
  {
   "cell_type": "markdown",
   "id": "8905e189-d545-4add-a6ba-fbab5cb187e3",
   "metadata": {},
   "source": [
    "### Encapsulation"
   ]
  },
  {
   "cell_type": "markdown",
   "id": "129deca7-18da-45f3-a359-e6fa33c746a4",
   "metadata": {},
   "source": [
    "- Encapsulation is one of the most fundamental concepts in object-oriented programming (OOP). This is the concept of wrapping data and methods that work with data in one unit. This prevents data modification accidentally by limiting access to variables and methods. An object's method can change a variable's value to prevent accidental changes. These variables are called private variables."
   ]
  },
  {
   "cell_type": "markdown",
   "id": "86d30eb6-c37f-44a1-8420-0916291b0db1",
   "metadata": {},
   "source": [
    "<b>What is Encapsulation in Python?</b>\n",
    "- Encapsulation in Python describes the concept of bundling data and methods within a single unit. So, for example, when you create a class, it means you are implementing encapsulation. A class is an example of encapsulation as it binds all the data members (instance variables) and methods into a single unit."
   ]
  },
  {
   "cell_type": "code",
   "execution_count": 1,
   "id": "0c9d2378-898a-4c3c-b6c5-d6feb39ea3e7",
   "metadata": {},
   "outputs": [
    {
     "name": "stdout",
     "output_type": "stream",
     "text": [
      "Name:  Jessa Salary: 8000\n",
      "Jessa is working on NLP\n"
     ]
    }
   ],
   "source": [
    "class Employee:\n",
    "    # constructor\n",
    "    def __init__(self, name, salary, project):\n",
    "        # data members\n",
    "        self.name = name\n",
    "        self.salary = salary\n",
    "        self.project = project\n",
    "\n",
    "    # method\n",
    "    # to display employee's details\n",
    "    def show(self):\n",
    "        # accessing public data member\n",
    "        print(\"Name: \", self.name, 'Salary:', self.salary)\n",
    "\n",
    "    # method\n",
    "    def work(self):\n",
    "        print(self.name, 'is working on', self.project)\n",
    "\n",
    "# creating object of a class\n",
    "emp = Employee('Jessa', 8000, 'NLP')\n",
    "\n",
    "# calling public method of the class\n",
    "emp.show()\n",
    "emp.work()"
   ]
  },
  {
   "cell_type": "markdown",
   "id": "727b692d-d0d4-4114-ad26-73500adbbd30",
   "metadata": {},
   "source": [
    "- Encapsulation allows us to restrict accessing variables and methods directly and prevent accidental data modification by creating private data members and methods within a class.\n",
    "\n",
    "- Encapsulation is a way to can restrict access to methods and variables from outside of class. Whenever we are working with the class and dealing with sensitive data, providing access to all variables used within the class is not a good choice."
   ]
  },
  {
   "cell_type": "markdown",
   "id": "06f1a667-58ec-4ef8-8d7c-eef274f40d2c",
   "metadata": {},
   "source": [
    "### Access Modifiers in Python\n",
    "> Encapsulation can be achieved by declaring the data members and methods of a class either as `private or protected`. But In Python, we don’t have direct access modifiers like public, private, and protected. We can achieve this by using `single underscore` and `double underscores`.\n",
    "\n",
    "Access modifiers limit access to the variables and methods of a class. Python provides three types of access modifiers private, public, and protected.\n",
    "\n",
    "- <b>Public Member</b> : <i>Accessible anywhere from outside class.</i>\n",
    "- <b>Private Member</b> : <i>Accessible within the class </i>\n",
    "- <b>Protected Member</b> : <i>Accessible within the class and its sub-classes</i>"
   ]
  },
  {
   "cell_type": "code",
   "execution_count": 3,
   "id": "9c80e254-1ec8-4cc1-98aa-63edcde3dc10",
   "metadata": {},
   "outputs": [],
   "source": [
    "#Data hiding using Encapsulation or access modifiers\n",
    "class Employee:\n",
    "    \n",
    "    def __init__(self,name,project,salary):\n",
    "        self.name = name    # Public member -> accessible within or outside of a class\n",
    "        self._project = project # protected member ---> accessible with in the class and it's sub-class\n",
    "        self.__salary = salary  # Private Member -> accessible only with in a class"
   ]
  },
  {
   "cell_type": "code",
   "execution_count": 4,
   "id": "008e6f52-7fdf-4ba7-a583-9d745bb1d0ab",
   "metadata": {},
   "outputs": [
    {
     "name": "stdout",
     "output_type": "stream",
     "text": [
      "Name:  Jessa Salary: 10000\n",
      "Name:  Jessa Salary: 10000\n"
     ]
    }
   ],
   "source": [
    "### Public Member\n",
    "\n",
    "# Public data members are accessible within and outside of a class. All member variables of the class are by default public.\n",
    "class Employee:\n",
    "    # constructor\n",
    "    def __init__(self, name, salary):\n",
    "        # public data members\n",
    "        self.name = name\n",
    "        self.salary = salary\n",
    "\n",
    "    # public instance methods\n",
    "    def show(self):\n",
    "        # accessing public data member\n",
    "        print(\"Name: \", self.name, 'Salary:', self.salary)\n",
    "\n",
    "# creating object of a class\n",
    "emp = Employee('Jessa', 10000)\n",
    "\n",
    "# accessing public data members\n",
    "print(\"Name: \", emp.name, 'Salary:', emp.salary)\n",
    "\n",
    "# calling public method of the class\n",
    "emp.show()"
   ]
  },
  {
   "cell_type": "markdown",
   "id": "4d4ca816-8fd0-4daf-a250-d7aa94eee9fc",
   "metadata": {},
   "source": [
    "#### Private Member\n",
    "- We can protect variables in the class by marking them private. To define a private variable add two underscores as a prefix at the start of a variable name.\n",
    "\n",
    "- Private members are accessible only within the class, and we can’t access them directly from the class objects."
   ]
  },
  {
   "cell_type": "code",
   "execution_count": 10,
   "id": "35520429-c751-4645-b6fa-687835a3ceb4",
   "metadata": {},
   "outputs": [
    {
     "ename": "AttributeError",
     "evalue": "'Employee' object has no attribute '__salary'",
     "output_type": "error",
     "traceback": [
      "\u001b[0;31m---------------------------------------------------------------------------\u001b[0m",
      "\u001b[0;31mAttributeError\u001b[0m                            Traceback (most recent call last)",
      "Cell \u001b[0;32mIn [10], line 13\u001b[0m\n\u001b[1;32m     10\u001b[0m emp \u001b[38;5;241m=\u001b[39m Employee(\u001b[38;5;124m'\u001b[39m\u001b[38;5;124mJessa\u001b[39m\u001b[38;5;124m'\u001b[39m, \u001b[38;5;241m10000\u001b[39m)\n\u001b[1;32m     12\u001b[0m \u001b[38;5;66;03m# accessing private data members\u001b[39;00m\n\u001b[0;32m---> 13\u001b[0m \u001b[38;5;28mprint\u001b[39m(\u001b[38;5;124m'\u001b[39m\u001b[38;5;124mSalary:\u001b[39m\u001b[38;5;124m'\u001b[39m, \u001b[43memp\u001b[49m\u001b[38;5;241;43m.\u001b[39;49m\u001b[43m__salary\u001b[49m)\n",
      "\u001b[0;31mAttributeError\u001b[0m: 'Employee' object has no attribute '__salary'"
     ]
    }
   ],
   "source": [
    "class Employee:\n",
    "    # constructor\n",
    "    def __init__(self, name, salary):\n",
    "        # public data member\n",
    "        self.name = name\n",
    "        # private member\n",
    "        self.__salary = salary #private member\n",
    "\n",
    "# creating object of a class\n",
    "emp = Employee('Jessa', 10000)\n",
    "\n",
    "# accessing private data members\n",
    "print('Salary:', emp.__salary) # can't be accessed outside the class"
   ]
  },
  {
   "cell_type": "markdown",
   "id": "5822a35e-035d-49da-8f91-28d0d47fe991",
   "metadata": {},
   "source": [
    "- We can access private members from outside of a class using the following two approaches\n",
    "\n",
    "1. public method to access private members\n",
    "2. Use name mangling"
   ]
  },
  {
   "cell_type": "code",
   "execution_count": 11,
   "id": "9b2c2e12-1e2f-4e3d-9aab-d1c3687ffbed",
   "metadata": {},
   "outputs": [
    {
     "name": "stdout",
     "output_type": "stream",
     "text": [
      "Name:  Jessa Salary: 10000\n"
     ]
    }
   ],
   "source": [
    "# Public method to access private members\n",
    "# Access Private member outside of a class using an instance method\n",
    " \n",
    "class Employee:\n",
    "    # constructor\n",
    "    def __init__(self, name, salary):\n",
    "        # public data member\n",
    "        self.name = name\n",
    "        # private member\n",
    "        self.__salary = salary\n",
    "\n",
    "    # public instance methods\n",
    "    def show(self):\n",
    "        # private members are accessible from a class\n",
    "        print(\"Name: \", self.name, 'Salary:', self.__salary)\n",
    "\n",
    "# creating object of a class\n",
    "emp = Employee('Jessa', 10000)\n",
    "\n",
    "# calling public method of the class\n",
    "emp.show()"
   ]
  },
  {
   "cell_type": "markdown",
   "id": "913d9ce6-d9bb-4dc5-b6dc-f5b4589c08fe",
   "metadata": {},
   "source": [
    "#### Name Mangling to access private members\n",
    "> We can directly access private and protected variables from outside of a class through name mangling. The name mangling is created on an identifier by adding two leading underscores and one trailing underscore, like this `_classname__dataMember`, where classname is the current class, and data member is the private variable name."
   ]
  },
  {
   "cell_type": "code",
   "execution_count": 12,
   "id": "ef2a0aea-69c9-43bb-8d14-cb560d1a257d",
   "metadata": {},
   "outputs": [
    {
     "name": "stdout",
     "output_type": "stream",
     "text": [
      "Name: Jessa\n",
      "Salary: 10000\n"
     ]
    }
   ],
   "source": [
    "class Employee:\n",
    "    # constructor\n",
    "    def __init__(self, name, salary):\n",
    "        # public data member\n",
    "        self.name = name\n",
    "        # private member\n",
    "        self.__salary = salary\n",
    "\n",
    "# creating object of a class\n",
    "emp = Employee('Jessa', 10000)\n",
    "\n",
    "print('Name:', emp.name)\n",
    "# direct access to private member using name mangling\n",
    "print('Salary:', emp._Employee__salary)"
   ]
  },
  {
   "cell_type": "code",
   "execution_count": 14,
   "id": "301387f0-ad53-4226-af06-74ae4e95efd4",
   "metadata": {},
   "outputs": [
    {
     "data": {
      "text/plain": [
       "10000"
      ]
     },
     "execution_count": 14,
     "metadata": {},
     "output_type": "execute_result"
    }
   ],
   "source": [
    "#obj_name._className__attributeName\n",
    "emp._Employee__salary #name mangling "
   ]
  },
  {
   "cell_type": "markdown",
   "id": "d3ae7488-be2b-495f-b79f-0327cca49385",
   "metadata": {},
   "source": [
    "#### Protected Member\n",
    "- Protected members are accessible within the class and also available to its sub-classes. To define a protected member, prefix the member name with a `single underscore _`.\n",
    "\n",
    "- Protected data members are used when you implement inheritance and want to allow data members access to only child classes."
   ]
  },
  {
   "cell_type": "code",
   "execution_count": 15,
   "id": "37c1eb32-e226-42f6-9010-8e6e8437622d",
   "metadata": {},
   "outputs": [
    {
     "name": "stdout",
     "output_type": "stream",
     "text": [
      "Employee name : Jessa\n",
      "Working on project : NLP\n",
      "Project: NLP\n"
     ]
    }
   ],
   "source": [
    "# base class\n",
    "class Company:\n",
    "    def __init__(self):\n",
    "        # Protected member\n",
    "        self._project = \"NLP\"\n",
    "\n",
    "# child class\n",
    "class Employee(Company):\n",
    "    def __init__(self, name):\n",
    "        self.name = name\n",
    "        Company.__init__(self)\n",
    "\n",
    "    def show(self):\n",
    "        print(\"Employee name :\", self.name)\n",
    "        # Accessing protected member in child class\n",
    "        print(\"Working on project :\", self._project)\n",
    "\n",
    "c = Employee(\"Jessa\")\n",
    "c.show()\n",
    "\n",
    "# Direct access protected data member\n",
    "print('Project:', c._project)"
   ]
  },
  {
   "cell_type": "markdown",
   "id": "d01cd4f9-0ca6-4ee6-b3ad-427a7fc9b9b8",
   "metadata": {},
   "source": [
    "#### Getters and Setters in Python\n",
    "> To implement proper encapsulation in Python, we need to use setters and getters. The primary purpose of using getters and setters in object-oriented programs is to ensure data encapsulation. \n",
    "- Use the getter method to access data members and the setter methods to modify the data members."
   ]
  },
  {
   "cell_type": "markdown",
   "id": "d73d93ec-bf8f-48da-84b2-6152d4179fef",
   "metadata": {},
   "source": [
    "The getters and setters methods are often used when:\n",
    "\n",
    "\n",
    "- When we want to avoid direct access to private variables\n",
    "- To add validation logic for setting a value"
   ]
  },
  {
   "cell_type": "code",
   "execution_count": 17,
   "id": "6407c4d4-f1b6-4297-9f60-b8ba9ca28c33",
   "metadata": {},
   "outputs": [
    {
     "name": "stdout",
     "output_type": "stream",
     "text": [
      "Name: Jessa 14\n",
      "Name: Jessa 16\n"
     ]
    }
   ],
   "source": [
    "class Student:\n",
    "    def __init__(self, name, age):\n",
    "        # private member\n",
    "        self.name = name\n",
    "        self.__age = age\n",
    "\n",
    "    # getter method\n",
    "    def get_age(self):\n",
    "        return self.__age\n",
    "\n",
    "    # setter method\n",
    "    def set_age(self, age):\n",
    "        self.__age = age\n",
    "\n",
    "stud = Student('Jessa', 14)\n",
    "\n",
    "# retrieving age using getter\n",
    "print('Name:', stud.name, stud.get_age())\n",
    "\n",
    "# changing age using setter\n",
    "stud.set_age(16)\n",
    "\n",
    "# retrieving age using getter\n",
    "print('Name:', stud.name, stud.get_age())"
   ]
  },
  {
   "cell_type": "code",
   "execution_count": 18,
   "id": "ffdad3bd-8d36-4ed2-a7e9-d9ef65e5d1d7",
   "metadata": {},
   "outputs": [
    {
     "name": "stdout",
     "output_type": "stream",
     "text": [
      "Student Details: Jessa 10\n",
      "Invalid roll no. Please set correct roll number\n",
      "Student Details: Jessa 25\n"
     ]
    }
   ],
   "source": [
    "class Student:\n",
    "    def __init__(self, name, roll_no, age):\n",
    "        # private member\n",
    "        self.name = name\n",
    "        # private members to restrict access\n",
    "        # avoid direct data modification\n",
    "        self.__roll_no = roll_no\n",
    "        self.__age = age\n",
    "\n",
    "    def show(self):\n",
    "        print('Student Details:', self.name, self.__roll_no)\n",
    "\n",
    "    # getter methods\n",
    "    def get_roll_no(self):\n",
    "        return self.__roll_no\n",
    "\n",
    "    # setter method to modify data member\n",
    "    # condition to allow data modification with rules\n",
    "    def set_roll_no(self, number):\n",
    "        if number > 50:\n",
    "            print('Invalid roll no. Please set correct roll number')\n",
    "        else:\n",
    "            self.__roll_no = number\n",
    "\n",
    "jessa = Student('Jessa', 10, 15)\n",
    "\n",
    "# before Modify\n",
    "jessa.show()\n",
    "# changing roll number using setter\n",
    "jessa.set_roll_no(120)\n",
    "\n",
    "\n",
    "jessa.set_roll_no(25)\n",
    "jessa.show()"
   ]
  },
  {
   "cell_type": "code",
   "execution_count": 20,
   "id": "c8d9640d-1def-4f24-a290-31ffcedf5237",
   "metadata": {},
   "outputs": [],
   "source": [
    "class Rectangle:\n",
    "    \n",
    "    __length = 0\n",
    "    __breadth = 0\n",
    "    \n",
    "    def __init__(self):\n",
    "        self.__length = 5\n",
    "        self.__breadth = 3\n",
    "        \n",
    "        print(self.__length)\n",
    "        print(self.__breadth)\n",
    "        "
   ]
  },
  {
   "cell_type": "code",
   "execution_count": 22,
   "id": "6bb04d1a-93cb-44ae-9128-a527c7a3aea2",
   "metadata": {},
   "outputs": [
    {
     "name": "stdout",
     "output_type": "stream",
     "text": [
      "5\n",
      "3\n"
     ]
    }
   ],
   "source": [
    "r1 = Rectangle()"
   ]
  },
  {
   "cell_type": "code",
   "execution_count": 23,
   "id": "83aeeea2-524b-464b-807b-b8750b374de9",
   "metadata": {},
   "outputs": [
    {
     "ename": "AttributeError",
     "evalue": "'Rectangle' object has no attribute 'length'",
     "output_type": "error",
     "traceback": [
      "\u001b[0;31m---------------------------------------------------------------------------\u001b[0m",
      "\u001b[0;31mAttributeError\u001b[0m                            Traceback (most recent call last)",
      "Cell \u001b[0;32mIn [23], line 1\u001b[0m\n\u001b[0;32m----> 1\u001b[0m \u001b[43mr1\u001b[49m\u001b[38;5;241;43m.\u001b[39;49m\u001b[43mlength\u001b[49m\n",
      "\u001b[0;31mAttributeError\u001b[0m: 'Rectangle' object has no attribute 'length'"
     ]
    }
   ],
   "source": [
    "r1.length"
   ]
  },
  {
   "cell_type": "code",
   "execution_count": 30,
   "id": "6a415ff7-5548-4687-9bc9-1f32b82038c4",
   "metadata": {},
   "outputs": [],
   "source": [
    "class Rectangle:\n",
    "    \n",
    "    #__length = 0\n",
    "    #__breadth = 0\n",
    "    \n",
    "    def __init__(self):\n",
    "        self.length = 5 #public\n",
    "        self.__breadth = 3 #private\n",
    "        \n",
    "        print(self.length)\n",
    "        print(self.__breadth)\n",
    "        "
   ]
  },
  {
   "cell_type": "code",
   "execution_count": 31,
   "id": "57136552-19d6-41a3-8658-f015ac0c1ad5",
   "metadata": {},
   "outputs": [
    {
     "name": "stdout",
     "output_type": "stream",
     "text": [
      "5\n",
      "3\n"
     ]
    }
   ],
   "source": [
    "r2 = Rectangle()"
   ]
  },
  {
   "cell_type": "code",
   "execution_count": 32,
   "id": "e803075f-a4f4-4290-89c3-252c94ba353d",
   "metadata": {},
   "outputs": [
    {
     "data": {
      "text/plain": [
       "5"
      ]
     },
     "execution_count": 32,
     "metadata": {},
     "output_type": "execute_result"
    }
   ],
   "source": [
    "r2.length #public"
   ]
  },
  {
   "cell_type": "code",
   "execution_count": 33,
   "id": "af5c113c-0635-435f-b234-d51edf90feed",
   "metadata": {},
   "outputs": [
    {
     "ename": "AttributeError",
     "evalue": "'Rectangle' object has no attribute 'breadth'",
     "output_type": "error",
     "traceback": [
      "\u001b[0;31m---------------------------------------------------------------------------\u001b[0m",
      "\u001b[0;31mAttributeError\u001b[0m                            Traceback (most recent call last)",
      "Cell \u001b[0;32mIn [33], line 1\u001b[0m\n\u001b[0;32m----> 1\u001b[0m \u001b[43mr2\u001b[49m\u001b[38;5;241;43m.\u001b[39;49m\u001b[43mbreadth\u001b[49m\n",
      "\u001b[0;31mAttributeError\u001b[0m: 'Rectangle' object has no attribute 'breadth'"
     ]
    }
   ],
   "source": [
    "r2.breadth #private"
   ]
  },
  {
   "cell_type": "code",
   "execution_count": 44,
   "id": "29b384c5-2565-463b-ac5c-efbf856b5a5b",
   "metadata": {},
   "outputs": [
    {
     "name": "stdout",
     "output_type": "stream",
     "text": [
      "5\n"
     ]
    },
    {
     "ename": "AttributeError",
     "evalue": "'Rectangle' object has no attribute '__breadth'",
     "output_type": "error",
     "traceback": [
      "\u001b[0;31m---------------------------------------------------------------------------\u001b[0m",
      "\u001b[0;31mAttributeError\u001b[0m                            Traceback (most recent call last)",
      "Cell \u001b[0;32mIn [44], line 17\u001b[0m\n\u001b[1;32m     15\u001b[0m rect \u001b[38;5;241m=\u001b[39m Rectangle()\n\u001b[1;32m     16\u001b[0m \u001b[38;5;28mprint\u001b[39m(rect\u001b[38;5;241m.\u001b[39mlength)\n\u001b[0;32m---> 17\u001b[0m \u001b[38;5;28mprint\u001b[39m(\u001b[43mrect\u001b[49m\u001b[38;5;241;43m.\u001b[39;49m\u001b[43m__breadth\u001b[49m)\n",
      "\u001b[0;31mAttributeError\u001b[0m: 'Rectangle' object has no attribute '__breadth'"
     ]
    }
   ],
   "source": [
    "class Rectangle:\n",
    "   \n",
    "    \n",
    "    def __init__(self):\n",
    "        self.length = 5 #public\n",
    "        self.__breadth = 3 #private\n",
    "        \n",
    "        #print(self.length)\n",
    "        #print(self.__breadth)\n",
    "        \n",
    "    def show(self):\n",
    "        print(\"This is printing private variable, Breath =\",self.__breadth)\n",
    "       \n",
    "    \n",
    "rect = Rectangle()\n",
    "print(rect.length)\n",
    "print(rect.__breadth)\n",
    "        "
   ]
  },
  {
   "cell_type": "code",
   "execution_count": 48,
   "id": "ae48328e-9c90-44e8-8c81-217e63860278",
   "metadata": {},
   "outputs": [
    {
     "name": "stdout",
     "output_type": "stream",
     "text": [
      "This is printing private variable, Breath = 3\n"
     ]
    }
   ],
   "source": [
    "rect.show() # accessing private variable using public method"
   ]
  },
  {
   "cell_type": "code",
   "execution_count": 49,
   "id": "7871b797-f94b-4cdd-b3db-a6bf02cd3d55",
   "metadata": {},
   "outputs": [
    {
     "data": {
      "text/plain": [
       "3"
      ]
     },
     "execution_count": 49,
     "metadata": {},
     "output_type": "execute_result"
    }
   ],
   "source": [
    "# accesing private variable outside the class\n",
    "rect._Rectangle__breadth #name mangling"
   ]
  },
  {
   "cell_type": "code",
   "execution_count": null,
   "id": "fadadee4-5d87-4196-9d17-22b0652f2aa4",
   "metadata": {},
   "outputs": [],
   "source": []
  },
  {
   "cell_type": "code",
   "execution_count": 4,
   "id": "f3f7faa8-f239-4f4a-addc-c92acdc316ab",
   "metadata": {},
   "outputs": [],
   "source": [
    " class Tyres:\n",
    "    def __init__(self,branch,belted_bias,opt_pressure):\n",
    "        self.branch=branch\n",
    "        self.belted_bias=belted_bias\n",
    "        self.opt_pressure=opt_pressure\n",
    "        \n",
    "    def __str__(self):\n",
    "        return (\"Tyres: \\n \\tBranch : \" + self.branch +\n",
    "               \"\\n \\t Belted-bias : \" + str(self.belted_bias) +\n",
    "               \"\\n \\t optimal pressure : \" + str(self.opt_pressure))\n",
    "    \n",
    "    \n",
    "    \n",
    "    \n",
    "class Engine:\n",
    "    def __init__(self,fuel_type,noise_level):\n",
    "        self.fuel_type=fuel_type\n",
    "        self.noise_level=noise_level\n",
    "        \n",
    "    def __str__(self):\n",
    "        return (\"Engine: \\n \\tFuel type : \" + self.fuel_type +\n",
    "               \"\\n \\t Noise level :\" + str(self.noise_level))\n",
    "    \n",
    "\n",
    "    \n",
    "class Body:\n",
    "    \n",
    "    def __init__(self,size):\n",
    "        self.size=size\n",
    "        \n",
    "    def __str__(self):\n",
    "        return (\"Body:\\n \\t size : \" + self.size)\n",
    "    \n",
    "\n",
    "\n",
    "    \n",
    "class Car:\n",
    "    \n",
    "    def __init__(self,tyres,engine,body):\n",
    "        \n",
    "        self.tyres=tyres\n",
    "        self.engine=engine\n",
    "        self.body=body\n",
    "        \n",
    "    def __str__(self):\n",
    "        return (str(self.tyres) + \"\\n\" + str(self.engine) + \"\\n\" + str(self.body))"
   ]
  },
  {
   "cell_type": "code",
   "execution_count": 5,
   "id": "539ff21e-f38d-4854-866b-8c76fe8b261a",
   "metadata": {},
   "outputs": [],
   "source": [
    "t=Tyres('banaglore',True,2.0)\n",
    "e=Engine('Desel',3)\n",
    "b=Body('Medium')"
   ]
  },
  {
   "cell_type": "code",
   "execution_count": 6,
   "id": "8e38ea4e-0d98-43d3-bf69-6117b0d1543a",
   "metadata": {},
   "outputs": [
    {
     "name": "stdout",
     "output_type": "stream",
     "text": [
      "Tyres: \n",
      " \tBranch : banaglore\n",
      " \t Belted-bias : True\n",
      " \t optimal pressure : 2.0\n",
      "Engine: \n",
      " \tFuel type : Desel\n",
      " \t Noise level :3\n",
      "Body:\n",
      " \t size : Medium\n"
     ]
    }
   ],
   "source": [
    "c=Car(t,e,b)\n",
    "print(c)"
   ]
  },
  {
   "cell_type": "code",
   "execution_count": null,
   "id": "ae0a83b5-fbf0-4221-90fd-67bc45cf73ad",
   "metadata": {},
   "outputs": [],
   "source": []
  }
 ],
 "metadata": {
  "kernelspec": {
   "display_name": "Python 3 (ipykernel)",
   "language": "python",
   "name": "python3"
  },
  "language_info": {
   "codemirror_mode": {
    "name": "ipython",
    "version": 3
   },
   "file_extension": ".py",
   "mimetype": "text/x-python",
   "name": "python",
   "nbconvert_exporter": "python",
   "pygments_lexer": "ipython3",
   "version": "3.10.6"
  }
 },
 "nbformat": 4,
 "nbformat_minor": 5
}
