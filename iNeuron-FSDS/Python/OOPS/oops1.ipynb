{
 "cells": [
  {
   "cell_type": "markdown",
   "id": "2ff04d78",
   "metadata": {},
   "source": [
    "### OOPS concept"
   ]
  },
  {
   "cell_type": "markdown",
   "id": "b9f92815",
   "metadata": {},
   "source": [
    "- **Class** : is a blue print or a code template for object creation\n",
    "- **Object** : An object is an instance of a class"
   ]
  },
  {
   "cell_type": "markdown",
   "id": "57589d63",
   "metadata": {},
   "source": [
    "- Properties of object --> attributes, instance variable\n",
    "- Functionality of object --> methods/function()"
   ]
  },
  {
   "cell_type": "code",
   "execution_count": 1,
   "id": "1cb386a2",
   "metadata": {},
   "outputs": [],
   "source": [
    "class Emp: # providing the Class name with the First Char in Capital letter is a good practice\n",
    "    pass"
   ]
  },
  {
   "cell_type": "code",
   "execution_count": 4,
   "id": "e24ffdae",
   "metadata": {},
   "outputs": [],
   "source": [
    "e = Emp() #creating object"
   ]
  },
  {
   "cell_type": "code",
   "execution_count": 3,
   "id": "c6c77046",
   "metadata": {},
   "outputs": [
    {
     "name": "stdout",
     "output_type": "stream",
     "text": [
      "<class '__main__.Emp'>\n"
     ]
    }
   ],
   "source": [
    "print(type(e))"
   ]
  },
  {
   "cell_type": "code",
   "execution_count": 5,
   "id": "6d219dff",
   "metadata": {},
   "outputs": [
    {
     "data": {
      "text/plain": [
       "2272691678128"
      ]
     },
     "execution_count": 5,
     "metadata": {},
     "output_type": "execute_result"
    }
   ],
   "source": [
    "id(e)"
   ]
  },
  {
   "cell_type": "code",
   "execution_count": 6,
   "id": "c02484f9",
   "metadata": {},
   "outputs": [],
   "source": [
    "class Robot:\n",
    "    \n",
    "    def introduce_self(self):\n",
    "        print(\"My name is \" + self.name)"
   ]
  },
  {
   "cell_type": "code",
   "execution_count": 7,
   "id": "d38a6ed6",
   "metadata": {},
   "outputs": [],
   "source": [
    "r1 = Robot()"
   ]
  },
  {
   "cell_type": "code",
   "execution_count": 10,
   "id": "8f7864d6",
   "metadata": {},
   "outputs": [],
   "source": [
    "r1.name = \"Chitti\""
   ]
  },
  {
   "cell_type": "code",
   "execution_count": 11,
   "id": "3ecbabbb",
   "metadata": {},
   "outputs": [
    {
     "name": "stdout",
     "output_type": "stream",
     "text": [
      "My name is Chitti\n"
     ]
    }
   ],
   "source": [
    "r1.introduce_self()"
   ]
  },
  {
   "cell_type": "code",
   "execution_count": 12,
   "id": "d0e51397",
   "metadata": {},
   "outputs": [],
   "source": [
    "r2 = Robot()"
   ]
  },
  {
   "cell_type": "code",
   "execution_count": 13,
   "id": "932ebb24",
   "metadata": {},
   "outputs": [],
   "source": [
    "r2.name = 'inuro'"
   ]
  },
  {
   "cell_type": "code",
   "execution_count": 14,
   "id": "d7adc752",
   "metadata": {},
   "outputs": [
    {
     "name": "stdout",
     "output_type": "stream",
     "text": [
      "My name is inuro\n"
     ]
    }
   ],
   "source": [
    "r2.introduce_self()"
   ]
  },
  {
   "cell_type": "code",
   "execution_count": 15,
   "id": "41a83499",
   "metadata": {},
   "outputs": [
    {
     "data": {
      "text/plain": [
       "['__class__',\n",
       " '__delattr__',\n",
       " '__dict__',\n",
       " '__dir__',\n",
       " '__doc__',\n",
       " '__eq__',\n",
       " '__format__',\n",
       " '__ge__',\n",
       " '__getattribute__',\n",
       " '__gt__',\n",
       " '__hash__',\n",
       " '__init__',\n",
       " '__init_subclass__',\n",
       " '__le__',\n",
       " '__lt__',\n",
       " '__module__',\n",
       " '__ne__',\n",
       " '__new__',\n",
       " '__reduce__',\n",
       " '__reduce_ex__',\n",
       " '__repr__',\n",
       " '__setattr__',\n",
       " '__sizeof__',\n",
       " '__str__',\n",
       " '__subclasshook__',\n",
       " '__weakref__',\n",
       " 'introduce_self',\n",
       " 'name']"
      ]
     },
     "execution_count": 15,
     "metadata": {},
     "output_type": "execute_result"
    }
   ],
   "source": [
    "dir(r1)"
   ]
  },
  {
   "cell_type": "raw",
   "id": "45d2db73",
   "metadata": {},
   "source": [
    " The __init__() Function"
   ]
  },
  {
   "cell_type": "markdown",
   "id": "202bba47",
   "metadata": {},
   "source": [
    "- All classes have a function called `__init__()`, which is always executed when the class is being initiated.\n",
    "\n",
    "- Use the `__init__()` function to assign values to object properties, or other operations that are necessary to do when the object is being created:"
   ]
  },
  {
   "cell_type": "code",
   "execution_count": 16,
   "id": "872f454f",
   "metadata": {},
   "outputs": [
    {
     "name": "stdout",
     "output_type": "stream",
     "text": [
      "John\n",
      "36\n"
     ]
    }
   ],
   "source": [
    "class Person:\n",
    "    def __init__(self, name, age):\n",
    "        self.name = name\n",
    "        self.age = age\n",
    "\n",
    "p1 = Person(\"John\", 36)\n",
    "\n",
    "print(p1.name)\n",
    "print(p1.age)"
   ]
  },
  {
   "cell_type": "markdown",
   "id": "855a0427",
   "metadata": {},
   "source": [
    "**Note**: The `__init__()` function is called automatically every time the class is being used to create a new object."
   ]
  },
  {
   "cell_type": "raw",
   "id": "1241c043",
   "metadata": {},
   "source": [
    "The __str__() Function"
   ]
  },
  {
   "cell_type": "markdown",
   "id": "28286e8b",
   "metadata": {},
   "source": [
    "- The `__str__()` function controls what should be returned when the class object is represented as a string.\n",
    "\n",
    "- If the `__str__()` function is not set, the string representation of the object is returned:"
   ]
  },
  {
   "cell_type": "raw",
   "id": "4ad28c6e",
   "metadata": {},
   "source": [
    "The string representation of an object WITHOUT the __str__() function:"
   ]
  },
  {
   "cell_type": "code",
   "execution_count": 18,
   "id": "1f30bd77",
   "metadata": {},
   "outputs": [
    {
     "name": "stdout",
     "output_type": "stream",
     "text": [
      "<__main__.Person object at 0x0000021128EC4340>\n"
     ]
    }
   ],
   "source": [
    "class Person:\n",
    "    def __init__(self, name, age):\n",
    "        self.name = name\n",
    "        self.age = age\n",
    "\n",
    "p1 = Person(\"John\", 36)\n",
    "\n",
    "print(p1)"
   ]
  },
  {
   "cell_type": "raw",
   "id": "4cd293d3",
   "metadata": {},
   "source": [
    "The string representation of an object WITH the __str__() function:"
   ]
  },
  {
   "cell_type": "code",
   "execution_count": 19,
   "id": "5eb804f5",
   "metadata": {},
   "outputs": [
    {
     "name": "stdout",
     "output_type": "stream",
     "text": [
      "John(36)\n"
     ]
    }
   ],
   "source": [
    "class Person:\n",
    "    def __init__(self, name, age):\n",
    "        self.name = name\n",
    "        self.age = age\n",
    "        \n",
    "    def __str__(self):\n",
    "        return f\"{self.name}({self.age})\"\n",
    "\n",
    "p1 = Person(\"John\", 36)\n",
    "\n",
    "print(p1)"
   ]
  },
  {
   "cell_type": "markdown",
   "id": "91e2136b",
   "metadata": {},
   "source": [
    "### Object Methods\n",
    "\n",
    "Objects can also contain methods. Methods in objects are functions that belong to the object.\n",
    "\n",
    "Let us create a method in the Person class:"
   ]
  },
  {
   "cell_type": "code",
   "execution_count": 20,
   "id": "c57ab311",
   "metadata": {},
   "outputs": [
    {
     "name": "stdout",
     "output_type": "stream",
     "text": [
      "Hello my name is John\n"
     ]
    }
   ],
   "source": [
    "class Person:\n",
    "    def __init__(self, name, age):\n",
    "        self.name = name\n",
    "        self.age = age\n",
    "        \n",
    "    def myfunc(self):\n",
    "        print(\"Hello my name is \" + self.name)\n",
    "\n",
    "p1 = Person(\"John\", 36)\n",
    "p1.myfunc()"
   ]
  },
  {
   "cell_type": "markdown",
   "id": "fba0c6da",
   "metadata": {},
   "source": [
    "- **Note**: The self parameter is a reference to the current instance of the class, and is used to access variables that belong to the class."
   ]
  },
  {
   "cell_type": "markdown",
   "id": "8d5e25c9",
   "metadata": {},
   "source": [
    "#### The self Parameter\n",
    "\n",
    "The **self** parameter is a reference to the current instance of the class, and is used to access variables that belongs to the class.\n",
    "\n",
    "**It does not have to be named self** , you can call it whatever you like, but it has to be the first parameter of any function in the class:"
   ]
  },
  {
   "cell_type": "code",
   "execution_count": 21,
   "id": "dcbeb45f",
   "metadata": {},
   "outputs": [],
   "source": [
    "class Robot:\n",
    "    \n",
    "    def __init__(self, name, color, weight):\n",
    "        self.name = name\n",
    "        self.color = color\n",
    "        self.weight = weight\n",
    "        \n",
    "    def introduce_self(self):\n",
    "        print(\"My name is \" + self.name)"
   ]
  },
  {
   "cell_type": "code",
   "execution_count": 22,
   "id": "ddec474b",
   "metadata": {},
   "outputs": [],
   "source": [
    "r1 = Robot(\"abc\" , \"red\" , 300)"
   ]
  },
  {
   "cell_type": "code",
   "execution_count": 23,
   "id": "689ad590",
   "metadata": {},
   "outputs": [],
   "source": [
    "r2 = Robot(\"xyz\" , \"blue\" , 40)"
   ]
  },
  {
   "cell_type": "code",
   "execution_count": 24,
   "id": "dccb61ec",
   "metadata": {},
   "outputs": [
    {
     "name": "stdout",
     "output_type": "stream",
     "text": [
      "My name is abc\n"
     ]
    }
   ],
   "source": [
    "r1.introduce_self()"
   ]
  },
  {
   "cell_type": "code",
   "execution_count": 25,
   "id": "da6e03fd",
   "metadata": {},
   "outputs": [
    {
     "data": {
      "text/plain": [
       "'blue'"
      ]
     },
     "execution_count": 25,
     "metadata": {},
     "output_type": "execute_result"
    }
   ],
   "source": [
    "r2.color"
   ]
  },
  {
   "cell_type": "code",
   "execution_count": 26,
   "id": "6d04399f",
   "metadata": {},
   "outputs": [
    {
     "data": {
      "text/plain": [
       "40"
      ]
     },
     "execution_count": 26,
     "metadata": {},
     "output_type": "execute_result"
    }
   ],
   "source": [
    "r2.weight"
   ]
  },
  {
   "cell_type": "code",
   "execution_count": 34,
   "id": "0d874f58",
   "metadata": {},
   "outputs": [],
   "source": [
    "class Person:\n",
    "    \n",
    "    def __init__(self,name,gender,profession):\n",
    "        self.name = name\n",
    "        self.gender = gender\n",
    "        self.profession = profession\n",
    "        \n",
    "    def show(self):\n",
    "        print('Name :' , self.name , 'Gender :' , self.gender, 'Profession:' ,self.profession)\n",
    "        \n",
    "    def work(self):\n",
    "        print(self.name , 'working as a' ,self.profession)"
   ]
  },
  {
   "cell_type": "code",
   "execution_count": 35,
   "id": "bf07b08f",
   "metadata": {},
   "outputs": [],
   "source": [
    "p1 = Person(\"Rakesh\" , \"Male\" , \"Engineer\")"
   ]
  },
  {
   "cell_type": "code",
   "execution_count": 36,
   "id": "571f0844",
   "metadata": {},
   "outputs": [
    {
     "name": "stdout",
     "output_type": "stream",
     "text": [
      "Name : Rakesh Gender : Male Profession: Engineer\n"
     ]
    }
   ],
   "source": [
    "p1.show()"
   ]
  },
  {
   "cell_type": "code",
   "execution_count": 37,
   "id": "a0708095",
   "metadata": {},
   "outputs": [
    {
     "name": "stdout",
     "output_type": "stream",
     "text": [
      "Rakesh working as a Engineer\n"
     ]
    }
   ],
   "source": [
    "p1.work()"
   ]
  },
  {
   "cell_type": "code",
   "execution_count": 38,
   "id": "90e3a171",
   "metadata": {},
   "outputs": [
    {
     "data": {
      "text/plain": [
       "'raka'"
      ]
     },
     "execution_count": 38,
     "metadata": {},
     "output_type": "execute_result"
    }
   ],
   "source": [
    "#updating attribute\n",
    "p1.name = 'raka'\n",
    "p1.name"
   ]
  },
  {
   "cell_type": "code",
   "execution_count": 39,
   "id": "c896b69b",
   "metadata": {},
   "outputs": [],
   "source": [
    "class Emp:\n",
    "    \n",
    "    def __init__(self):\n",
    "        print(id(self))\n",
    "        self.age = 24\n",
    "        self.name = \"Rakesh\"\n",
    "        self.salary = 50000"
   ]
  },
  {
   "cell_type": "code",
   "execution_count": 40,
   "id": "1547a57a",
   "metadata": {},
   "outputs": [
    {
     "name": "stdout",
     "output_type": "stream",
     "text": [
      "2272726207168\n"
     ]
    }
   ],
   "source": [
    "e1 = Emp()"
   ]
  },
  {
   "cell_type": "code",
   "execution_count": 41,
   "id": "4c86d8d6",
   "metadata": {},
   "outputs": [
    {
     "data": {
      "text/plain": [
       "50000"
      ]
     },
     "execution_count": 41,
     "metadata": {},
     "output_type": "execute_result"
    }
   ],
   "source": [
    "e1.salary"
   ]
  },
  {
   "cell_type": "code",
   "execution_count": 42,
   "id": "d02a3423",
   "metadata": {},
   "outputs": [],
   "source": [
    "e1.salary = 67000"
   ]
  },
  {
   "cell_type": "code",
   "execution_count": 43,
   "id": "0c923fe2",
   "metadata": {},
   "outputs": [
    {
     "data": {
      "text/plain": [
       "67000"
      ]
     },
     "execution_count": 43,
     "metadata": {},
     "output_type": "execute_result"
    }
   ],
   "source": [
    "e1.salary"
   ]
  },
  {
   "cell_type": "code",
   "execution_count": 44,
   "id": "700263cb",
   "metadata": {},
   "outputs": [],
   "source": [
    "e1.weight = 60"
   ]
  },
  {
   "cell_type": "code",
   "execution_count": 45,
   "id": "1c35c367",
   "metadata": {},
   "outputs": [
    {
     "data": {
      "text/plain": [
       "60"
      ]
     },
     "execution_count": 45,
     "metadata": {},
     "output_type": "execute_result"
    }
   ],
   "source": [
    "e1.weight"
   ]
  },
  {
   "cell_type": "code",
   "execution_count": 50,
   "id": "749c3099",
   "metadata": {},
   "outputs": [],
   "source": [
    "# Using classes and object try to find the area and circumference of a circle\n",
    "import math\n",
    "\n",
    "class Circle:\n",
    "    \n",
    "    def __init__(self,radius):\n",
    "        self.radius = radius\n",
    "        \n",
    "    def area(self):\n",
    "        print(f\"Area of the circle : {math.pi * self.radius * self.radius}\")\n",
    "        \n",
    "    def circumference(self):\n",
    "        print(f\"Circumference of the circle : {2 * math.pi * self.radius}\")"
   ]
  },
  {
   "cell_type": "code",
   "execution_count": 51,
   "id": "2406c9e6",
   "metadata": {},
   "outputs": [],
   "source": [
    "c1 = Circle(7)"
   ]
  },
  {
   "cell_type": "code",
   "execution_count": 52,
   "id": "f776ecfb",
   "metadata": {},
   "outputs": [
    {
     "name": "stdout",
     "output_type": "stream",
     "text": [
      "Area of the circle : 153.93804002589985\n"
     ]
    }
   ],
   "source": [
    "c1.area()"
   ]
  },
  {
   "cell_type": "code",
   "execution_count": 54,
   "id": "f5650709",
   "metadata": {},
   "outputs": [
    {
     "name": "stdout",
     "output_type": "stream",
     "text": [
      "Circumference of the circle : 43.982297150257104\n"
     ]
    }
   ],
   "source": [
    "c1.circumference()"
   ]
  },
  {
   "cell_type": "raw",
   "id": "8715d740",
   "metadata": {},
   "source": [
    "Class - BankAccount\n",
    "Property - Acc.No , Name , Balance\n",
    "Methods - Deposit , Withdraw , displayBalance"
   ]
  },
  {
   "cell_type": "code",
   "execution_count": 61,
   "id": "7c51d1a9",
   "metadata": {},
   "outputs": [],
   "source": [
    "class BankAccount:\n",
    "    \n",
    "    def __init__(self, account_number,name,balance):\n",
    "        self.account_number = account_number\n",
    "        self.name = name\n",
    "        self.balance = balance\n",
    "        \n",
    "    def deposit(self,amount):\n",
    "        self.balance = self.balance + amount\n",
    "    \n",
    "    def withdraw(self,amount):\n",
    "        self.balance = self.balance - amount\n",
    "        \n",
    "    def display(self): #display account details\n",
    "        print(f\"Account Number : {self.account_number} , Name : {self.name} , Balance : {self.balance}\")"
   ]
  },
  {
   "cell_type": "code",
   "execution_count": 62,
   "id": "103b1f3f",
   "metadata": {},
   "outputs": [],
   "source": [
    "b1 = BankAccount(12345,\"Rakesh\",50000)"
   ]
  },
  {
   "cell_type": "code",
   "execution_count": 63,
   "id": "7e4befd4",
   "metadata": {},
   "outputs": [],
   "source": [
    "b1.deposit(5000)"
   ]
  },
  {
   "cell_type": "code",
   "execution_count": 64,
   "id": "01ced960",
   "metadata": {},
   "outputs": [
    {
     "name": "stdout",
     "output_type": "stream",
     "text": [
      "Account Number : 12345 , Name : Rakesh , Balance : 55000\n"
     ]
    }
   ],
   "source": [
    "b1.display()"
   ]
  },
  {
   "cell_type": "code",
   "execution_count": 65,
   "id": "50a075b3",
   "metadata": {},
   "outputs": [],
   "source": [
    "b1.withdraw(23456)"
   ]
  },
  {
   "cell_type": "code",
   "execution_count": 66,
   "id": "900e6924",
   "metadata": {},
   "outputs": [
    {
     "name": "stdout",
     "output_type": "stream",
     "text": [
      "Account Number : 12345 , Name : Rakesh , Balance : 31544\n"
     ]
    }
   ],
   "source": [
    "b1.display()"
   ]
  },
  {
   "cell_type": "code",
   "execution_count": null,
   "id": "b084141d",
   "metadata": {},
   "outputs": [],
   "source": []
  }
 ],
 "metadata": {
  "kernelspec": {
   "display_name": "Python 3 (ipykernel)",
   "language": "python",
   "name": "python3"
  },
  "language_info": {
   "codemirror_mode": {
    "name": "ipython",
    "version": 3
   },
   "file_extension": ".py",
   "mimetype": "text/x-python",
   "name": "python",
   "nbconvert_exporter": "python",
   "pygments_lexer": "ipython3",
   "version": "3.9.13"
  }
 },
 "nbformat": 4,
 "nbformat_minor": 5
}
