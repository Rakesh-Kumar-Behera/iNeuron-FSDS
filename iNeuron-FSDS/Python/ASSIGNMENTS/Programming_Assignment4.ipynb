{
  "nbformat": 4,
  "nbformat_minor": 0,
  "metadata": {
    "colab": {
      "provenance": []
    },
    "kernelspec": {
      "name": "python3",
      "display_name": "Python 3"
    },
    "language_info": {
      "name": "python"
    }
  },
  "cells": [
    {
      "cell_type": "markdown",
      "source": [
        "## Programming Assignment 4"
      ],
      "metadata": {
        "id": "ObjPIZydYND2"
      }
    },
    {
      "cell_type": "markdown",
      "source": [
        "1.\tWrite a Python Program to Find the Factorial of a Number?"
      ],
      "metadata": {
        "id": "P7LDcnicYYaA"
      }
    },
    {
      "cell_type": "code",
      "source": [
        "n = int(input(\"Enter a number: \"))\n",
        "fact = 1 \n",
        "for i in range(2,n+1):\n",
        "  fact *= i\n",
        "print(f\"Factorial of {n} = {fact}\") "
      ],
      "metadata": {
        "colab": {
          "base_uri": "https://localhost:8080/"
        },
        "id": "Vj-62ut_Y0SE",
        "outputId": "620c3241-b06c-4ee1-8494-d5afe2956b66"
      },
      "execution_count": 2,
      "outputs": [
        {
          "output_type": "stream",
          "name": "stdout",
          "text": [
            "Enter a number: 5\n",
            "Factorial of 5 = 120\n"
          ]
        }
      ]
    },
    {
      "cell_type": "markdown",
      "source": [
        "2.\tWrite a Python Program to Display the multiplication Table?"
      ],
      "metadata": {
        "id": "CN2kXO7AYY6p"
      }
    },
    {
      "cell_type": "code",
      "source": [
        "num = int(input(\"Enter a number : \"))\n",
        "for i in range (1,11):\n",
        "  print(f\"{num} x {i} = {num*i}\")"
      ],
      "metadata": {
        "colab": {
          "base_uri": "https://localhost:8080/"
        },
        "id": "bH7vGMCUZnwn",
        "outputId": "a0dbb7cd-5c5a-4c32-a0cd-164ac1f09ff6"
      },
      "execution_count": 4,
      "outputs": [
        {
          "output_type": "stream",
          "name": "stdout",
          "text": [
            "Enter a number : 13\n",
            "13 x 1 = 13\n",
            "13 x 2 = 26\n",
            "13 x 3 = 39\n",
            "13 x 4 = 52\n",
            "13 x 5 = 65\n",
            "13 x 6 = 78\n",
            "13 x 7 = 91\n",
            "13 x 8 = 104\n",
            "13 x 9 = 117\n",
            "13 x 10 = 130\n"
          ]
        }
      ]
    },
    {
      "cell_type": "markdown",
      "source": [
        "3.\tWrite a Python Program to Print the Fibonacci sequence?"
      ],
      "metadata": {
        "id": "6yT5w0wuYZaZ"
      }
    },
    {
      "cell_type": "code",
      "source": [
        "sl = int(input(\"Enter Sequence length : \")) #sl = sequence length\n",
        "\n",
        "a = 0\n",
        "b = 1\n",
        "i = 0\n",
        "while (i < sl):\n",
        "  print(a , end=\" \")\n",
        "  c = a + b\n",
        "  a = b\n",
        "  b = c\n",
        "  i += 1\n"
      ],
      "metadata": {
        "colab": {
          "base_uri": "https://localhost:8080/"
        },
        "id": "igqBv1CFaWAa",
        "outputId": "6c64d395-6c95-4b1e-8c98-45a52d988c93"
      },
      "execution_count": 7,
      "outputs": [
        {
          "output_type": "stream",
          "name": "stdout",
          "text": [
            "Enter Sequence length : 10\n",
            "0 1 1 2 3 5 8 13 21 34 "
          ]
        }
      ]
    },
    {
      "cell_type": "markdown",
      "source": [
        "4.\tWrite a Python Program to Check Armstrong Number?"
      ],
      "metadata": {
        "id": "3tFz43_cYZ4G"
      }
    },
    {
      "cell_type": "code",
      "source": [
        "x = int(input(\"Enter a number : \"))\n",
        "\n",
        "# Armstrong Number --> 153 = 1^3 + 5^3 + 3^3 = 1 + 125 + 27 = 153\n",
        "sum = 0\n",
        "temp = x\n",
        "while (temp > 0):\n",
        "  d = temp % 10\n",
        "  sum += d**3\n",
        "  temp = int(temp / 10)\n",
        "\n",
        "if (x == sum): \n",
        "  print(f\"{x} is an Armstrong Number\")\n",
        "else:\n",
        "  print(f\"{x} is not an Armstrong Number\")\n"
      ],
      "metadata": {
        "colab": {
          "base_uri": "https://localhost:8080/"
        },
        "id": "sZl-dgJWcWA7",
        "outputId": "4d21294e-23dd-4529-ae8a-c7f34358995d"
      },
      "execution_count": 13,
      "outputs": [
        {
          "output_type": "stream",
          "name": "stdout",
          "text": [
            "Enter a number : 153\n",
            "153 is an Armstrong Number\n"
          ]
        }
      ]
    },
    {
      "cell_type": "markdown",
      "source": [
        "5.\tWrite a Python Program to Find Armstrong Number in an Interval?"
      ],
      "metadata": {
        "id": "3RGtSi1OYach"
      }
    },
    {
      "cell_type": "code",
      "source": [
        "low = int(input(\"Enter Lower Limit : \"))\n",
        "up = int(input(\"Enter Upper Limit : \"))\n",
        "\n",
        "def isArmstrong(x):\n",
        "  sum = 0\n",
        "  temp = x\n",
        "  while (temp > 0):\n",
        "    d = temp % 10\n",
        "    sum += d**3\n",
        "    temp = int(temp / 10)\n",
        "\n",
        "  if (x == sum): \n",
        "    return True\n",
        "\n",
        "  return  False\n",
        "\n",
        "for i in range(low , up+1):\n",
        "  if isArmstrong(i):\n",
        "    print(i , end=\" \")"
      ],
      "metadata": {
        "colab": {
          "base_uri": "https://localhost:8080/"
        },
        "id": "I67K3nCqfaJ3",
        "outputId": "6895167d-03e8-464e-d4f6-0ed40730ff88"
      },
      "execution_count": 14,
      "outputs": [
        {
          "output_type": "stream",
          "name": "stdout",
          "text": [
            "Enter Lower Limit : 1\n",
            "Enter Upper Limit : 1000\n",
            "1 153 370 371 407 "
          ]
        }
      ]
    },
    {
      "cell_type": "markdown",
      "source": [
        "6.\tWrite a Python Program to Find the Sum of Natural Numbers?"
      ],
      "metadata": {
        "id": "QNnPzSu4YbJn"
      }
    },
    {
      "cell_type": "markdown",
      "source": [
        "> - Sum of first N natural numbers = n *(n + 1) / 2"
      ],
      "metadata": {
        "id": "rBqDgMoerGey"
      }
    },
    {
      "cell_type": "code",
      "execution_count": 16,
      "metadata": {
        "colab": {
          "base_uri": "https://localhost:8080/"
        },
        "id": "2u0EIenTYCXU",
        "outputId": "42110f2b-896e-4254-9b25-45f5feb55a61"
      },
      "outputs": [
        {
          "output_type": "stream",
          "name": "stdout",
          "text": [
            "Enter the N value : 10\n",
            "Sum of First 10 natural numbers  = 55.0\n"
          ]
        }
      ],
      "source": [
        "# for the sum of first N natural numbers\n",
        "N = int(input(\"Enter the N value : \"))\n",
        "sum = N * (N + 1) / 2\n",
        "print(f\"Sum of First {N} natural numbers  = {sum}\") "
      ]
    },
    {
      "cell_type": "code",
      "source": [
        "# for the case where the user enters all the natural numbers\n",
        "q = int(input(\"How many numbers you want to enter : \"))\n",
        "sum = 0\n",
        "print(f\"Enter {q} numbers : \")\n",
        "for i in range(q):\n",
        "  n = int(input())\n",
        "  sum += n\n",
        "print(f\"Result = {sum}\")"
      ],
      "metadata": {
        "colab": {
          "base_uri": "https://localhost:8080/"
        },
        "id": "NFBeRmefsb5p",
        "outputId": "c36ed78d-4c05-4aa7-fedd-cbb1ed266dd3"
      },
      "execution_count": 20,
      "outputs": [
        {
          "output_type": "stream",
          "name": "stdout",
          "text": [
            "How many numbers you want to enter : 4\n",
            "Enter 4 numbers : \n",
            "2\n",
            "3\n",
            "5\n",
            "7\n",
            "Result = 17\n"
          ]
        }
      ]
    },
    {
      "cell_type": "code",
      "source": [
        "3"
      ],
      "metadata": {
        "id": "7yYb1iSetkN8"
      },
      "execution_count": null,
      "outputs": []
    }
  ]
}