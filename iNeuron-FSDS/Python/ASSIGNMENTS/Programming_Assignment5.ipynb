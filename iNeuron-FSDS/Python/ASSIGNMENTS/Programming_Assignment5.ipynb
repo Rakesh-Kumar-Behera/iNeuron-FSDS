{
  "nbformat": 4,
  "nbformat_minor": 0,
  "metadata": {
    "colab": {
      "provenance": []
    },
    "kernelspec": {
      "name": "python3",
      "display_name": "Python 3"
    },
    "language_info": {
      "name": "python"
    }
  },
  "cells": [
    {
      "cell_type": "markdown",
      "source": [
        "## Programming Assignment 5"
      ],
      "metadata": {
        "id": "ZS_3i_gDvGlG"
      }
    },
    {
      "cell_type": "markdown",
      "source": [
        "1.\tWrite a Python Program to Find LCM?"
      ],
      "metadata": {
        "id": "zmoRJ3uFvRC3"
      }
    },
    {
      "cell_type": "markdown",
      "source": [
        "> - ```LCM(a,b) * HCF(a,b)  = a * b ```"
      ],
      "metadata": {
        "id": "tixWgWWazHrx"
      }
    },
    {
      "cell_type": "code",
      "source": [
        "a = int(input(\"Enter 1st Number : \"))\n",
        "b = int(input(\"Enter 2nd Number : \"))\n",
        "\n",
        "def hcf(a , b):\n",
        "  if (a == 0 and b == 0):\n",
        "    return 0\n",
        "  if (a == 0):\n",
        "    return b\n",
        "  if (b == 0):\n",
        "    return a\n",
        "  if (a == b):\n",
        "    return a\n",
        "  if (a > b):\n",
        "    return hcf(a - b , b)\n",
        "  \n",
        "  return hcf(a , b - a)\n",
        "  \n",
        "lcm = (a * b) / hcf(a , b)\n",
        "print(f\"LCM of {a} and {b} = {lcm}\")"
      ],
      "metadata": {
        "colab": {
          "base_uri": "https://localhost:8080/"
        },
        "id": "gNEYQSeKzbDT",
        "outputId": "f4bcaa67-b4f4-4379-b230-4fa7a8812526"
      },
      "execution_count": 7,
      "outputs": [
        {
          "output_type": "stream",
          "name": "stdout",
          "text": [
            "Enter 1st Number : 36\n",
            "Enter 2nd Number : 60\n",
            "LCM of 36 and 60 = 180.0\n"
          ]
        }
      ]
    },
    {
      "cell_type": "markdown",
      "source": [
        "2.\tWrite a Python Program to Find HCF?"
      ],
      "metadata": {
        "id": "mNGK8RGsvRp8"
      }
    },
    {
      "cell_type": "code",
      "source": [
        "a = int(input(\"Enter 1st Number : \"))\n",
        "b = int(input(\"Enter 2nd Number : \"))\n",
        "\n",
        "def hcf(a , b):\n",
        "  if (a == 0 and b == 0):\n",
        "    return 0\n",
        "  if (a == 0):\n",
        "    return b\n",
        "  if (b == 0):\n",
        "    return a\n",
        "  if (a == b):\n",
        "    return a\n",
        "  if (a > b):\n",
        "    return hcf(a - b , b)\n",
        "  \n",
        "  return hcf(a , b - a)\n",
        "  \n",
        "result = hcf(a , b)\n",
        "print(f\"HCF of {a} and {b} = {result}\")\n"
      ],
      "metadata": {
        "colab": {
          "base_uri": "https://localhost:8080/"
        },
        "id": "an6vfhVAvyMS",
        "outputId": "409fc28f-1805-4217-9b1e-05b3b8b08736"
      },
      "execution_count": 5,
      "outputs": [
        {
          "output_type": "stream",
          "name": "stdout",
          "text": [
            "Enter 1st Number : 12\n",
            "Enter 2nd Number : 16\n",
            "HCF of 12 and 16 = 4\n"
          ]
        }
      ]
    },
    {
      "cell_type": "markdown",
      "source": [
        "3.\tWrite a Python Program to Convert Decimal to Binary, Octal and Hexadecimal?"
      ],
      "metadata": {
        "id": "BQArC4KJvSFS"
      }
    },
    {
      "cell_type": "markdown",
      "source": [
        "``` In Python, some pre-defined methods are there to convert decimal value to it corresponding Binary(0b) , Octal(0o) and hexadecimal(0x) values . bin() , oct() , hex() ```"
      ],
      "metadata": {
        "id": "DWO2bSQz3UGt"
      }
    },
    {
      "cell_type": "code",
      "source": [
        "dec = int(input(\"Enter the decimal value: \"))\n",
        "\n",
        "print(f\"Binary : {bin(dec)}\")\n",
        "print(f\"Octal : {oct(dec)}\")\n",
        "print(f\"Hexadecimal :{hex(dec)}\")"
      ],
      "metadata": {
        "colab": {
          "base_uri": "https://localhost:8080/"
        },
        "id": "UGh8xxap2lFZ",
        "outputId": "8def2655-02c5-4c14-b41e-2e79ccdc23e3"
      },
      "execution_count": 12,
      "outputs": [
        {
          "output_type": "stream",
          "name": "stdout",
          "text": [
            "Enter the decimal value: 255\n",
            "Binary : 0b11111111\n",
            "Octal : 0o377\n",
            "Hexadecimal :0xff\n"
          ]
        }
      ]
    },
    {
      "cell_type": "markdown",
      "source": [
        "4.\tWrite a Python Program To Find ASCII value of a character?"
      ],
      "metadata": {
        "id": "bEJduCypvSfi"
      }
    },
    {
      "cell_type": "markdown",
      "source": [
        "```Here we have used ord() function to convert a character to an integer (ASCII value). This function returns the Unicode code point of that character. ```"
      ],
      "metadata": {
        "id": "aRnqdBBU2CcE"
      }
    },
    {
      "cell_type": "code",
      "source": [
        "ch = ord(input(\"Enter a Character\"))\n",
        "print(ch)"
      ],
      "metadata": {
        "colab": {
          "base_uri": "https://localhost:8080/"
        },
        "id": "F-lnYx_o02Ve",
        "outputId": "2f6bc42f-ef62-48bf-b0f2-3be2cf319a4a"
      },
      "execution_count": 11,
      "outputs": [
        {
          "output_type": "stream",
          "name": "stdout",
          "text": [
            "Enter a Charactera\n",
            "97\n"
          ]
        }
      ]
    },
    {
      "cell_type": "markdown",
      "source": [
        "5.\tWrite a Python Program to Make a Simple Calculator with 4 basic mathematical operations?"
      ],
      "metadata": {
        "id": "6AdruJiavTIY"
      }
    },
    {
      "cell_type": "code",
      "source": [
        "a = int(input(\"Enter 1st Number : \"))\n",
        "b = int(input(\"Enter 2nd Number : \"))\n",
        "\n",
        "print(f\"Sum of {a} and {b} = {a+b}\")\n",
        "print(f\"Difference of {a} and {b} = {a-b}\")\n",
        "print(f\"Product of {a} and {b} = {a*b}\")\n",
        "print(f\"Division of {a} and {b} = {a/b}\")"
      ],
      "metadata": {
        "colab": {
          "base_uri": "https://localhost:8080/"
        },
        "id": "gK2YI9FZ0KJm",
        "outputId": "f22053b7-0acb-4265-dd23-50c757174519"
      },
      "execution_count": 9,
      "outputs": [
        {
          "output_type": "stream",
          "name": "stdout",
          "text": [
            "Enter 1st Number : 45\n",
            "Enter 2nd Number : 9\n",
            "Sum of 45 and 9 = 54\n",
            "Difference of 45 and 9 = 36\n",
            "Product of 45 and 9 = 405\n",
            "Division of 45 and 9 = 5.0\n"
          ]
        }
      ]
    },
    {
      "cell_type": "code",
      "source": [],
      "metadata": {
        "id": "wnghDgtL0wHv"
      },
      "execution_count": null,
      "outputs": []
    }
  ]
}