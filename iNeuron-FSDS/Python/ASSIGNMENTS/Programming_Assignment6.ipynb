{
  "nbformat": 4,
  "nbformat_minor": 0,
  "metadata": {
    "colab": {
      "provenance": [],
      "collapsed_sections": []
    },
    "kernelspec": {
      "name": "python3",
      "display_name": "Python 3"
    },
    "language_info": {
      "name": "python"
    }
  },
  "cells": [
    {
      "cell_type": "markdown",
      "source": [
        "## Programming Assignment 6"
      ],
      "metadata": {
        "id": "BVRP4ihAxrU9"
      }
    },
    {
      "cell_type": "markdown",
      "source": [
        "1.\tWrite a Python Program to Display Fibonacci Sequence Using Recursion?"
      ],
      "metadata": {
        "id": "uyGp4p1dxzx9"
      }
    },
    {
      "cell_type": "code",
      "source": [
        "nterms = int(input(\"Enter the number of terms to display : \"))\n",
        "\n",
        "def fibonacci(n):\n",
        "   if n <= 1:\n",
        "       return n\n",
        "   else:\n",
        "       return(fibonacci(n-1) + fibonacci(n-2))\n",
        "\n",
        "\n",
        "\n",
        "# check if the number of terms is valid\n",
        "if nterms <= 0:\n",
        "   print(\"Plese enter a positive integer\")\n",
        "else:\n",
        "   print(\"Fibonacci sequence:\")\n",
        "   for i in range(nterms):\n",
        "       print(fibonacci(i))"
      ],
      "metadata": {
        "colab": {
          "base_uri": "https://localhost:8080/"
        },
        "id": "0KN7a4dnyfZW",
        "outputId": "7f9fddb7-abea-4ab2-b5a7-b99cc490999a"
      },
      "execution_count": 7,
      "outputs": [
        {
          "output_type": "stream",
          "name": "stdout",
          "text": [
            "Enter the number of terms to display : 10\n",
            "Fibonacci sequence:\n",
            "0\n",
            "1\n",
            "1\n",
            "2\n",
            "3\n",
            "5\n",
            "8\n",
            "13\n",
            "21\n",
            "34\n"
          ]
        }
      ]
    },
    {
      "cell_type": "markdown",
      "source": [
        "2.\tWrite a Python Program to Find Factorial of Number Using Recursion?"
      ],
      "metadata": {
        "id": "oNtQOddfx0M_"
      }
    },
    {
      "cell_type": "code",
      "source": [
        "n = int(input(\"Enter a number : \"))\n",
        "\n",
        "def fact(n) :\n",
        "  if n == 1:\n",
        "    return 1\n",
        "  return n*fact(n-1)\n",
        "\n",
        "print(f\"{n} Factorial = {fact(n)}\")"
      ],
      "metadata": {
        "colab": {
          "base_uri": "https://localhost:8080/"
        },
        "id": "BwKvPUtSytJ2",
        "outputId": "8d79c946-4640-4d7a-daf5-c7229db4bae6"
      },
      "execution_count": 8,
      "outputs": [
        {
          "output_type": "stream",
          "name": "stdout",
          "text": [
            "Enter a number : 7\n",
            "7 Factorial = 5040\n"
          ]
        }
      ]
    },
    {
      "cell_type": "markdown",
      "source": [
        "3.\tWrite a Python Program to calculate your Body Mass Index?"
      ],
      "metadata": {
        "id": "keT2_uANx1FX"
      }
    },
    {
      "cell_type": "markdown",
      "source": [
        "> Body Mass Index is a simple calculation using a person’s height and weight. The formula is **BMI = kg/m^2** where kg is a person’s weight in kilograms and m2 is their height in metres squared."
      ],
      "metadata": {
        "id": "PFOCN22Mz-bp"
      }
    },
    {
      "cell_type": "code",
      "source": [
        "weight = float(input(\"Enter your body weight in KG : \"))\n",
        "height = float(input(\"Enter your body height in Metre : \"))\n",
        "\n",
        "bmi = weight / (height**2)\n",
        "\n",
        "print(f\"Body Mass Index (BMI) = {bmi}\")"
      ],
      "metadata": {
        "colab": {
          "base_uri": "https://localhost:8080/"
        },
        "id": "jkWPpZQp0Hmy",
        "outputId": "f3adfd07-e204-4a16-f148-f2258e8ca2b5"
      },
      "execution_count": 3,
      "outputs": [
        {
          "output_type": "stream",
          "name": "stdout",
          "text": [
            "Enter your body weight in KG : 60\n",
            "Enter your body height in Metre : 1.6\n",
            "Body Mass Index (BMI) = 23.437499999999996\n"
          ]
        }
      ]
    },
    {
      "cell_type": "markdown",
      "source": [
        "4.\tWrite a Python Program to calculate the natural logarithm of any number?"
      ],
      "metadata": {
        "id": "EYhan4Ckx1k9"
      }
    },
    {
      "cell_type": "markdown",
      "source": [
        "> - The **math.log()** method returns the natural logarithm of a number, or the logarithm of number to base. **math.log(x, base)**"
      ],
      "metadata": {
        "id": "SUUZpF8_3_7A"
      }
    },
    {
      "cell_type": "code",
      "source": [
        "import math\n",
        "\n",
        "print(f\"Log 1 = {math.log(1)}\")\n",
        "print(f\"Log 2 = {math.log(2)}\")\n",
        "print(f\"Log 3 = {math.log(3)}\")"
      ],
      "metadata": {
        "colab": {
          "base_uri": "https://localhost:8080/"
        },
        "id": "SNrTE24W3_Jp",
        "outputId": "127e8e75-81d8-4691-9768-3ba7ad38ab1b"
      },
      "execution_count": 6,
      "outputs": [
        {
          "output_type": "stream",
          "name": "stdout",
          "text": [
            "Log 1 = 0.0\n",
            "Log 2 = 0.6931471805599453\n",
            "Log 3 = 1.0986122886681098\n"
          ]
        }
      ]
    },
    {
      "cell_type": "markdown",
      "source": [
        "5.\tWrite a Python Program for cube sum of first n natural numbers?"
      ],
      "metadata": {
        "id": "O0s2AMdBx1_g"
      }
    },
    {
      "cell_type": "markdown",
      "source": [
        "> - 1^3 + 2^3 + 3^3 + 4^3 + ............ + n^3 = (n * (n+1)/2)**2"
      ],
      "metadata": {
        "id": "W1DNcit11JpU"
      }
    },
    {
      "cell_type": "code",
      "execution_count": 4,
      "metadata": {
        "colab": {
          "base_uri": "https://localhost:8080/"
        },
        "id": "D6I-P_Tyxh45",
        "outputId": "eab33007-b227-424d-bdce-39f5e045707e"
      },
      "outputs": [
        {
          "output_type": "stream",
          "name": "stdout",
          "text": [
            "Enter a number : 5\n",
            "Sum of first 5 natural numbers = 225.0\n"
          ]
        }
      ],
      "source": [
        "num = int(input(\"Enter a number : \"))\n",
        "\n",
        "sum =  (num * (num + 1)/2) ** 2\n",
        "\n",
        "print(f\"Sum of first {n} natural numbers = {sum}\")"
      ]
    },
    {
      "cell_type": "code",
      "source": [
        "#using recursion\n",
        "nm = int(input(\"Enter a number : \"))\n",
        "\n",
        "def cubeSum(n):\n",
        "  if n == 1:\n",
        "    return 1\n",
        "  return n**3 + cubeSum(n-1)\n",
        "\n",
        "print(f\"Sum of first {nm} natural numbers = {cubeSum(nm)}\")"
      ],
      "metadata": {
        "colab": {
          "base_uri": "https://localhost:8080/"
        },
        "id": "KVyaGvM62Qgz",
        "outputId": "d730a075-3f20-4d8a-b3c4-082e5223df7f"
      },
      "execution_count": 5,
      "outputs": [
        {
          "output_type": "stream",
          "name": "stdout",
          "text": [
            "Enter a number : 6\n",
            "Sum of first 6 natural numbers = 441\n"
          ]
        }
      ]
    },
    {
      "cell_type": "code",
      "source": [],
      "metadata": {
        "id": "f_1PEu-G3Dgr"
      },
      "execution_count": null,
      "outputs": []
    }
  ]
}