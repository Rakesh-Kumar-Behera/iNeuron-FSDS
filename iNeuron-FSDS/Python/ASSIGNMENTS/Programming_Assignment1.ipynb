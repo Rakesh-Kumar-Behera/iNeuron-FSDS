{
  "nbformat": 4,
  "nbformat_minor": 0,
  "metadata": {
    "colab": {
      "provenance": []
    },
    "kernelspec": {
      "name": "python3",
      "display_name": "Python 3"
    },
    "language_info": {
      "name": "python"
    }
  },
  "cells": [
    {
      "cell_type": "markdown",
      "source": [
        "## Programming Assignment 1"
      ],
      "metadata": {
        "id": "J3P7YDAFVm92"
      }
    },
    {
      "cell_type": "markdown",
      "source": [
        "1.\tWrite a Python program to print \"Hello Python\"?"
      ],
      "metadata": {
        "id": "ItESNrk0VsLt"
      }
    },
    {
      "cell_type": "code",
      "source": [
        "print(\"Hello Python\")"
      ],
      "metadata": {
        "colab": {
          "base_uri": "https://localhost:8080/"
        },
        "id": "vMkihjaaVwL1",
        "outputId": "80ca3360-4748-4c13-9d43-9eca1d72e28e"
      },
      "execution_count": 1,
      "outputs": [
        {
          "output_type": "stream",
          "name": "stdout",
          "text": [
            "Hello Python\n"
          ]
        }
      ]
    },
    {
      "cell_type": "markdown",
      "source": [
        "2.\tWrite a Python program to do arithmetical operations addition and division.?"
      ],
      "metadata": {
        "id": "GXHhmTZkV2C6"
      }
    },
    {
      "cell_type": "code",
      "execution_count": 2,
      "metadata": {
        "colab": {
          "base_uri": "https://localhost:8080/"
        },
        "id": "Rlzgn0ZWVZSp",
        "outputId": "b37beb90-38f8-4431-f052-c23cb73c8019"
      },
      "outputs": [
        {
          "output_type": "stream",
          "name": "stdout",
          "text": [
            "Enter number 1 :65\n",
            "Enter number 2 :13\n",
            "Result after Addition: 78\n",
            "Result after Division: 5.0\n"
          ]
        }
      ],
      "source": [
        "num1 = int(input(\"Enter number 1 :\"))\n",
        "num2 = int(input(\"Enter number 2 :\"))\n",
        "\n",
        "#Addition\n",
        "print(f\"Result after Addition: {num1 + num2}\")\n",
        "\n",
        "#Division\n",
        "print(f\"Result after Division: {num1 / num2}\")"
      ]
    },
    {
      "cell_type": "markdown",
      "source": [
        "3.\tWrite a Python program to find the area of a triangle?"
      ],
      "metadata": {
        "id": "uVmqYwFxWHXc"
      }
    },
    {
      "cell_type": "markdown",
      "source": [
        "> - Area of a Triangle = (s(s-a)(s-b)(s-c))^1/2 where S = Semi-perimeter of the triangle and a,b,c are the sides of the triangle \n",
        "> - Area = 1/2 * base * height"
      ],
      "metadata": {
        "id": "rceUd8iyWhpr"
      }
    },
    {
      "cell_type": "code",
      "source": [
        "a = float(input(\"side 1 :\"))\n",
        "b = float(input(\"side 2 :\"))\n",
        "c = float(input(\"side 3 :\"))\n",
        "\n",
        "p = a + b + c\n",
        "s = p / 2\n",
        "\n",
        "area = (s * (s-a) * (s-b) * (s-c))**1/2\n",
        "print(f\"Area of the triangle : {area}\")"
      ],
      "metadata": {
        "colab": {
          "base_uri": "https://localhost:8080/"
        },
        "id": "HorqkrkzWd01",
        "outputId": "9a79be88-f80d-480d-a21c-2d2fc859a1a4"
      },
      "execution_count": 3,
      "outputs": [
        {
          "output_type": "stream",
          "name": "stdout",
          "text": [
            "side 1 :4\n",
            "side 2 :6\n",
            "side 3 :8\n",
            "Area of the triangle : 67.5\n"
          ]
        }
      ]
    },
    {
      "cell_type": "markdown",
      "source": [
        "4.\tWrite a Python program to swap two variables?"
      ],
      "metadata": {
        "id": "1yP1_12nWHyf"
      }
    },
    {
      "cell_type": "code",
      "source": [
        "var1 = int(input(\"Enter 1st Number: \"))\n",
        "var2 = int(input(\"Enter 2nd Number: \"))\n",
        "\n",
        "print(f\"Numbers before Swapping: var1 = {var1} , var2 = {var2}\")\n",
        "c = var1\n",
        "var1 = var2\n",
        "var2 = c\n",
        "print(f\"Numbers after Swapping: var1 = {var1} , var2 = {var2}\")"
      ],
      "metadata": {
        "colab": {
          "base_uri": "https://localhost:8080/"
        },
        "id": "cqdqjCaOWe8L",
        "outputId": "9fdc4b54-5923-4b62-ae4d-88e7a7efded2"
      },
      "execution_count": 4,
      "outputs": [
        {
          "output_type": "stream",
          "name": "stdout",
          "text": [
            "Enter 1st Number: 24\n",
            "Enter 2nd Number: 78\n",
            "Numbers before Swapping: var1 = 24 , var2 = 78\n",
            "Numbers after Swapping: var1 = 78 , var2 = 24\n"
          ]
        }
      ]
    },
    {
      "cell_type": "markdown",
      "source": [
        "5.\tWrite a Python program to generate a random number?"
      ],
      "metadata": {
        "id": "ITC85djbWIXA"
      }
    },
    {
      "cell_type": "code",
      "source": [
        "import random\n",
        "print(random.random())"
      ],
      "metadata": {
        "colab": {
          "base_uri": "https://localhost:8080/"
        },
        "id": "Wp8NhoMrV72u",
        "outputId": "ca97293b-8a18-4633-a615-34c2d9dd1beb"
      },
      "execution_count": 5,
      "outputs": [
        {
          "output_type": "stream",
          "name": "stdout",
          "text": [
            "0.754316722391135\n"
          ]
        }
      ]
    },
    {
      "cell_type": "code",
      "source": [
        "print(random.randint(1,100))"
      ],
      "metadata": {
        "colab": {
          "base_uri": "https://localhost:8080/"
        },
        "id": "NCjdUB68aETd",
        "outputId": "ccaaea98-942d-4b51-b4c1-a75ac988ef9b"
      },
      "execution_count": 6,
      "outputs": [
        {
          "output_type": "stream",
          "name": "stdout",
          "text": [
            "15\n"
          ]
        }
      ]
    },
    {
      "cell_type": "code",
      "source": [],
      "metadata": {
        "id": "c6RAcP2taMTo"
      },
      "execution_count": null,
      "outputs": []
    }
  ]
}