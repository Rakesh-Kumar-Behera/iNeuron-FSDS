{
  "nbformat": 4,
  "nbformat_minor": 0,
  "metadata": {
    "colab": {
      "provenance": [],
      "collapsed_sections": []
    },
    "kernelspec": {
      "name": "python3",
      "display_name": "Python 3"
    },
    "language_info": {
      "name": "python"
    }
  },
  "cells": [
    {
      "cell_type": "markdown",
      "source": [
        "## Programming Assignment 7"
      ],
      "metadata": {
        "id": "9z9jc2Q1BUcT"
      }
    },
    {
      "cell_type": "markdown",
      "source": [
        "1.\tWrite a Python Program to find sum of array?"
      ],
      "metadata": {
        "id": "Bv-SnU5qBwDp"
      }
    },
    {
      "cell_type": "code",
      "source": [
        "list1 = [10,24,53,75,75,39]\n",
        "list1"
      ],
      "metadata": {
        "colab": {
          "base_uri": "https://localhost:8080/"
        },
        "id": "ylQ8abx4CIMx",
        "outputId": "ca5459ba-cb13-470e-ffa5-0c6d443ea747"
      },
      "execution_count": 1,
      "outputs": [
        {
          "output_type": "execute_result",
          "data": {
            "text/plain": [
              "[10, 24, 53, 75, 75, 39]"
            ]
          },
          "metadata": {},
          "execution_count": 1
        }
      ]
    },
    {
      "cell_type": "code",
      "source": [
        "len_list1 = len(list1)\n",
        "len_list1"
      ],
      "metadata": {
        "colab": {
          "base_uri": "https://localhost:8080/"
        },
        "id": "1yvjgL0pCVxM",
        "outputId": "535924db-69b3-4d00-8ab3-6fc18268189c"
      },
      "execution_count": 2,
      "outputs": [
        {
          "output_type": "execute_result",
          "data": {
            "text/plain": [
              "6"
            ]
          },
          "metadata": {},
          "execution_count": 2
        }
      ]
    },
    {
      "cell_type": "code",
      "source": [
        "sum_list1 = sum(list1)\n",
        "sum_list1\n",
        "print(f\"Sum of list elements = {sum_list1}\")"
      ],
      "metadata": {
        "colab": {
          "base_uri": "https://localhost:8080/"
        },
        "id": "hNXLUlz0CgiZ",
        "outputId": "c3aa8f88-c550-47ed-c294-a85e91863d6e"
      },
      "execution_count": 6,
      "outputs": [
        {
          "output_type": "stream",
          "name": "stdout",
          "text": [
            "Sum of list elements = 276\n"
          ]
        }
      ]
    },
    {
      "cell_type": "code",
      "source": [
        "#using loop\n",
        "lsum = 0\n",
        "for i in list1:\n",
        "  lsum += i\n",
        "print(f\"Sum of list elements = {lsum}\")"
      ],
      "metadata": {
        "colab": {
          "base_uri": "https://localhost:8080/"
        },
        "id": "qF07moy7Cqp5",
        "outputId": "9570f40d-b907-4b33-a935-7409e2ca3cd9"
      },
      "execution_count": 5,
      "outputs": [
        {
          "output_type": "stream",
          "name": "stdout",
          "text": [
            "Sum of list elements = 276\n"
          ]
        }
      ]
    },
    {
      "cell_type": "markdown",
      "source": [
        "2.\tWrite a Python Program to find largest element in an array?"
      ],
      "metadata": {
        "id": "JFZ_RmisBwmq"
      }
    },
    {
      "cell_type": "code",
      "source": [
        "print(f\"Largest element = {max(list1)}\")"
      ],
      "metadata": {
        "colab": {
          "base_uri": "https://localhost:8080/"
        },
        "id": "vPtW0TSIDPXT",
        "outputId": "e907daf1-008b-42b7-d389-4a7ebd40b1e8"
      },
      "execution_count": 7,
      "outputs": [
        {
          "output_type": "stream",
          "name": "stdout",
          "text": [
            "Largest element = 75\n"
          ]
        }
      ]
    },
    {
      "cell_type": "code",
      "source": [
        "#using loop\n",
        "large = list1[0]\n",
        "for i in range(1,len_list1):\n",
        "  if list1[i] > large:\n",
        "    large = list1[i]\n",
        "print(f\"Largest Element = {large}\")"
      ],
      "metadata": {
        "colab": {
          "base_uri": "https://localhost:8080/"
        },
        "id": "5p50GDrqDchK",
        "outputId": "27c54f7f-0392-4c46-e422-d714e8f9e0e4"
      },
      "execution_count": 9,
      "outputs": [
        {
          "output_type": "stream",
          "name": "stdout",
          "text": [
            "Largest Element = 75\n"
          ]
        }
      ]
    },
    {
      "cell_type": "markdown",
      "source": [
        "3.\tWrite a Python Program for array rotation?"
      ],
      "metadata": {
        "id": "GDAJHEJvBxH3"
      }
    },
    {
      "cell_type": "code",
      "source": [
        "rlist = [12,23,34,45,56,67,78,89]\n",
        "print(rlist)\n",
        "rlen = len(rlist)\n",
        "index = int(input(\"Enter an index to rotate : \")) # based on index 1  = first element\n",
        "index = index % rlen\n",
        "new = rlist[index:] + rlist[0:index]\n",
        "\n",
        "print(f\"List after rotation : {new}\")\n"
      ],
      "metadata": {
        "colab": {
          "base_uri": "https://localhost:8080/"
        },
        "id": "SIQRY8xTGRRf",
        "outputId": "18999210-69e9-4ab6-d920-34059b697341"
      },
      "execution_count": 13,
      "outputs": [
        {
          "output_type": "stream",
          "name": "stdout",
          "text": [
            "[12, 23, 34, 45, 56, 67, 78, 89]\n",
            "Enter an index to rotate : 2\n",
            "List after rotation : [34, 45, 56, 67, 78, 89, 12, 23]\n"
          ]
        }
      ]
    },
    {
      "cell_type": "markdown",
      "source": [
        "4.\tWrite a Python Program to Split the array and add the first part to the end?"
      ],
      "metadata": {
        "id": "Vtiscm-NBxsH"
      }
    },
    {
      "cell_type": "code",
      "source": [
        "list2 = [11,22,33,44,55,66,77,88,99]\n",
        "print(list2)\n",
        "idx = int(input(\"Enter an array index to split : \")) #based on index 0\n",
        "part_1 = list2[:idx+1]\n",
        "part_2 = list2[idx+1:]\n",
        "list3 = part_2 + part_1\n",
        "print(list3)"
      ],
      "metadata": {
        "colab": {
          "base_uri": "https://localhost:8080/"
        },
        "id": "kWcoU9z5EcF6",
        "outputId": "75b89fbc-4ffd-43cf-d78e-941ef0e535b6"
      },
      "execution_count": 11,
      "outputs": [
        {
          "output_type": "stream",
          "name": "stdout",
          "text": [
            "[11, 22, 33, 44, 55, 66, 77, 88, 99]\n",
            "Enter an array index to split : 6\n",
            "[88, 99, 11, 22, 33, 44, 55, 66, 77]\n"
          ]
        }
      ]
    },
    {
      "cell_type": "markdown",
      "source": [
        "5.\tWrite a Python Program to check if given array is Monotonic?\n"
      ],
      "metadata": {
        "id": "2n86YH9DByOp"
      }
    },
    {
      "cell_type": "markdown",
      "source": [
        "> - An array is monotonic if it is either monotone increasing or monotone decreasing. An array A is monotone increasing if for all i <= j, A[i] <= A[j]. \n",
        "\n",
        "> - An array A is monotone decreasing if for all i <= j, A[i] >= A[j]"
      ],
      "metadata": {
        "id": "FBRm-y4mJ1nU"
      }
    },
    {
      "cell_type": "code",
      "execution_count": 16,
      "metadata": {
        "colab": {
          "base_uri": "https://localhost:8080/"
        },
        "id": "e6wFv_crBIsO",
        "outputId": "3cd6d46d-3452-47ef-a8a2-14d1988051d7"
      },
      "outputs": [
        {
          "output_type": "stream",
          "name": "stdout",
          "text": [
            "The list is not monotonic\n"
          ]
        }
      ],
      "source": [
        "mlist = [12,24,35,59,47,98,115]\n",
        "def isMonotonic(ar):\n",
        "    x, y = [], []\n",
        "    x.extend(ar)\n",
        "    y.extend(ar)\n",
        "    x.sort()\n",
        "    y.sort(reverse=True)\n",
        "    if(x == ar or y == ar):\n",
        "        return True\n",
        "    return False\n",
        " \n",
        "\n",
        "print(f\"The list is {'monotonic' if isMonotonic(mlist) else 'not monotonic'}\")\n"
      ]
    },
    {
      "cell_type": "code",
      "source": [],
      "metadata": {
        "id": "v4UeHTfQMCMP"
      },
      "execution_count": null,
      "outputs": []
    }
  ]
}