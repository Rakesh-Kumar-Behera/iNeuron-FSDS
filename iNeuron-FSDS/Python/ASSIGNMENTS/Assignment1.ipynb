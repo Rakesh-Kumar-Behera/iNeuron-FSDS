{
 "cells": [
  {
   "cell_type": "markdown",
   "metadata": {},
   "source": [
    "## Assignment 1"
   ]
  },
  {
   "cell_type": "markdown",
   "metadata": {},
   "source": [
    "1. In the below elements which of them are values or an expression? eg:- values can be integer or string and expressions will be mathematical operators."
   ]
  },
  {
   "cell_type": "markdown",
   "metadata": {},
   "source": [
    "\n",
    "- '*'               - Expression - Arithmetic Operator use for  multiplication\n",
    "- 'hello'\t        - Value  - String\n",
    "- 87.8           - Value  - Float Value \n",
    "- '-'               - Expression - Arithmetic Operator use for Subtraction\n",
    "- / \t            - Expression - Arithmetic Operator use for Division\n",
    "- '+'\t            - Expression - Arithmetic Operator use for Addition\n",
    "- 6 \t            - Value - Integer\n",
    "\n"
   ]
  },
  {
   "cell_type": "markdown",
   "metadata": {},
   "source": [
    "\n",
    "2. What is the difference between string and variable?\n"
   ]
  },
  {
   "cell_type": "markdown",
   "metadata": {},
   "source": [
    "- String is a data type . It is a sequence of characters. Always written inside “ ” or ‘ ‘ .\n",
    "- Where as Variable is a container for storing a data value(s). A variable can hold integer , float , Boolean or string vaues.\n"
   ]
  },
  {
   "cell_type": "markdown",
   "metadata": {},
   "source": [
    "3. Describe three different data types.\n"
   ]
  },
  {
   "cell_type": "markdown",
   "metadata": {},
   "source": [
    "> - Integer – ‘int’ -represents Decimal values e.g – 34, 580,\n",
    "> - Float – ‘float’ - represents float values – e.g – 2.5 , 1.0008\n",
    "> - Strings – ‘str’ – represents string values e.g – ‘rakesh’ , ‘78’ , ’98.76’ , “iNeuron FSDS”\n",
    "> - Boolean – ‘bool’ – represents TRUE ,FALSE\n",
    "\n"
   ]
  },
  {
   "cell_type": "markdown",
   "metadata": {},
   "source": [
    "\n",
    "4. What is an expression made up of? What do all expressions do?\n"
   ]
  },
  {
   "cell_type": "markdown",
   "metadata": {},
   "source": [
    "> An expression is a combination of values, variables, operators, and calls to functions. Expressions need to be evaluated. It performs operation between operator and operands."
   ]
  },
  {
   "cell_type": "markdown",
   "metadata": {},
   "source": [
    "5. This assignment statements, like spam = 10. What is the difference between an expression and a statement?"
   ]
  },
  {
   "cell_type": "markdown",
   "metadata": {},
   "source": [
    "> - An expression usually refers to a piece of code that can be evaluated to a value and is composed of variables, operators, function calls, and literals.\n",
    "> - A statement refers to a piece of code that executes a specific instruction or tells the computer to complete a task.  A statement can take the form of assignments, control statements, import statements, loop statements, jump statements, or method calls.\n"
   ]
  },
  {
   "cell_type": "markdown",
   "metadata": {},
   "source": [
    "6. After running the following code, what does the variable bacon contain?\n",
    "\n"
   ]
  },
  {
   "cell_type": "markdown",
   "metadata": {},
   "source": [
    "```c\n",
    "bacon = 22\n",
    "bacon + 1\n"
   ]
  },
  {
   "cell_type": "markdown",
   "metadata": {},
   "source": [
    "> bacon will contain the value 22 , because after adding 1 to bacon , it is nor reassigned to the variable bacon. So it will contain the same value it was containing before."
   ]
  },
  {
   "cell_type": "markdown",
   "metadata": {},
   "source": [
    "7. What should the values of the following two terms be?"
   ]
  },
  {
   "cell_type": "markdown",
   "metadata": {},
   "source": [
    "```c \n",
    "'spam' + 'spamspam'          \n",
    "'spam' * 3                             \n"
   ]
  },
  {
   "cell_type": "markdown",
   "metadata": {},
   "source": [
    "- 'spam' + 'spamspam'          -> ‘spamspamspam’\n",
    "- 'spam' * 3                   -> ‘spamspamspam’\n"
   ]
  },
  {
   "cell_type": "markdown",
   "metadata": {},
   "source": [
    "8. Why is eggs a valid variable name while 100 is invalid?"
   ]
  },
  {
   "cell_type": "markdown",
   "metadata": {},
   "source": [
    "> As per the variable naming convention , A variable name must start with a letter or underscore ’_’ . It must not start with a number . "
   ]
  },
  {
   "cell_type": "markdown",
   "metadata": {},
   "source": [
    "9. What three functions can be used to get the integer, floating-point number, or string version of a value?"
   ]
  },
  {
   "cell_type": "markdown",
   "metadata": {},
   "source": [
    "> The **int() , float() , str()** functions can be used to get the integer, floating-point number or string version of a value. It is also called typecasting. "
   ]
  },
  {
   "cell_type": "markdown",
   "metadata": {},
   "source": [
    "10. Why does this expression cause an error? How can you fix it?"
   ]
  },
  {
   "cell_type": "markdown",
   "metadata": {},
   "source": [
    "```c \n",
    "'I have eaten ' + 99 + ' burritos.'"
   ]
  },
  {
   "cell_type": "markdown",
   "metadata": {},
   "source": [
    "> This expression will cause an error because we can not concatenate a string with an integer value or an integer value with a string . We can fix this by writing the integer value inside quotes."
   ]
  },
  {
   "cell_type": "markdown",
   "metadata": {},
   "source": [
    "```c \n",
    "'I have eaten ' + '99' + ' burritos.'"
   ]
  },
  {
   "cell_type": "code",
   "execution_count": 2,
   "metadata": {},
   "outputs": [
    {
     "data": {
      "text/plain": [
       "'I have eaten 99 burritos.'"
      ]
     },
     "execution_count": 2,
     "metadata": {},
     "output_type": "execute_result"
    }
   ],
   "source": [
    "'I have eaten ' + '99' + ' burritos.'"
   ]
  },
  {
   "cell_type": "code",
   "execution_count": null,
   "metadata": {},
   "outputs": [],
   "source": []
  }
 ],
 "metadata": {
  "kernelspec": {
   "display_name": "Python 3.9.12 ('base')",
   "language": "python",
   "name": "python3"
  },
  "language_info": {
   "codemirror_mode": {
    "name": "ipython",
    "version": 3
   },
   "file_extension": ".py",
   "mimetype": "text/x-python",
   "name": "python",
   "nbconvert_exporter": "python",
   "pygments_lexer": "ipython3",
   "version": "3.9.12"
  },
  "orig_nbformat": 4,
  "vscode": {
   "interpreter": {
    "hash": "8c4e4871d0132559573cb3e0358f699f48359d68f2d1ef1aeebd1af6310fe7da"
   }
  }
 },
 "nbformat": 4,
 "nbformat_minor": 2
}
