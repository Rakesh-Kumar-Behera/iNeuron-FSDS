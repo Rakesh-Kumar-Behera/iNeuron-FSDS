{
  "nbformat": 4,
  "nbformat_minor": 0,
  "metadata": {
    "colab": {
      "provenance": []
    },
    "kernelspec": {
      "name": "python3",
      "display_name": "Python 3"
    },
    "language_info": {
      "name": "python"
    }
  },
  "cells": [
    {
      "cell_type": "markdown",
      "source": [
        "## Programming Assignment 2"
      ],
      "metadata": {
        "id": "jL3WUFz0auxw"
      }
    },
    {
      "cell_type": "markdown",
      "source": [
        "1.\tWrite a Python program to convert kilometers to miles?"
      ],
      "metadata": {
        "id": "rWKUScrTa0F9"
      }
    },
    {
      "cell_type": "markdown",
      "source": [
        "> 1 km = 0.6214 miles"
      ],
      "metadata": {
        "id": "VjI_75NEb0o7"
      }
    },
    {
      "cell_type": "code",
      "source": [
        " dist = float(input(\"Enter the distance in KM :\"))\n",
        " print(f\"Corresponding Distance in Miles : {dist * 0.6214}\")"
      ],
      "metadata": {
        "colab": {
          "base_uri": "https://localhost:8080/"
        },
        "id": "w3rkDfjsbzpf",
        "outputId": "165637ab-5a95-4079-e53c-ac82e4bde930"
      },
      "execution_count": 1,
      "outputs": [
        {
          "output_type": "stream",
          "name": "stdout",
          "text": [
            "Enter the distance in KM :5\n",
            "Corresponding Distance in Miles : 3.1069999999999998\n"
          ]
        }
      ]
    },
    {
      "cell_type": "markdown",
      "source": [
        "2.\tWrite a Python program to convert Celsius to Fahrenheit?"
      ],
      "metadata": {
        "id": "iqyS5dMYa0i4"
      }
    },
    {
      "cell_type": "markdown",
      "source": [
        "5(F - 32)/9 = C or F = (9 / 5 * C) + 32"
      ],
      "metadata": {
        "id": "d4-pz6mBcryP"
      }
    },
    {
      "cell_type": "code",
      "source": [
        "ctemp = float(input(\"Enter Temperatur in celcius \"))\n",
        "ftemp = (9 / 5 * ctemp) + 32\n",
        "print(f\"Corresponding temperature in Fahrenheit : {ftemp}\")"
      ],
      "metadata": {
        "colab": {
          "base_uri": "https://localhost:8080/"
        },
        "id": "1GuGzRE7cqqM",
        "outputId": "e399dd04-75b6-4423-bb23-96c1f768587e"
      },
      "execution_count": 2,
      "outputs": [
        {
          "output_type": "stream",
          "name": "stdout",
          "text": [
            "Enter Temperatur in celcius 37\n",
            "Corresponding temperature in Fahrenheit : 98.60000000000001\n"
          ]
        }
      ]
    },
    {
      "cell_type": "markdown",
      "source": [
        "3.\tWrite a Python program to display calendar?"
      ],
      "metadata": {
        "id": "wt23BFNaa1GE"
      }
    },
    {
      "cell_type": "code",
      "source": [
        "import calendar\n",
        "year = int(input(\"Enter year : \"))\n",
        "month = int(input(\"Enter month : \"))\n",
        "print(calendar.calendar(year,month))"
      ],
      "metadata": {
        "colab": {
          "base_uri": "https://localhost:8080/"
        },
        "id": "ReEoyyand-ZG",
        "outputId": "3d8eecaa-aaa3-4bf0-df63-4871f3a19c97"
      },
      "execution_count": 4,
      "outputs": [
        {
          "output_type": "stream",
          "name": "stdout",
          "text": [
            "Enter year : 2022\n",
            "Enter month : 10\n",
            "                                                                                                                      2022\n",
            "\n",
            "                                  January                                                                           February                                                                           March\n",
            "  Monday    Tuesday   Wednesday   Thursday    Friday    Saturday    Sunday          Monday    Tuesday   Wednesday   Thursday    Friday    Saturday    Sunday          Monday    Tuesday   Wednesday   Thursday    Friday    Saturday    Sunday\n",
            "                                                            1          2                          1          2          3          4          5          6                          1          2          3          4          5          6\n",
            "     3          4          5          6          7          8          9               7          8          9         10         11         12         13               7          8          9         10         11         12         13\n",
            "    10         11         12         13         14         15         16              14         15         16         17         18         19         20              14         15         16         17         18         19         20\n",
            "    17         18         19         20         21         22         23              21         22         23         24         25         26         27              21         22         23         24         25         26         27\n",
            "    24         25         26         27         28         29         30              28                                                                                28         29         30         31\n",
            "    31\n",
            "\n",
            "                                   April                                                                              May                                                                               June\n",
            "  Monday    Tuesday   Wednesday   Thursday    Friday    Saturday    Sunday          Monday    Tuesday   Wednesday   Thursday    Friday    Saturday    Sunday          Monday    Tuesday   Wednesday   Thursday    Friday    Saturday    Sunday\n",
            "                                                 1          2          3                                                                                 1                                     1          2          3          4          5\n",
            "     4          5          6          7          8          9         10               2          3          4          5          6          7          8               6          7          8          9         10         11         12\n",
            "    11         12         13         14         15         16         17               9         10         11         12         13         14         15              13         14         15         16         17         18         19\n",
            "    18         19         20         21         22         23         24              16         17         18         19         20         21         22              20         21         22         23         24         25         26\n",
            "    25         26         27         28         29         30                         23         24         25         26         27         28         29              27         28         29         30\n",
            "                                                                                      30         31\n",
            "\n",
            "                                    July                                                                             August                                                                          September\n",
            "  Monday    Tuesday   Wednesday   Thursday    Friday    Saturday    Sunday          Monday    Tuesday   Wednesday   Thursday    Friday    Saturday    Sunday          Monday    Tuesday   Wednesday   Thursday    Friday    Saturday    Sunday\n",
            "                                                 1          2          3               1          2          3          4          5          6          7                                                1          2          3          4\n",
            "     4          5          6          7          8          9         10               8          9         10         11         12         13         14               5          6          7          8          9         10         11\n",
            "    11         12         13         14         15         16         17              15         16         17         18         19         20         21              12         13         14         15         16         17         18\n",
            "    18         19         20         21         22         23         24              22         23         24         25         26         27         28              19         20         21         22         23         24         25\n",
            "    25         26         27         28         29         30         31              29         30         31                                                          26         27         28         29         30\n",
            "\n",
            "                                  October                                                                           November                                                                          December\n",
            "  Monday    Tuesday   Wednesday   Thursday    Friday    Saturday    Sunday          Monday    Tuesday   Wednesday   Thursday    Friday    Saturday    Sunday          Monday    Tuesday   Wednesday   Thursday    Friday    Saturday    Sunday\n",
            "                                                            1          2                          1          2          3          4          5          6                                                1          2          3          4\n",
            "     3          4          5          6          7          8          9               7          8          9         10         11         12         13               5          6          7          8          9         10         11\n",
            "    10         11         12         13         14         15         16              14         15         16         17         18         19         20              12         13         14         15         16         17         18\n",
            "    17         18         19         20         21         22         23              21         22         23         24         25         26         27              19         20         21         22         23         24         25\n",
            "    24         25         26         27         28         29         30              28         29         30                                                          26         27         28         29         30         31\n",
            "    31\n",
            "\n"
          ]
        }
      ]
    },
    {
      "cell_type": "markdown",
      "source": [
        "4.\tWrite a Python program to solve quadratic equation?"
      ],
      "metadata": {
        "id": "2P57SLHta1he"
      }
    },
    {
      "cell_type": "markdown",
      "source": [
        "```ax2 + bx + c\n",
        "where,\n",
        "a, b, and c are coefficient and real numbers and also a ≠ 0.\n",
        "If a is equal to 0 that equation is not valid quadratic equation. ```"
      ],
      "metadata": {
        "id": "KvVFCsvWf5UR"
      }
    },
    {
      "cell_type": "markdown",
      "source": [
        "> - x = (-b + (b^2 - 4ac)**1/2)/2a  \n",
        "> - x = (-b - (b^2 - 4ac)**1/2)/2a"
      ],
      "metadata": {
        "id": "EAi8Hp4egQ2z"
      }
    },
    {
      "cell_type": "code",
      "source": [
        "a = int(input(\"Co-efficient of x^2 : \"))\n",
        "b = int(input(\"Co-efficient of x : \"))\n",
        "c = int(input(\"constant value : \"))\n",
        "\n",
        "x1 = ((0-b) + (b**2 - 4*a*c)**1/2) / 2*a\n",
        "x2 = ((0-b) - (b**2 - 4*a*c)**1/2) / 2*a\n",
        "print(f\"solutions are {x1} and {x2}\")"
      ],
      "metadata": {
        "colab": {
          "base_uri": "https://localhost:8080/"
        },
        "id": "3dAeS66bhD-K",
        "outputId": "728f65c5-cade-4bef-a81f-a6e10fa093cf"
      },
      "execution_count": 7,
      "outputs": [
        {
          "output_type": "stream",
          "name": "stdout",
          "text": [
            "Co-efficient of x^2 : 1\n",
            "Co-efficient of x : 5\n",
            "constant value : 6\n",
            "solutions are -2.25 and -2.75\n"
          ]
        }
      ]
    },
    {
      "cell_type": "markdown",
      "source": [
        "5.\tWrite a Python program to swap two variables without temp variable?"
      ],
      "metadata": {
        "id": "D9gbfwh8jK-2"
      }
    },
    {
      "cell_type": "code",
      "source": [
        "var1 = int(input(\"Enter 1st Number: \"))\n",
        "var2 = int(input(\"Enter 2nd Number: \"))\n",
        "\n",
        "print(f\"Numbers before Swapping: var1 = {var1} , var2 = {var2}\")\n",
        "var1 = var1 + var2\n",
        "var2 = var1 - var2\n",
        "var1 = var1 - var2\n",
        "print(f\"Numbers after Swapping: var1 = {var1} , var2 = {var2}\")"
      ],
      "metadata": {
        "colab": {
          "base_uri": "https://localhost:8080/"
        },
        "id": "L3G33rYAayf2",
        "outputId": "7a437691-3b80-48d0-fbc6-3852255312fc"
      },
      "execution_count": 5,
      "outputs": [
        {
          "output_type": "stream",
          "name": "stdout",
          "text": [
            "Enter 1st Number: 34\n",
            "Enter 2nd Number: 56\n",
            "Numbers before Swapping: var1 = 34 , var2 = 56\n",
            "Numbers after Swapping: var1 = 56 , var2 = 34\n"
          ]
        }
      ]
    },
    {
      "cell_type": "code",
      "source": [],
      "metadata": {
        "id": "ixuPcgrTfTDb"
      },
      "execution_count": null,
      "outputs": []
    }
  ]
}