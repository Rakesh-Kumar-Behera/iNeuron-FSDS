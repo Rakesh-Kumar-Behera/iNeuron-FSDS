{
 "cells": [
  {
   "cell_type": "markdown",
   "id": "9ace9f72",
   "metadata": {},
   "source": [
    "1. Print the first 5 positive integers in ascending order with one number in each line"
   ]
  },
  {
   "cell_type": "code",
   "execution_count": 3,
   "id": "0d146941",
   "metadata": {},
   "outputs": [
    {
     "name": "stdout",
     "output_type": "stream",
     "text": [
      "1\n",
      "2\n",
      "3\n",
      "4\n",
      "5\n"
     ]
    }
   ],
   "source": [
    "for i in range(1,6):\n",
    "    print(i)"
   ]
  },
  {
   "cell_type": "code",
   "execution_count": 1,
   "id": "a4d19e36",
   "metadata": {},
   "outputs": [
    {
     "data": {
      "text/plain": [
       "193"
      ]
     },
     "execution_count": 1,
     "metadata": {},
     "output_type": "execute_result"
    }
   ],
   "source": [
    "5+99+89"
   ]
  },
  {
   "cell_type": "raw",
   "id": "a723c70f-2393-4dcc-b34c-2e045588207b",
   "metadata": {},
   "source": [
    "2. Print the following pattern\n",
    "*\n",
    "**\n",
    "***\n",
    "****\n",
    "*****\n",
    "There are no spaces between consecutive stars. There are no spaces \n",
    "at the end of each line."
   ]
  },
  {
   "cell_type": "code",
   "execution_count": 5,
   "id": "b37eac05",
   "metadata": {},
   "outputs": [
    {
     "name": "stdout",
     "output_type": "stream",
     "text": [
      "*\n",
      "**\n",
      "***\n",
      "****\n",
      "*****\n"
     ]
    }
   ],
   "source": [
    "for i in range(1,6):\n",
    "    print(i*'*')"
   ]
  },
  {
   "cell_type": "code",
   "execution_count": 11,
   "id": "3d915443",
   "metadata": {},
   "outputs": [
    {
     "name": "stdout",
     "output_type": "stream",
     "text": [
      "*\n",
      "**\n",
      "***\n",
      "****\n",
      "*****\n"
     ]
    }
   ],
   "source": [
    "for r in range(1,6):\n",
    "    for c in range(r):\n",
    "        print('*', end='')\n",
    "    print()\n",
    "    "
   ]
  },
  {
   "cell_type": "raw",
   "id": "d9263791-a394-44ee-8ba9-4fb01759b6ac",
   "metadata": {},
   "source": [
    "3. Accept an integer as input and print its square as output."
   ]
  },
  {
   "cell_type": "code",
   "execution_count": 13,
   "id": "fb39c65f",
   "metadata": {},
   "outputs": [
    {
     "name": "stdout",
     "output_type": "stream",
     "text": [
      "Enter an integer: 13\n",
      "Square of 13 = 169\n"
     ]
    }
   ],
   "source": [
    "n = int(input(\"Enter an integer: \"))\n",
    "print(f\"Square of {n} = {n*n}\")"
   ]
  },
  {
   "cell_type": "raw",
   "id": "49ca4411-ab36-4e57-8d62-3628156bc49b",
   "metadata": {},
   "source": [
    "4. Accept two integers as input and print their sum as output."
   ]
  },
  {
   "cell_type": "code",
   "execution_count": 14,
   "id": "aec7ade7",
   "metadata": {},
   "outputs": [
    {
     "name": "stdout",
     "output_type": "stream",
     "text": [
      "Enter num 1: 234\n",
      "Enter num 2: 654\n",
      "Sum of 234 and 654 = 888\n"
     ]
    }
   ],
   "source": [
    "a = int(input(\"Enter num 1: \"))\n",
    "b = int(input(\"Enter num 2: \"))\n",
    "print(f\"Sum of {a} and {b} = {a+b}\")"
   ]
  },
  {
   "cell_type": "raw",
   "id": "f303afc2-f3af-4d9d-a4d8-7c2da8f24e3c",
   "metadata": {},
   "source": [
    "5. Accept two words as input and print the two words after adding a \n",
    "space between them"
   ]
  },
  {
   "cell_type": "code",
   "execution_count": 14,
   "id": "1671da3a",
   "metadata": {},
   "outputs": [
    {
     "name": "stdout",
     "output_type": "stream",
     "text": [
      "rakesh\n",
      "behera\n",
      "rakesh behera\n"
     ]
    }
   ],
   "source": [
    "print(input(),input())"
   ]
  },
  {
   "cell_type": "code",
   "execution_count": 16,
   "id": "26df7d2a",
   "metadata": {},
   "outputs": [
    {
     "name": "stdout",
     "output_type": "stream",
     "text": [
      "First word: rakesh\n",
      "Second word: behera\n",
      "Result = rakesh behera\n"
     ]
    }
   ],
   "source": [
    "word1 = input(\"First word: \")\n",
    "word2 = input(\"Second word: \")\n",
    "print(f\"Result = {word1+ ' ' +word2}\")"
   ]
  },
  {
   "cell_type": "raw",
   "id": "1fdd53ab-a380-4caa-bdec-2876024a044d",
   "metadata": {},
   "source": [
    "6. Accept the registration number of a vehicle as input and print its \n",
    "state-code as output."
   ]
  },
  {
   "cell_type": "code",
   "execution_count": 18,
   "id": "28539c76",
   "metadata": {},
   "outputs": [
    {
     "name": "stdout",
     "output_type": "stream",
     "text": [
      "Enter vehicle registration number: UP14AC1417\n",
      "State code = UP\n"
     ]
    }
   ],
   "source": [
    "reg = input(\"Enter vehicle registration number: \")\n",
    "print(f\"State code = {reg[:2]}\")"
   ]
  },
  {
   "cell_type": "raw",
   "id": "e476d0d4-2d90-4764-b4ce-91d6d67729c2",
   "metadata": {},
   "source": [
    "7.Accept a five-digit number as input and print the sum of its digits as \n",
    "output."
   ]
  },
  {
   "cell_type": "code",
   "execution_count": 20,
   "id": "a4fe8c6e",
   "metadata": {},
   "outputs": [
    {
     "name": "stdout",
     "output_type": "stream",
     "text": [
      "Enter a number: 76543\n",
      "Sum of the digits = 25\n"
     ]
    }
   ],
   "source": [
    "n = int(input(\"Enter a number: \"))\n",
    "sum = 0\n",
    "while(n > 0):\n",
    "    r = n % 10;\n",
    "    sum = sum + r\n",
    "    n = n // 10\n",
    "\n",
    "    \n",
    "print(f\"Sum of the digits = {sum}\")\n",
    "  "
   ]
  },
  {
   "cell_type": "code",
   "execution_count": 15,
   "id": "fe8fda57",
   "metadata": {},
   "outputs": [
    {
     "name": "stdout",
     "output_type": "stream",
     "text": [
      "Enter a number: 23455\n",
      "Sum of digits = 19\n"
     ]
    }
   ],
   "source": [
    "number = input(\"Enter a number: \")\n",
    "sum = 0\n",
    "for i in number:\n",
    "    sum = sum + int(i)\n",
    "    \n",
    "print(f\"Sum of digits = {sum}\")"
   ]
  },
  {
   "cell_type": "raw",
   "id": "47ef2a83-4d51-4340-8770-9490474f43a9",
   "metadata": {},
   "source": [
    "8.Accept five words as input and print the sentence formed by these \n",
    "words after adding a space between consecutive words and a full stop \n",
    "at the end."
   ]
  },
  {
   "cell_type": "code",
   "execution_count": 21,
   "id": "295ee7cf",
   "metadata": {},
   "outputs": [
    {
     "name": "stdout",
     "output_type": "stream",
     "text": [
      "My\n",
      "Name\n",
      "is\n",
      "Rakesh\n",
      "Behera\n",
      "My Name is Rakesh Behera .\n"
     ]
    }
   ],
   "source": [
    "list = []\n",
    "for i in range(5):\n",
    "    word = input()\n",
    "    list.append(word)\n",
    "\n",
    "sentence = \"\"\n",
    "for i in list:\n",
    "    sentence = sentence + i + \" \"\n",
    "    \n",
    "print(sentence + \".\")"
   ]
  },
  {
   "cell_type": "raw",
   "id": "7b0fb9d7-98dc-4ab9-9548-c12f49f787a0",
   "metadata": {},
   "source": [
    "9.Accept the date in DD-MM-YYYY format as input and print the \n",
    "year as output."
   ]
  },
  {
   "cell_type": "code",
   "execution_count": 1,
   "id": "9009ccba",
   "metadata": {},
   "outputs": [
    {
     "name": "stdout",
     "output_type": "stream",
     "text": [
      "Enter a Date : 12-10-2023\n",
      "Year = 2023\n"
     ]
    }
   ],
   "source": [
    "date = input(\"Enter a Date : \")\n",
    "print(f\"Year = {date[-4:]}\")"
   ]
  },
  {
   "cell_type": "raw",
   "id": "521abc20-5c4a-4fda-a3d7-45c626ad4d1c",
   "metadata": {},
   "source": [
    "10.Accept a sequence of five single digit numbers separated by commas \n",
    "as input. Print the product of all five numbers."
   ]
  },
  {
   "cell_type": "code",
   "execution_count": 14,
   "id": "47cd3fc1",
   "metadata": {},
   "outputs": [
    {
     "name": "stdout",
     "output_type": "stream",
     "text": [
      "120\n"
     ]
    }
   ],
   "source": [
    "inp_num = [1,2,3,4,5]\n",
    "prod = 1\n",
    "for i in inp_num:\n",
    "    if i != ',':\n",
    "        prod = prod * int(i)\n",
    "print(prod)"
   ]
  },
  {
   "cell_type": "code",
   "execution_count": 4,
   "id": "80ec7693",
   "metadata": {},
   "outputs": [
    {
     "name": "stdout",
     "output_type": "stream",
     "text": [
      "Enter the sequence: 1,2,3,4,5\n",
      "Product = 120\n"
     ]
    }
   ],
   "source": [
    "seq = input(\"Enter the sequence: \")\n",
    "li = seq.split(',')\n",
    "res= 1\n",
    "for i in li:\n",
    "    res = res * int(i)\n",
    "    \n",
    "print(f\"Product = {res}\")"
   ]
  },
  {
   "cell_type": "raw",
   "id": "482e853e-2564-4eaf-a46b-0f31d3369f58",
   "metadata": {},
   "source": [
    "11. Accept two positive integers x and y as input. Print the number of \n",
    "digits in xy (x to the power of y)"
   ]
  },
  {
   "cell_type": "code",
   "execution_count": 17,
   "id": "0edb7a4b",
   "metadata": {},
   "outputs": [
    {
     "name": "stdout",
     "output_type": "stream",
     "text": [
      "5\n",
      "7\n",
      "no of digits = 5\n"
     ]
    }
   ],
   "source": [
    "x = int(input())\n",
    "y = int(input())\n",
    "z = x**y\n",
    "\n",
    "print(f\"no of digits = {len(str(z))}\")"
   ]
  },
  {
   "cell_type": "code",
   "execution_count": 1,
   "id": "59bb7e3e",
   "metadata": {},
   "outputs": [
    {
     "name": "stdout",
     "output_type": "stream",
     "text": [
      "123\n",
      "23\n",
      "5\n"
     ]
    }
   ],
   "source": [
    "x = input()\n",
    "y = input()\n",
    "print(len(x+y))"
   ]
  },
  {
   "cell_type": "raw",
   "id": "af890b67-6c1f-412c-bbbe-8fc1358e0a91",
   "metadata": {},
   "source": [
    "12. Accept a string as input. If the input string is of odd length, then \n",
    "continue with it. If the input string is of even length, make the \n",
    "string of odd length as below:\n",
    "• If the last character is a period (.), then remove it \n",
    "• If the last character is not a period, then add a period (.) to the \n",
    "end of the string\n",
    "Call this string of odd length word. Select a substring made up of \n",
    "three consecutive characters from word such that there are an \n",
    "equal number of characters to the left and right of this substring. \n",
    "Print this substring as output. You can assume that all input \n",
    "strings will be in lower case and will have a length of at least four"
   ]
  },
  {
   "cell_type": "code",
   "execution_count": 5,
   "id": "a5ac3df1",
   "metadata": {},
   "outputs": [
    {
     "name": "stdout",
     "output_type": "stream",
     "text": [
      "5\n",
      "4\n"
     ]
    }
   ],
   "source": [
    "strng = \"Hello\"\n",
    "strng[-1]\n",
    "print(len(strng))\n",
    "strng = strng.replace('o','')\n",
    "print(len(strng))"
   ]
  },
  {
   "cell_type": "code",
   "execution_count": 13,
   "id": "4ec68f38",
   "metadata": {},
   "outputs": [
    {
     "name": "stdout",
     "output_type": "stream",
     "text": [
      "qazwsxe\n",
      "zws\n"
     ]
    }
   ],
   "source": [
    "#My answer\n",
    "txt = input()\n",
    "ln = len(txt)\n",
    "if ln % 2 == 0:\n",
    "    if txt[-1] == '.':\n",
    "        txt = txt.replace('.','')\n",
    "        ln = ln -1\n",
    "    else:\n",
    "        txt = txt + '.'\n",
    "        ln = ln+1\n",
    "else:\n",
    "    pass\n",
    "\n",
    "\n",
    "si = ln//2 - 1\n",
    "ei = si+3\n",
    "print(txt[si:ei])"
   ]
  },
  {
   "cell_type": "code",
   "execution_count": 18,
   "id": "6fedc975",
   "metadata": {},
   "outputs": [
    {
     "name": "stdout",
     "output_type": "stream",
     "text": [
      "welcome\n",
      "lco\n"
     ]
    }
   ],
   "source": [
    "txt = input()\n",
    "ln = len(txt)\n",
    "if ln % 2 == 0:\n",
    "    if txt[-1] == '.':\n",
    "        txt = txt[:-1]\n",
    "    else:\n",
    "        txt = txt + '.'\n",
    "        \n",
    "n = int((len(txt)-1)/2)\n",
    "print(txt[n-1:n+2])"
   ]
  },
  {
   "cell_type": "raw",
   "id": "7188ddf7-aeae-43c7-add9-8a31e08a2bc9",
   "metadata": {},
   "source": [
    "13. Accept three positive integers as input and check if they form the \n",
    "sides of a right triangle. Print YES if they form one, and NO is they do \n",
    "not. The input will have three lines, with one integer on each line. \n",
    "The output should be a single line containing one of these two \n",
    "strings: YES or NO."
   ]
  },
  {
   "cell_type": "code",
   "execution_count": 37,
   "id": "814f1dcb",
   "metadata": {},
   "outputs": [
    {
     "name": "stdout",
     "output_type": "stream",
     "text": [
      "side1 : 6\n",
      "side2 : 8\n",
      "side3 : 10\n",
      "yes\n"
     ]
    }
   ],
   "source": [
    "a = int(input(\"side1 : \"))\n",
    "b = int(input(\"side2 : \"))\n",
    "c = int(input(\"side3 : \"))\n",
    "\n",
    "if ((a**2 + b**2 == c**2) or (b**2 + c**2 == a**2) or (c**2 + a**2 == b**2)):\n",
    "    print('yes')\n",
    "else:\n",
    "    print('no')"
   ]
  },
  {
   "cell_type": "code",
   "execution_count": 6,
   "id": "99550976",
   "metadata": {},
   "outputs": [
    {
     "name": "stdout",
     "output_type": "stream",
     "text": [
      "side1 : 6\n",
      "side2 : 7\n",
      "side3 : 8\n",
      "NO\n"
     ]
    }
   ],
   "source": [
    "def checkRightTriangle(h,p,b):\n",
    "    if (h*h) == (p*p) + (b*b):\n",
    "        return True\n",
    "    return False\n",
    "\n",
    "a = int(input(\"side1 : \"))\n",
    "b = int(input(\"side2 : \"))\n",
    "c = int(input(\"side3 : \"))\n",
    "\n",
    "#res = 1\n",
    "\n",
    "if a > b and a > c:\n",
    "    res = checkRightTriangle(a,b,c)\n",
    "    \n",
    "elif b > c:\n",
    "    res = checkRightTriangle(b,a,c)\n",
    "else:\n",
    "    res = checkRightTriangle(c,a,b,)\n",
    "\n",
    "if res == True:\n",
    "    print(\"YES\")\n",
    "else:\n",
    "    print(\"NO\")\n",
    "  "
   ]
  },
  {
   "cell_type": "raw",
   "id": "5e16b40c-a122-4dbc-a681-bca1fe32a1dc",
   "metadata": {},
   "source": [
    "14. EvenOdd is a tech startup. Each employee at the startup is given an employee id which is a unique \n",
    "positive integer. On one warm Sunday evening, five employees of the company come together for a \n",
    "meeting and sit at a circular table:\n",
    "The employees follow a strange convention. They will continue the meeting only if the following \n",
    "condition is satisfied.\n",
    "The sum of the employee-ids of every pair of adjacent employees at the table must be an even \n",
    "number.\n",
    "They are so lazy that they won’t move around to satisfy the above condition, If the current seating \n",
    "plan doesn’t satisfy the condition, the meeting will be cancelled. You are given the employee-id of all \n",
    "five employees. Your task is to decide if the meeting happened or not.\n",
    "The input will be five lined, each containing an integer. The ith line will have the employee-id of Ei. \n",
    "The output will be a single line containing one of these two strings: YES or NO"
   ]
  },
  {
   "cell_type": "code",
   "execution_count": 38,
   "id": "4862c6cd",
   "metadata": {},
   "outputs": [
    {
     "name": "stdout",
     "output_type": "stream",
     "text": [
      "Employee-1 ID: 11\n",
      "Employee-2 ID: 13\n",
      "Employee-3 ID: 15\n",
      "Employee-4 ID: 17\n",
      "Employee-5 ID: 199\n",
      "YES\n"
     ]
    }
   ],
   "source": [
    "e1 = int(input(\"Employee-1 ID: \"))\n",
    "e2 = int(input(\"Employee-2 ID: \"))\n",
    "e3 = int(input(\"Employee-3 ID: \"))\n",
    "e4 = int(input(\"Employee-4 ID: \"))\n",
    "e5 = int(input(\"Employee-5 ID: \"))\n",
    "\n",
    "if ((e1 + e2) % 2 == 0 and\n",
    "     (e2 + e3) % 2 == 0 and\n",
    "        (e3 + e4) % 2 == 0 and\n",
    "            (e4 + e5) % 2 == 0 and\n",
    "                (e5 + e1) % 2 == 0):\n",
    "    print(\"YES\")\n",
    "else:\n",
    "    print(\"NO\")"
   ]
  },
  {
   "cell_type": "code",
   "execution_count": 9,
   "id": "066f86ac",
   "metadata": {},
   "outputs": [
    {
     "name": "stdout",
     "output_type": "stream",
     "text": [
      "Employee-1 ID: 122\n",
      "Employee-2 ID: 124\n",
      "Employee-3 ID: 126\n",
      "Employee-4 ID: 128\n",
      "Employee-5 ID: 120\n",
      "YES\n"
     ]
    }
   ],
   "source": [
    "# My solution -- not a good approach\n",
    "e1 = int(input(\"Employee-1 ID: \"))\n",
    "e2 = int(input(\"Employee-2 ID: \"))\n",
    "e3 = int(input(\"Employee-3 ID: \"))\n",
    "e4 = int(input(\"Employee-4 ID: \"))\n",
    "e5 = int(input(\"Employee-5 ID: \"))\n",
    "\n",
    "if (e1 + e2) % 2 == 0:\n",
    "    if (e2 + e3) % 2 == 0:\n",
    "        if (e3 + e4) % 2 == 0:\n",
    "            if (e4 + e5) % 2 == 0:\n",
    "                if (e5 + e1) % 2 == 0:\n",
    "                    result = True\n",
    "                else:\n",
    "                    result = False\n",
    "            else:\n",
    "                result = False\n",
    "        else:\n",
    "            result = False\n",
    "    else:\n",
    "        result = False\n",
    "else:\n",
    "    result = False\n",
    "    \n",
    "if(result == True):\n",
    "    print(\"YES\")\n",
    "else:\n",
    "    print(\"NO\")\n",
    "                    \n",
    "# unnecessary use of nested if-else    "
   ]
  },
  {
   "cell_type": "raw",
   "id": "1d651eb9-add5-4f2b-9a92-57303f327be3",
   "metadata": {},
   "source": [
    "15. Accept a string as input and print the vowels present in the string in \n",
    "alphabetical order. If the string doesn’t contain any vowels, then \n",
    "print the string none as output. Each vowel that appears in the input \n",
    "string – irrespective of its case should appear just once in lower case \n",
    "in the output"
   ]
  },
  {
   "cell_type": "code",
   "execution_count": 45,
   "id": "fc045b02",
   "metadata": {},
   "outputs": [
    {
     "name": "stdout",
     "output_type": "stream",
     "text": [
      "ineuron\n",
      "eiou\n"
     ]
    }
   ],
   "source": [
    "input_string = input().lower()\n",
    "vowels = \"\"\n",
    "if \"a\" in input_string:\n",
    "    vowels += \"a\"\n",
    "if \"e\" in input_string:\n",
    "    vowels += \"e\"\n",
    "if \"i\" in input_string:\n",
    "    vowels += \"i\"\n",
    "if \"o\" in input_string:\n",
    "    vowels += \"o\"\n",
    "if \"u\" in input_string:\n",
    "    vowels += \"u\"\n",
    "if vowels != \"\":\n",
    "    print(vowels)\n",
    "else:\n",
    "    print('none')\n"
   ]
  },
  {
   "cell_type": "code",
   "execution_count": 42,
   "id": "e38542e9",
   "metadata": {},
   "outputs": [
    {
     "name": "stdout",
     "output_type": "stream",
     "text": [
      "Enter a string :ineuron\n",
      "e,i,o,u,"
     ]
    }
   ],
   "source": [
    "def isVowel(s):\n",
    "    if s.lower() == 'a' or s.lower() == 'e' or s.lower() == 'i' or s.lower() == 'o' or s.lower() == 'u':\n",
    "        return True\n",
    "    return False\n",
    "\n",
    "st = input(\"Enter a string :\")\n",
    "list1 = []\n",
    "for i in st.lower():\n",
    "    if isVowel(i):\n",
    "        list1.append(i)\n",
    "list_set = set(list1)\n",
    "ordered_list = list(sorted(list_set))\n",
    "if len(list1) == 0:\n",
    "    print(\"None\")\n",
    "else:\n",
    "    for i in ordered_list:\n",
    "        print(i,end=',')"
   ]
  },
  {
   "cell_type": "code",
   "execution_count": 1,
   "id": "efd71663",
   "metadata": {},
   "outputs": [
    {
     "data": {
      "text/plain": [
       "12"
      ]
     },
     "execution_count": 1,
     "metadata": {},
     "output_type": "execute_result"
    }
   ],
   "source": []
  },
  {
   "cell_type": "raw",
   "id": "f7e76b4b-b3f7-4766-a82b-5e63a879b380",
   "metadata": {},
   "source": [
    "16.You are given the date of birth of two persons, not necessarily from \n",
    "the same family. Your task is to find the younger of the two. If both \n",
    "of them share the same date of birth, then the younger of the two is \n",
    "assumed to be that person whose name comes first in alphabetical \n",
    "order.\n",
    "The input will have four lines. The first two lines correspond to the \n",
    "first person, while the last two lines correspond to the second \n",
    "person. For each person, the first line corresponds to the name and \n",
    "the second line corresponds to the date of birth in “DD-MM-YYYY” \n",
    "format. Your output should be the name of the younger of the two."
   ]
  },
  {
   "cell_type": "code",
   "execution_count": 46,
   "id": "4fb8aaed",
   "metadata": {},
   "outputs": [
    {
     "name": "stdout",
     "output_type": "stream",
     "text": [
      "raka\n",
      "13-07-1998\n",
      "akash\n",
      "07-07-1998\n",
      "raka\n"
     ]
    }
   ],
   "source": [
    "n1 = input()\n",
    "d1 = input()\n",
    "n2 = input()\n",
    "d2 = input()\n",
    "if d1==d2 :\n",
    "    if n1<n2 :\n",
    "        print(n1)\n",
    "    else :\n",
    "         print(n2)\n",
    "elif d1[-4:] != d2[-4:] :\n",
    "    if int(d1[-4:]) < int(d2[-4:]):\n",
    "        print(n2)\n",
    "    else :\n",
    "        print(n1)\n",
    "elif d1[3:5] != d2[3:5]:\n",
    "    if int(d1[3:5]) < int(d2[3:5]):\n",
    "        print(n2)\n",
    "    else :\n",
    "        print(n1)\n",
    "else :\n",
    "    if int(d1[0:2]) < int(d2[0:2]):\n",
    "        print(n2)\n",
    "    else :\n",
    "        print(n1)"
   ]
  },
  {
   "cell_type": "raw",
   "id": "6ee8f8bd-15aa-40d8-9cef-2f7e22f6cf5d",
   "metadata": {},
   "source": [
    "17.Accept a string as input. Your task is to determine if the input string is a valid password or not. For a \n",
    "string to be a valid password, it must satisfy all the conditions given below:\n",
    "(1) It should have at least 8 and at most 32 characters\n",
    "(2) It should start with an uppercase or lowercase letter\n",
    "(3) It should not have any of these characters: / \\ = ' \"\n",
    "(4) It should not have spaces\n",
    "It could have any character that is not mentioned in the list of characters to be avoided (points 3 and \n",
    "4). Output True if the string forms a valid password and False otherwise"
   ]
  },
  {
   "cell_type": "code",
   "execution_count": 47,
   "id": "9bc0fdba",
   "metadata": {},
   "outputs": [
    {
     "name": "stdout",
     "output_type": "stream",
     "text": [
      "bhsbjhsvca\n",
      "True\n"
     ]
    }
   ],
   "source": [
    "p = input()\n",
    "if 8<= len(p) <= 32 and p[0].isalpha() and '/' not in p and '\\\\' not in p and '=' not in p and '\\'' not in p and '\\\"' not in p and ' ' not in p :\n",
    "     print('True')\n",
    "else:\n",
    "     print('False') "
   ]
  },
  {
   "cell_type": "code",
   "execution_count": 35,
   "id": "7c900e90",
   "metadata": {},
   "outputs": [
    {
     "name": "stdout",
     "output_type": "stream",
     "text": [
      "Enter a string: adef3fgrgg\n",
      "Valid Password\n"
     ]
    }
   ],
   "source": [
    "st = input(\"Enter a string: \")\n",
    "\n",
    "if len(st) >= 8 and len(st) <= 32:\n",
    "    if st[0].isupper() or st[0].islower():\n",
    "        if '/' not in st or \"\\\\\" not in st or '=' not in st or '\"' not in st or \"'\" not in st:\n",
    "            if ' ' not in st:\n",
    "                print(\"Valid Password\")\n",
    "            else:\n",
    "                print(\"Inalid Password\")\n",
    "        else:\n",
    "            print(\"Invalid Password\")\n",
    "    else:\n",
    "        print(\"Valid Password\")\n",
    "else:\n",
    "    print(\"Valid Password\")"
   ]
  },
  {
   "cell_type": "raw",
   "id": "a4d2f09c-6787-477e-8ed5-4ed4257469cb",
   "metadata": {},
   "source": [
    "18. Accept a positive integer n as input and print the first n positive \n",
    "integers, one number on each line."
   ]
  },
  {
   "cell_type": "code",
   "execution_count": 3,
   "id": "15cf4aa5",
   "metadata": {},
   "outputs": [
    {
     "name": "stdout",
     "output_type": "stream",
     "text": [
      "Enter a Positive number : 5\n",
      "1\n",
      "2\n",
      "3\n",
      "4\n",
      "5\n"
     ]
    }
   ],
   "source": [
    "no = int(input(\"Enter a Positive number : \"))\n",
    "for i in range(no):\n",
    "    print(i+1)"
   ]
  },
  {
   "cell_type": "raw",
   "id": "0527265b-0110-476d-8bf6-6a724749197e",
   "metadata": {},
   "source": [
    "19.Accept a positive integer n as input, where n is greater than 1. \n",
    "Print PRIME ifnis a prime number and NOTPRIME otherwise."
   ]
  },
  {
   "cell_type": "code",
   "execution_count": 14,
   "id": "c241aec0",
   "metadata": {},
   "outputs": [
    {
     "name": "stdout",
     "output_type": "stream",
     "text": [
      "Enter a number: 4\n",
      "NOT PRIME\n"
     ]
    }
   ],
   "source": [
    "n = int(input(\"Enter a number: \"))\n",
    "def isPrime(n):\n",
    "    if n == 1:\n",
    "        return \"NOT PRIME\"\n",
    "    for i in range(1,n//2):\n",
    "        if n % i == 0:\n",
    "            return \"NOT PRIME\"\n",
    "    return \"PRIME\"\n",
    "print(isPrime(n))\n"
   ]
  },
  {
   "cell_type": "code",
   "execution_count": 48,
   "id": "09ca4a2e",
   "metadata": {},
   "outputs": [
    {
     "name": "stdout",
     "output_type": "stream",
     "text": [
      "67\n",
      "PRIME\n"
     ]
    }
   ],
   "source": [
    "n = int(input())\n",
    "prime= True\n",
    "for i in range(2,n):\n",
    "    if(n%i==0):\n",
    "        prime= False\n",
    "if prime:\n",
    "     print('PRIME')\n",
    "else:\n",
    "     print('NOTPRIME')"
   ]
  },
  {
   "cell_type": "raw",
   "id": "8d8297d3-a658-4afd-9b7f-b2ee198faa52",
   "metadata": {},
   "source": [
    "20. Accept two strings as input and form a new string by removing all \n",
    "characters from the second string which are present in the first string. \n",
    "Print this new string as output. You can assume that all input strings \n",
    "will be in lower case."
   ]
  },
  {
   "cell_type": "code",
   "execution_count": 20,
   "id": "8b925fa6",
   "metadata": {},
   "outputs": [
    {
     "data": {
      "text/plain": [
       "'heo'"
      ]
     },
     "execution_count": 20,
     "metadata": {},
     "output_type": "execute_result"
    }
   ],
   "source": [
    "str3 = \"hello\"\n",
    "if 'l' in str3:\n",
    "    str3 = str3.replace('l', '')\n",
    "str3"
   ]
  },
  {
   "cell_type": "code",
   "execution_count": 21,
   "id": "df9ab261",
   "metadata": {},
   "outputs": [
    {
     "name": "stdout",
     "output_type": "stream",
     "text": [
      "rakesh\n",
      "kumar\n",
      "New String : um\n"
     ]
    }
   ],
   "source": [
    "str1 = input()\n",
    "str2 = input()\n",
    "\n",
    "for c in str1:\n",
    "    if c in str2:\n",
    "        str2 = str2.replace(c,'')\n",
    "        \n",
    "print(f\"New String : {str2}\")"
   ]
  },
  {
   "cell_type": "raw",
   "id": "9d4ca698-02c3-415a-8b99-7b59c5702d8d",
   "metadata": {},
   "source": [
    "21.Accept a phone number as input. A valid phone number should satisfy \n",
    "the following constraints.\n",
    "(1) The number should start with one of these digits: 6, 7, 8, 9\n",
    "(2) The number should be exactly 10 digits long.\n",
    "(3) No digit should appear more than 7 times in the number.\n",
    "(4) No digit should appear more than 5 times in a row in the \n",
    "number.\n",
    "If the fourth condition is not very clear, then consider this example: \n",
    "the number 9888888765 is invalid because the digit 8 appears more \n",
    "than 5 times in a row. Print the string valid if the phone number is \n",
    "valid. If not, print the string invalid."
   ]
  },
  {
   "cell_type": "code",
   "execution_count": 18,
   "id": "ef0b7648",
   "metadata": {},
   "outputs": [
    {
     "name": "stdout",
     "output_type": "stream",
     "text": [
      "Enter a Phone Number: 7656786698\n",
      "Phone number is valid\n"
     ]
    }
   ],
   "source": [
    "phn = input(\"Enter a Phone Number: \")\n",
    "\n",
    "if phn.startswith('9') or phn.startswith('8') or phn.startswith('7') or phn.startswith('6'):\n",
    "    if len(phn) == 10 and phn.isdigit():\n",
    "        for d in phn:\n",
    "            if phn.count(d) > 7:\n",
    "                print(\"Invalid Phone Number\")\n",
    "                break\n",
    "            else:\n",
    "                if d*6 in phn:\n",
    "                    print(\"Invalid Phone Number\")\n",
    "                    break\n",
    "                else:\n",
    "                    print(\"Phone number is valid\")\n",
    "                    break\n",
    "    else:\n",
    "        print(\"Invalid Phone Number\")\n",
    "else:\n",
    "    print(\"Invalid Phone Number\")\n",
    "                    "
   ]
  },
  {
   "cell_type": "code",
   "execution_count": 17,
   "id": "6d5443c2",
   "metadata": {},
   "outputs": [
    {
     "name": "stdout",
     "output_type": "stream",
     "text": [
      "9876567897\n",
      "valid\n"
     ]
    }
   ],
   "source": [
    "n=input()\n",
    "a=False\n",
    "if len(n)==10 and int(n[0])>5 and n.isdigit():\n",
    "    for i in range(10):\n",
    "        if n.count(n[i])<8:\n",
    "            a=True\n",
    "            if n[i]*6 in n:\n",
    "                a=False\n",
    "                break\n",
    "        else:\n",
    "            break\n",
    "if a:\n",
    "    print('valid')\n",
    "else:\n",
    "    print('invalid')\n",
    "\n",
    "#The isdigit() method returns True if all the characters are digits, otherwise False.\n",
    "# The count() method returns the number of elements with the specified value."
   ]
  },
  {
   "cell_type": "raw",
   "id": "781b0869-d8b7-4f2f-b4cd-16d0e128fd0f",
   "metadata": {},
   "source": [
    "22. In the first line of input, accept a sequence of space-separated words. In the second line of \n",
    "input, accept a single word. If this word is not present in the sequence, print NO. If this word \n",
    "is present in the sequence, then print YES and in the next line of the output, print the number \n",
    "of times the word appears in the sequence."
   ]
  },
  {
   "cell_type": "code",
   "execution_count": 21,
   "id": "527e2b72",
   "metadata": {},
   "outputs": [
    {
     "name": "stdout",
     "output_type": "stream",
     "text": [
      "i write code, i use python to write code\n",
      "write\n",
      "YES\n",
      "2\n"
     ]
    }
   ],
   "source": [
    "seq = input()\n",
    "seql = seq.split(\" \")\n",
    "word = input()\n",
    "\n",
    "if word in seql:\n",
    "    print('YES')\n",
    "    print(seq.count(word))\n",
    "else:\n",
    "    print('NO')"
   ]
  },
  {
   "cell_type": "raw",
   "id": "ea752210-2e2a-428b-937c-31251daf7ba8",
   "metadata": {},
   "source": [
    "23. Write a function named factorial that accepts an integer n as argument. It should return \n",
    "the factorial of n if n is a positive integer. It should return -1 if n is a negative integer, and it \n",
    "should return 1 if n is zero."
   ]
  },
  {
   "cell_type": "code",
   "execution_count": 34,
   "id": "c18ef642",
   "metadata": {},
   "outputs": [
    {
     "name": "stdout",
     "output_type": "stream",
     "text": [
      "Enter a number = 6\n",
      "Facotial value of 6 = 720\n"
     ]
    }
   ],
   "source": [
    "n = int(input(\"Enter a number = \"))\n",
    "\n",
    "def factorial(n):\n",
    "    fact = 1\n",
    "    if n < 0:\n",
    "        return -1\n",
    "    if n == 0:\n",
    "        return 1\n",
    "    for i in range(n):\n",
    "        fact = fact * (i+1)\n",
    "    return fact\n",
    "print(f\"Facotial value of {n} = {factorial(n)}\")"
   ]
  },
  {
   "cell_type": "raw",
   "id": "c757a0b6-8450-47af-9b1f-f6ce69ebc775",
   "metadata": {},
   "source": [
    "24. \n",
    "The range of a list of numbers is the difference between the maximum and minimum values in the list\n",
    "Write a function named get_range that accepts a non-empty list of real numbers as argument. It \n",
    "should return the range of the list.\n",
    "(1) Avoid using built-in function such as max and min.\n",
    "(2) You do not have to accept input from the user or print output to the console. You just have to write \n",
    "the function definition."
   ]
  },
  {
   "cell_type": "code",
   "execution_count": 8,
   "id": "7255ba05",
   "metadata": {},
   "outputs": [
    {
     "name": "stdout",
     "output_type": "stream",
     "text": [
      "Range = 115\n"
     ]
    }
   ],
   "source": [
    "list1 = [12,2,31,4,35,6,7,89,117]\n",
    "\n",
    "def get_range(li):\n",
    "    minn = li[0] \n",
    "    maxx = li[0]\n",
    "    for i in range(1,len(li)):\n",
    "        if li[i] > maxx:\n",
    "            maxx = li[i]\n",
    "        if li[i] < minn:\n",
    "            minn = li[i]\n",
    "    return maxx - minn\n",
    "\n",
    "print(f\"Range = {get_range(list1)}\")"
   ]
  },
  {
   "cell_type": "code",
   "execution_count": 27,
   "id": "98aabc32",
   "metadata": {},
   "outputs": [],
   "source": [
    "# get the maximum\n",
    "def get_max(L):\n",
    "    maxi = L[0]\n",
    "    for x in L:\n",
    "        if x > maxi:\n",
    "            maxi = x\n",
    "    return maxi\n",
    "# get the minimum\n",
    "def get_min(L):\n",
    "    mini = L[0]\n",
    "    for x in L:\n",
    "        if x < mini:\n",
    "            mini = x\n",
    "    return mini\n",
    "# get the range\n",
    "def get_range(L):\n",
    "    maxi = get_max(L)\n",
    "    mini = get_min(L)\n",
    "    return maxi - mini "
   ]
  },
  {
   "cell_type": "code",
   "execution_count": 28,
   "id": "a59b9dbb",
   "metadata": {},
   "outputs": [
    {
     "data": {
      "text/plain": [
       "9"
      ]
     },
     "execution_count": 28,
     "metadata": {},
     "output_type": "execute_result"
    }
   ],
   "source": [
    "get_range([1,2,3,4,10])"
   ]
  },
  {
   "cell_type": "raw",
   "id": "8f3ba3db-9ed9-4c14-ac23-41f3225ad874",
   "metadata": {},
   "source": [
    "25. Write a function named read_file that accepts a text file named filename as argument. Within \n",
    "the function, read the file and print each line of the file on a separate line in the console. You shouldn't \n",
    "print any extra characters at the end of a line. There shouldn't be an empty line between any two \n",
    "consecutive lines.\n",
    "(1) filename is a string variable that holds the name of the file. For example, in the first test case, it \n",
    "is filename = 'public_1.txt'.\n",
    "(2) You do not have to accept input from the console. You have to write the function definition and \n",
    "print the contents of the file within the function"
   ]
  },
  {
   "cell_type": "code",
   "execution_count": 16,
   "id": "d3929cfb",
   "metadata": {},
   "outputs": [
    {
     "name": "stdout",
     "output_type": "stream",
     "text": [
      "This is line 1\n",
      "\n",
      "This is line 2\n",
      "\n",
      "This is line 3\n",
      "\n",
      "This is the last or the 4th line\n"
     ]
    }
   ],
   "source": [
    "txtfile = open(\"example1.txt\", 'w')\n",
    "txtfile.write(\"This is line 1\\nThis is line 2\\nThis is line 3\\nThis is the last or the 4th line\")\n",
    "def read_file(txtFile):\n",
    "    file1 = open(txtFile,'r')\n",
    "    for line in file1:\n",
    "        print(line)\n",
    "        \n",
    "read_file(\"example1.txt\")"
   ]
  },
  {
   "cell_type": "raw",
   "id": "b2d94805-f65b-47c2-9d18-2a8bdbe5c2dc",
   "metadata": {},
   "source": [
    "26. A simple algorithm has to be designed to find out whether a student \n",
    "belongs to the Data Science branch or not. The input will be a \n",
    "student's roll number, which is of the form BR18B0000. \n",
    "Here, BR represents the branch code, 18 represents the year of \n",
    "joining, B represents the education level and 0000 represents the \n",
    "specific identification given to the student of that batch. The branch \n",
    "code for Data Science is DS. Print True if the student belongs to \n",
    "Data Science branch and False otherwise."
   ]
  },
  {
   "cell_type": "code",
   "execution_count": 25,
   "id": "a8c5732e",
   "metadata": {},
   "outputs": [],
   "source": [
    "def checkRoll(roll):\n",
    "    if roll.isalnum() and len(roll) == 9 and roll[:2] == 'DS':\n",
    "        return True\n",
    "    else:\n",
    "        return False"
   ]
  },
  {
   "cell_type": "code",
   "execution_count": 26,
   "id": "91aebd3e",
   "metadata": {},
   "outputs": [
    {
     "data": {
      "text/plain": [
       "True"
      ]
     },
     "execution_count": 26,
     "metadata": {},
     "output_type": "execute_result"
    }
   ],
   "source": [
    "checkRoll(\"DS18B0000\")"
   ]
  },
  {
   "cell_type": "raw",
   "id": "52e69e6b-ab1d-411c-8750-7a2de08bc8dd",
   "metadata": {},
   "source": [
    "27.The police are trying to track a criminal based on the evidence \n",
    "available at a crime site. Their main clue is a vehicle's damaged \n",
    "number plate. Only the string TN07 is visible. The format of the \n",
    "registration number is AA00AA00, where the first two letters are \n",
    "alphabets, next two are numbers, next two are again alphabets \n",
    "followed by two numbers at the end. A number plate is picked from a \n",
    "database of registration numbers and is given to you as input. Your \n",
    "task is to determine if this could belong to the criminal or not. \n",
    "Print True if the number plate \n",
    "contains TN07 and False otherwise."
   ]
  },
  {
   "cell_type": "code",
   "execution_count": 29,
   "id": "9a2d4921",
   "metadata": {},
   "outputs": [
    {
     "name": "stdout",
     "output_type": "stream",
     "text": [
      "UP09AG78\n",
      "False\n"
     ]
    }
   ],
   "source": [
    "n=input()\n",
    "if (n[0:4]=='TN07') or (n[4:8]=='TN07'):\n",
    "    print('True')\n",
    "else:\n",
    "    print('False')"
   ]
  },
  {
   "cell_type": "raw",
   "id": "11b4a079-30a1-480d-a759-2b54ab29f90f",
   "metadata": {},
   "source": [
    "28. You are given a string and two non-negative integers as input. The \n",
    "two integers specify the start and end indices of a substring in the \n",
    "given string. Create a new string by replicating the substring a \n",
    "minimum number of times so that the resulting string is longer than \n",
    "the input string. The input parameters are the string, start index of \n",
    "the substring and the end index of substring (endpoints inclusive) \n",
    "each on a different line."
   ]
  },
  {
   "cell_type": "code",
   "execution_count": 32,
   "id": "48ebfc04",
   "metadata": {},
   "outputs": [
    {
     "name": "stdout",
     "output_type": "stream",
     "text": [
      "gfgfgggh\n",
      "3\n",
      "4\n",
      "fgfgfgfgfg\n"
     ]
    }
   ],
   "source": [
    "string = input()\n",
    "si = int(input())\n",
    "ei = int(input())\n",
    "\n",
    "sub = string[si:ei+1]\n",
    "\n",
    "d = len(string) // len(sub)\n",
    "\n",
    "new = sub * (d+1)\n",
    "print(new)"
   ]
  },
  {
   "cell_type": "code",
   "execution_count": 34,
   "id": "32d41f9f",
   "metadata": {},
   "outputs": [
    {
     "name": "stdout",
     "output_type": "stream",
     "text": [
      "code\n",
      "2\n",
      "3\n",
      "dedede\n"
     ]
    }
   ],
   "source": [
    "n=input()\n",
    "a=int(input())\n",
    "b=int(input())\n",
    "x=n[a:b+1]\n",
    "y=len(n)\n",
    "ans=\"\"\n",
    "while(y>=len(ans)):\n",
    "    ans+=x\n",
    "print(ans)"
   ]
  },
  {
   "cell_type": "raw",
   "id": "2c2d9d8e-e84a-4ca1-8791-8033b8e650a0",
   "metadata": {},
   "source": [
    "29. A class teacher has decided to split her entire class into four groups, namely Sapphire, Peridot, Ruby, \n",
    "and Emerald for sports competitions. For dividing the students into these four groups, she has \n",
    "followed the pattern given below:\n",
    "Sapphire - 1, 5, 9, 13, 17, 21, ...\n",
    "Peridot - 2, 6, 10, 14, 18, 22, ...\n",
    "Ruby - 3, 7, 11, 15, 19, 23, ...\n",
    "Emerald - 4, 8, 12, 16, 20, 24, ...\n",
    "All the students are represented by their roll numbers. Based on the above pattern, given the roll \n",
    "number as input, print the group the student belongs to. Note that the roll number can be any \n",
    "positive integer and not necessarily less than 25."
   ]
  },
  {
   "cell_type": "code",
   "execution_count": 37,
   "id": "20f70251",
   "metadata": {},
   "outputs": [
    {
     "name": "stdout",
     "output_type": "stream",
     "text": [
      "22\n",
      "Roll no 22 belongs to : Peridot\n"
     ]
    }
   ],
   "source": [
    "roll_num = int(input())\n",
    "\n",
    "def fromGroup(n):\n",
    "    if n % 4 == 0:\n",
    "        return \"Emerald\"\n",
    "    elif n % 4 == 1:\n",
    "        return \"Sapphire\"\n",
    "    elif n % 4 == 2:\n",
    "        return \"Peridot\"\n",
    "    else:\n",
    "        return \"Ruby\"\n",
    "print(f\"Roll no {roll_num} belongs to : {fromGroup(roll_num)}\")"
   ]
  },
  {
   "cell_type": "code",
   "execution_count": 38,
   "id": "cda22384",
   "metadata": {},
   "outputs": [
    {
     "name": "stdout",
     "output_type": "stream",
     "text": [
      "24\n",
      "Emerald\n"
     ]
    }
   ],
   "source": [
    "n=int(input())\n",
    "for i in range(1,n+1,4):\n",
    "    if n==i:\n",
    "        print('Sapphire')\n",
    "for j in range(2,n+1,4):\n",
    "    if n==j:\n",
    "        print('Peridot')\n",
    "for k in range(3,n+1,4):\n",
    "    if n==k:\n",
    "        print('Ruby')\n",
    "for l in range(4,n+1,4):\n",
    "    if n==l:\n",
    "        print('Emerald')"
   ]
  },
  {
   "cell_type": "raw",
   "id": "7e18467c-5ccb-4820-bc5f-c4adc9babe2c",
   "metadata": {},
   "source": [
    "30. A data science company wants to hire data scientists from abc college. \n",
    "The company follows a certain criteria for selection: for a student to \n",
    "be selected, the number of backlogs should be at most 5 and the \n",
    "CGPA (Cumulative Grade Point Average) should be greater than 6. If \n",
    "the student does not fit the above criteria, then the student is not \n",
    "offered the job. If the student is selected, then the salary offered is \n",
    "equal to 5 times his/her CGPA (in lakhs).\n",
    "Accept the number of backlogs (integer) and the CGPA (float) of the \n",
    "student as input. Your task is to determine if the student is selected or \n",
    "not. If the student is selected, then print the package. If not, then \n",
    "print the string Not Selected."
   ]
  },
  {
   "cell_type": "code",
   "execution_count": 40,
   "id": "7f616a3e",
   "metadata": {},
   "outputs": [
    {
     "name": "stdout",
     "output_type": "stream",
     "text": [
      "4\n",
      "7.8\n",
      "Package Offered = 39.0 lakhs\n"
     ]
    }
   ],
   "source": [
    "backlogs = int(input())\n",
    "cgpa = float(input())\n",
    "\n",
    "if backlogs <= 5 and cgpa > 6:\n",
    "    print(f\"Package Offered = {cgpa*5} lakhs\")\n",
    "else:\n",
    "    print(\"Not selected\")"
   ]
  },
  {
   "cell_type": "raw",
   "id": "15b2b2b3-e511-4184-af23-c42d9ee021b8",
   "metadata": {},
   "source": [
    "31. Accept a string as input and print PALINDROME if it is a \n",
    "palindrome, and NOT PALINDROME otherwise"
   ]
  },
  {
   "cell_type": "code",
   "execution_count": null,
   "id": "65571cc4",
   "metadata": {},
   "outputs": [],
   "source": [
    "7+8"
   ]
  },
  {
   "cell_type": "code",
   "execution_count": 5,
   "id": "70343881",
   "metadata": {},
   "outputs": [
    {
     "name": "stdout",
     "output_type": "stream",
     "text": [
      "malam\n",
      "PALINDROME\n"
     ]
    }
   ],
   "source": [
    "str1 = input()\n",
    "\n",
    "\n",
    "def check_Palindrome(s,l,h):\n",
    "    l = 0\n",
    "    h = len(str1) - 1\n",
    "    while(l < h):\n",
    "        if s[l] != s[h]:\n",
    "            return False\n",
    "        l+=1\n",
    "        h -= 1\n",
    "    return True\n",
    "  \n",
    "if check_Palindrome(str1,l,h):\n",
    "    print(\"PALINDROME\")\n",
    "else:\n",
    "    print(\"NOT PALINDROME\")"
   ]
  },
  {
   "cell_type": "code",
   "execution_count": 3,
   "id": "d6798e4e",
   "metadata": {},
   "outputs": [
    {
     "name": "stdout",
     "output_type": "stream",
     "text": [
      "malam\n",
      "PALINDROME\n"
     ]
    }
   ],
   "source": [
    "str1 = input()\n",
    "\n",
    "str2 = str1[::-1]\n",
    "\n",
    "\n",
    "if str1 == str2:\n",
    "    print(\"PALINDROME\")\n",
    "else:\n",
    "    print(\"NOT PALINDROME\")"
   ]
  },
  {
   "cell_type": "raw",
   "id": "92cfcd2b-ae26-4009-85b4-15e7996421ac",
   "metadata": {},
   "source": [
    "32. In a portal login website, you are asked to write a function get_password_strength to decide \n",
    "the strength of a password. The strength is decided based on the total score of the password, Use \n",
    "following conditions:\n",
    "1) If password has length greater than 7 then score increases by one point.\n",
    "2) If password has at least one upper case and one lower case alphabets score increases by one point.\n",
    "3) If password has at least one number and no consecutive numbers like 12 or 234 then score \n",
    "increases by one point.\n",
    "4) If password has at least one special character (any character other than numbers and alphabets) then \n",
    "score increases by one point.\n",
    "5) If password contains username, then it is invalid password.\n",
    "If the password has score of four points, three points, two points, or one point then print Very \n",
    "Strong, Strong, Moderate, or Weak respectively. If the password is invalid, then \n",
    "print PASSWORD SHOULD NOT CONTAIN USERNAME and If the score is zero, then print Use a \n",
    "different password.The arguments to the function are username and password which are \n",
    "already defined"
   ]
  },
  {
   "cell_type": "code",
   "execution_count": 35,
   "id": "4cc71a53",
   "metadata": {},
   "outputs": [],
   "source": [
    "def get_password_strength(username,password):\n",
    "    c=0\n",
    "    capital='ABCDEFGHIJKLMNOPQRSTUVWXYZ'\n",
    "    c_flag=False\n",
    "    small='abcdefghijklmnopqrstuvwxyz'\n",
    "    s_flag=False\n",
    "    num='0123456789'\n",
    "    n_flag=False\n",
    "    nc_flag=True\n",
    "    if username in password:\n",
    "        print('PASSWORD SHOULD NOT CONTAIN USERNAME')\n",
    "        return \n",
    "    if len(password)>7:\n",
    "        c=c+1\n",
    "    for i in range(len(password)):\n",
    "        if password[i] in small:\n",
    "            s_flag=True\n",
    "        elif password[i] in capital:\n",
    "            c_flag=True\n",
    "        elif password[i] in num:\n",
    "            n_flag=True\n",
    "        if n_flag:\n",
    "            if i!=(len(password)-1):\n",
    "                if num[((num.index(password[i]))+1)]==password[i+1]:\n",
    "                    nc_flag=False\n",
    "    if c_flag and s_flag :\n",
    "             c+=1\n",
    "    if n_flag and nc_flag:\n",
    "        c+=1\n",
    "    if c==4:\n",
    "        print('Very Strong')\n",
    "        return\n",
    "    if c==3:\n",
    "        print('Strong')\n",
    "        return\n",
    "    if c==2:\n",
    "        print('Moderate')\n",
    "        return\n",
    "    if c==1:\n",
    "        print('Weak')\n",
    "        return\n",
    "    if c==0:\n",
    "        print('Use a different password')\n",
    "        return"
   ]
  },
  {
   "cell_type": "code",
   "execution_count": 36,
   "id": "9e4eb6e6",
   "metadata": {},
   "outputs": [
    {
     "ename": "ValueError",
     "evalue": "substring not found",
     "output_type": "error",
     "traceback": [
      "\u001b[1;31m---------------------------------------------------------------------------\u001b[0m",
      "\u001b[1;31mValueError\u001b[0m                                Traceback (most recent call last)",
      "\u001b[1;32m~\\AppData\\Local\\Temp\\ipykernel_1456\\2216215346.py\u001b[0m in \u001b[0;36m<module>\u001b[1;34m\u001b[0m\n\u001b[1;32m----> 1\u001b[1;33m \u001b[0mget_password_strength\u001b[0m\u001b[1;33m(\u001b[0m\u001b[1;34m'imran'\u001b[0m\u001b[1;33m,\u001b[0m\u001b[1;34m'1nc'\u001b[0m\u001b[1;33m)\u001b[0m\u001b[1;33m\u001b[0m\u001b[1;33m\u001b[0m\u001b[0m\n\u001b[0m",
      "\u001b[1;32m~\\AppData\\Local\\Temp\\ipykernel_1456\\967117048.py\u001b[0m in \u001b[0;36mget_password_strength\u001b[1;34m(username, password)\u001b[0m\n\u001b[0;32m     22\u001b[0m         \u001b[1;32mif\u001b[0m \u001b[0mn_flag\u001b[0m\u001b[1;33m:\u001b[0m\u001b[1;33m\u001b[0m\u001b[1;33m\u001b[0m\u001b[0m\n\u001b[0;32m     23\u001b[0m             \u001b[1;32mif\u001b[0m \u001b[0mi\u001b[0m\u001b[1;33m!=\u001b[0m\u001b[1;33m(\u001b[0m\u001b[0mlen\u001b[0m\u001b[1;33m(\u001b[0m\u001b[0mpassword\u001b[0m\u001b[1;33m)\u001b[0m\u001b[1;33m-\u001b[0m\u001b[1;36m1\u001b[0m\u001b[1;33m)\u001b[0m\u001b[1;33m:\u001b[0m\u001b[1;33m\u001b[0m\u001b[1;33m\u001b[0m\u001b[0m\n\u001b[1;32m---> 24\u001b[1;33m                 \u001b[1;32mif\u001b[0m \u001b[0mnum\u001b[0m\u001b[1;33m[\u001b[0m\u001b[1;33m(\u001b[0m\u001b[1;33m(\u001b[0m\u001b[0mnum\u001b[0m\u001b[1;33m.\u001b[0m\u001b[0mindex\u001b[0m\u001b[1;33m(\u001b[0m\u001b[0mpassword\u001b[0m\u001b[1;33m[\u001b[0m\u001b[0mi\u001b[0m\u001b[1;33m]\u001b[0m\u001b[1;33m)\u001b[0m\u001b[1;33m)\u001b[0m\u001b[1;33m+\u001b[0m\u001b[1;36m1\u001b[0m\u001b[1;33m)\u001b[0m\u001b[1;33m]\u001b[0m\u001b[1;33m==\u001b[0m\u001b[0mpassword\u001b[0m\u001b[1;33m[\u001b[0m\u001b[0mi\u001b[0m\u001b[1;33m+\u001b[0m\u001b[1;36m1\u001b[0m\u001b[1;33m]\u001b[0m\u001b[1;33m:\u001b[0m\u001b[1;33m\u001b[0m\u001b[1;33m\u001b[0m\u001b[0m\n\u001b[0m\u001b[0;32m     25\u001b[0m                     \u001b[0mnc_flag\u001b[0m\u001b[1;33m=\u001b[0m\u001b[1;32mFalse\u001b[0m\u001b[1;33m\u001b[0m\u001b[1;33m\u001b[0m\u001b[0m\n\u001b[0;32m     26\u001b[0m     \u001b[1;32mif\u001b[0m \u001b[0mc_flag\u001b[0m \u001b[1;32mand\u001b[0m \u001b[0ms_flag\u001b[0m \u001b[1;33m:\u001b[0m\u001b[1;33m\u001b[0m\u001b[1;33m\u001b[0m\u001b[0m\n",
      "\u001b[1;31mValueError\u001b[0m: substring not found"
     ]
    }
   ],
   "source": [
    "get_password_strength('imran','1nc')"
   ]
  },
  {
   "cell_type": "raw",
   "id": "67644faf-c8dc-439d-9c26-54b16751b2e0",
   "metadata": {},
   "source": [
    "33.decorator that logs the date and time"
   ]
  },
  {
   "cell_type": "code",
   "execution_count": 1,
   "id": "10a99b9a",
   "metadata": {},
   "outputs": [],
   "source": [
    "from datetime import datetime\n",
    "\n",
    "\n",
    "def log_datetime(func):\n",
    "    '''Log the date and time of a function'''\n",
    "\n",
    "    def wrapper():\n",
    "        print(f'Function: {func.__name__}\\nRun on: {datetime.today().strftime(\"%Y-%m-%d %H:%M:%S\")}')\n",
    "        print(f'{\"-\"*30}')\n",
    "        func()\n",
    "    return wrapper\n",
    "\n",
    "\n",
    "@log_datetime\n",
    "def daily_backup():\n",
    "\n",
    "    print('Daily backup job has finished.')   \n"
   ]
  },
  {
   "cell_type": "code",
   "execution_count": 2,
   "id": "bf34aeb1",
   "metadata": {},
   "outputs": [
    {
     "name": "stdout",
     "output_type": "stream",
     "text": [
      "Function: daily_backup\n",
      "Run on: 2023-03-05 22:23:31\n",
      "------------------------------\n",
      "Daily backup job has finished.\n"
     ]
    }
   ],
   "source": [
    "daily_backup()"
   ]
  },
  {
   "cell_type": "raw",
   "id": "93474414-e8ba-439d-9f7d-0f3f4eb648b9",
   "metadata": {},
   "source": [
    "34.Program to Get Data Items From a List Appearing Odd Number of Times"
   ]
  },
  {
   "cell_type": "code",
   "execution_count": 40,
   "id": "bd2919c0",
   "metadata": {},
   "outputs": [
    {
     "name": "stdout",
     "output_type": "stream",
     "text": [
      "[2, 3, 5]\n"
     ]
    }
   ],
   "source": [
    "x = [1,2,3,4,5,1,3,3,4]\n",
    "l1 = []\n",
    "for i in x:\n",
    "    if x.count(i) % 2 != 0:\n",
    "        if i not in l1:\n",
    "            l1.append(i)\n",
    "print(l1)"
   ]
  },
  {
   "cell_type": "code",
   "execution_count": 39,
   "id": "83289a29",
   "metadata": {},
   "outputs": [],
   "source": []
  },
  {
   "cell_type": "raw",
   "id": "70caf71f-6a2d-42a5-bb41-a83e99f3b0cb",
   "metadata": {},
   "source": [
    "35.What are decorators in Python?"
   ]
  },
  {
   "cell_type": "code",
   "execution_count": 10,
   "id": "e5188506",
   "metadata": {},
   "outputs": [],
   "source": [
    "#decorator function to convert to lowercase\n",
    "def lowercase_decor(function):\n",
    "    def wrapper():\n",
    "        func = function()\n",
    "        string_lwrcase = func.lower()\n",
    "        return string_lwrcase\n",
    "    return wrapper\n",
    "\n",
    "#decorator function to split words\n",
    "def splitter_decor(function):\n",
    "    def wrapper():\n",
    "        func = function()\n",
    "        string_split = func.split()\n",
    "        return string_split\n",
    "    return wrapper"
   ]
  },
  {
   "cell_type": "code",
   "execution_count": 13,
   "id": "c1bbf6a7",
   "metadata": {},
   "outputs": [],
   "source": [
    "@splitter_decor\n",
    "@lowercase_decor\n",
    "def hello():\n",
    "    return 'Hello World'"
   ]
  },
  {
   "cell_type": "code",
   "execution_count": 14,
   "id": "afb3e740",
   "metadata": {},
   "outputs": [
    {
     "data": {
      "text/plain": [
       "['hello', 'world']"
      ]
     },
     "execution_count": 14,
     "metadata": {},
     "output_type": "execute_result"
    }
   ],
   "source": [
    "hello()"
   ]
  },
  {
   "cell_type": "markdown",
   "id": "65718a46",
   "metadata": {},
   "source": [
    "decorators are used to add some functionality to an existing function without change the function itself."
   ]
  },
  {
   "cell_type": "code",
   "execution_count": null,
   "id": "f947eaa4",
   "metadata": {},
   "outputs": [],
   "source": []
  },
  {
   "cell_type": "code",
   "execution_count": null,
   "id": "73863fbf",
   "metadata": {},
   "outputs": [],
   "source": []
  },
  {
   "cell_type": "code",
   "execution_count": null,
   "id": "94c36b72",
   "metadata": {},
   "outputs": [],
   "source": [
    "def strtolower(func):\n",
    "    def inner(s):\n",
    "        print(\"Unsing Decorator\")\n",
    "        func(s)\n",
    "        print(s.lower)\n",
    "    return inner\n",
    "\n",
    "def strtolist(func):\n",
    "    def inner(s):\n",
    "        print(\"Unsing Decorator\")\n",
    "        func(s)\n",
    "        list7 = s.split(\",\")\n",
    "    return inner\n",
    "\n"
   ]
  },
  {
   "cell_type": "raw",
   "id": "00d3f3e6-8d1a-459c-8f05-fec2d7a72f0b",
   "metadata": {},
   "source": [
    "36. remove items from a list while iterating but without creating a different copy of a list.\n",
    "Remove numbers greater than 50\n",
    "number_list = [10, 20, 30, 40, 50, 60, 70, 80, 90, 100]\n",
    "Expected Output: [10, 20, 30, 40, 50]"
   ]
  },
  {
   "cell_type": "code",
   "execution_count": 17,
   "id": "9a73cdc6",
   "metadata": {},
   "outputs": [
    {
     "name": "stdout",
     "output_type": "stream",
     "text": [
      "[10, 20, 30, 40, 50, 30]\n"
     ]
    }
   ],
   "source": [
    "number_list = [10, 20, 110,30, 40, 50, 60, 70, 80, 90, 30,100]\n",
    "\n",
    "for i in number_list[::-1]:\n",
    "    if i > 50:\n",
    "        number_list.remove(i)\n",
    "        \n",
    "print(number_list)        \n",
    "      \n"
   ]
  },
  {
   "cell_type": "code",
   "execution_count": 18,
   "id": "e1580b94",
   "metadata": {},
   "outputs": [
    {
     "name": "stdout",
     "output_type": "stream",
     "text": [
      "[10, 20, 30, 40, 50, 30]\n"
     ]
    }
   ],
   "source": [
    "\n",
    "i = 0\n",
    "n = len(number_list)\n",
    "while i < n:\n",
    "    if number_list[i] > 50:\n",
    "        del number_list[i]\n",
    "        n = n-1\n",
    "    else:\n",
    "        i = i +1\n",
    "print(number_list)"
   ]
  },
  {
   "cell_type": "raw",
   "id": "6a034cd6-9a75-4912-8286-2396360ffa28",
   "metadata": {},
   "source": [
    "37.  Display all duplicate items from a list\n",
    "sample_list = [10, 20, 60, 30, 20, 40, 30, 60, 70, 80]\n",
    "Expected Output: [20, 60, 30]"
   ]
  },
  {
   "cell_type": "code",
   "execution_count": 41,
   "id": "c24d36df",
   "metadata": {},
   "outputs": [
    {
     "name": "stdout",
     "output_type": "stream",
     "text": [
      "[20, 60, 30]\n"
     ]
    }
   ],
   "source": [
    "sample_list = [10, 20, 60, 30, 20, 40, 30, 60, 70, 80]\n",
    "duplicate = []\n",
    "for i in sample_list:\n",
    "    if sample_list.count(i) > 1:\n",
    "        if i not in duplicate:\n",
    "            duplicate.append(i)\n",
    "print(duplicate)"
   ]
  },
  {
   "cell_type": "code",
   "execution_count": 31,
   "id": "e5029dc6",
   "metadata": {},
   "outputs": [
    {
     "name": "stdout",
     "output_type": "stream",
     "text": [
      "[20, 60, 30]\n"
     ]
    }
   ],
   "source": [
    "# using collections\n",
    "import collections\n",
    "sample_list = [10, 20, 60, 30, 20, 40, 30, 60, 70, 80]\n",
    "duplicate = []\n",
    "\n",
    "for item,count in collections.Counter(sample_list).items():\n",
    "    if count > 1:\n",
    "        duplicate.append(item)\n",
    "print(duplicate)"
   ]
  },
  {
   "cell_type": "raw",
   "id": "03607aeb-291c-41e0-bb35-101d53d1f25f",
   "metadata": {},
   "source": [
    "38. Create an outer function that will accept two strings, x and y. (x= 'Emma' and y = 'Kelly'.\n",
    "Create an inner function inside an outer function that will concatenate x and y.\n",
    "At last, an outer function will join the word 'developer' to it."
   ]
  },
  {
   "cell_type": "code",
   "execution_count": 25,
   "id": "59ef368f",
   "metadata": {},
   "outputs": [],
   "source": [
    "def outer(x = 'Emma ' , y = 'Kelly'):\n",
    "    def inner(x ,y):\n",
    "        return x + y\n",
    "    return inner(x,y) + \" developer\""
   ]
  },
  {
   "cell_type": "code",
   "execution_count": 26,
   "id": "215c87a4",
   "metadata": {},
   "outputs": [
    {
     "data": {
      "text/plain": [
       "'Emma Kelly developer'"
      ]
     },
     "execution_count": 26,
     "metadata": {},
     "output_type": "execute_result"
    }
   ],
   "source": [
    "outer()"
   ]
  },
  {
   "cell_type": "raw",
   "id": "c3238d35-61fa-4d2a-8e92-c393399b1b5b",
   "metadata": {},
   "source": [
    "39. Modify the element of a nested list inside the following list\n",
    "Change the element 35 to 3500\n",
    "list1 = [5, [10, 15, [20, 25, [30, 35], 40], 45], 50]"
   ]
  },
  {
   "cell_type": "code",
   "execution_count": 47,
   "id": "8c5f2849",
   "metadata": {},
   "outputs": [
    {
     "data": {
      "text/plain": [
       "[5, [10, 15, [20, 25, [30, 3500], 40], 45], 50]"
      ]
     },
     "execution_count": 47,
     "metadata": {},
     "output_type": "execute_result"
    }
   ],
   "source": [
    "list1 = [5, [10, 15, [20, 25, [30, 35], 40], 45], 50]\n",
    "list1[1][2][2][1] = 3500\n",
    "list1"
   ]
  },
  {
   "cell_type": "raw",
   "id": "0106b7da-e95f-46ba-873a-e641d7199be7",
   "metadata": {},
   "source": [
    "40.  Access the nested key increment from the following dictionary\n",
    "Access 12\n",
    "emp_dict = {\n",
    "    \"company\": {\n",
    "        \"employee\": {\n",
    "            \"name\": \"Jess\",\n",
    "            \"payable\": {\n",
    "                \"salary\": 9000,\n",
    "                \"increment\": 12\n",
    "            }\n",
    "        }\n",
    "    }\n",
    "}"
   ]
  },
  {
   "cell_type": "code",
   "execution_count": 3,
   "id": "0d1d5fc3",
   "metadata": {},
   "outputs": [
    {
     "data": {
      "text/plain": [
       "12"
      ]
     },
     "execution_count": 3,
     "metadata": {},
     "output_type": "execute_result"
    }
   ],
   "source": [
    "emp_dict = {\n",
    "    \"company\": {\n",
    "        \"employee\": {\n",
    "            \"name\": \"Jess\",\n",
    "            \"payable\": {\n",
    "                \"salary\": 9000,\n",
    "                \"increment\": 12\n",
    "            }\n",
    "        }\n",
    "    }\n",
    "}\n",
    "emp_dict[\"company\"][\"employee\"][\"payable\"][\"increment\"]"
   ]
  },
  {
   "cell_type": "raw",
   "id": "a36e12a4-baf9-4c0b-90e6-c16fd60b02ba",
   "metadata": {},
   "source": [
    "41. Print the sum of the current number and the previous number\n",
    "Write a program to iterate the first 10 numbers and in each iteration, print the sum of the current and previous number.\n",
    "Printing current and previous number sum in a range(10)\n",
    "Current Number 0 Previous Number  0  Sum:  0\n",
    "Current Number 1 Previous Number  0  Sum:  1\n",
    "Current Number 2 Previous Number  1  Sum:  3\n",
    "Current Number 3 Previous Number  2  Sum:  5\n",
    "Current Number 4 Previous Number  3  Sum:  7\n",
    "Current Number 5 Previous Number  4  Sum:  9\n",
    "Current Number 6 Previous Number  5  Sum:  11\n",
    "Current Number 7 Previous Number  6  Sum:  13\n",
    "Current Number 8 Previous Number  7  Sum:  15\n",
    "Current Number 9 Previous Number  8  Sum:  17"
   ]
  },
  {
   "cell_type": "code",
   "execution_count": 9,
   "id": "bec1b02d",
   "metadata": {},
   "outputs": [
    {
     "name": "stdout",
     "output_type": "stream",
     "text": [
      "Current Number 0 Previous Number 0 Sum: 0\n",
      "Current Number 1 Previous Number 0 Sum: 1\n",
      "Current Number 2 Previous Number 1 Sum: 3\n",
      "Current Number 3 Previous Number 2 Sum: 5\n",
      "Current Number 4 Previous Number 3 Sum: 7\n",
      "Current Number 5 Previous Number 4 Sum: 9\n",
      "Current Number 6 Previous Number 5 Sum: 11\n",
      "Current Number 7 Previous Number 6 Sum: 13\n",
      "Current Number 8 Previous Number 7 Sum: 15\n",
      "Current Number 9 Previous Number 8 Sum: 17\n"
     ]
    }
   ],
   "source": [
    "sum = 0\n",
    "\n",
    "for i in range(10):\n",
    "    curr = i\n",
    "    if curr == 0:\n",
    "        prev = 0\n",
    "    else:\n",
    "        prev = curr - 1\n",
    "    sum = prev + curr\n",
    "    print(\"Current Number {} Previous Number {} Sum: {}\".format(curr,prev,sum))"
   ]
  },
  {
   "cell_type": "raw",
   "id": "04f5ef21-9056-4a31-bc4d-b5641a6bc80d",
   "metadata": {},
   "source": [
    "42. Print characters from a string that are present at an even index number\n",
    "Write a program to accept a string from the user and display characters that are present at an even index number.\n",
    "\n",
    "For example, str = \"ineuron\" so you should display ‘i’, ‘e’, ‘r’, ‘n’."
   ]
  },
  {
   "cell_type": "code",
   "execution_count": 13,
   "id": "91662035",
   "metadata": {},
   "outputs": [
    {
     "name": "stdout",
     "output_type": "stream",
     "text": [
      "ineuron\n",
      "i e r n "
     ]
    }
   ],
   "source": [
    "str1 = input()\n",
    "st = str1[::2]\n",
    "for s in st:\n",
    "    print(s , end = \" \")\n",
    "    "
   ]
  },
  {
   "cell_type": "raw",
   "id": "19f5f95f-8e4e-48c8-8639-247f8f058efa",
   "metadata": {},
   "source": [
    "43. Print multiplication table form 1 to 10\n",
    "1  2 3 4 5 6 7 8 9 10 \t\t\n",
    "2  4 6 8 10 12 14 16 18 20 \t\t\n",
    "3  6 9 12 15 18 21 24 27 30 \t\t\n",
    "4  8 12 16 20 24 28 32 36 40 \t\t\n",
    "5  10 15 20 25 30 35 40 45 50 \t\t\n",
    "6  12 18 24 30 36 42 48 54 60 \t\t\n",
    "7  14 21 28 35 42 49 56 63 70 \t\t\n",
    "8  16 24 32 40 48 56 64 72 80 \t\t\n",
    "9  18 27 36 45 54 63 72 81 90 \t\t\n",
    "10 20 30 40 50 60 70 80 90 100 "
   ]
  },
  {
   "cell_type": "code",
   "execution_count": 10,
   "id": "c167f646",
   "metadata": {},
   "outputs": [
    {
     "name": "stdout",
     "output_type": "stream",
     "text": [
      "1 2 3 4 5 6 7 8 9 10 \n",
      "2 4 6 8 10 12 14 16 18 20 \n",
      "3 6 9 12 15 18 21 24 27 30 \n",
      "4 8 12 16 20 24 28 32 36 40 \n",
      "5 10 15 20 25 30 35 40 45 50 \n",
      "6 12 18 24 30 36 42 48 54 60 \n",
      "7 14 21 28 35 42 49 56 63 70 \n",
      "8 16 24 32 40 48 56 64 72 80 \n",
      "9 18 27 36 45 54 63 72 81 90 \n",
      "10 20 30 40 50 60 70 80 90 100 \n"
     ]
    }
   ],
   "source": [
    "for i in range(10):\n",
    "    for j in range (1,11):\n",
    "        print((i+1) * j , end= ' ')\n",
    "    print()\n",
    "        "
   ]
  },
  {
   "cell_type": "raw",
   "id": "07f9b814-fc05-4a97-8a50-b762ab2522e6",
   "metadata": {},
   "source": [
    "44. Remove duplicates from a list and create a tuple and find the minimum and maximum number\n",
    "sample_list = [87, 45, 41, 65, 94, 41, 99, 94]\n",
    "Expected Outcome:\n",
    "unique items [87, 45, 41, 65, 99]\n",
    "tuple (87, 45, 41, 65, 99)\n",
    "min: 41\n",
    "max: 99"
   ]
  },
  {
   "cell_type": "raw",
   "id": "f4d4b1a2-7c19-43c4-922c-837b6c40f5fb",
   "metadata": {},
   "source": [
    "45. Write a Python program to create a lambda function that adds 15 to a given number passed in as an argument,\n",
    "also create a lambda function\n",
    "that multiplies argument x with argument y and print the result."
   ]
  },
  {
   "cell_type": "code",
   "execution_count": 8,
   "id": "5f536892",
   "metadata": {},
   "outputs": [],
   "source": [
    "add = lambda a : a + 15\n",
    "\n",
    "multiply = lambda x,y : x*y"
   ]
  },
  {
   "cell_type": "code",
   "execution_count": 9,
   "id": "2deaa651",
   "metadata": {},
   "outputs": [
    {
     "name": "stdout",
     "output_type": "stream",
     "text": [
      "40\n",
      "72\n"
     ]
    }
   ],
   "source": [
    "print(add(25))\n",
    "print(multiply(12,6))"
   ]
  },
  {
   "cell_type": "raw",
   "id": "58df2f9a-6310-4e59-a5fe-6658ff7898e1",
   "metadata": {},
   "source": [
    "46. Write a Python program to sort a list of tuples using Lambda."
   ]
  },
  {
   "cell_type": "code",
   "execution_count": 14,
   "id": "1ebaad05",
   "metadata": {},
   "outputs": [
    {
     "data": {
      "text/plain": [
       "[(2, 't'), (3, 'o'), (5, 'x')]"
      ]
     },
     "execution_count": 14,
     "metadata": {},
     "output_type": "execute_result"
    }
   ],
   "source": [
    "sortlist = lambda x : sorted(x)\n",
    "l = [(3,'o') , (2,'t') , (5,'x')]\n",
    "sortlist(l)"
   ]
  },
  {
   "cell_type": "code",
   "execution_count": 20,
   "id": "fb38be08",
   "metadata": {},
   "outputs": [
    {
     "name": "stdout",
     "output_type": "stream",
     "text": [
      "[('i', 1), ('p', 2), ('a', 3), ('k', 34)]\n"
     ]
    }
   ],
   "source": [
    "li = [('i', 1),('a',3),('p',2),('k',34)]\n",
    "li\n",
    "li.sort(key = lambda x:x[1])\n",
    "print(li)"
   ]
  },
  {
   "cell_type": "raw",
   "id": "745bbb70-f71c-4042-a99a-f42bccef267e",
   "metadata": {},
   "source": [
    "47. Write a Python program to extract year, month, date and time using Lambda."
   ]
  },
  {
   "cell_type": "code",
   "execution_count": 22,
   "id": "14184e8e",
   "metadata": {},
   "outputs": [
    {
     "name": "stdout",
     "output_type": "stream",
     "text": [
      "2023-03-10 00:10:26.682033\n",
      "2023\n",
      "3\n",
      "10\n",
      "00:10:26.682033\n"
     ]
    }
   ],
   "source": [
    "import datetime\n",
    "now = datetime.datetime.now()\n",
    "print(now)\n",
    "year = lambda x:x.year\n",
    "month = lambda x:x.month\n",
    "date = lambda x:x.day\n",
    "time = lambda x:x.time()\n",
    "print(year(now))\n",
    "print(month(now))\n",
    "print(date(now))\n",
    "print(time(now))"
   ]
  },
  {
   "cell_type": "raw",
   "id": "afcf0f97-d39b-4554-a14f-411096bd515e",
   "metadata": {},
   "source": [
    "48. Write a Python program to count the even, odd numbers in a given array of integers using Lambda."
   ]
  },
  {
   "cell_type": "code",
   "execution_count": 23,
   "id": "29b41ff8",
   "metadata": {},
   "outputs": [
    {
     "name": "stdout",
     "output_type": "stream",
     "text": [
      "4\n",
      "5\n"
     ]
    }
   ],
   "source": [
    "list4 = [1,2,3,4,5,6,7,8,9]\n",
    "\n",
    "even = len(list(filter(lambda x: x%2 == 0,list4)))\n",
    "odd = len(list(filter(lambda x: x%2 != 0,list4)))\n",
    "\n",
    "print(even)\n",
    "print(odd)"
   ]
  },
  {
   "cell_type": "raw",
   "id": "dbd65ee9-2f83-4286-a7b3-52f398ab8527",
   "metadata": {},
   "source": [
    "49. Write a Python program to convert all the characters in uppercase and lowercase and eliminate duplicate letters from a given sequence.\n",
    "Use map() function."
   ]
  },
  {
   "cell_type": "code",
   "execution_count": 29,
   "id": "de70e830",
   "metadata": {},
   "outputs": [],
   "source": [
    "def test(s):\n",
    "    return str(s).upper() , str(s).lower()\n",
    "\n",
    "chars = ['a','E' , 'N' , 'c' , 'T' , 'C' , 'a']"
   ]
  },
  {
   "cell_type": "code",
   "execution_count": 31,
   "id": "8c3daba8",
   "metadata": {},
   "outputs": [
    {
     "name": "stdout",
     "output_type": "stream",
     "text": [
      "[('A', 'a'), ('E', 'e'), ('N', 'n'), ('C', 'c'), ('T', 't'), ('C', 'c'), ('A', 'a')]\n"
     ]
    },
    {
     "data": {
      "text/plain": [
       "{('A', 'a'), ('C', 'c'), ('E', 'e'), ('N', 'n'), ('T', 't')}"
      ]
     },
     "execution_count": 31,
     "metadata": {},
     "output_type": "execute_result"
    }
   ],
   "source": [
    "res = list(map(test , chars))\n",
    "print(res)\n",
    "res_set = set(map(test,chars))\n",
    "res_set"
   ]
  },
  {
   "cell_type": "code",
   "execution_count": null,
   "id": "e63de9af",
   "metadata": {},
   "outputs": [],
   "source": []
  },
  {
   "cell_type": "raw",
   "id": "78c63beb-b43b-48ad-bb20-31f403af2f10",
   "metadata": {},
   "source": [
    "50.  Write a Python program to square the elements of a list using map() function."
   ]
  },
  {
   "cell_type": "code",
   "execution_count": 25,
   "id": "84ffd8c8",
   "metadata": {},
   "outputs": [],
   "source": [
    "list7 = [2,3,4,7,6,8,9,11]"
   ]
  },
  {
   "cell_type": "code",
   "execution_count": 26,
   "id": "b3a642ad",
   "metadata": {},
   "outputs": [
    {
     "data": {
      "text/plain": [
       "[4, 9, 16, 49, 36, 64, 81, 121]"
      ]
     },
     "execution_count": 26,
     "metadata": {},
     "output_type": "execute_result"
    }
   ],
   "source": [
    "result =list(map(lambda x: x**2 , list7))\n",
    "result"
   ]
  },
  {
   "cell_type": "code",
   "execution_count": 14,
   "id": "49030f5e",
   "metadata": {},
   "outputs": [
    {
     "name": "stdout",
     "output_type": "stream",
     "text": [
      "[1, 4, 9, 16, 25, 36, 49, 64]\n"
     ]
    }
   ],
   "source": [
    "list5 = [1,2,3,4,5,6,7,8]\n",
    "\n",
    "sqr = lambda x : x ** 2\n",
    "\n",
    "list_sqr = map(sqr,list5)\n",
    "print(list(list_sqr))\n"
   ]
  },
  {
   "cell_type": "code",
   "execution_count": null,
   "id": "adfe1c42",
   "metadata": {},
   "outputs": [],
   "source": []
  }
 ],
 "metadata": {
  "kernelspec": {
   "display_name": "Python 3 (ipykernel)",
   "language": "python",
   "name": "python3"
  },
  "language_info": {
   "codemirror_mode": {
    "name": "ipython",
    "version": 3
   },
   "file_extension": ".py",
   "mimetype": "text/x-python",
   "name": "python",
   "nbconvert_exporter": "python",
   "pygments_lexer": "ipython3",
   "version": "3.9.13"
  }
 },
 "nbformat": 4,
 "nbformat_minor": 5
}
