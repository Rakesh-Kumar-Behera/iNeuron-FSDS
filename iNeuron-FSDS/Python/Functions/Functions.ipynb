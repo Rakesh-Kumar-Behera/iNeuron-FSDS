{
 "cells": [
  {
   "cell_type": "code",
   "execution_count": 1,
   "id": "234f14a1-daa6-4e55-a020-1f8b23b31b0d",
   "metadata": {},
   "outputs": [],
   "source": [
    "def test():\n",
    "    pass"
   ]
  },
  {
   "cell_type": "code",
   "execution_count": 2,
   "id": "cadf4d38-df20-49b3-ab0b-845735da1268",
   "metadata": {},
   "outputs": [],
   "source": [
    "## if you do not want to provide any statement to excute then can write ``pass` to avoid error"
   ]
  },
  {
   "cell_type": "code",
   "execution_count": 3,
   "id": "ce18ebf3-06c5-4973-9a38-de436d81d53f",
   "metadata": {},
   "outputs": [],
   "source": [
    "def test1():\n",
    "    print(\"this is my first function in python\")"
   ]
  },
  {
   "cell_type": "code",
   "execution_count": 4,
   "id": "82e5b63f-52c3-4a25-872c-5094058ec9fe",
   "metadata": {},
   "outputs": [
    {
     "name": "stdout",
     "output_type": "stream",
     "text": [
      "this is my first function in python\n"
     ]
    }
   ],
   "source": [
    "test1()"
   ]
  },
  {
   "cell_type": "code",
   "execution_count": 5,
   "id": "4795b53e-0e69-4d81-9bc5-eb39e4d85ff1",
   "metadata": {},
   "outputs": [
    {
     "name": "stdout",
     "output_type": "stream",
     "text": [
      "this is my first function in python\n"
     ]
    }
   ],
   "source": [
    "b = test1()"
   ]
  },
  {
   "cell_type": "code",
   "execution_count": 10,
   "id": "52d1d324-7538-452c-a31a-315c2b905f4a",
   "metadata": {},
   "outputs": [],
   "source": [
    "b #b will not store the string bcoz, that function is not returning anything, "
   ]
  },
  {
   "cell_type": "code",
   "execution_count": 7,
   "id": "689e9dad-fe4c-4c01-855b-5b5249127cfa",
   "metadata": {},
   "outputs": [
    {
     "name": "stdout",
     "output_type": "stream",
     "text": [
      "None\n"
     ]
    }
   ],
   "source": [
    "print(b)"
   ]
  },
  {
   "cell_type": "code",
   "execution_count": 8,
   "id": "bbb465c0-9859-4b60-a3a3-1f8f88a4200a",
   "metadata": {},
   "outputs": [
    {
     "data": {
      "text/plain": [
       "NoneType"
      ]
     },
     "execution_count": 8,
     "metadata": {},
     "output_type": "execute_result"
    }
   ],
   "source": [
    "type(b)"
   ]
  },
  {
   "cell_type": "code",
   "execution_count": 9,
   "id": "59437edb-dbb5-4545-9c3b-32c6bd5901af",
   "metadata": {},
   "outputs": [
    {
     "data": {
      "text/plain": [
       "function"
      ]
     },
     "execution_count": 9,
     "metadata": {},
     "output_type": "execute_result"
    }
   ],
   "source": [
    "type(test1)"
   ]
  },
  {
   "cell_type": "code",
   "execution_count": 11,
   "id": "b14a3e2d-1cef-4ec4-aea4-64841562fb60",
   "metadata": {},
   "outputs": [],
   "source": [
    "def test2():\n",
    "    return 5 "
   ]
  },
  {
   "cell_type": "code",
   "execution_count": 12,
   "id": "ad254922-f7c2-48de-ba1c-17f060e7ac86",
   "metadata": {},
   "outputs": [
    {
     "data": {
      "text/plain": [
       "5"
      ]
     },
     "execution_count": 12,
     "metadata": {},
     "output_type": "execute_result"
    }
   ],
   "source": [
    "test2()"
   ]
  },
  {
   "cell_type": "code",
   "execution_count": 13,
   "id": "49dbabba-0ea0-4d0c-8a65-835ad8cea6a3",
   "metadata": {},
   "outputs": [
    {
     "data": {
      "text/plain": [
       "5"
      ]
     },
     "execution_count": 13,
     "metadata": {},
     "output_type": "execute_result"
    }
   ],
   "source": [
    "d = test2()\n",
    "d"
   ]
  },
  {
   "cell_type": "code",
   "execution_count": 15,
   "id": "72059bab-20ed-4329-a9e3-ff0fe0864eb2",
   "metadata": {},
   "outputs": [
    {
     "name": "stdout",
     "output_type": "stream",
     "text": [
      "Hello!\n"
     ]
    },
    {
     "data": {
      "text/plain": [
       "NoneType"
      ]
     },
     "execution_count": 15,
     "metadata": {},
     "output_type": "execute_result"
    }
   ],
   "source": [
    "type(print(\"Hello!\")) #Type of print is noneType"
   ]
  },
  {
   "cell_type": "code",
   "execution_count": 16,
   "id": "4d7300f5-5a83-4146-bf26-19910409f40e",
   "metadata": {},
   "outputs": [],
   "source": [
    "def test3():\n",
    "    return 1,3,[3,4,5,'raka'],(22,33,44,55)"
   ]
  },
  {
   "cell_type": "code",
   "execution_count": 20,
   "id": "4c3e8ab9-6db3-4429-b8c9-7a339e5216a0",
   "metadata": {},
   "outputs": [
    {
     "data": {
      "text/plain": [
       "(1, 3, [3, 4, 5, 'raka'], (22, 33, 44, 55))"
      ]
     },
     "execution_count": 20,
     "metadata": {},
     "output_type": "execute_result"
    }
   ],
   "source": [
    "test3() #return a tuple"
   ]
  },
  {
   "cell_type": "code",
   "execution_count": 21,
   "id": "65761c8f-a281-4181-970b-68bd82b9a696",
   "metadata": {},
   "outputs": [
    {
     "data": {
      "text/plain": [
       "function"
      ]
     },
     "execution_count": 21,
     "metadata": {},
     "output_type": "execute_result"
    }
   ],
   "source": [
    "type(test3)"
   ]
  },
  {
   "cell_type": "code",
   "execution_count": 22,
   "id": "99d7ea85-b80e-4e35-98ad-cc13c4eb26ee",
   "metadata": {},
   "outputs": [
    {
     "data": {
      "text/plain": [
       "tuple"
      ]
     },
     "execution_count": 22,
     "metadata": {},
     "output_type": "execute_result"
    }
   ],
   "source": [
    "type(test3())"
   ]
  },
  {
   "cell_type": "code",
   "execution_count": 23,
   "id": "d46bf288-a7af-4a4d-a5fd-35c77077a8a2",
   "metadata": {},
   "outputs": [
    {
     "data": {
      "text/plain": [
       "(1, 3, [3, 4, 5, 'raka'], (22, 33, 44, 55))"
      ]
     },
     "execution_count": 23,
     "metadata": {},
     "output_type": "execute_result"
    }
   ],
   "source": [
    "tu = test3()\n",
    "tu"
   ]
  },
  {
   "cell_type": "code",
   "execution_count": 24,
   "id": "44b6c4ab-bbba-4e22-98a6-b473d4c6ffa4",
   "metadata": {},
   "outputs": [
    {
     "data": {
      "text/plain": [
       "tuple"
      ]
     },
     "execution_count": 24,
     "metadata": {},
     "output_type": "execute_result"
    }
   ],
   "source": [
    "type(tu)"
   ]
  },
  {
   "cell_type": "code",
   "execution_count": 25,
   "id": "bb3e3216-6605-4523-887d-cfbddd4c9f04",
   "metadata": {},
   "outputs": [
    {
     "data": {
      "text/plain": [
       "3"
      ]
     },
     "execution_count": 25,
     "metadata": {},
     "output_type": "execute_result"
    }
   ],
   "source": [
    "test3()[1]"
   ]
  },
  {
   "cell_type": "code",
   "execution_count": 26,
   "id": "c7ad65cc-7746-4f8b-84fc-8fd71950d9de",
   "metadata": {},
   "outputs": [
    {
     "data": {
      "text/plain": [
       "[3, 4, 5, 'raka']"
      ]
     },
     "execution_count": 26,
     "metadata": {},
     "output_type": "execute_result"
    }
   ],
   "source": [
    "test3()[2]"
   ]
  },
  {
   "cell_type": "code",
   "execution_count": 27,
   "id": "97400b04-61b6-4aaa-a241-94132bb86560",
   "metadata": {},
   "outputs": [
    {
     "data": {
      "text/plain": [
       "4"
      ]
     },
     "execution_count": 27,
     "metadata": {},
     "output_type": "execute_result"
    }
   ],
   "source": [
    "len(test3())"
   ]
  },
  {
   "cell_type": "markdown",
   "id": "0c2cdd47-8790-48f5-ba5c-99d425d63691",
   "metadata": {},
   "source": [
    "#### Packing and unpacking of Tuples"
   ]
  },
  {
   "cell_type": "code",
   "execution_count": 29,
   "id": "e32927b3-7dfc-4408-9870-250f2ea8d870",
   "metadata": {},
   "outputs": [],
   "source": [
    "a,b,c,d = test3() #number of variable must match the number of elements"
   ]
  },
  {
   "cell_type": "code",
   "execution_count": 30,
   "id": "846ad7ef-d571-451d-82dc-facada5e0446",
   "metadata": {},
   "outputs": [
    {
     "data": {
      "text/plain": [
       "1"
      ]
     },
     "execution_count": 30,
     "metadata": {},
     "output_type": "execute_result"
    }
   ],
   "source": [
    "a"
   ]
  },
  {
   "cell_type": "code",
   "execution_count": 31,
   "id": "4b4d4268-436e-46b6-9577-5189d9a9ae9c",
   "metadata": {},
   "outputs": [
    {
     "data": {
      "text/plain": [
       "3"
      ]
     },
     "execution_count": 31,
     "metadata": {},
     "output_type": "execute_result"
    }
   ],
   "source": [
    "b"
   ]
  },
  {
   "cell_type": "code",
   "execution_count": 32,
   "id": "1237d616-d16c-4f7d-8bb6-86cecc52bb1b",
   "metadata": {},
   "outputs": [
    {
     "data": {
      "text/plain": [
       "[3, 4, 5, 'raka']"
      ]
     },
     "execution_count": 32,
     "metadata": {},
     "output_type": "execute_result"
    }
   ],
   "source": [
    "c"
   ]
  },
  {
   "cell_type": "code",
   "execution_count": 33,
   "id": "44bd1bf2-324b-4f16-b343-b7bf395c33b5",
   "metadata": {},
   "outputs": [
    {
     "data": {
      "text/plain": [
       "(22, 33, 44, 55)"
      ]
     },
     "execution_count": 33,
     "metadata": {},
     "output_type": "execute_result"
    }
   ],
   "source": [
    "d"
   ]
  },
  {
   "cell_type": "code",
   "execution_count": 34,
   "id": "8e8a3302-a176-41d5-ad9c-d6b2f2c553cd",
   "metadata": {},
   "outputs": [
    {
     "ename": "ValueError",
     "evalue": "too many values to unpack (expected 3)",
     "output_type": "error",
     "traceback": [
      "\u001b[0;31m---------------------------------------------------------------------------\u001b[0m",
      "\u001b[0;31mValueError\u001b[0m                                Traceback (most recent call last)",
      "Cell \u001b[0;32mIn [34], line 1\u001b[0m\n\u001b[0;32m----> 1\u001b[0m x,y,z \u001b[38;5;241m=\u001b[39m test3()\n",
      "\u001b[0;31mValueError\u001b[0m: too many values to unpack (expected 3)"
     ]
    }
   ],
   "source": [
    "x,y,z = test3()"
   ]
  },
  {
   "cell_type": "markdown",
   "id": "cf40acfe-f804-41a5-aa8b-0efee56c62c6",
   "metadata": {},
   "source": [
    "if you are mapping to variables less than the no of elements , then add an `*` before the variable, so that the variable will store the remaining elements"
   ]
  },
  {
   "cell_type": "markdown",
   "id": "67243797-2d00-4b8a-967d-800b9859f091",
   "metadata": {},
   "source": [
    "x, y,*z = test3()"
   ]
  },
  {
   "cell_type": "code",
   "execution_count": 37,
   "id": "71fe711b-a3f1-4467-b9be-afae21534840",
   "metadata": {},
   "outputs": [
    {
     "data": {
      "text/plain": [
       "3"
      ]
     },
     "execution_count": 37,
     "metadata": {},
     "output_type": "execute_result"
    }
   ],
   "source": [
    "y"
   ]
  },
  {
   "cell_type": "code",
   "execution_count": 38,
   "id": "0ba2790d-6e81-4c34-ada6-fac44a4854c8",
   "metadata": {},
   "outputs": [
    {
     "data": {
      "text/plain": [
       "[[3, 4, 5, 'raka'], (22, 33, 44, 55)]"
      ]
     },
     "execution_count": 38,
     "metadata": {},
     "output_type": "execute_result"
    }
   ],
   "source": [
    "z"
   ]
  },
  {
   "cell_type": "code",
   "execution_count": 39,
   "id": "a1e2bff2-9de9-4332-a3f5-5377874fd4a4",
   "metadata": {},
   "outputs": [],
   "source": [
    "x, *y , z = test3()"
   ]
  },
  {
   "cell_type": "code",
   "execution_count": 40,
   "id": "216c0fb9-f607-43b8-8770-d2f8277f81f8",
   "metadata": {},
   "outputs": [
    {
     "data": {
      "text/plain": [
       "[3, [3, 4, 5, 'raka']]"
      ]
     },
     "execution_count": 40,
     "metadata": {},
     "output_type": "execute_result"
    }
   ],
   "source": [
    "y"
   ]
  },
  {
   "cell_type": "code",
   "execution_count": 41,
   "id": "f9e9e864-071e-43ce-ba63-96e7678feeb4",
   "metadata": {},
   "outputs": [
    {
     "data": {
      "text/plain": [
       "(22, 33, 44, 55)"
      ]
     },
     "execution_count": 41,
     "metadata": {},
     "output_type": "execute_result"
    }
   ],
   "source": [
    "z"
   ]
  },
  {
   "cell_type": "code",
   "execution_count": 42,
   "id": "4a0ff39a-2470-4514-848a-85fb9bf9c7e9",
   "metadata": {},
   "outputs": [],
   "source": [
    "*x, y = test3()"
   ]
  },
  {
   "cell_type": "code",
   "execution_count": 43,
   "id": "023e8fbe-15f5-4aa2-a0d9-f3fe2f5eafdf",
   "metadata": {},
   "outputs": [
    {
     "data": {
      "text/plain": [
       "[1, 3, [3, 4, 5, 'raka']]"
      ]
     },
     "execution_count": 43,
     "metadata": {},
     "output_type": "execute_result"
    }
   ],
   "source": [
    "x"
   ]
  },
  {
   "cell_type": "code",
   "execution_count": 44,
   "id": "000b320f-a0ef-41e8-af8b-68c54a6f5afe",
   "metadata": {},
   "outputs": [
    {
     "data": {
      "text/plain": [
       "(22, 33, 44, 55)"
      ]
     },
     "execution_count": 44,
     "metadata": {},
     "output_type": "execute_result"
    }
   ],
   "source": [
    "y"
   ]
  },
  {
   "cell_type": "code",
   "execution_count": 1,
   "id": "884aa02f-6a4e-4e8b-8350-a895c519bdfb",
   "metadata": {},
   "outputs": [
    {
     "name": "stdout",
     "output_type": "stream",
     "text": [
      "\n"
     ]
    }
   ],
   "source": [
    "print() #use shift+tab to get description of the function"
   ]
  },
  {
   "cell_type": "markdown",
   "id": "1de6f94b-e575-4405-afd3-2c8de9150ded",
   "metadata": {},
   "source": [
    "> \"\"\"Triple Quote isnused for multi-line comment\"\"\" , but if we use \"\"\"inside a function\"\"\" it is called as doc-string"
   ]
  },
  {
   "cell_type": "code",
   "execution_count": 5,
   "id": "86053ef7-880f-46ae-9451-2c2e7d66a54a",
   "metadata": {},
   "outputs": [],
   "source": [
    "def lenOfString(s):\n",
    "    c = 0;\n",
    "    for i in s:\n",
    "        #print(i)\n",
    "        c += 1\n",
    "    return c;"
   ]
  },
  {
   "cell_type": "code",
   "execution_count": 6,
   "id": "6fc8d4d0-0427-4ef9-a4ab-1606c4d8643f",
   "metadata": {},
   "outputs": [
    {
     "data": {
      "text/plain": [
       "5"
      ]
     },
     "execution_count": 6,
     "metadata": {},
     "output_type": "execute_result"
    }
   ],
   "source": [
    "lenOfString(\"Hello\")"
   ]
  },
  {
   "cell_type": "markdown",
   "id": "f1cfdf34-782a-4cbb-8170-086e034e0da9",
   "metadata": {},
   "source": [
    "1. write a function to find the length of a string with out using the in built len()"
   ]
  },
  {
   "cell_type": "code",
   "execution_count": 1,
   "id": "3766469b-c7dd-411a-a9ba-499c36e8c751",
   "metadata": {},
   "outputs": [
    {
     "name": "stdin",
     "output_type": "stream",
     "text": [
      "Enter a String:  rakesh\n"
     ]
    },
    {
     "name": "stdout",
     "output_type": "stream",
     "text": [
      "length of string = 6\n"
     ]
    }
   ],
   "source": [
    "\n",
    "def stringLength(s):\n",
    "    cnt = 0\n",
    "    for i in s:\n",
    "        cnt += 1\n",
    "    return cnt\n",
    "st = input(\"Enter a String: \")\n",
    "print(f\"length of string = {stringLength(st)}\")"
   ]
  },
  {
   "cell_type": "markdown",
   "id": "91e02dc7-5ab3-4ee0-a9df-104f68a1df6b",
   "metadata": {},
   "source": [
    "2. Write a function which will be able to print the `IP address` of your system"
   ]
  },
  {
   "cell_type": "code",
   "execution_count": 3,
   "id": "a6a3bc8a-04ec-451f-af06-1b9a1cd0841d",
   "metadata": {},
   "outputs": [
    {
     "data": {
      "text/plain": [
       "'172.18.0.8'"
      ]
     },
     "execution_count": 3,
     "metadata": {},
     "output_type": "execute_result"
    }
   ],
   "source": [
    "import socket\n",
    "socket.gethostbyname(socket.gethostname())"
   ]
  },
  {
   "cell_type": "code",
   "execution_count": 4,
   "id": "139d7b04-cadc-45cc-8380-f3ef60acabc2",
   "metadata": {},
   "outputs": [
    {
     "data": {
      "text/plain": [
       "'172.18.0.8'"
      ]
     },
     "execution_count": 4,
     "metadata": {},
     "output_type": "execute_result"
    }
   ],
   "source": [
    "def address():\n",
    "    ip = socket.gethostbyname(socket.gethostname())\n",
    "    return ip\n",
    "address()"
   ]
  },
  {
   "cell_type": "markdown",
   "id": "417450a9-7d10-41a6-9fd0-d95869185da3",
   "metadata": {},
   "source": [
    "3. write a function which will be able to read all the mails"
   ]
  },
  {
   "cell_type": "code",
   "execution_count": 5,
   "id": "e6829342-5827-452b-a199-1a186a75103d",
   "metadata": {},
   "outputs": [],
   "source": [
    "##code"
   ]
  },
  {
   "cell_type": "markdown",
   "id": "359b38e5-e7ae-4cec-a0d0-8e1e948e3634",
   "metadata": {},
   "source": [
    "4. write a function which will be able to send a mail to anyone"
   ]
  },
  {
   "cell_type": "code",
   "execution_count": 8,
   "id": "2389e8c4-cd83-45ee-a329-ee5babcc89dd",
   "metadata": {},
   "outputs": [
    {
     "ename": "gaierror",
     "evalue": "[Errno -2] Name or service not known",
     "output_type": "error",
     "traceback": [
      "\u001b[0;31m---------------------------------------------------------------------------\u001b[0m",
      "\u001b[0;31mgaierror\u001b[0m                                  Traceback (most recent call last)",
      "Cell \u001b[0;32mIn [8], line 11\u001b[0m\n\u001b[1;32m      8\u001b[0m message \u001b[38;5;241m=\u001b[39m  \u001b[38;5;124m\"\"\"\u001b[39m\u001b[38;5;124mHello World , This is the very first time i will be sending an email ysing python\u001b[39m\u001b[38;5;124m\"\"\"\u001b[39m\n\u001b[1;32m     10\u001b[0m context \u001b[38;5;241m=\u001b[39m ssl\u001b[38;5;241m.\u001b[39mcreate_default_context()\n\u001b[0;32m---> 11\u001b[0m \u001b[38;5;28;01mwith\u001b[39;00m \u001b[43msmtplib\u001b[49m\u001b[38;5;241;43m.\u001b[39;49m\u001b[43mSMTP_SSL\u001b[49m\u001b[43m(\u001b[49m\u001b[43msmtp_server\u001b[49m\u001b[43m,\u001b[49m\u001b[43m \u001b[49m\u001b[43mport\u001b[49m\u001b[43m,\u001b[49m\u001b[43m \u001b[49m\u001b[43mcontext\u001b[49m\u001b[43m \u001b[49m\u001b[38;5;241;43m=\u001b[39;49m\u001b[43m \u001b[49m\u001b[43mcontext\u001b[49m\u001b[43m)\u001b[49m \u001b[38;5;28;01mas\u001b[39;00m server:\n\u001b[1;32m     12\u001b[0m     server\u001b[38;5;241m.\u001b[39mlogin(sender_email,password)\n\u001b[1;32m     13\u001b[0m     server\u001b[38;5;241m.\u001b[39msendmail(sender_email, receiver_email,message)\n",
      "File \u001b[0;32m/opt/conda/lib/python3.10/smtplib.py:1050\u001b[0m, in \u001b[0;36mSMTP_SSL.__init__\u001b[0;34m(self, host, port, local_hostname, keyfile, certfile, timeout, source_address, context)\u001b[0m\n\u001b[1;32m   1047\u001b[0m     context \u001b[38;5;241m=\u001b[39m ssl\u001b[38;5;241m.\u001b[39m_create_stdlib_context(certfile\u001b[38;5;241m=\u001b[39mcertfile,\n\u001b[1;32m   1048\u001b[0m                                          keyfile\u001b[38;5;241m=\u001b[39mkeyfile)\n\u001b[1;32m   1049\u001b[0m \u001b[38;5;28mself\u001b[39m\u001b[38;5;241m.\u001b[39mcontext \u001b[38;5;241m=\u001b[39m context\n\u001b[0;32m-> 1050\u001b[0m \u001b[43mSMTP\u001b[49m\u001b[38;5;241;43m.\u001b[39;49m\u001b[38;5;21;43m__init__\u001b[39;49m\u001b[43m(\u001b[49m\u001b[38;5;28;43mself\u001b[39;49m\u001b[43m,\u001b[49m\u001b[43m \u001b[49m\u001b[43mhost\u001b[49m\u001b[43m,\u001b[49m\u001b[43m \u001b[49m\u001b[43mport\u001b[49m\u001b[43m,\u001b[49m\u001b[43m \u001b[49m\u001b[43mlocal_hostname\u001b[49m\u001b[43m,\u001b[49m\u001b[43m \u001b[49m\u001b[43mtimeout\u001b[49m\u001b[43m,\u001b[49m\n\u001b[1;32m   1051\u001b[0m \u001b[43m              \u001b[49m\u001b[43msource_address\u001b[49m\u001b[43m)\u001b[49m\n",
      "File \u001b[0;32m/opt/conda/lib/python3.10/smtplib.py:255\u001b[0m, in \u001b[0;36mSMTP.__init__\u001b[0;34m(self, host, port, local_hostname, timeout, source_address)\u001b[0m\n\u001b[1;32m    252\u001b[0m \u001b[38;5;28mself\u001b[39m\u001b[38;5;241m.\u001b[39m_auth_challenge_count \u001b[38;5;241m=\u001b[39m \u001b[38;5;241m0\u001b[39m\n\u001b[1;32m    254\u001b[0m \u001b[38;5;28;01mif\u001b[39;00m host:\n\u001b[0;32m--> 255\u001b[0m     (code, msg) \u001b[38;5;241m=\u001b[39m \u001b[38;5;28;43mself\u001b[39;49m\u001b[38;5;241;43m.\u001b[39;49m\u001b[43mconnect\u001b[49m\u001b[43m(\u001b[49m\u001b[43mhost\u001b[49m\u001b[43m,\u001b[49m\u001b[43m \u001b[49m\u001b[43mport\u001b[49m\u001b[43m)\u001b[49m\n\u001b[1;32m    256\u001b[0m     \u001b[38;5;28;01mif\u001b[39;00m code \u001b[38;5;241m!=\u001b[39m \u001b[38;5;241m220\u001b[39m:\n\u001b[1;32m    257\u001b[0m         \u001b[38;5;28mself\u001b[39m\u001b[38;5;241m.\u001b[39mclose()\n",
      "File \u001b[0;32m/opt/conda/lib/python3.10/smtplib.py:341\u001b[0m, in \u001b[0;36mSMTP.connect\u001b[0;34m(self, host, port, source_address)\u001b[0m\n\u001b[1;32m    339\u001b[0m     port \u001b[38;5;241m=\u001b[39m \u001b[38;5;28mself\u001b[39m\u001b[38;5;241m.\u001b[39mdefault_port\n\u001b[1;32m    340\u001b[0m sys\u001b[38;5;241m.\u001b[39maudit(\u001b[38;5;124m\"\u001b[39m\u001b[38;5;124msmtplib.connect\u001b[39m\u001b[38;5;124m\"\u001b[39m, \u001b[38;5;28mself\u001b[39m, host, port)\n\u001b[0;32m--> 341\u001b[0m \u001b[38;5;28mself\u001b[39m\u001b[38;5;241m.\u001b[39msock \u001b[38;5;241m=\u001b[39m \u001b[38;5;28;43mself\u001b[39;49m\u001b[38;5;241;43m.\u001b[39;49m\u001b[43m_get_socket\u001b[49m\u001b[43m(\u001b[49m\u001b[43mhost\u001b[49m\u001b[43m,\u001b[49m\u001b[43m \u001b[49m\u001b[43mport\u001b[49m\u001b[43m,\u001b[49m\u001b[43m \u001b[49m\u001b[38;5;28;43mself\u001b[39;49m\u001b[38;5;241;43m.\u001b[39;49m\u001b[43mtimeout\u001b[49m\u001b[43m)\u001b[49m\n\u001b[1;32m    342\u001b[0m \u001b[38;5;28mself\u001b[39m\u001b[38;5;241m.\u001b[39mfile \u001b[38;5;241m=\u001b[39m \u001b[38;5;28;01mNone\u001b[39;00m\n\u001b[1;32m    343\u001b[0m (code, msg) \u001b[38;5;241m=\u001b[39m \u001b[38;5;28mself\u001b[39m\u001b[38;5;241m.\u001b[39mgetreply()\n",
      "File \u001b[0;32m/opt/conda/lib/python3.10/smtplib.py:1056\u001b[0m, in \u001b[0;36mSMTP_SSL._get_socket\u001b[0;34m(self, host, port, timeout)\u001b[0m\n\u001b[1;32m   1054\u001b[0m \u001b[38;5;28;01mif\u001b[39;00m \u001b[38;5;28mself\u001b[39m\u001b[38;5;241m.\u001b[39mdebuglevel \u001b[38;5;241m>\u001b[39m \u001b[38;5;241m0\u001b[39m:\n\u001b[1;32m   1055\u001b[0m     \u001b[38;5;28mself\u001b[39m\u001b[38;5;241m.\u001b[39m_print_debug(\u001b[38;5;124m'\u001b[39m\u001b[38;5;124mconnect:\u001b[39m\u001b[38;5;124m'\u001b[39m, (host, port))\n\u001b[0;32m-> 1056\u001b[0m new_socket \u001b[38;5;241m=\u001b[39m \u001b[38;5;28;43msuper\u001b[39;49m\u001b[43m(\u001b[49m\u001b[43m)\u001b[49m\u001b[38;5;241;43m.\u001b[39;49m\u001b[43m_get_socket\u001b[49m\u001b[43m(\u001b[49m\u001b[43mhost\u001b[49m\u001b[43m,\u001b[49m\u001b[43m \u001b[49m\u001b[43mport\u001b[49m\u001b[43m,\u001b[49m\u001b[43m \u001b[49m\u001b[43mtimeout\u001b[49m\u001b[43m)\u001b[49m\n\u001b[1;32m   1057\u001b[0m new_socket \u001b[38;5;241m=\u001b[39m \u001b[38;5;28mself\u001b[39m\u001b[38;5;241m.\u001b[39mcontext\u001b[38;5;241m.\u001b[39mwrap_socket(new_socket,\n\u001b[1;32m   1058\u001b[0m                                       server_hostname\u001b[38;5;241m=\u001b[39m\u001b[38;5;28mself\u001b[39m\u001b[38;5;241m.\u001b[39m_host)\n\u001b[1;32m   1059\u001b[0m \u001b[38;5;28;01mreturn\u001b[39;00m new_socket\n",
      "File \u001b[0;32m/opt/conda/lib/python3.10/smtplib.py:312\u001b[0m, in \u001b[0;36mSMTP._get_socket\u001b[0;34m(self, host, port, timeout)\u001b[0m\n\u001b[1;32m    310\u001b[0m \u001b[38;5;28;01mif\u001b[39;00m \u001b[38;5;28mself\u001b[39m\u001b[38;5;241m.\u001b[39mdebuglevel \u001b[38;5;241m>\u001b[39m \u001b[38;5;241m0\u001b[39m:\n\u001b[1;32m    311\u001b[0m     \u001b[38;5;28mself\u001b[39m\u001b[38;5;241m.\u001b[39m_print_debug(\u001b[38;5;124m'\u001b[39m\u001b[38;5;124mconnect: to\u001b[39m\u001b[38;5;124m'\u001b[39m, (host, port), \u001b[38;5;28mself\u001b[39m\u001b[38;5;241m.\u001b[39msource_address)\n\u001b[0;32m--> 312\u001b[0m \u001b[38;5;28;01mreturn\u001b[39;00m \u001b[43msocket\u001b[49m\u001b[38;5;241;43m.\u001b[39;49m\u001b[43mcreate_connection\u001b[49m\u001b[43m(\u001b[49m\u001b[43m(\u001b[49m\u001b[43mhost\u001b[49m\u001b[43m,\u001b[49m\u001b[43m \u001b[49m\u001b[43mport\u001b[49m\u001b[43m)\u001b[49m\u001b[43m,\u001b[49m\u001b[43m \u001b[49m\u001b[43mtimeout\u001b[49m\u001b[43m,\u001b[49m\n\u001b[1;32m    313\u001b[0m \u001b[43m                                \u001b[49m\u001b[38;5;28;43mself\u001b[39;49m\u001b[38;5;241;43m.\u001b[39;49m\u001b[43msource_address\u001b[49m\u001b[43m)\u001b[49m\n",
      "File \u001b[0;32m/opt/conda/lib/python3.10/socket.py:824\u001b[0m, in \u001b[0;36mcreate_connection\u001b[0;34m(address, timeout, source_address)\u001b[0m\n\u001b[1;32m    822\u001b[0m host, port \u001b[38;5;241m=\u001b[39m address\n\u001b[1;32m    823\u001b[0m err \u001b[38;5;241m=\u001b[39m \u001b[38;5;28;01mNone\u001b[39;00m\n\u001b[0;32m--> 824\u001b[0m \u001b[38;5;28;01mfor\u001b[39;00m res \u001b[38;5;129;01min\u001b[39;00m \u001b[43mgetaddrinfo\u001b[49m\u001b[43m(\u001b[49m\u001b[43mhost\u001b[49m\u001b[43m,\u001b[49m\u001b[43m \u001b[49m\u001b[43mport\u001b[49m\u001b[43m,\u001b[49m\u001b[43m \u001b[49m\u001b[38;5;241;43m0\u001b[39;49m\u001b[43m,\u001b[49m\u001b[43m \u001b[49m\u001b[43mSOCK_STREAM\u001b[49m\u001b[43m)\u001b[49m:\n\u001b[1;32m    825\u001b[0m     af, socktype, proto, canonname, sa \u001b[38;5;241m=\u001b[39m res\n\u001b[1;32m    826\u001b[0m     sock \u001b[38;5;241m=\u001b[39m \u001b[38;5;28;01mNone\u001b[39;00m\n",
      "File \u001b[0;32m/opt/conda/lib/python3.10/socket.py:955\u001b[0m, in \u001b[0;36mgetaddrinfo\u001b[0;34m(host, port, family, type, proto, flags)\u001b[0m\n\u001b[1;32m    952\u001b[0m \u001b[38;5;66;03m# We override this function since we want to translate the numeric family\u001b[39;00m\n\u001b[1;32m    953\u001b[0m \u001b[38;5;66;03m# and socket type values to enum constants.\u001b[39;00m\n\u001b[1;32m    954\u001b[0m addrlist \u001b[38;5;241m=\u001b[39m []\n\u001b[0;32m--> 955\u001b[0m \u001b[38;5;28;01mfor\u001b[39;00m res \u001b[38;5;129;01min\u001b[39;00m \u001b[43m_socket\u001b[49m\u001b[38;5;241;43m.\u001b[39;49m\u001b[43mgetaddrinfo\u001b[49m\u001b[43m(\u001b[49m\u001b[43mhost\u001b[49m\u001b[43m,\u001b[49m\u001b[43m \u001b[49m\u001b[43mport\u001b[49m\u001b[43m,\u001b[49m\u001b[43m \u001b[49m\u001b[43mfamily\u001b[49m\u001b[43m,\u001b[49m\u001b[43m \u001b[49m\u001b[38;5;28;43mtype\u001b[39;49m\u001b[43m,\u001b[49m\u001b[43m \u001b[49m\u001b[43mproto\u001b[49m\u001b[43m,\u001b[49m\u001b[43m \u001b[49m\u001b[43mflags\u001b[49m\u001b[43m)\u001b[49m:\n\u001b[1;32m    956\u001b[0m     af, socktype, proto, canonname, sa \u001b[38;5;241m=\u001b[39m res\n\u001b[1;32m    957\u001b[0m     addrlist\u001b[38;5;241m.\u001b[39mappend((_intenum_converter(af, AddressFamily),\n\u001b[1;32m    958\u001b[0m                      _intenum_converter(socktype, SocketKind),\n\u001b[1;32m    959\u001b[0m                      proto, canonname, sa))\n",
      "\u001b[0;31mgaierror\u001b[0m: [Errno -2] Name or service not known"
     ]
    }
   ],
   "source": [
    "# import smtp library, ssl - server socket layer\n",
    "import smtplib, ssl\n",
    "port = 465 #for ssl\n",
    "smtp_server = \"stmp.gmail.com\" # will vary for outlook or reddifmail\n",
    "sender_mail = \"rakeshkumarbehera342@gmail.com\" # Enter your address\n",
    "receiver_mail = \"behera.r.k2015@gmail.com\" #Enter receiver address\n",
    "password = \"csnjkbckdsjnvkjdsbvidsnv\"\n",
    "message =  \"\"\"Hello World , This is the very first time i will be sending an email ysing python\"\"\"\n",
    "\n",
    "context = ssl.create_default_context()\n",
    "with smtplib.SMTP_SSL(smtp_server, port, context = context) as server:\n",
    "    server.login(sender_email,password)\n",
    "    server.sendmail(sender_email, receiver_email,message)"
   ]
  },
  {
   "cell_type": "code",
   "execution_count": 1,
   "id": "48a76392-31dc-4724-bae3-c74a315837a9",
   "metadata": {},
   "outputs": [],
   "source": [
    "import smtplib , ssl\n",
    "port = 465  # For SSL\n",
    "smtp_server = \"smtp.gmail.com\"\n",
    "sender_email = \"behera.r.k2015@gmail.com\"  # Enter your address\n",
    "receiver_email = \"rakeshkumarbehera342@gmail.com\"  # Enter receiver address\n",
    "#password = 'rlplfdcsoiqruagn' We have to generate App password and use it to send mail.\n",
    "password = 'tzlbcxokkleffiqx' # do not use your gmail password \n",
    "message = \"\"\"this is my message from python code \"\"\"\n",
    "\n",
    "context = ssl.create_default_context()\n",
    "with smtplib.SMTP_SSL(smtp_server, port, context=context) as server:\n",
    "    server.login(sender_email, password)\n",
    "    server.sendmail(sender_email, receiver_email, message)\n",
    "    "
   ]
  },
  {
   "cell_type": "markdown",
   "id": "64788b09-3b1e-46ee-a83e-a434c5e16454",
   "metadata": {},
   "source": [
    "5. Write a function which will be able to read all the mails"
   ]
  },
  {
   "cell_type": "code",
   "execution_count": 2,
   "id": "3d0dd129-efbd-4904-aa75-0ae687179769",
   "metadata": {},
   "outputs": [
    {
     "name": "stdout",
     "output_type": "stream",
     "text": [
      "From : Google <no-reply@accounts.google.com>\n",
      "\n",
      "Subject : Security alert\n",
      "\n",
      "From : \"iNeuron.ai\" <contact@ineuron.ai>\n",
      "\n",
      "Subject : Join The Live Class Of Full Stack Data Science BootCamp 2.0\n",
      "\n",
      "From : =?UTF-8?B?R3Jvd3cgRGlnZXN0?= <noreply@digest.groww.in>\n",
      "\n",
      "Subject : =?UTF-8?B?SW5kaWHigJlzIGZpcnN0IG11bmljaXBhbCBib25kIGluZGV4LCBuZXcgSVBPLCAmIG1vcmUgLSBHcm93dyBEaWdlc3QgKGV2ZXJ5IGRheSk=?=\n",
      "\n",
      "From : nse_alerts <nse_alerts@nse.co.in>\n",
      "\n",
      "Subject : Funds/Securities Balance\n",
      "\n",
      "From : Groww Digest <noreply@groww.in>\n",
      "\n",
      "Subject : Social Stock Exchange, record high GST revenue, & more - Groww\n",
      " Digest (every day)\n",
      "\n",
      "From : \"iNeuron.ai\" <contact@ineuron.ai>\n",
      "\n",
      "Subject : Join The Doubt Clearing Class Of Full Stack Data Science BootCamp 2.0\n",
      "\n",
      "From : Google Photos <noreply-photos@google.com>\n",
      "\n",
      "Subject : An update to your estimated locations in Google Photos\n",
      "\n",
      "From : =?UTF-8?B?R3Jvd3cgRGlnZXN0?= <noreply@digest.groww.in>\n",
      "\n",
      "Subject : =?UTF-8?B?RXh0ZW5kZWQgdHJhZGluZyBob3VycywgSW5kaWHigJlzIGNvbnRyaWJ1dGlvbiB0byBnbG9iYWwgZ3Jvd3RoLCAmIG1vcmUgLSBHcm93dyBEaWdlc3QgKGV2ZXJ5IGRheSk=?=\n",
      "\n",
      "From : \"iNeuron.ai\" <contact@ineuron.ai>\n",
      "\n",
      "Subject : Join The Doubt Clearing Class Of Full Stack Data Science BootCamp 2.0\n",
      "\n",
      "From : cards@icicibank.com\n",
      "\n",
      "Subject : Successful registration of Standing Instructions on your ICICI Bank\n",
      " Credit Card\n",
      "\n",
      "From : credit_cards@icicibank.com\n",
      "\n",
      "Subject : Transaction alert for your ICICI Bank Credit Card\n",
      "\n",
      "From : Groww Digest <noreply@groww.in>\n",
      "\n",
      "Subject : Govt to sell wheat in open market, UPI linked to PayNow & more -\n",
      " Groww Digest (every day)\n",
      "\n",
      "From : Google Play <googleplay-noreply@google.com>\n",
      "\n",
      "Subject : Your YouTube Music subscription has been canceled\n",
      "\n",
      "From : Zerodha Broking Ltd\n",
      " <no-reply-account-statement@reportsmailer.zerodha.net>\n",
      "\n",
      "Subject : Weekly Equity Statements for WWY361; period: 2023/02/13 - 2023/02/18\n",
      "\n",
      "From : =?UTF-8?B?R3Jvd3cgRGlnZXN0?= <noreply@digest.groww.in>\n",
      "\n",
      "Subject : =?UTF-8?B?UmlzZSBpbiBhaXIgdHJhZmZpYywgaGlnaGVzdCBldmVyIG92ZXJzZWFzIHRyYXZlbCwgJiBtb3JlIC0gR3Jvd3cgRGlnZXN0IChldmVyeSBkYXkp?=\n",
      "\n",
      "From : \"iNeuron.ai\" <contact@ineuron.ai>\n",
      "\n",
      "Subject : Live Class Feedback\n",
      "\n",
      "From : =?UTF-8?B?R3Jvd3cgRGlnZXN0?= <noreply@digest.groww.in>\n",
      "\n",
      "Subject : =?UTF-8?B?VGhlIG9mZmljZXMgYmVoaW5kIHJpY2ggZmFtaWxpZXM=?=\n",
      "\n",
      "From : nse_alerts <nse_alerts@nse.co.in>\n",
      "\n",
      "Subject : Funds/Securities Balance\n",
      "\n",
      "From : \"iNeuron.ai\" <contact@ineuron.ai>\n",
      "\n",
      "Subject : Join The Live Class Of Full Stack Data Science BootCamp 2.0\n",
      "\n",
      "From : =?UTF-8?B?R3Jvd3c=?= <noreply@groww.in>\n",
      "\n",
      "Subject : =?UTF-8?B?IOKWtu+4j0dyb3d3RmxpeDogRGluZS1pbiBvciBkZWxpdmVyeT8g8J+lmA==?=\n",
      "\n",
      "From : <credit_cards@icicibank.com>\n",
      "\n",
      "Subject : ICICI Bank Credit Card Statement for the period  January 13 2023 to\n",
      " February 12 2023\n",
      "\n",
      "From : credit_cards@icicibank.com\n",
      "\n",
      "Subject : Transaction alert for your ICICI Bank Credit Card\n",
      "\n",
      "From : \"iNeuron.ai\" <contact@ineuron.ai>\n",
      "\n",
      "Subject : Join The Live Class Of Full Stack Data Science BootCamp 2.0\n",
      "\n",
      "From : <digitalcreditservice@icicibank.com>\n",
      "\n",
      "Subject : ICICI Bank PayLater account Statement for the period January 17,\n",
      " 2023 to February 16, 2023 for XXXXXXXXXX50\n",
      "\n",
      "From : WPS Office <noreply_intl@wps.com>\n",
      "\n",
      "Subject : Update Notice for Policy Changes\n",
      "\n",
      "From : =?UTF-8?B?R3Jvd3cgRGlnZXN0?= <noreply@digest.groww.in>\n",
      "\n",
      "Subject : =?UTF-8?B?QmlnZ2VzdCBhaXJjcmFmdCBvcmRlciwgcmVkdWN0aW9uIGluIHdpbmRmYWxsIHRheCwgJiBtb3JlIC0gR3Jvd3cgRGlnZXN0IChldmVyeSBkYXkp?=\n",
      "\n",
      "From : nse_alerts <nse_alerts@nse.co.in>\n",
      "\n",
      "Subject : Funds/Securities Balance\n",
      "\n",
      "From : WIPRO LIMITED <wipro.cs2011@kfintech.com>\n",
      "\n",
      "Subject : Wipro Limited- Dividend Credit Intimation\n",
      "\n",
      "From : \"iNeuron.ai\" <contact@ineuron.ai>\n",
      "\n",
      "Subject : Join The Doubt Clearing Class Of Full Stack Data Science BootCamp 2.0\n",
      "\n",
      "From : =?UTF-8?B?QlNFIEFMRVJUUw==?= <info@bseindia.in>\n",
      "\n",
      "Subject : =?UTF-8?B?RnVuZHMgLyBTZWN1cml0aWVzIEJhbGFuY2U=?=\n",
      "\n",
      "From : CDSL e-Voting <donotreply.evoting@cdslindia.co.in>\n",
      "\n",
      "Subject : e-Voting FOR TRIDENT-EQ1/- will be OPEN FROM 08-02-2023 09:00:00 TO\n",
      " 09-03-2023 17:00:00 AND Meeting ON NA\n",
      "\n",
      "From : =?UTF-8?B?R3Jvd3cgRGlnZXN0?= <noreply@digest.groww.in>\n",
      "\n",
      "Subject : =?UTF-8?B?RmFsbCBpbiB0cmFkZSBkZWZpY2l0LCByaXNlIGluIHRheHBheWVycywgJiBtb3JlIC0gR3Jvd3cgRGlnZXN0IChldmVyeSBkYXkp?=\n",
      "\n",
      "From : Zerodha Broking Ltd\n",
      " <no-reply-account-statement@reportsmailer.zerodha.net>\n",
      "\n",
      "Subject : Weekly Equity Statements for WWY361; period: 2023/02/06 - 2023/02/11\n",
      "\n",
      "From : \"iNeuron.ai\" <contact@ineuron.ai>\n",
      "\n",
      "Subject : Join The Doubt Clearing Class Of Full Stack Data Science BootCamp 2.0\n",
      "\n",
      "From : Groww Digest <noreply@groww.in>\n",
      "\n",
      "Subject : Lower wholesale inflation, India to add new airports, & more -\n",
      " Groww Digest (every day)\n",
      "\n",
      "From : <CompassHCM@cognizant.com>\n",
      "\n",
      "Subject : Email Address - Changed in HCM [7lu3k25a]\n",
      "\n",
      "From : <CompassHCM@cognizant.com>\n",
      "\n",
      "Subject : Email Address - Changed in HCM [x7uot95g]\n",
      "\n",
      "From : <1CommEmailPRD@cognizant.com>\n",
      "\n",
      "Subject : Cognizant Authentication Service: Email id authenticated\n",
      " successfully [jn5cf185]\n",
      "\n",
      "From : <1CommEmailPRD@cognizant.com>\n",
      "\n",
      "Subject : Cognizant Authentication Service: Authentication Code for HCM Email\n",
      " authentication [br7fgk1i]\n",
      "\n",
      "From : =?UTF-8?B?QlNFIEFMRVJUUw==?= <info@bseindia.in>\n",
      "\n",
      "Subject : =?UTF-8?B?RnVuZHMgLyBTZWN1cml0aWVzIEJhbGFuY2U=?=\n",
      "\n",
      "From : Team Groww <noreply@groww.in>\n",
      "\n",
      "Subject : =?UTF-8?Q?What=E2=80=99s_different_about_loans_on_Groww=3F?=\n",
      "\n",
      "From : <credit_cards@icicibank.com>\n",
      "\n",
      "Subject : ICICI Bank Credit Card Statement for the period  January 13 2023 to\n",
      " February 12 2023\n",
      "\n",
      "From : =?utf-8?q?Quora_=E0=A4=9C=E0=A5=8D=E0=A4=9E=E0=A4=BE=E0=A4=A8_=E0=A4=95?=\n",
      " =?utf-8?q?=E0=A4=BE_=E0=A4=AA=E0=A4=BF=E0=A4=9F=E0=A4=BE=E0=A4=B0=E0=A4=BE?=\n",
      " <hindi-personalized-digest@quora.com>\n",
      "\n",
      "Subject : =?utf-8?q?=E0=A4=AA=E0=A4=B9=E0=A4=B2=E0=A5=80_=E0=A4=AC=E0=A4=BE=E0=A4=B0_?=\n",
      " =?utf-8?q?=E0=A4=95=E0=A4=BF=E0=A4=B8=E0=A5=80_=E0=A4=B5=E0=A4=BF=E0=A4=AA?=\n",
      " =?utf-8?q?=E0=A4=B0=E0=A5=80=E0=A4=A4_=E0=A4=9C=E0=A5=87=E0=A4=82=E0=A4=A1?=\n",
      " =?utf-8?q?=E0=A4=B0_=E0=A4=B8=E0=A5=87_=E0=A4=AE=E0=A4=B8=E0=A4=BE=E0=A4=9C?=\n",
      " =?utf-8?q?_=E0=A4=95=E0=A4=B0=E0=A4=BE=E0=A4=A4=E0=A5=87_=E0=A4=B5=E0=A4=95?=\n",
      " =?utf-8?q?=E0=A5=8D=E0=A4=A4_=E0=A4=86=E0=A4=AA=E0=A4=95=E0=A4=BE_=E0=A4=85?=\n",
      " =?utf-8?q?=E0=A4=A8=E0=A5=81=E0=A4=AD=E0=A4=B5_=E0=A4=95=E0=A5=88=E0=A4=B8?=\n",
      " =?utf-8?q?=E0=A4=BE_=E0=A4=B0=E0=A4=B9=E0=A4=BE=3F?=\n",
      "\n",
      "From : =?UTF-8?B?R3Jvd3cgRGlnZXN0?= <noreply@digest.groww.in>\n",
      "\n",
      "Subject : =?UTF-8?B?UmlzZSBpbiBpbmZsYXRpb24sIHdvbWVu4oCZcyBJUEwsICYgbW9yZSAtIEdyb3d3IERpZ2VzdCAoZXZlcnkgZGF5KQ==?=\n",
      "\n",
      "From : \"iNeuron.ai\" <contact@ineuron.ai>\n",
      "\n",
      "Subject : Live Class Feedback\n",
      "\n",
      "From : =?UTF-8?B?R3Jvd3cgRGlnZXN0?= <noreply@digest.groww.in>\n",
      "\n",
      "Subject : =?UTF-8?B?V2hhdCBpcyBhZGp1c3RlZCBFQklUREE/?=\n",
      "\n",
      "From : =?UTF-8?B?R3Jvd3c=?= <noreply@groww.in>\n",
      "\n",
      "Subject : =?UTF-8?B?4pa277iPR3Jvd3dGbGl4OiBBIGZpbmFuY2lhbCBwbGFuIGZvciB5b3Ug8J+TnQ==?=\n",
      "\n",
      "From : customercare@icicibank.com\n",
      "\n",
      "Subject : Transaction alert for your ICICI Bank Mobile Banking\n",
      "\n",
      "From : credit_cards@icicibank.com\n",
      "\n",
      "Subject : Payment received on your ICICI Bank Credit Card.\n",
      "\n",
      "From : credit_cards@icicibank.com\n",
      "\n",
      "Subject : Transaction alert for your ICICI Bank Credit Card\n",
      "\n"
     ]
    },
    {
     "ename": "NameError",
     "evalue": "name 'traceback' is not defined",
     "output_type": "error",
     "traceback": [
      "\u001b[0;31m---------------------------------------------------------------------------\u001b[0m",
      "\u001b[0;31mUnicodeDecodeError\u001b[0m                        Traceback (most recent call last)",
      "Cell \u001b[0;32mIn [2], line 29\u001b[0m, in \u001b[0;36mread_email_from_gmail\u001b[0;34m()\u001b[0m\n\u001b[1;32m     28\u001b[0m \u001b[38;5;28;01mif\u001b[39;00m \u001b[38;5;28misinstance\u001b[39m(arr, \u001b[38;5;28mtuple\u001b[39m):\n\u001b[0;32m---> 29\u001b[0m     msg \u001b[38;5;241m=\u001b[39m email\u001b[38;5;241m.\u001b[39mmessage_from_string(\u001b[38;5;28;43mstr\u001b[39;49m\u001b[43m(\u001b[49m\u001b[43marr\u001b[49m\u001b[43m[\u001b[49m\u001b[38;5;241;43m1\u001b[39;49m\u001b[43m]\u001b[49m\u001b[43m,\u001b[49m\u001b[38;5;124;43m'\u001b[39;49m\u001b[38;5;124;43mutf-8\u001b[39;49m\u001b[38;5;124;43m'\u001b[39;49m\u001b[43m)\u001b[49m)\n\u001b[1;32m     30\u001b[0m     email_subject \u001b[38;5;241m=\u001b[39m msg[\u001b[38;5;124m'\u001b[39m\u001b[38;5;124msubject\u001b[39m\u001b[38;5;124m'\u001b[39m]\n",
      "\u001b[0;31mUnicodeDecodeError\u001b[0m: 'utf-8' codec can't decode byte 0x91 in position 55050: invalid start byte",
      "\nDuring handling of the above exception, another exception occurred:\n",
      "\u001b[0;31mNameError\u001b[0m                                 Traceback (most recent call last)",
      "Cell \u001b[0;32mIn [2], line 39\u001b[0m\n\u001b[1;32m     36\u001b[0m         traceback\u001b[38;5;241m.\u001b[39mprint_exc() \n\u001b[1;32m     37\u001b[0m         \u001b[38;5;28mprint\u001b[39m(\u001b[38;5;28mstr\u001b[39m(e))\n\u001b[0;32m---> 39\u001b[0m \u001b[43mread_email_from_gmail\u001b[49m\u001b[43m(\u001b[49m\u001b[43m)\u001b[49m\n",
      "Cell \u001b[0;32mIn [2], line 36\u001b[0m, in \u001b[0;36mread_email_from_gmail\u001b[0;34m()\u001b[0m\n\u001b[1;32m     33\u001b[0m                 \u001b[38;5;28mprint\u001b[39m(\u001b[38;5;124m'\u001b[39m\u001b[38;5;124mSubject : \u001b[39m\u001b[38;5;124m'\u001b[39m \u001b[38;5;241m+\u001b[39m email_subject \u001b[38;5;241m+\u001b[39m \u001b[38;5;124m'\u001b[39m\u001b[38;5;130;01m\\n\u001b[39;00m\u001b[38;5;124m'\u001b[39m)\n\u001b[1;32m     35\u001b[0m \u001b[38;5;28;01mexcept\u001b[39;00m \u001b[38;5;167;01mException\u001b[39;00m \u001b[38;5;28;01mas\u001b[39;00m e:\n\u001b[0;32m---> 36\u001b[0m     \u001b[43mtraceback\u001b[49m\u001b[38;5;241m.\u001b[39mprint_exc() \n\u001b[1;32m     37\u001b[0m     \u001b[38;5;28mprint\u001b[39m(\u001b[38;5;28mstr\u001b[39m(e))\n",
      "\u001b[0;31mNameError\u001b[0m: name 'traceback' is not defined"
     ]
    }
   ],
   "source": [
    "import smtplib\n",
    "import time\n",
    "import imaplib\n",
    "import email\n",
    "ORG_EMAIL = \"@gmail.com\" \n",
    "FROM_EMAIL = 'behera.r.k2015@gmail.com'\n",
    "FROM_PWD = 'tzlbcxokkleffiqx' #Use App password\n",
    "SMTP_SERVER = \"imap.gmail.com\" \n",
    "SMTP_PORT = 993\n",
    "imaplib._MAXLINE = 400000000\n",
    "\n",
    "def read_email_from_gmail():\n",
    "    try:\n",
    "        mail = imaplib.IMAP4_SSL(SMTP_SERVER)\n",
    "        mail.login(FROM_EMAIL,FROM_PWD)\n",
    "        mail.select('inbox')\n",
    "\n",
    "        data = mail.search(None, 'ALL')\n",
    "        mail_ids = data[1]\n",
    "        id_list = mail_ids[0].split()   \n",
    "        first_email_id = int(id_list[0])\n",
    "        latest_email_id = int(id_list[-1])\n",
    "\n",
    "        for i in range(latest_email_id,first_email_id, -1):\n",
    "            data = mail.fetch(str(i), '(RFC822)' )\n",
    "            for response_part in data:\n",
    "                arr = response_part[0]\n",
    "                if isinstance(arr, tuple):\n",
    "                    msg = email.message_from_string(str(arr[1],'utf-8'))\n",
    "                    email_subject = msg['subject']\n",
    "                    email_from = msg['from']\n",
    "                    print('From : ' + email_from + '\\n')\n",
    "                    print('Subject : ' + email_subject + '\\n')\n",
    "\n",
    "    except Exception as e:\n",
    "        traceback.print_exc() \n",
    "        print(str(e))\n",
    "\n",
    "read_email_from_gmail()\n"
   ]
  },
  {
   "cell_type": "code",
   "execution_count": 3,
   "id": "e17180b9-c92f-4d49-ae31-0000e510275a",
   "metadata": {},
   "outputs": [
    {
     "ename": "ModuleNotFoundError",
     "evalue": "No module named 'docx2txt'",
     "output_type": "error",
     "traceback": [
      "\u001b[0;31m---------------------------------------------------------------------------\u001b[0m",
      "\u001b[0;31mModuleNotFoundError\u001b[0m                       Traceback (most recent call last)",
      "Cell \u001b[0;32mIn [3], line 1\u001b[0m\n\u001b[0;32m----> 1\u001b[0m \u001b[38;5;28;01mimport\u001b[39;00m \u001b[38;5;21;01mdocx2txt\u001b[39;00m\n",
      "\u001b[0;31mModuleNotFoundError\u001b[0m: No module named 'docx2txt'"
     ]
    }
   ],
   "source": [
    "import docx2txt"
   ]
  },
  {
   "cell_type": "code",
   "execution_count": 4,
   "id": "b3fdd297-8afd-494b-b0fb-8a76a19f69a4",
   "metadata": {},
   "outputs": [
    {
     "name": "stdout",
     "output_type": "stream",
     "text": [
      "Collecting docx2txt\n",
      "  Downloading docx2txt-0.8.tar.gz (2.8 kB)\n",
      "  Preparing metadata (setup.py) ... \u001b[?25ldone\n",
      "\u001b[?25hBuilding wheels for collected packages: docx2txt\n",
      "  Building wheel for docx2txt (setup.py) ... \u001b[?25ldone\n",
      "\u001b[?25h  Created wheel for docx2txt: filename=docx2txt-0.8-py3-none-any.whl size=3960 sha256=3f6c51da251529bbb17db981f14b622514fd11d932a9d416a2c4c859000b59b1\n",
      "  Stored in directory: /home/jovyan/.cache/pip/wheels/3c/78/a3/ef70996aa66e38229494dbd84cd747e2e0668f1940bf4a7de8\n",
      "Successfully built docx2txt\n",
      "Installing collected packages: docx2txt\n",
      "Successfully installed docx2txt-0.8\n",
      "Note: you may need to restart the kernel to use updated packages.\n"
     ]
    }
   ],
   "source": [
    "pip install docx2txt"
   ]
  },
  {
   "cell_type": "code",
   "execution_count": 7,
   "id": "f2b4f0e0-630b-4c50-a206-698fed95067a",
   "metadata": {},
   "outputs": [
    {
     "name": "stdout",
     "output_type": "stream",
     "text": [
      "import smtplib , ssl\n",
      "\n",
      "port = 465  # For SSL\n",
      "\n",
      "smtp_server = \"smtp.gmail.com\"\n",
      "\n",
      "sender_email = \"sskumar9876@gmail.com\"  # Enter your address\n",
      "\n",
      "receiver_email = \"sudhanshu@ineuron.ai\"  # Enter receiver address\n",
      "\n",
      "#password = 'rlplfdcsoiqruagn'\n",
      "\n",
      "password = 'fdafasfas'\n",
      "\n",
      "message = \"\"\"this is my message from python code \"\"\"\n",
      "\n",
      "\n",
      "\n",
      "context = ssl.create_default_context()\n",
      "\n",
      "with smtplib.SMTP_SSL(smtp_server, port, context=context) as server:\n",
      "\n",
      "    server.login(sender_email, password)\n",
      "\n",
      "    server.sendmail(sender_email, receiver_email, message)\n",
      "\n",
      "    \n",
      "\n",
      "    \n",
      "\n",
      "    \n",
      "\n",
      "    \n",
      "\n",
      "    =====================================================================\n",
      "\n",
      "import smtplib\n",
      "\n",
      "import time\n",
      "\n",
      "import imaplib\n",
      "\n",
      "import email\n",
      "\n",
      "ORG_EMAIL = \"@gmail.com\" \n",
      "\n",
      "FROM_EMAIL = 'sskumar9876@gmail.com'\n",
      "\n",
      "FROM_PWD = 'rlplfdcsoiqruagn'\n",
      "\n",
      "SMTP_SERVER = \"imap.gmail.com\" \n",
      "\n",
      "SMTP_PORT = 993\n",
      "\n",
      "imaplib._MAXLINE = 400000000\n",
      "\n",
      "\n",
      "\n",
      "def read_email_from_gmail():\n",
      "\n",
      "    try:\n",
      "\n",
      "        mail = imaplib.IMAP4_SSL(SMTP_SERVER)\n",
      "\n",
      "        mail.login(FROM_EMAIL,FROM_PWD)\n",
      "\n",
      "        mail.select('inbox')\n",
      "\n",
      "\n",
      "\n",
      "        data = mail.search(None, 'ALL')\n",
      "\n",
      "        mail_ids = data[1]\n",
      "\n",
      "        id_list = mail_ids[0].split()   \n",
      "\n",
      "        first_email_id = int(id_list[0])\n",
      "\n",
      "        latest_email_id = int(id_list[-1])\n",
      "\n",
      "\n",
      "\n",
      "        for i in range(latest_email_id,first_email_id, -1):\n",
      "\n",
      "            data = mail.fetch(str(i), '(RFC822)' )\n",
      "\n",
      "            for response_part in data:\n",
      "\n",
      "                arr = response_part[0]\n",
      "\n",
      "                if isinstance(arr, tuple):\n",
      "\n",
      "                    msg = email.message_from_string(str(arr[1],'utf-8'))\n",
      "\n",
      "                    email_subject = msg['subject']\n",
      "\n",
      "                    email_from = msg['from']\n",
      "\n",
      "                    print('From : ' + email_from + '\\n')\n",
      "\n",
      "                    print('Subject : ' + email_subject + '\\n')\n",
      "\n",
      "\n",
      "\n",
      "    except Exception as e:\n",
      "\n",
      "        traceback.print_exc() \n",
      "\n",
      "        print(str(e))\n",
      "\n",
      "\n",
      "\n",
      "read_email_from_gmail()\n",
      "\n",
      "\n",
      "\n",
      "\n",
      "\n",
      "\n",
      "\n",
      "=====================\n",
      "\n",
      "\n",
      "\n",
      "import docx2txt\n",
      "\n",
      "!pip install docx2txt\n",
      "\n",
      "\n",
      "\n",
      "a = docx2txt.process('testword.docx')\n",
      "\n",
      "print(a)\n"
     ]
    }
   ],
   "source": [
    "import docx2txt\n",
    "\n",
    "a = docx2txt.process('SendingMailUsingPython.docx') #don't give a space between the file name\n",
    "print(a)"
   ]
  },
  {
   "cell_type": "code",
   "execution_count": 9,
   "id": "4f363435-1f6f-453a-a0c9-669a201b13ff",
   "metadata": {},
   "outputs": [
    {
     "name": "stdout",
     "output_type": "stream",
     "text": [
      "Functions.ipynb  README.md          SendingMailUsingPython.docx  Untitled.ipynb\n",
      "list.ipynb       sample-code.ipynb  Untitled1.ipynb\n"
     ]
    }
   ],
   "source": [
    "ls"
   ]
  },
  {
   "cell_type": "code",
   "execution_count": null,
   "id": "03af491e-42a3-4e8d-a8fa-9742c84cbc09",
   "metadata": {},
   "outputs": [],
   "source": []
  }
 ],
 "metadata": {
  "kernelspec": {
   "display_name": "Python 3 (ipykernel)",
   "language": "python",
   "name": "python3"
  },
  "language_info": {
   "codemirror_mode": {
    "name": "ipython",
    "version": 3
   },
   "file_extension": ".py",
   "mimetype": "text/x-python",
   "name": "python",
   "nbconvert_exporter": "python",
   "pygments_lexer": "ipython3",
   "version": "3.10.6"
  }
 },
 "nbformat": 4,
 "nbformat_minor": 5
}
