{
 "cells": [
  {
   "cell_type": "markdown",
   "id": "96454825-a94b-4b39-b198-b95b379dc090",
   "metadata": {},
   "source": [
    "> Write a function that can take any number of parameters and return them as a list"
   ]
  },
  {
   "cell_type": "code",
   "execution_count": 2,
   "id": "a8cdda14-e6e6-4b36-8136-bed00b6d5aeb",
   "metadata": {},
   "outputs": [],
   "source": [
    "# Use '*' before the parameter name to receive any number of arguments"
   ]
  },
  {
   "cell_type": "code",
   "execution_count": 7,
   "id": "855b3928-8888-4578-8784-1c41663c9c37",
   "metadata": {},
   "outputs": [],
   "source": [
    "def test(*args):\n",
    "    return args #returns all the elementas as a collection of tuple "
   ]
  },
  {
   "cell_type": "code",
   "execution_count": 4,
   "id": "89dd0a8f-c81f-41f9-af82-c8377b882405",
   "metadata": {},
   "outputs": [
    {
     "data": {
      "text/plain": [
       "tuple"
      ]
     },
     "execution_count": 4,
     "metadata": {},
     "output_type": "execute_result"
    }
   ],
   "source": [
    "type(test(1,2,3,4,'raka'))"
   ]
  },
  {
   "cell_type": "code",
   "execution_count": 6,
   "id": "299c1449-5358-4f99-a01c-f83e2859f1cc",
   "metadata": {},
   "outputs": [
    {
     "data": {
      "text/plain": [
       "([1, 2, 3, 4], 'python', 'ineuron', (5+6j), (6, 7, 8))"
      ]
     },
     "execution_count": 6,
     "metadata": {},
     "output_type": "execute_result"
    }
   ],
   "source": [
    "test([1,2,3,4],'python','ineuron', 5+6j, (6,7,8))"
   ]
  },
  {
   "cell_type": "code",
   "execution_count": 9,
   "id": "0b6517a5-689a-42ad-bd03-3c1618c7fddf",
   "metadata": {},
   "outputs": [],
   "source": [
    "#to return as list\n",
    "def test1(*args):\n",
    "    return list(args) "
   ]
  },
  {
   "cell_type": "code",
   "execution_count": 10,
   "id": "6a9c79ce-f81d-4563-900f-a778c80a40e8",
   "metadata": {},
   "outputs": [
    {
     "data": {
      "text/plain": [
       "[23, 45, 65, 'voot', 'zee', ['apple', 'mi', 'poco']]"
      ]
     },
     "execution_count": 10,
     "metadata": {},
     "output_type": "execute_result"
    }
   ],
   "source": [
    "test1(23,45,65,'voot' , 'zee',['apple','mi','poco'])"
   ]
  },
  {
   "cell_type": "code",
   "execution_count": 15,
   "id": "e7ea1482-e622-45e0-b80b-fcfcd9954183",
   "metadata": {},
   "outputs": [],
   "source": [
    "def test3(*args):\n",
    "    l = []\n",
    "    for i in args:\n",
    "        l.append(i)\n",
    "    return l"
   ]
  },
  {
   "cell_type": "code",
   "execution_count": 16,
   "id": "370a0915-c0c0-4f0b-8d14-65d4a8540153",
   "metadata": {},
   "outputs": [
    {
     "data": {
      "text/plain": [
       "[23, 45, 65, 'voot', 'zee', 'apple', 'mi', 'poco']"
      ]
     },
     "execution_count": 16,
     "metadata": {},
     "output_type": "execute_result"
    }
   ],
   "source": [
    "test3(23,45,65,'voot' , 'zee','apple','mi','poco')"
   ]
  },
  {
   "cell_type": "code",
   "execution_count": 17,
   "id": "66f4479f-4421-4bbb-8ee7-c00a2054e1c1",
   "metadata": {},
   "outputs": [],
   "source": [
    "#we can use any word instead of args\n",
    "def test1(*abc):\n",
    "    return list(abc) "
   ]
  },
  {
   "cell_type": "code",
   "execution_count": 18,
   "id": "1f499e7f-bc0c-4423-982d-f0bacef3b6ef",
   "metadata": {},
   "outputs": [
    {
     "data": {
      "text/plain": [
       "[23, 45, 65]"
      ]
     },
     "execution_count": 18,
     "metadata": {},
     "output_type": "execute_result"
    }
   ],
   "source": [
    "test1(23,45,65)"
   ]
  },
  {
   "cell_type": "markdown",
   "id": "5ba3ce96-4f12-40a3-a3e7-e73d7cdd937e",
   "metadata": {},
   "source": [
    "### Arbitrary Arguments, *args\n",
    "- If you do not know how many arguments that will be passed into your function, add a * before the parameter name in the function definition.\n",
    "\n",
    "- This way the function will receive a tuple of arguments, and can access the items accordingly:"
   ]
  },
  {
   "cell_type": "code",
   "execution_count": 1,
   "id": "8dc64ee0-73ed-44ec-b995-b8587ddd32c9",
   "metadata": {},
   "outputs": [
    {
     "name": "stdout",
     "output_type": "stream",
     "text": [
      "The youngest child is Linus\n"
     ]
    }
   ],
   "source": [
    "# If the number of arguments is unknown, add a * before the parameter name:\n",
    "\n",
    "def my_function(*kids):\n",
    "  print(\"The youngest child is \" + kids[2])\n",
    "\n",
    "my_function(\"Emil\", \"Tobias\", \"Linus\")"
   ]
  },
  {
   "cell_type": "markdown",
   "id": "eade909b-e242-4768-99c0-87f091082238",
   "metadata": {},
   "source": [
    "- Arbitrary Arguments are often shortened to *args in Python documentations."
   ]
  },
  {
   "cell_type": "markdown",
   "id": "f4476a7b-0a2d-491e-ac6a-e66a78cee21f",
   "metadata": {},
   "source": [
    "#### Keyword Arguments\n",
    "You can also send arguments with the key = value syntax.\n",
    "\n",
    "This way the order of the arguments does not matter."
   ]
  },
  {
   "cell_type": "code",
   "execution_count": 1,
   "id": "a9cbfc91-9c68-41ee-9a6d-0ca70e5fce0e",
   "metadata": {},
   "outputs": [
    {
     "name": "stdout",
     "output_type": "stream",
     "text": [
      "The youngest child is Linus\n"
     ]
    }
   ],
   "source": [
    "def my_function(child3, child2, child1):\n",
    "  print(\"The youngest child is \" + child3)\n",
    "\n",
    "my_function(child1 = \"Emil\", child2 = \"Tobias\", child3 = \"Linus\")"
   ]
  },
  {
   "cell_type": "markdown",
   "id": "941c46a0-6e8c-45cc-b788-2569602d1ab6",
   "metadata": {},
   "source": [
    "- The phrase Keyword Arguments are often shortened to kwargs in Python documentations."
   ]
  },
  {
   "cell_type": "markdown",
   "id": "1d9b3b70-7f06-430f-a046-e23218ba8e86",
   "metadata": {},
   "source": [
    "### Arbitrary Keyword Arguments, **kwargs\n",
    "If you do not know how many keyword arguments that will be passed into your function, add two asterisk: ** before the parameter name in the function definition.\n",
    "\n",
    "This way the function will receive a dictionary of arguments, and can access the items accordingly:"
   ]
  },
  {
   "cell_type": "code",
   "execution_count": 2,
   "id": "29b8e6d4-117c-419c-875d-21edd74d5c8f",
   "metadata": {},
   "outputs": [
    {
     "name": "stdout",
     "output_type": "stream",
     "text": [
      "His last name is Refsnes\n"
     ]
    }
   ],
   "source": [
    "# If the number of keyword arguments is unknown, add a double ** before the parameter name:\n",
    "\n",
    "def my_function(**kid):\n",
    "  print(\"His last name is \" + kid[\"lname\"])\n",
    "\n",
    "my_function(fname = \"Tobias\", lname = \"Refsnes\")"
   ]
  },
  {
   "cell_type": "markdown",
   "id": "761c6680-41a6-4971-82a6-e04cb98ee114",
   "metadata": {},
   "source": [
    "- Arbitrary Kword Arguments are often shortened to **kwargs in Python documentations."
   ]
  },
  {
   "cell_type": "code",
   "execution_count": 3,
   "id": "b72b189c-9c1b-4c72-aaf8-63b6ee7c47d6",
   "metadata": {},
   "outputs": [],
   "source": [
    "def test5(**kwargs):\n",
    "    return kwargs"
   ]
  },
  {
   "cell_type": "code",
   "execution_count": 4,
   "id": "3dcc7a7a-35e7-409c-80d0-408ddc31246f",
   "metadata": {},
   "outputs": [
    {
     "data": {
      "text/plain": [
       "{'a': 4, 'b': 5, 'c': 7}"
      ]
     },
     "execution_count": 4,
     "metadata": {},
     "output_type": "execute_result"
    }
   ],
   "source": [
    "test5(a = 4, b = 5, c = 7)"
   ]
  },
  {
   "cell_type": "code",
   "execution_count": 10,
   "id": "0cc04800-6ae9-457b-abd2-f55da49110be",
   "metadata": {},
   "outputs": [
    {
     "ename": "SyntaxError",
     "evalue": "expression cannot contain assignment, perhaps you meant \"==\"? (4286787210.py, line 1)",
     "output_type": "error",
     "traceback": [
      "\u001b[0;36m  Cell \u001b[0;32mIn [10], line 1\u001b[0;36m\u001b[0m\n\u001b[0;31m    test5(\"one\" = \"numbers\" , \"listss\"=[11,22,33])\u001b[0m\n\u001b[0m          ^\u001b[0m\n\u001b[0;31mSyntaxError\u001b[0m\u001b[0;31m:\u001b[0m expression cannot contain assignment, perhaps you meant \"==\"?\n"
     ]
    }
   ],
   "source": [
    "test5(\"one\" = \"numbers\" , \"listss\"=[11,22,33])"
   ]
  },
  {
   "cell_type": "code",
   "execution_count": 11,
   "id": "2b3a40b1-bd1f-4132-a0c4-7ee3099b8b32",
   "metadata": {},
   "outputs": [
    {
     "data": {
      "text/plain": [
       "{'one': 'numbers', 'two': [11, 22, 33]}"
      ]
     },
     "execution_count": 11,
     "metadata": {},
     "output_type": "execute_result"
    }
   ],
   "source": [
    "#always take variable name as key, otherwise it will show an error\n",
    "test5(one = \"numbers\" , two=[11,22,33])"
   ]
  },
  {
   "cell_type": "markdown",
   "id": "c5b52f6c-bf30-4332-8ec4-691cfaa4426b",
   "metadata": {},
   "source": [
    "### Function with in a Function"
   ]
  },
  {
   "cell_type": "code",
   "execution_count": 13,
   "id": "04ef4a52-a336-47ad-a116-0619129a18f4",
   "metadata": {},
   "outputs": [],
   "source": [
    "def test11(a):\n",
    "    return a\n",
    "\n",
    "def test12(b):\n",
    "    return b\n",
    "\n",
    "def test13(func):\n",
    "    return func(\"raka\")"
   ]
  },
  {
   "cell_type": "code",
   "execution_count": 16,
   "id": "81a42ace-77ae-464f-a79d-6822640bfdae",
   "metadata": {},
   "outputs": [
    {
     "data": {
      "text/plain": [
       "'raka'"
      ]
     },
     "execution_count": 16,
     "metadata": {},
     "output_type": "execute_result"
    }
   ],
   "source": [
    "test13(test11)"
   ]
  },
  {
   "cell_type": "code",
   "execution_count": 17,
   "id": "d5154e1e-5695-436e-865e-04c953e8d8f4",
   "metadata": {},
   "outputs": [],
   "source": [
    "def test11(a):\n",
    "    return a\n",
    "\n",
    "def test12():\n",
    "    return \"python\"\n",
    "\n",
    "def test13(func):\n",
    "    return func(\"raka\")"
   ]
  },
  {
   "cell_type": "code",
   "execution_count": 18,
   "id": "92f2f581-58b2-4ee1-8127-43dc39d779fd",
   "metadata": {},
   "outputs": [
    {
     "ename": "TypeError",
     "evalue": "test12() takes 0 positional arguments but 1 was given",
     "output_type": "error",
     "traceback": [
      "\u001b[0;31m---------------------------------------------------------------------------\u001b[0m",
      "\u001b[0;31mTypeError\u001b[0m                                 Traceback (most recent call last)",
      "Cell \u001b[0;32mIn [18], line 1\u001b[0m\n\u001b[0;32m----> 1\u001b[0m \u001b[43mtest13\u001b[49m\u001b[43m(\u001b[49m\u001b[43mtest12\u001b[49m\u001b[43m)\u001b[49m\n",
      "Cell \u001b[0;32mIn [17], line 8\u001b[0m, in \u001b[0;36mtest13\u001b[0;34m(func)\u001b[0m\n\u001b[1;32m      7\u001b[0m \u001b[38;5;28;01mdef\u001b[39;00m \u001b[38;5;21mtest13\u001b[39m(func):\n\u001b[0;32m----> 8\u001b[0m     \u001b[38;5;28;01mreturn\u001b[39;00m \u001b[43mfunc\u001b[49m\u001b[43m(\u001b[49m\u001b[38;5;124;43m\"\u001b[39;49m\u001b[38;5;124;43mraka\u001b[39;49m\u001b[38;5;124;43m\"\u001b[39;49m\u001b[43m)\u001b[49m\n",
      "\u001b[0;31mTypeError\u001b[0m: test12() takes 0 positional arguments but 1 was given"
     ]
    }
   ],
   "source": [
    "test13(test12)"
   ]
  },
  {
   "cell_type": "code",
   "execution_count": 19,
   "id": "0df7a5b3-3eab-4fc6-be18-b617629f8bf1",
   "metadata": {},
   "outputs": [],
   "source": [
    "def test11(a):\n",
    "    return a\n",
    "\n",
    "def test12(*args):\n",
    "    return \"python\"\n",
    "\n",
    "def test13(func):\n",
    "    return func(\"raka\")"
   ]
  },
  {
   "cell_type": "code",
   "execution_count": 20,
   "id": "0fdae067-326f-454a-a65c-7d6930f96221",
   "metadata": {},
   "outputs": [
    {
     "data": {
      "text/plain": [
       "'python'"
      ]
     },
     "execution_count": 20,
     "metadata": {},
     "output_type": "execute_result"
    }
   ],
   "source": [
    "test13(test12)"
   ]
  },
  {
   "cell_type": "code",
   "execution_count": 21,
   "id": "b414c310-284f-4db1-8ffc-93c538505603",
   "metadata": {},
   "outputs": [],
   "source": [
    "def test15():\n",
    "    print(\"This is test 15\")\n",
    "    \n",
    "    def test16():\n",
    "        print(\"This is Test 16\")\n",
    "    \n",
    "    def test17():\n",
    "        print(\"This is test 17\")"
   ]
  },
  {
   "cell_type": "code",
   "execution_count": 22,
   "id": "f58acb76-1862-47f3-b6c9-ca0eeca16163",
   "metadata": {},
   "outputs": [
    {
     "name": "stdout",
     "output_type": "stream",
     "text": [
      "This is test 15\n"
     ]
    }
   ],
   "source": [
    "test15()"
   ]
  },
  {
   "cell_type": "code",
   "execution_count": 25,
   "id": "05d99328-ec3c-4206-b621-fdf484eaf0fd",
   "metadata": {},
   "outputs": [
    {
     "ename": "AttributeError",
     "evalue": "'function' object has no attribute 'test16'",
     "output_type": "error",
     "traceback": [
      "\u001b[0;31m---------------------------------------------------------------------------\u001b[0m",
      "\u001b[0;31mAttributeError\u001b[0m                            Traceback (most recent call last)",
      "Cell \u001b[0;32mIn [25], line 1\u001b[0m\n\u001b[0;32m----> 1\u001b[0m \u001b[43mtest15\u001b[49m\u001b[38;5;241;43m.\u001b[39;49m\u001b[43mtest16\u001b[49m()\n",
      "\u001b[0;31mAttributeError\u001b[0m: 'function' object has no attribute 'test16'"
     ]
    }
   ],
   "source": [
    "test15.test16()"
   ]
  },
  {
   "cell_type": "code",
   "execution_count": 12,
   "id": "991fdc93-98b8-4a48-a0ff-362365ed7dc9",
   "metadata": {},
   "outputs": [],
   "source": [
    "def test15(a):\n",
    "    print(\"This is test 15\")\n",
    "    \n",
    "    def test16():\n",
    "        print(\"This is Test 16\")\n",
    "    \n",
    "    def test17():\n",
    "        print(\"This is test 17\")\n",
    "        \n",
    "    # we can not call a function defined inside another function directly\n",
    "    # but we can call those function using sth like if anad else statement\n",
    "        \n",
    "    if a == 'raka':\n",
    "        return test16()\n",
    "    elif a == 'kumar':\n",
    "        return test17()"
   ]
  },
  {
   "cell_type": "code",
   "execution_count": 5,
   "id": "75038506-2798-4fe9-8959-be2bb7c36b36",
   "metadata": {},
   "outputs": [
    {
     "name": "stdout",
     "output_type": "stream",
     "text": [
      "This is test 15\n",
      "This is Test 16\n"
     ]
    }
   ],
   "source": [
    "test15(\"raka\")"
   ]
  },
  {
   "cell_type": "code",
   "execution_count": 6,
   "id": "fdaaca0a-fac0-4349-a059-0b71f2dcd0dd",
   "metadata": {},
   "outputs": [
    {
     "name": "stdout",
     "output_type": "stream",
     "text": [
      "This is test 15\n",
      "This is test 17\n"
     ]
    }
   ],
   "source": [
    "test15(\"kumar\")"
   ]
  },
  {
   "cell_type": "code",
   "execution_count": 7,
   "id": "42883864-c9cc-42c2-97ab-6d0455a52df8",
   "metadata": {},
   "outputs": [],
   "source": [
    "def test13(*args):\n",
    "    print(\"this is a return of test13\")"
   ]
  },
  {
   "cell_type": "code",
   "execution_count": 8,
   "id": "6cfe2dab-73a4-4423-bcd1-75891f3584ba",
   "metadata": {},
   "outputs": [],
   "source": [
    "def test18(func) : \n",
    "    def test19():\n",
    "        print(\"i am inside test19\") \n",
    "    return test19()\n",
    "# we can not call test19() directly , but when we call test18(), test19() also get executed or called"
   ]
  },
  {
   "cell_type": "code",
   "execution_count": 9,
   "id": "3017edad-bdbd-4918-9701-940375725764",
   "metadata": {},
   "outputs": [
    {
     "name": "stdout",
     "output_type": "stream",
     "text": [
      "i am inside test19\n"
     ]
    }
   ],
   "source": [
    "test18(test13)"
   ]
  },
  {
   "cell_type": "code",
   "execution_count": 10,
   "id": "9448226d-c565-4125-9db3-4848147d45c1",
   "metadata": {},
   "outputs": [],
   "source": [
    "# a function is passed as an parameter or input to a function\n",
    "def test18(func) : \n",
    "    def test19():\n",
    "        print(\"i am inside test19\") \n",
    "        func()\n",
    "    return test19()"
   ]
  },
  {
   "cell_type": "code",
   "execution_count": 11,
   "id": "98af1363-1547-4b95-8452-c263210980e9",
   "metadata": {},
   "outputs": [
    {
     "name": "stdout",
     "output_type": "stream",
     "text": [
      "i am inside test19\n",
      "this is a return of test13\n"
     ]
    }
   ],
   "source": [
    "test18(test13)"
   ]
  },
  {
   "cell_type": "markdown",
   "id": "474dbb36-f83e-467b-af54-6e1402ba23b8",
   "metadata": {},
   "source": [
    "### Decorator"
   ]
  },
  {
   "cell_type": "markdown",
   "id": "56f1ae82-72b4-4e2c-8326-12db712b818f",
   "metadata": {},
   "source": [
    "> In Python, a decorator is a design pattern that allows you to modify the functionality of a function by wrapping it in another function.\n",
    "\n",
    "\n",
    "> Decorators are a very powerful and useful tool in Python since it allows programmers to modify the behaviour of a function or class. Decorators allow us to wrap another function in order to extend the behaviour of the wrapped function, without permanently modifying it. "
   ]
  },
  {
   "cell_type": "code",
   "execution_count": 1,
   "id": "3c6f6a7e-7f84-42c3-9f24-b4b267b33dd6",
   "metadata": {},
   "outputs": [],
   "source": [
    "def test18(func) : \n",
    "    def test19():\n",
    "        print(\"i am inside test19 and this will behave as a decorator to any function i am going to call\") \n",
    "        func()\n",
    "    return test19()"
   ]
  },
  {
   "cell_type": "code",
   "execution_count": 2,
   "id": "8f26a13c-a7f8-4825-81fd-c8a4bcdd0c4e",
   "metadata": {},
   "outputs": [],
   "source": [
    "def test20():\n",
    "    print(\"This is test20\")"
   ]
  },
  {
   "cell_type": "code",
   "execution_count": 3,
   "id": "f45e36a0-a614-48a1-a388-32b8bea5b914",
   "metadata": {},
   "outputs": [
    {
     "name": "stdout",
     "output_type": "stream",
     "text": [
      "i am inside test19 and this will behave as a decorator to any function i am going to call\n",
      "This is test20\n"
     ]
    }
   ],
   "source": [
    "test18(test20)"
   ]
  },
  {
   "cell_type": "code",
   "execution_count": 4,
   "id": "73f5664f-8922-4db1-b254-a058ce2df761",
   "metadata": {},
   "outputs": [
    {
     "name": "stdout",
     "output_type": "stream",
     "text": [
      "i am inside test19 and this will behave as a decorator to any function i am going to call\n",
      "This is test21, using decorator\n"
     ]
    }
   ],
   "source": [
    "# using decorator - we can call a pre-defined menthod just by adding @before the name of the function\n",
    "@test18\n",
    "def test21():\n",
    "    print(\"This is test21, using decorator\")"
   ]
  },
  {
   "cell_type": "code",
   "execution_count": 5,
   "id": "54b7919e-4f71-48c5-9e5a-ae36e1cfec18",
   "metadata": {},
   "outputs": [
    {
     "data": {
      "text/plain": [
       "'/home/jovyan/work/Functions'"
      ]
     },
     "execution_count": 5,
     "metadata": {},
     "output_type": "execute_result"
    }
   ],
   "source": [
    "pwd()"
   ]
  },
  {
   "cell_type": "code",
   "execution_count": 6,
   "id": "d8c53225-14ec-47c9-ba0d-0b79f4a0aed4",
   "metadata": {},
   "outputs": [],
   "source": [
    "import os \n",
    "def test18(func) : \n",
    "    def test19():\n",
    "        print(\"i am inside test19 and this will behave a decorator to any function that i am going to call \")\n",
    "        print(os.getcwd())\n",
    "        func()\n",
    "    return test19"
   ]
  },
  {
   "cell_type": "code",
   "execution_count": 7,
   "id": "5b05883e-ca66-401a-ac6d-ec6d028a270c",
   "metadata": {},
   "outputs": [],
   "source": [
    "@test18\n",
    "def test22():\n",
    "    print(\"this is test20\")"
   ]
  },
  {
   "cell_type": "code",
   "execution_count": 8,
   "id": "de4e3185-4fda-4dea-b35b-fd88e45597ef",
   "metadata": {},
   "outputs": [
    {
     "name": "stdout",
     "output_type": "stream",
     "text": [
      "i am inside test19 and this will behave a decorator to any function that i am going to call \n",
      "/home/jovyan/work/Functions\n",
      "this is test20\n"
     ]
    }
   ],
   "source": [
    "test22()"
   ]
  },
  {
   "cell_type": "code",
   "execution_count": 9,
   "id": "9f634924-305f-42fa-90c3-bd48b1a3c69a",
   "metadata": {},
   "outputs": [
    {
     "data": {
      "text/plain": [
       "<function __main__.test18.<locals>.test19()>"
      ]
     },
     "execution_count": 9,
     "metadata": {},
     "output_type": "execute_result"
    }
   ],
   "source": [
    "test18(test22)"
   ]
  },
  {
   "cell_type": "code",
   "execution_count": 13,
   "id": "bdad764c-b50b-4efd-841e-b823d2b95620",
   "metadata": {},
   "outputs": [],
   "source": [
    "def test23(func):\n",
    "    def test24():\n",
    "        func()\n",
    "        print(\"Test23 - \"+os.getcwd())\n",
    "    return test24\n",
    "    "
   ]
  },
  {
   "cell_type": "code",
   "execution_count": 14,
   "id": "c28d8b93-d3ff-4aeb-b4ce-e9bac6e87181",
   "metadata": {},
   "outputs": [],
   "source": [
    "@test18\n",
    "@test23\n",
    "def test22():\n",
    "    print(\"this will print inside test22\")"
   ]
  },
  {
   "cell_type": "code",
   "execution_count": 15,
   "id": "921d0068-25bf-40eb-b4b6-d1c462f6ff36",
   "metadata": {},
   "outputs": [
    {
     "name": "stdout",
     "output_type": "stream",
     "text": [
      "i am inside test19 and this will behave a decorator to any function that i am going to call \n",
      "/home/jovyan/work/Functions\n",
      "this will print inside test22\n",
      "Test23 - /home/jovyan/work/Functions\n"
     ]
    }
   ],
   "source": [
    "test22()"
   ]
  },
  {
   "cell_type": "code",
   "execution_count": 16,
   "id": "acc1de16-a158-4903-9d92-991639845755",
   "metadata": {},
   "outputs": [
    {
     "name": "stdout",
     "output_type": "stream",
     "text": [
      "hello\n",
      "0.00010752677917480469\n"
     ]
    }
   ],
   "source": [
    "import time\n",
    "\n",
    "start = time.time()\n",
    "print(\"hello\")\n",
    "end = time.time()\n",
    "print(end - start)\n"
   ]
  },
  {
   "cell_type": "code",
   "execution_count": 17,
   "id": "cdcc4f33-e214-46ce-b255-6d2f198059aa",
   "metadata": {},
   "outputs": [
    {
     "data": {
      "text/plain": [
       "1677412054.3360882"
      ]
     },
     "execution_count": 17,
     "metadata": {},
     "output_type": "execute_result"
    }
   ],
   "source": [
    "time.time()"
   ]
  },
  {
   "cell_type": "code",
   "execution_count": 19,
   "id": "91af3111-97c8-46dd-9c3d-1c220b008df0",
   "metadata": {},
   "outputs": [],
   "source": [
    "def test25(func):\n",
    "    def test26():\n",
    "        print(\"This will give you execution time of a function\")\n",
    "        start = time.time()\n",
    "        func()\n",
    "        end = time.time()\n",
    "        print(end - start)\n",
    "    return test26()"
   ]
  },
  {
   "cell_type": "code",
   "execution_count": 20,
   "id": "2b5ea5e3-505b-4977-8e2c-4f4a968bf791",
   "metadata": {},
   "outputs": [],
   "source": [
    "def test27():\n",
    "    l = [4,5,6,7,8,9]\n",
    "    l1 = []\n",
    "    for i in l:\n",
    "        if type(i) == int:\n",
    "            l1.append(i)\n",
    "    return l1"
   ]
  },
  {
   "cell_type": "code",
   "execution_count": 21,
   "id": "3bb96013-562e-4223-97ac-99632d5ce06b",
   "metadata": {},
   "outputs": [
    {
     "data": {
      "text/plain": [
       "[4, 5, 6, 7, 8, 9]"
      ]
     },
     "execution_count": 21,
     "metadata": {},
     "output_type": "execute_result"
    }
   ],
   "source": [
    "test27()"
   ]
  },
  {
   "cell_type": "code",
   "execution_count": 22,
   "id": "49668137-eaa7-4c88-8b89-327401578f28",
   "metadata": {},
   "outputs": [
    {
     "name": "stdout",
     "output_type": "stream",
     "text": [
      "This will give you execution time of a function\n",
      "2.86102294921875e-06\n"
     ]
    }
   ],
   "source": [
    "@test25\n",
    "def test27():\n",
    "    l = [4,5,6,7,8,9]\n",
    "    l1 = []\n",
    "    for i in l:\n",
    "        if type(i) == int:\n",
    "            l1.append(i)\n",
    "    return l1"
   ]
  },
  {
   "cell_type": "code",
   "execution_count": null,
   "id": "38c0a8a7-0ab5-4bbf-b063-41810b34902e",
   "metadata": {},
   "outputs": [],
   "source": []
  }
 ],
 "metadata": {
  "kernelspec": {
   "display_name": "Python 3 (ipykernel)",
   "language": "python",
   "name": "python3"
  },
  "language_info": {
   "codemirror_mode": {
    "name": "ipython",
    "version": 3
   },
   "file_extension": ".py",
   "mimetype": "text/x-python",
   "name": "python",
   "nbconvert_exporter": "python",
   "pygments_lexer": "ipython3",
   "version": "3.10.6"
  }
 },
 "nbformat": 4,
 "nbformat_minor": 5
}
