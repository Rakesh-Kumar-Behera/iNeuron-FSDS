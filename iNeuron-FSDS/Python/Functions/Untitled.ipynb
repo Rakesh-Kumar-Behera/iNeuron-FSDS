{
 "cells": [
  {
   "cell_type": "markdown",
   "id": "235575c0-546b-408b-bf1f-c75cdf8fa924",
   "metadata": {},
   "source": [
    "### Decorator"
   ]
  },
  {
   "cell_type": "code",
   "execution_count": 11,
   "id": "386bf866-a3b5-47b9-bf96-854011600853",
   "metadata": {},
   "outputs": [],
   "source": [
    "def outer_fun():\n",
    "    message = \"Hi\"\n",
    "    \n",
    "    def inner_fun():\n",
    "        print(message)\n",
    "    return inner_fun()\n",
    "# executing inner function and returning it"
   ]
  },
  {
   "cell_type": "code",
   "execution_count": 2,
   "id": "4c601c5e-7165-4e38-9b9e-98242a25a86b",
   "metadata": {},
   "outputs": [
    {
     "name": "stdout",
     "output_type": "stream",
     "text": [
      "Hi\n"
     ]
    }
   ],
   "source": [
    "outer_fun()"
   ]
  },
  {
   "cell_type": "code",
   "execution_count": 12,
   "id": "3be783d6-062e-4ba6-93d8-08ee6a2de2f4",
   "metadata": {},
   "outputs": [],
   "source": [
    "def outer_fun():\n",
    "    message = \"Hi\"\n",
    "    \n",
    "    def inner_fun():\n",
    "        print(message)\n",
    "    return inner_fun #bracket is removed\n",
    "# returning a function without executing it"
   ]
  },
  {
   "cell_type": "code",
   "execution_count": 10,
   "id": "520bdd3b-753d-46af-83ee-44a272866ada",
   "metadata": {},
   "outputs": [
    {
     "data": {
      "text/plain": [
       "<function __main__.outer_fun.<locals>.inner_fun()>"
      ]
     },
     "execution_count": 10,
     "metadata": {},
     "output_type": "execute_result"
    }
   ],
   "source": [
    "outer_fun()"
   ]
  },
  {
   "cell_type": "code",
   "execution_count": 5,
   "id": "c6debf13-ec29-4b89-aeea-119418319959",
   "metadata": {},
   "outputs": [],
   "source": [
    "my_func = outer_fun()"
   ]
  },
  {
   "cell_type": "code",
   "execution_count": 6,
   "id": "95f88b96-dd79-4a1d-b7e2-ec82efff432a",
   "metadata": {},
   "outputs": [
    {
     "data": {
      "text/plain": [
       "<function __main__.outer_fun.<locals>.inner_fun()>"
      ]
     },
     "execution_count": 6,
     "metadata": {},
     "output_type": "execute_result"
    }
   ],
   "source": [
    "my_func"
   ]
  },
  {
   "cell_type": "code",
   "execution_count": 7,
   "id": "f6385ca0-ae1b-403e-95c1-610cee2cef2e",
   "metadata": {},
   "outputs": [
    {
     "data": {
      "text/plain": [
       "function"
      ]
     },
     "execution_count": 7,
     "metadata": {},
     "output_type": "execute_result"
    }
   ],
   "source": [
    "type(my_func)"
   ]
  },
  {
   "cell_type": "code",
   "execution_count": 8,
   "id": "2882c07a-621c-4931-ae0b-486d447a45ed",
   "metadata": {},
   "outputs": [
    {
     "name": "stdout",
     "output_type": "stream",
     "text": [
      "Hi\n"
     ]
    }
   ],
   "source": [
    "my_func()"
   ]
  },
  {
   "cell_type": "code",
   "execution_count": 13,
   "id": "a88c4417-374f-4a30-9b3b-c474482387dc",
   "metadata": {},
   "outputs": [],
   "source": [
    "def printer():\n",
    "    print(\"Hello World\")"
   ]
  },
  {
   "cell_type": "code",
   "execution_count": 14,
   "id": "9fecf106-2300-4884-ade4-1b5be36bc501",
   "metadata": {},
   "outputs": [
    {
     "name": "stdout",
     "output_type": "stream",
     "text": [
      "Hello World\n"
     ]
    }
   ],
   "source": [
    "printer()"
   ]
  },
  {
   "cell_type": "code",
   "execution_count": 19,
   "id": "761d421e-b60e-48f8-8427-c1c4de382dbb",
   "metadata": {},
   "outputs": [],
   "source": [
    "def display_info(func):\n",
    "    def inner():\n",
    "        print(\"Executing\" , func.__name__,\"function\")\n",
    "        func()\n",
    "        print(\"Finished Executing\")\n",
    "    return inner"
   ]
  },
  {
   "cell_type": "code",
   "execution_count": 16,
   "id": "0b391fcc-9cfb-4035-92de-3fbc14bc97e0",
   "metadata": {},
   "outputs": [],
   "source": [
    "decorated = display_info(printer)"
   ]
  },
  {
   "cell_type": "code",
   "execution_count": 17,
   "id": "ef678282-f512-4399-88e3-610a14c56459",
   "metadata": {},
   "outputs": [
    {
     "data": {
      "text/plain": [
       "function"
      ]
     },
     "execution_count": 17,
     "metadata": {},
     "output_type": "execute_result"
    }
   ],
   "source": [
    "type(decorated)"
   ]
  },
  {
   "cell_type": "code",
   "execution_count": 18,
   "id": "933686b1-d973-491a-9608-b5cf469dbab2",
   "metadata": {},
   "outputs": [
    {
     "name": "stdout",
     "output_type": "stream",
     "text": [
      "Executing printer function\n",
      "Hello World\n",
      "Finished Executing\n"
     ]
    }
   ],
   "source": [
    "decorated()"
   ]
  },
  {
   "cell_type": "code",
   "execution_count": 20,
   "id": "de1ef931-725a-4fd3-b0f7-ad7f809e9ed9",
   "metadata": {},
   "outputs": [],
   "source": [
    "@display_info\n",
    "def printer():\n",
    "    print(\"Hello World\")"
   ]
  },
  {
   "cell_type": "code",
   "execution_count": 21,
   "id": "788e713b-c010-4724-a0fd-e18a249e4ac4",
   "metadata": {},
   "outputs": [
    {
     "name": "stdout",
     "output_type": "stream",
     "text": [
      "Executing printer function\n",
      "Hello World\n",
      "Finished Executing\n"
     ]
    }
   ],
   "source": [
    "printer()"
   ]
  },
  {
   "cell_type": "raw",
   "id": "fdf76e0c-a73b-4bb9-9edc-436facca9568",
   "metadata": {},
   "source": [
    "Divide"
   ]
  },
  {
   "cell_type": "code",
   "execution_count": 22,
   "id": "de214871-3404-43cd-940e-d94c39f1db47",
   "metadata": {},
   "outputs": [],
   "source": [
    "def divide(a,b):\n",
    "    return a/b"
   ]
  },
  {
   "cell_type": "code",
   "execution_count": 23,
   "id": "3d7c650c-1860-47c6-9b7e-16870b928e91",
   "metadata": {},
   "outputs": [
    {
     "data": {
      "text/plain": [
       "0.4"
      ]
     },
     "execution_count": 23,
     "metadata": {},
     "output_type": "execute_result"
    }
   ],
   "source": [
    "divide(2,5)"
   ]
  },
  {
   "cell_type": "code",
   "execution_count": 24,
   "id": "10dab8bf-0c96-4f09-a8cb-93f31a306e75",
   "metadata": {},
   "outputs": [
    {
     "ename": "ZeroDivisionError",
     "evalue": "division by zero",
     "output_type": "error",
     "traceback": [
      "\u001b[0;31m---------------------------------------------------------------------------\u001b[0m",
      "\u001b[0;31mZeroDivisionError\u001b[0m                         Traceback (most recent call last)",
      "Cell \u001b[0;32mIn [24], line 1\u001b[0m\n\u001b[0;32m----> 1\u001b[0m \u001b[43mdivide\u001b[49m\u001b[43m(\u001b[49m\u001b[38;5;241;43m2\u001b[39;49m\u001b[43m,\u001b[49m\u001b[38;5;241;43m0\u001b[39;49m\u001b[43m)\u001b[49m\n",
      "Cell \u001b[0;32mIn [22], line 2\u001b[0m, in \u001b[0;36mdivide\u001b[0;34m(a, b)\u001b[0m\n\u001b[1;32m      1\u001b[0m \u001b[38;5;28;01mdef\u001b[39;00m \u001b[38;5;21mdivide\u001b[39m(a,b):\n\u001b[0;32m----> 2\u001b[0m     \u001b[38;5;28;01mreturn\u001b[39;00m \u001b[43ma\u001b[49m\u001b[38;5;241;43m/\u001b[39;49m\u001b[43mb\u001b[49m\n",
      "\u001b[0;31mZeroDivisionError\u001b[0m: division by zero"
     ]
    }
   ],
   "source": [
    "divide(2,0)"
   ]
  },
  {
   "cell_type": "code",
   "execution_count": 25,
   "id": "68d2fcbe-fdfe-458b-8b62-7c100ddca9ae",
   "metadata": {},
   "outputs": [],
   "source": [
    "def smart_divide(func):\n",
    "    def inner(a,b):\n",
    "        print(\"i am going to divide \",a,\" and \",b)\n",
    "        if b == 0:\n",
    "            print(\"Can't divide\")\n",
    "            return\n",
    "        return func(a,b)\n",
    "    return inner"
   ]
  },
  {
   "cell_type": "code",
   "execution_count": 26,
   "id": "4917e1e6-b47f-4644-a940-627da2c070a2",
   "metadata": {},
   "outputs": [],
   "source": [
    "@smart_divide\n",
    "def divide(a,b):\n",
    "    return a/b"
   ]
  },
  {
   "cell_type": "code",
   "execution_count": 27,
   "id": "dfcfbe68-cc4c-4e11-9b3f-6bf88167301c",
   "metadata": {},
   "outputs": [
    {
     "name": "stdout",
     "output_type": "stream",
     "text": [
      "i am going to divide  3  and  0\n",
      "Can't divide\n"
     ]
    }
   ],
   "source": [
    "divide(3,0)"
   ]
  },
  {
   "cell_type": "code",
   "execution_count": 28,
   "id": "1dba69c3-a03a-4149-b4c9-a3bcb2aa46d0",
   "metadata": {},
   "outputs": [
    {
     "name": "stdout",
     "output_type": "stream",
     "text": [
      "i am going to divide  5  and  9\n"
     ]
    },
    {
     "data": {
      "text/plain": [
       "0.5555555555555556"
      ]
     },
     "execution_count": 28,
     "metadata": {},
     "output_type": "execute_result"
    }
   ],
   "source": [
    "divide(5,9)"
   ]
  },
  {
   "cell_type": "markdown",
   "id": "ca5464f4-9ae1-41d6-9630-fd2d8d003bdc",
   "metadata": {},
   "source": [
    "### Multiple Decorators or Chaining Decorators"
   ]
  },
  {
   "cell_type": "code",
   "execution_count": 29,
   "id": "898cf686-eee2-49d6-a8ef-effa6d2b6e4b",
   "metadata": {},
   "outputs": [],
   "source": [
    "def printer(msg):\n",
    "    print(msg)"
   ]
  },
  {
   "cell_type": "code",
   "execution_count": 31,
   "id": "60fe7045-32d9-43ca-b525-92b0a65f9721",
   "metadata": {},
   "outputs": [],
   "source": [
    "def star(func):\n",
    "    def inner(*args,**kwargs):\n",
    "        print(\"*\" * 30)\n",
    "        func(*args,**kwargs)\n",
    "        print(\"*\" * 30)\n",
    "    return inner"
   ]
  },
  {
   "cell_type": "code",
   "execution_count": 33,
   "id": "4e6e71f6-861d-4792-9a0c-ebeaa907b625",
   "metadata": {},
   "outputs": [],
   "source": [
    "def percent(func):\n",
    "    def inner(*args,**kwargs):\n",
    "        print(\"%\" * 30)\n",
    "        func(*args,**kwargs)\n",
    "        print(\"%\" * 30)\n",
    "    return inner"
   ]
  },
  {
   "cell_type": "code",
   "execution_count": 39,
   "id": "73912777-c7fe-4985-922e-fd09895e4e33",
   "metadata": {},
   "outputs": [],
   "source": [
    "def star(func):\n",
    "    def inner(*args,**kwargs):\n",
    "        print(\"*\" * 30)\n",
    "        func(*args,**kwargs)\n",
    "        print(\"*\" * 30)\n",
    "    return inner\n",
    "\n",
    "def percent(func):\n",
    "    def inner(*args,**kwargs):\n",
    "        print(\"%\" * 30)\n",
    "        func(*args,**kwargs)\n",
    "        print(\"%\" * 30)\n",
    "    return inner\n",
    "\n",
    "@star\n",
    "@percent             #---> @star [ @percent ( def printer()) ] \n",
    "def printer(msg):         \n",
    "    print(msg)\n",
    "    \n",
    "# ---->  star ( percent ( printer) ))\n",
    "# *****( %%%%%% ( Hello ) %%%%%% ) *****"
   ]
  },
  {
   "cell_type": "code",
   "execution_count": 40,
   "id": "6cc25d9a-1659-4fec-b94a-8aaecef39d69",
   "metadata": {},
   "outputs": [
    {
     "name": "stdout",
     "output_type": "stream",
     "text": [
      "******************************\n",
      "%%%%%%%%%%%%%%%%%%%%%%%%%%%%%%\n",
      "Hello\n",
      "%%%%%%%%%%%%%%%%%%%%%%%%%%%%%%\n",
      "******************************\n"
     ]
    }
   ],
   "source": [
    "printer(\"Hello\")"
   ]
  },
  {
   "cell_type": "code",
   "execution_count": 41,
   "id": "259da01a-5818-4170-9796-bd1541120e58",
   "metadata": {},
   "outputs": [],
   "source": [
    "def printer(msg):\n",
    "    print(msg)\n",
    "printer = star(percent(printer))"
   ]
  },
  {
   "cell_type": "code",
   "execution_count": 42,
   "id": "a8fb3866-4d99-472c-b402-518b4e7f5966",
   "metadata": {},
   "outputs": [
    {
     "name": "stdout",
     "output_type": "stream",
     "text": [
      "******************************\n",
      "%%%%%%%%%%%%%%%%%%%%%%%%%%%%%%\n",
      "Ineuron\n",
      "%%%%%%%%%%%%%%%%%%%%%%%%%%%%%%\n",
      "******************************\n"
     ]
    }
   ],
   "source": [
    "printer(\"Ineuron\")"
   ]
  },
  {
   "cell_type": "code",
   "execution_count": null,
   "id": "a9dfb391-2327-4477-926d-836052e9cbd4",
   "metadata": {},
   "outputs": [],
   "source": []
  }
 ],
 "metadata": {
  "kernelspec": {
   "display_name": "Python 3 (ipykernel)",
   "language": "python",
   "name": "python3"
  },
  "language_info": {
   "codemirror_mode": {
    "name": "ipython",
    "version": 3
   },
   "file_extension": ".py",
   "mimetype": "text/x-python",
   "name": "python",
   "nbconvert_exporter": "python",
   "pygments_lexer": "ipython3",
   "version": "3.10.6"
  }
 },
 "nbformat": 4,
 "nbformat_minor": 5
}
