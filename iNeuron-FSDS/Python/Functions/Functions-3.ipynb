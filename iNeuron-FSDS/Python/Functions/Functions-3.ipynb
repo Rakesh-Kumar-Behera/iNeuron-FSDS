{
 "cells": [
  {
   "cell_type": "markdown",
   "id": "10fb6d2f-faa0-437c-b6c5-b1adbec9ca74",
   "metadata": {},
   "source": [
    "### Decorator"
   ]
  },
  {
   "cell_type": "code",
   "execution_count": 12,
   "id": "dc7e99be-4e07-41ff-b1b9-d8b9abba48ca",
   "metadata": {},
   "outputs": [],
   "source": [
    "def func1(func):\n",
    "    def innerfunc():\n",
    "        print(\"I am inside inner function \")\n",
    "        func()\n",
    "        print(\"function executed \")\n",
    "    return innerfunc()"
   ]
  },
  {
   "cell_type": "code",
   "execution_count": 13,
   "id": "df0a95e6-d7db-4f75-9aa9-3bd7ee57ad19",
   "metadata": {},
   "outputs": [],
   "source": [
    "def func3():\n",
    "    print (\"Hello\")"
   ]
  },
  {
   "cell_type": "code",
   "execution_count": 14,
   "id": "fef5d590-62c8-414e-83dd-f4b404db323a",
   "metadata": {},
   "outputs": [
    {
     "name": "stdout",
     "output_type": "stream",
     "text": [
      "Hello\n"
     ]
    }
   ],
   "source": [
    "func3()"
   ]
  },
  {
   "cell_type": "code",
   "execution_count": 15,
   "id": "09a97b70-de3e-4111-ba11-d95f6ed27f24",
   "metadata": {},
   "outputs": [
    {
     "name": "stdout",
     "output_type": "stream",
     "text": [
      "I am inside inner function \n",
      "Hello\n",
      "function executed \n"
     ]
    }
   ],
   "source": [
    "func1(func3)"
   ]
  },
  {
   "cell_type": "code",
   "execution_count": 18,
   "id": "4169bcf5-88e8-4591-8266-0181fad37821",
   "metadata": {},
   "outputs": [
    {
     "name": "stdout",
     "output_type": "stream",
     "text": [
      "I am inside inner function \n",
      "Hello\n",
      "function executed \n"
     ]
    }
   ],
   "source": [
    "func1(func3)"
   ]
  },
  {
   "cell_type": "code",
   "execution_count": 19,
   "id": "582a5f7a-0e4a-4d42-82b6-1d8cf6eafe7d",
   "metadata": {},
   "outputs": [],
   "source": [
    "def func1(func):\n",
    "    def innerfunc():\n",
    "        print(\"I am inside inner function \")\n",
    "        func()\n",
    "        print(\"function executed \")\n",
    "    return innerfunc"
   ]
  },
  {
   "cell_type": "code",
   "execution_count": 20,
   "id": "a9646c58-ebd8-4d45-ad9c-f7fd308e384c",
   "metadata": {},
   "outputs": [],
   "source": [
    "@func1\n",
    "def func3():\n",
    "    return 5+6"
   ]
  },
  {
   "cell_type": "code",
   "execution_count": 21,
   "id": "3fa46dc1-6289-4eee-bb08-739f6f1bf515",
   "metadata": {},
   "outputs": [
    {
     "name": "stdout",
     "output_type": "stream",
     "text": [
      "I am inside inner function \n",
      "function executed \n"
     ]
    }
   ],
   "source": [
    "func3() # it does not return the return value 5+6 = 11"
   ]
  },
  {
   "cell_type": "code",
   "execution_count": 25,
   "id": "17610e4b-b0fc-4228-9f5a-fea02fa7d1a5",
   "metadata": {},
   "outputs": [],
   "source": [
    "def func1(func):\n",
    "    def innerfunc():\n",
    "        print(\"I am inside inner function \")\n",
    "        print(func()) #using print function we can print the return value\n",
    "        print(\"function executed \")\n",
    "    return innerfunc"
   ]
  },
  {
   "cell_type": "code",
   "execution_count": 26,
   "id": "ed848ab2-e593-4eb6-9fe3-42d7bc1a0d5c",
   "metadata": {},
   "outputs": [],
   "source": [
    "@func1\n",
    "def func3():\n",
    "    return 15+26"
   ]
  },
  {
   "cell_type": "code",
   "execution_count": 27,
   "id": "17a5a408-9fd1-4b60-95e1-ba987b814874",
   "metadata": {},
   "outputs": [
    {
     "name": "stdout",
     "output_type": "stream",
     "text": [
      "I am inside inner function \n",
      "41\n",
      "function executed \n"
     ]
    }
   ],
   "source": [
    "func3()"
   ]
  },
  {
   "cell_type": "code",
   "execution_count": 28,
   "id": "3c192aab-7464-41b2-b9ab-5f5d1dba7e74",
   "metadata": {},
   "outputs": [
    {
     "name": "stdout",
     "output_type": "stream",
     "text": [
      "I am inside inner function \n",
      "41\n",
      "function executed \n"
     ]
    }
   ],
   "source": [
    "a = func3() # we will not be able to stoare the value in a variable\n",
    "a"
   ]
  },
  {
   "cell_type": "code",
   "execution_count": 29,
   "id": "9355b578-e3d1-4a98-9bf7-2973dd78b611",
   "metadata": {},
   "outputs": [
    {
     "name": "stdout",
     "output_type": "stream",
     "text": [
      "None\n"
     ]
    }
   ],
   "source": [
    "print(a)"
   ]
  },
  {
   "cell_type": "code",
   "execution_count": 34,
   "id": "49dbc80a-70f9-4ae9-b9df-a8c9cb232de2",
   "metadata": {},
   "outputs": [],
   "source": [
    "def func1(func):\n",
    "    def innerfunc():\n",
    "        print(\"I am inside inner function \")\n",
    "        print(func()) #using print function we can print the return value\n",
    "        print(\"function executed \")\n",
    "        return func() #if we add the return statemet then we can store the return value in a variable\n",
    "    return innerfunc"
   ]
  },
  {
   "cell_type": "code",
   "execution_count": 35,
   "id": "678253ca-50a4-4e20-8247-58cd2ef48573",
   "metadata": {},
   "outputs": [],
   "source": [
    "@func1\n",
    "def func3():\n",
    "    return 155+286"
   ]
  },
  {
   "cell_type": "code",
   "execution_count": 36,
   "id": "5efb3864-d0bb-47f7-936f-d875e004ad19",
   "metadata": {},
   "outputs": [
    {
     "name": "stdout",
     "output_type": "stream",
     "text": [
      "I am inside inner function \n",
      "441\n",
      "function executed \n"
     ]
    },
    {
     "data": {
      "text/plain": [
       "441"
      ]
     },
     "execution_count": 36,
     "metadata": {},
     "output_type": "execute_result"
    }
   ],
   "source": [
    "r = func3()\n",
    "r"
   ]
  },
  {
   "cell_type": "code",
   "execution_count": 37,
   "id": "b2728bab-44e0-4f72-afab-cd2c45774f05",
   "metadata": {},
   "outputs": [
    {
     "name": "stdout",
     "output_type": "stream",
     "text": [
      "441\n"
     ]
    }
   ],
   "source": [
    "print(r)"
   ]
  },
  {
   "cell_type": "code",
   "execution_count": 38,
   "id": "7ba3d68b-578a-46ba-bec6-64811f63a0fd",
   "metadata": {},
   "outputs": [
    {
     "name": "stdout",
     "output_type": "stream",
     "text": [
      "I am inside inner function \n",
      "441\n",
      "function executed \n"
     ]
    },
    {
     "data": {
      "text/plain": [
       "786"
      ]
     },
     "execution_count": 38,
     "metadata": {},
     "output_type": "execute_result"
    }
   ],
   "source": [
    "345 + func3()"
   ]
  },
  {
   "cell_type": "code",
   "execution_count": 44,
   "id": "36db6ff7-dd01-4064-a906-5a10f1112587",
   "metadata": {},
   "outputs": [],
   "source": [
    "# with Parameters\n",
    "def func4(func):\n",
    "    def innerfunc(a,b):\n",
    "        print(\"I am inside inner function \")\n",
    "        func(a,b)\n",
    "        print(\"function executed \")\n",
    "        return func(a,b)\n",
    "    return innerfunc"
   ]
  },
  {
   "cell_type": "code",
   "execution_count": 45,
   "id": "2185586a-ca9c-4734-836c-2bee0b851c47",
   "metadata": {},
   "outputs": [],
   "source": [
    "@func4\n",
    "def func5(a,b):\n",
    "    return a+b"
   ]
  },
  {
   "cell_type": "code",
   "execution_count": 47,
   "id": "02363481-09da-4b3a-b1f1-8dcebbf8e89c",
   "metadata": {},
   "outputs": [
    {
     "name": "stdout",
     "output_type": "stream",
     "text": [
      "I am inside inner function \n",
      "function executed \n"
     ]
    },
    {
     "data": {
      "text/plain": [
       "11"
      ]
     },
     "execution_count": 47,
     "metadata": {},
     "output_type": "execute_result"
    }
   ],
   "source": [
    "func5(8,3)"
   ]
  },
  {
   "cell_type": "code",
   "execution_count": 48,
   "id": "4d7df10d-b10e-44f2-8436-bf09a862fe1a",
   "metadata": {},
   "outputs": [
    {
     "name": "stdout",
     "output_type": "stream",
     "text": [
      "I am inside inner function \n",
      "function executed \n"
     ]
    },
    {
     "data": {
      "text/plain": [
       "'rakeshbehera'"
      ]
     },
     "execution_count": 48,
     "metadata": {},
     "output_type": "execute_result"
    }
   ],
   "source": [
    "func5('rakesh' , 'behera')"
   ]
  },
  {
   "cell_type": "code",
   "execution_count": 53,
   "id": "293ef3b4-fec9-4f59-8b2a-283da8d6c836",
   "metadata": {},
   "outputs": [],
   "source": [
    "@func4\n",
    "def func6(a,b,c):\n",
    "    return a+b+c"
   ]
  },
  {
   "cell_type": "code",
   "execution_count": 54,
   "id": "6d4ec481-3757-4444-b3ee-a32b24b6e17e",
   "metadata": {},
   "outputs": [
    {
     "ename": "TypeError",
     "evalue": "func4.<locals>.innerfunc() missing 2 required positional arguments: 'a' and 'b'",
     "output_type": "error",
     "traceback": [
      "\u001b[0;31m---------------------------------------------------------------------------\u001b[0m",
      "\u001b[0;31mTypeError\u001b[0m                                 Traceback (most recent call last)",
      "Cell \u001b[0;32mIn [54], line 1\u001b[0m\n\u001b[0;32m----> 1\u001b[0m \u001b[43mfunc6\u001b[49m\u001b[43m(\u001b[49m\u001b[43m)\u001b[49m\n",
      "\u001b[0;31mTypeError\u001b[0m: func4.<locals>.innerfunc() missing 2 required positional arguments: 'a' and 'b'"
     ]
    }
   ],
   "source": [
    "func6()"
   ]
  },
  {
   "cell_type": "code",
   "execution_count": 55,
   "id": "4d8f234f-cd66-4ecd-8ebc-dd2942d561a0",
   "metadata": {},
   "outputs": [],
   "source": [
    "def func7(func):\n",
    "    def func8(*args):\n",
    "        print(func(*args))\n",
    "        print(\"This is My Decorator Function\")\n",
    "        return func(*args)\n",
    "    return func8"
   ]
  },
  {
   "cell_type": "code",
   "execution_count": 56,
   "id": "98f22cd2-61eb-4cb0-9739-46b8b4f416a2",
   "metadata": {},
   "outputs": [],
   "source": [
    "@func7\n",
    "def func9(a,b,c):\n",
    "    return a+b+c"
   ]
  },
  {
   "cell_type": "code",
   "execution_count": 58,
   "id": "b9c69358-b9e3-4936-b26b-d9425608a535",
   "metadata": {},
   "outputs": [
    {
     "name": "stdout",
     "output_type": "stream",
     "text": [
      "abcpqrxyz\n",
      "This is My Decorator Function\n"
     ]
    },
    {
     "data": {
      "text/plain": [
       "'abcpqrxyz'"
      ]
     },
     "execution_count": 58,
     "metadata": {},
     "output_type": "execute_result"
    }
   ],
   "source": [
    "func9('abc', 'pqr' , 'xyz')"
   ]
  },
  {
   "cell_type": "code",
   "execution_count": 64,
   "id": "6bd55b27-5e69-4367-bfe9-4cf0eb50b82c",
   "metadata": {},
   "outputs": [],
   "source": [
    "#if you want to pass the arguments as key-value pair, then u can define the parametrs of the decorator function as **kwargs\n",
    "def func10(func):\n",
    "    def func11(**kwargs):\n",
    "        print(func(**kwargs))\n",
    "        print(\"This is My Decorator Function\")\n",
    "        return func(**kwargs)\n",
    "    return func10\n",
    "# but using only **kwargs will throw an error, so we should use both *args and **kwargs"
   ]
  },
  {
   "cell_type": "code",
   "execution_count": 65,
   "id": "70743efc-e2f4-449d-8852-d97951d8d33c",
   "metadata": {},
   "outputs": [],
   "source": [
    "@func10\n",
    "def func12(a,b,c):\n",
    "    return a+b+c"
   ]
  },
  {
   "cell_type": "code",
   "execution_count": 66,
   "id": "bca646e5-4386-4b80-88ec-6df182ad5a0c",
   "metadata": {},
   "outputs": [
    {
     "ename": "TypeError",
     "evalue": "func10() got an unexpected keyword argument 'a'",
     "output_type": "error",
     "traceback": [
      "\u001b[0;31m---------------------------------------------------------------------------\u001b[0m",
      "\u001b[0;31mTypeError\u001b[0m                                 Traceback (most recent call last)",
      "Cell \u001b[0;32mIn [66], line 1\u001b[0m\n\u001b[0;32m----> 1\u001b[0m \u001b[43mfunc12\u001b[49m\u001b[43m(\u001b[49m\u001b[43ma\u001b[49m\u001b[43m \u001b[49m\u001b[38;5;241;43m=\u001b[39;49m\u001b[43m \u001b[49m\u001b[38;5;241;43m12\u001b[39;49m\u001b[43m,\u001b[49m\u001b[43m \u001b[49m\u001b[43mc\u001b[49m\u001b[43m \u001b[49m\u001b[38;5;241;43m=\u001b[39;49m\u001b[43m \u001b[49m\u001b[38;5;241;43m25\u001b[39;49m\u001b[43m \u001b[49m\u001b[43m,\u001b[49m\u001b[43m \u001b[49m\u001b[43mb\u001b[49m\u001b[43m \u001b[49m\u001b[38;5;241;43m=\u001b[39;49m\u001b[43m \u001b[49m\u001b[38;5;241;43m67\u001b[39;49m\u001b[43m)\u001b[49m\n",
      "\u001b[0;31mTypeError\u001b[0m: func10() got an unexpected keyword argument 'a'"
     ]
    }
   ],
   "source": [
    "func12(a = 12, c = 25 , b = 67)\n",
    "# it will throw an error if we use only **kwargs, so it is recommended to use both *args and **kwargs"
   ]
  },
  {
   "cell_type": "code",
   "execution_count": 87,
   "id": "024e4e1c-34cf-4a74-97c6-52defe01c0ca",
   "metadata": {},
   "outputs": [],
   "source": [
    "#using both *args and **kwargs will be able to take all kind of data\n",
    "# it can take both key-value pair data as well as flat data\n",
    "def func10(func):\n",
    "    def func11(*args,**kwargs):\n",
    "        func(*args,**kwargs)\n",
    "        print(func(*args,**kwargs))\n",
    "        print(\"This is My Decorator Function\")\n",
    "        return func(*args,**kwargs)\n",
    "    return func11"
   ]
  },
  {
   "cell_type": "code",
   "execution_count": 88,
   "id": "ca6cf486-2011-4af4-a89a-dc45119b1386",
   "metadata": {},
   "outputs": [],
   "source": [
    "@func10\n",
    "def func12(**kwargs):\n",
    "    return kwargs"
   ]
  },
  {
   "cell_type": "code",
   "execution_count": 91,
   "id": "b020dd3c-b6f5-4264-a967-bd20330f317f",
   "metadata": {},
   "outputs": [
    {
     "name": "stdout",
     "output_type": "stream",
     "text": [
      "{'a': 12, 'b': 13, 'c': 17}\n",
      "This is My Decorator Function\n"
     ]
    },
    {
     "data": {
      "text/plain": [
       "{'a': 12, 'b': 13, 'c': 17}"
      ]
     },
     "execution_count": 91,
     "metadata": {},
     "output_type": "execute_result"
    }
   ],
   "source": [
    "func12(a = 12, b = 13 , c = 17)"
   ]
  },
  {
   "cell_type": "code",
   "execution_count": 78,
   "id": "daf4c9d8-ff26-4bea-a2fc-25c961558af5",
   "metadata": {},
   "outputs": [],
   "source": [
    "def test6(func) :\n",
    "    def test7(*args,**kwargs):\n",
    "        func(*args,**kwargs)\n",
    "        print(func(*args,**kwargs))\n",
    "        print(\"this is my decorator functinon\") \n",
    "        return func(*args,**kwargs)\n",
    "    return test7"
   ]
  },
  {
   "cell_type": "code",
   "execution_count": 79,
   "id": "7953f581-357b-4b2f-9c12-87c94acb89c5",
   "metadata": {},
   "outputs": [],
   "source": [
    "@test6\n",
    "def test8(a,b):\n",
    "    return a+b"
   ]
  },
  {
   "cell_type": "code",
   "execution_count": 80,
   "id": "4e36098e-66ec-49f0-8f63-6c7ebc05db71",
   "metadata": {},
   "outputs": [
    {
     "name": "stdout",
     "output_type": "stream",
     "text": [
      "sudhkumar\n",
      "this is my decorator functinon\n"
     ]
    },
    {
     "data": {
      "text/plain": [
       "'sudhkumar'"
      ]
     },
     "execution_count": 80,
     "metadata": {},
     "output_type": "execute_result"
    }
   ],
   "source": [
    "test8(\"sudh\" , \"kumar\")"
   ]
  },
  {
   "cell_type": "code",
   "execution_count": 81,
   "id": "615138c2-7510-4f3b-8957-cac28ab2d1d6",
   "metadata": {},
   "outputs": [],
   "source": [
    "@test6\n",
    "def test9(**kwargs):\n",
    "    return kwargs"
   ]
  },
  {
   "cell_type": "code",
   "execution_count": 82,
   "id": "288823ab-ff9d-4412-8daf-8a633c47d107",
   "metadata": {},
   "outputs": [
    {
     "name": "stdout",
     "output_type": "stream",
     "text": [
      "{'a': 89, 'b': 67}\n",
      "this is my decorator functinon\n"
     ]
    },
    {
     "data": {
      "text/plain": [
       "{'a': 89, 'b': 67}"
      ]
     },
     "execution_count": 82,
     "metadata": {},
     "output_type": "execute_result"
    }
   ],
   "source": [
    "test9(a= 89 , b = 67)"
   ]
  },
  {
   "cell_type": "code",
   "execution_count": null,
   "id": "82fced8c-97ac-4856-9373-410bfc8737f1",
   "metadata": {},
   "outputs": [],
   "source": []
  },
  {
   "cell_type": "code",
   "execution_count": null,
   "id": "603863fd-3057-43b4-9c6f-ec7ed1f7381e",
   "metadata": {},
   "outputs": [],
   "source": []
  },
  {
   "cell_type": "markdown",
   "id": "a68bc1c2-0ef3-4d10-9e5a-6d967913a858",
   "metadata": {},
   "source": [
    "### Lambda Expression"
   ]
  },
  {
   "cell_type": "markdown",
   "id": "fe3a02ad-4ee9-42a8-9bea-1d2170d2e6bb",
   "metadata": {},
   "source": [
    "> A lambda function is a small anonymous function.\n",
    "\n",
    "> A lambda function can take any number of arguments, but can only have one expression.\n",
    "\n",
    "> SYNTAX - lambda arguments : expression"
   ]
  },
  {
   "cell_type": "code",
   "execution_count": 1,
   "id": "6c8f3723-57a8-443d-8d72-f7f8fcfad266",
   "metadata": {},
   "outputs": [],
   "source": [
    "x = lambda a: a + 24"
   ]
  },
  {
   "cell_type": "code",
   "execution_count": 2,
   "id": "6f771abf-e801-42e7-b97f-66b68c4c5e4e",
   "metadata": {},
   "outputs": [
    {
     "data": {
      "text/plain": [
       "53"
      ]
     },
     "execution_count": 2,
     "metadata": {},
     "output_type": "execute_result"
    }
   ],
   "source": [
    "x(29)"
   ]
  },
  {
   "cell_type": "code",
   "execution_count": 3,
   "id": "03e73c76-2afd-4a58-8d06-e1e00e37d14a",
   "metadata": {},
   "outputs": [
    {
     "data": {
      "text/plain": [
       "100"
      ]
     },
     "execution_count": 3,
     "metadata": {},
     "output_type": "execute_result"
    }
   ],
   "source": [
    "y = lambda a, b : a + b\n",
    "y(16,84)"
   ]
  },
  {
   "cell_type": "code",
   "execution_count": 11,
   "id": "f87879c0-3fd2-47bc-a0bb-6dbb8d0928c0",
   "metadata": {},
   "outputs": [
    {
     "data": {
      "text/plain": [
       "12.833333333333334"
      ]
     },
     "execution_count": 11,
     "metadata": {},
     "output_type": "execute_result"
    }
   ],
   "source": [
    "d = lambda a,b,c,d : a*b+c/d\n",
    "d(3,4,5,6)"
   ]
  },
  {
   "cell_type": "code",
   "execution_count": 12,
   "id": "03d012be-22e2-4e44-af67-169ed0b25eaa",
   "metadata": {},
   "outputs": [
    {
     "data": {
      "text/plain": [
       "()"
      ]
     },
     "execution_count": 12,
     "metadata": {},
     "output_type": "execute_result"
    }
   ],
   "source": [
    "e = lambda *args: args\n",
    "e()"
   ]
  },
  {
   "cell_type": "code",
   "execution_count": 13,
   "id": "fddc7994-9c1b-41f3-8b37-d9a4aaa1ead3",
   "metadata": {},
   "outputs": [
    {
     "data": {
      "text/plain": [
       "(3, 5, 7)"
      ]
     },
     "execution_count": 13,
     "metadata": {},
     "output_type": "execute_result"
    }
   ],
   "source": [
    "e(3,5,7)"
   ]
  },
  {
   "cell_type": "markdown",
   "id": "2aa352bf-0038-4ba2-b8cd-989f18fdf581",
   "metadata": {},
   "source": [
    "#### Why Use Lambda Functions?\n",
    "- The power of lambda is better shown when you use them as an anonymous function inside another function.\n",
    "\n",
    "Example - Say you have a function definition that takes one argument, and that argument will be multiplied with an unknown number:"
   ]
  },
  {
   "cell_type": "code",
   "execution_count": 4,
   "id": "9b9a291b-a209-4dc5-bcd8-167b59564e21",
   "metadata": {},
   "outputs": [],
   "source": [
    "def product(n):\n",
    "    return lambda a : a*n"
   ]
  },
  {
   "cell_type": "code",
   "execution_count": 5,
   "id": "61e3b53c-2371-42ac-b896-30c2ecf982da",
   "metadata": {},
   "outputs": [
    {
     "data": {
      "text/plain": [
       "39"
      ]
     },
     "execution_count": 5,
     "metadata": {},
     "output_type": "execute_result"
    }
   ],
   "source": [
    "result = product(3)\n",
    "result(13)"
   ]
  },
  {
   "cell_type": "code",
   "execution_count": 7,
   "id": "1ce838c2-9e93-4d25-acce-a82a717af698",
   "metadata": {},
   "outputs": [
    {
     "name": "stdout",
     "output_type": "stream",
     "text": [
      "76\n",
      "114\n"
     ]
    }
   ],
   "source": [
    "two_times = product(2)\n",
    "three_times = product(3)\n",
    "print(two_times(38))\n",
    "print(three_times(38))"
   ]
  },
  {
   "cell_type": "markdown",
   "id": "b21855ac-5a9b-4070-af15-98d551b0e55f",
   "metadata": {},
   "source": [
    "### Map , Reduce, Filter"
   ]
  },
  {
   "cell_type": "markdown",
   "id": "addab28d-5ba6-4d2a-b50b-37d355e19bea",
   "metadata": {},
   "source": [
    "##### 1. Map()\n",
    "\n",
    "Init signature: map(self, /, *args, **kwargs)\n",
    "Docstring:     \n",
    "map(func, *iterables) --> map object\n",
    "\n",
    "Make an iterator that computes the function using arguments from\n",
    "each of the iterables.  Stops when the shortest iterable is exhausted."
   ]
  },
  {
   "cell_type": "code",
   "execution_count": 14,
   "id": "dab5c3a0-23d6-48c7-bc18-2009c0af5cbd",
   "metadata": {},
   "outputs": [
    {
     "data": {
      "text/plain": [
       "[1, 2, 3, 4, 5, 6, 7]"
      ]
     },
     "execution_count": 14,
     "metadata": {},
     "output_type": "execute_result"
    }
   ],
   "source": [
    "l = [1,2,3,4,5,6,7]\n",
    "l"
   ]
  },
  {
   "cell_type": "code",
   "execution_count": 17,
   "id": "82171a30-cffd-4c30-ae0a-426ddd23ae2c",
   "metadata": {},
   "outputs": [
    {
     "data": {
      "text/plain": [
       "[11, 12, 13, 14, 15, 16, 17]"
      ]
     },
     "execution_count": 17,
     "metadata": {},
     "output_type": "execute_result"
    }
   ],
   "source": [
    "# add 10 to all the elements of the list using lambda\n",
    "la = lambda a: a + 10\n",
    "new_list = []\n",
    "for i in l:\n",
    "    new_list.append(la(i))\n",
    "new_list"
   ]
  },
  {
   "cell_type": "code",
   "execution_count": 19,
   "id": "eb5e9f60-4412-4909-a1a7-d8d062268fbd",
   "metadata": {},
   "outputs": [],
   "source": [
    "def test1(a):\n",
    "    return a+10"
   ]
  },
  {
   "cell_type": "code",
   "execution_count": 20,
   "id": "8cfba2f9-2144-4a71-88b9-fe67cfe9ef68",
   "metadata": {},
   "outputs": [
    {
     "data": {
      "text/plain": [
       "<map at 0x7f1fe1caf670>"
      ]
     },
     "execution_count": 20,
     "metadata": {},
     "output_type": "execute_result"
    }
   ],
   "source": [
    "map(test1,l)"
   ]
  },
  {
   "cell_type": "code",
   "execution_count": 22,
   "id": "50c2a2a4-f7fb-463c-97b2-035cbfe8e706",
   "metadata": {},
   "outputs": [
    {
     "data": {
      "text/plain": [
       "[11, 12, 13, 14, 15, 16, 17]"
      ]
     },
     "execution_count": 22,
     "metadata": {},
     "output_type": "execute_result"
    }
   ],
   "source": [
    "m = list(map(test1,l))\n",
    "m"
   ]
  },
  {
   "cell_type": "code",
   "execution_count": 24,
   "id": "215a835d-6333-45f3-883f-d3facf21d25e",
   "metadata": {},
   "outputs": [
    {
     "data": {
      "text/plain": [
       "[11, 12, 13, 14, 15, 16, 17]"
      ]
     },
     "execution_count": 24,
     "metadata": {},
     "output_type": "execute_result"
    }
   ],
   "source": [
    "m1 = list(map(la,l)) # passing lambda exp as parameter instead to function\n",
    "m1"
   ]
  },
  {
   "cell_type": "code",
   "execution_count": 25,
   "id": "1cd26d36-7c98-49f0-9a0f-3a2ec569494b",
   "metadata": {},
   "outputs": [
    {
     "data": {
      "text/plain": [
       "[1, 4, 9, 16, 25, 36, 49]"
      ]
     },
     "execution_count": 25,
     "metadata": {},
     "output_type": "execute_result"
    }
   ],
   "source": [
    "# square of all the elements\n",
    "list(map(lambda a: a*a, l))"
   ]
  },
  {
   "cell_type": "code",
   "execution_count": 26,
   "id": "06974687-dbc2-42d2-86fe-014ceb988dcb",
   "metadata": {},
   "outputs": [
    {
     "data": {
      "text/plain": [
       "['rakesh', 'kumar', 'behera']"
      ]
     },
     "execution_count": 26,
     "metadata": {},
     "output_type": "execute_result"
    }
   ],
   "source": [
    "# convert all strings to uppercase\n",
    "l2 = ['rakesh' , 'kumar' ,'behera']\n",
    "l2"
   ]
  },
  {
   "cell_type": "code",
   "execution_count": 28,
   "id": "92c31101-85f2-43cc-be01-a24f72aaf1c0",
   "metadata": {},
   "outputs": [
    {
     "data": {
      "text/plain": [
       "['RAKESH', 'KUMAR', 'BEHERA']"
      ]
     },
     "execution_count": 28,
     "metadata": {},
     "output_type": "execute_result"
    }
   ],
   "source": [
    "list(map(lambda s : s.upper() , l2))"
   ]
  },
  {
   "cell_type": "code",
   "execution_count": 29,
   "id": "5102eaf0-26ed-4497-a21c-8de24575c89a",
   "metadata": {},
   "outputs": [
    {
     "data": {
      "text/plain": [
       "['rakesh', 'kumar', 'behera']"
      ]
     },
     "execution_count": 29,
     "metadata": {},
     "output_type": "execute_result"
    }
   ],
   "source": [
    "list(map(str.lower, l2))"
   ]
  },
  {
   "cell_type": "code",
   "execution_count": 31,
   "id": "df9b456a-29cc-4a1a-9b45-26cc7b1ae644",
   "metadata": {},
   "outputs": [
    {
     "ename": "NameError",
     "evalue": "name 'upper_string' is not defined",
     "output_type": "error",
     "traceback": [
      "\u001b[0;31m---------------------------------------------------------------------------\u001b[0m",
      "\u001b[0;31mNameError\u001b[0m                                 Traceback (most recent call last)",
      "Cell \u001b[0;32mIn [31], line 1\u001b[0m\n\u001b[0;32m----> 1\u001b[0m \u001b[38;5;28mlist\u001b[39m(\u001b[38;5;28mmap\u001b[39m(\u001b[43mupper_string\u001b[49m, l2))\n",
      "\u001b[0;31mNameError\u001b[0m: name 'upper_string' is not defined"
     ]
    }
   ],
   "source": [
    "list(map(upper_string, l2))"
   ]
  },
  {
   "cell_type": "code",
   "execution_count": 33,
   "id": "c8d3ad90-4101-4c2f-befc-8050f3cee902",
   "metadata": {},
   "outputs": [
    {
     "data": {
      "text/plain": [
       "[6, 5, 6]"
      ]
     },
     "execution_count": 33,
     "metadata": {},
     "output_type": "execute_result"
    }
   ],
   "source": [
    "# length of strings\n",
    "list(map(len,l2)) #  using inbuilt len() function"
   ]
  },
  {
   "cell_type": "markdown",
   "id": "01df941e-0afc-432c-9b1a-476de6d28634",
   "metadata": {},
   "source": [
    "#### Filter()\n",
    "\n",
    "Init signature: filter(self, /, *args, **kwargs)\n",
    "Docstring:     \n",
    "filter(function or None, iterable) --> filter object\n",
    "\n",
    "Return an iterator yielding those items of iterable for which function(item)\n",
    "is true. If function is None, return the items that are true."
   ]
  },
  {
   "cell_type": "code",
   "execution_count": 35,
   "id": "9293234f-487a-4e4a-bc04-d77d51782988",
   "metadata": {},
   "outputs": [
    {
     "data": {
      "text/plain": [
       "[1, 2, 3, 4, 5, 6, 7, 8, 9]"
      ]
     },
     "execution_count": 35,
     "metadata": {},
     "output_type": "execute_result"
    }
   ],
   "source": [
    "l =  [1,2,3,4,5,6,7,8,9]\n",
    "l"
   ]
  },
  {
   "cell_type": "code",
   "execution_count": 36,
   "id": "b4b961f8-81ee-4e90-8b79-fa596f28825a",
   "metadata": {},
   "outputs": [
    {
     "data": {
      "text/plain": [
       "[2, 4, 6, 8]"
      ]
     },
     "execution_count": 36,
     "metadata": {},
     "output_type": "execute_result"
    }
   ],
   "source": [
    "#filter all the even numbers\n",
    "list(filter(lambda a : a % 2 == 0 , l))"
   ]
  },
  {
   "cell_type": "code",
   "execution_count": 37,
   "id": "ff9a1511-58bf-4998-b5bc-9df205f73905",
   "metadata": {},
   "outputs": [],
   "source": [
    "#list comprehension\n",
    "l2 = [x for x in l if x % 2 == 0 ]"
   ]
  },
  {
   "cell_type": "code",
   "execution_count": 38,
   "id": "86e3c96b-d414-404f-b53f-f683ccc43c3e",
   "metadata": {},
   "outputs": [
    {
     "data": {
      "text/plain": [
       "[2, 4, 6, 8]"
      ]
     },
     "execution_count": 38,
     "metadata": {},
     "output_type": "execute_result"
    }
   ],
   "source": [
    "l2"
   ]
  },
  {
   "cell_type": "code",
   "execution_count": 41,
   "id": "0633efc2-549d-470f-8736-b1cddf083cd6",
   "metadata": {},
   "outputs": [],
   "source": [
    "# filter function works on True or False(Boolean) Value\n",
    "def check_even(a):\n",
    "    if a % 2 == 0:\n",
    "        return True\n",
    "    else:\n",
    "        return False"
   ]
  },
  {
   "cell_type": "code",
   "execution_count": 42,
   "id": "21dbfc29-eb17-4463-aab9-6e19e5c84fa2",
   "metadata": {},
   "outputs": [
    {
     "data": {
      "text/plain": [
       "[2, 4, 6, 8]"
      ]
     },
     "execution_count": 42,
     "metadata": {},
     "output_type": "execute_result"
    }
   ],
   "source": [
    "list(filter(check_even,l))"
   ]
  },
  {
   "cell_type": "markdown",
   "id": "3df54bd6-0022-4d74-becb-7086f49dc95f",
   "metadata": {},
   "source": [
    "### reduce()\n",
    "\n",
    "> reduce() is availabe inside `functools` package.\n",
    "\n",
    "reduce(function, iterable[, initial]) -> value\n",
    "\n",
    "Apply a function of two arguments cumulatively to the items of a sequence\n",
    "or iterable, from left to right, so as to reduce the iterable to a single\n",
    "value.  For example, reduce(lambda x, y: x+y, [1, 2, 3, 4, 5]) calculates\n",
    "((((1+2)+3)+4)+5).  If initial is present, it is placed before the items\n",
    "of the iterable in the calculation, and serves as a default when the\n",
    "iterable is empty."
   ]
  },
  {
   "cell_type": "code",
   "execution_count": 43,
   "id": "374c5582-206d-460b-ab6d-1f0f2fc2c85f",
   "metadata": {},
   "outputs": [
    {
     "data": {
      "text/plain": [
       "45"
      ]
     },
     "execution_count": 43,
     "metadata": {},
     "output_type": "execute_result"
    }
   ],
   "source": [
    "sum(l)"
   ]
  },
  {
   "cell_type": "code",
   "execution_count": 44,
   "id": "08deabf4-3ea5-4ebe-83de-9efcadee667e",
   "metadata": {},
   "outputs": [],
   "source": [
    "from functools import reduce"
   ]
  },
  {
   "cell_type": "code",
   "execution_count": 46,
   "id": "578c4d08-8f9a-4fef-9ece-30ee3bafc3f5",
   "metadata": {},
   "outputs": [
    {
     "data": {
      "text/plain": [
       "362880"
      ]
     },
     "execution_count": 46,
     "metadata": {},
     "output_type": "execute_result"
    }
   ],
   "source": [
    "reduce(lambda a,b: a * b , l) # reduce always takes two arguments"
   ]
  },
  {
   "cell_type": "code",
   "execution_count": 48,
   "id": "30f4e318-e3b3-4fb9-b7ce-6e0d79c96309",
   "metadata": {},
   "outputs": [
    {
     "data": {
      "text/plain": [
       "3"
      ]
     },
     "execution_count": 48,
     "metadata": {},
     "output_type": "execute_result"
    }
   ],
   "source": [
    "li = [3]\n",
    "reduce(lambda a,b: a * b, li)\n",
    "# it is only exception in reduce, here it works with only one argument"
   ]
  },
  {
   "cell_type": "markdown",
   "id": "6175bccc-0721-41d5-868d-2b4e5d2e5f8d",
   "metadata": {},
   "source": [
    "##### DOC string to give a hint to other Programmers"
   ]
  },
  {
   "cell_type": "code",
   "execution_count": 49,
   "id": "30bd351f-6f70-4285-bf21-fcd5fba1341f",
   "metadata": {},
   "outputs": [],
   "source": [
    "def dummyFunc():\n",
    "    \"\"\"This is just a dumy Function to demonstrate how to write a Doc String , which will give other Programmers a hint regarding the Function or Methods, It must be written inside the Function otherwise it is used for Multi-line Comments outside the function \"\"\"\n",
    "    return \"This is a Dummy Function about DOC String\""
   ]
  },
  {
   "cell_type": "code",
   "execution_count": 51,
   "id": "1d1c3f71-dc0c-438e-8f26-a072e63816ab",
   "metadata": {},
   "outputs": [
    {
     "data": {
      "text/plain": [
       "'This is a Dummy Function about DOC String'"
      ]
     },
     "execution_count": 51,
     "metadata": {},
     "output_type": "execute_result"
    }
   ],
   "source": [
    "dummyFunc() # press shift+tab to view the dic string"
   ]
  },
  {
   "cell_type": "code",
   "execution_count": 2,
   "id": "51a289e2-ebfc-406c-a8cb-eabb065c3cf3",
   "metadata": {},
   "outputs": [],
   "source": [
    "def func2(a,b) -> int: # int here is not the return type , it acts as hint for what type of input/data u are supposed to pass\n",
    "    \"\"\"Using the '->' after the function name while defining a function we can define that what type of of input this function takes, so while call the function we can provide the arguments of that datatype\"\"\"\n",
    "    return a+b"
   ]
  },
  {
   "cell_type": "code",
   "execution_count": 3,
   "id": "3c41604c-e8c2-47f4-a08e-6d24b763407a",
   "metadata": {},
   "outputs": [
    {
     "data": {
      "text/plain": [
       "122"
      ]
     },
     "execution_count": 3,
     "metadata": {},
     "output_type": "execute_result"
    }
   ],
   "source": [
    "func2(35,87)"
   ]
  },
  {
   "cell_type": "code",
   "execution_count": 4,
   "id": "32fa653c-b67d-42c7-9f1e-d2274d7008a0",
   "metadata": {},
   "outputs": [],
   "source": [
    "def func3(a : int , b): # int here is the indication for the next user, that it should get an int valuse, but it also can receive a string\n",
    "    return a+b "
   ]
  },
  {
   "cell_type": "code",
   "execution_count": 5,
   "id": "a6ec4b7f-db4c-4ee2-8add-4201e5da63bc",
   "metadata": {},
   "outputs": [
    {
     "data": {
      "text/plain": [
       "'rakabehera'"
      ]
     },
     "execution_count": 5,
     "metadata": {},
     "output_type": "execute_result"
    }
   ],
   "source": [
    "func3('raka','behera')"
   ]
  },
  {
   "cell_type": "code",
   "execution_count": 6,
   "id": "efddec89-9ab7-49b8-b8a7-636b3b324cc6",
   "metadata": {},
   "outputs": [],
   "source": [
    "def test26(a : int ,b : \"func\", c:int  = 234) -> int:\n",
    "    '''this is my doc string to give a hint to next programer '''\n",
    "    return a +b +str(c)"
   ]
  },
  {
   "cell_type": "code",
   "execution_count": 7,
   "id": "22a1a49d-a739-4e10-8086-e1f821aeb0a3",
   "metadata": {},
   "outputs": [
    {
     "data": {
      "text/plain": [
       "'sudhkumar345'"
      ]
     },
     "execution_count": 7,
     "metadata": {},
     "output_type": "execute_result"
    }
   ],
   "source": [
    "test26(\"sudh\"  , \"kumar\" , 345)"
   ]
  },
  {
   "cell_type": "code",
   "execution_count": null,
   "id": "92801016-3484-48f2-83aa-2a7f3c434fbb",
   "metadata": {},
   "outputs": [],
   "source": []
  }
 ],
 "metadata": {
  "kernelspec": {
   "display_name": "Python 3 (ipykernel)",
   "language": "python",
   "name": "python3"
  },
  "language_info": {
   "codemirror_mode": {
    "name": "ipython",
    "version": 3
   },
   "file_extension": ".py",
   "mimetype": "text/x-python",
   "name": "python",
   "nbconvert_exporter": "python",
   "pygments_lexer": "ipython3",
   "version": "3.10.6"
  }
 },
 "nbformat": 4,
 "nbformat_minor": 5
}
