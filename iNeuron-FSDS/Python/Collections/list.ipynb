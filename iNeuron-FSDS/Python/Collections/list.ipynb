{
 "cells": [
  {
   "cell_type": "code",
   "execution_count": 1,
   "id": "b18d9799-3b0a-4175-b405-6a09856f4b73",
   "metadata": {},
   "outputs": [
    {
     "ename": "NameError",
     "evalue": "name 'python' is not defined",
     "output_type": "error",
     "traceback": [
      "\u001b[0;31m---------------------------------------------------------------------------\u001b[0m",
      "\u001b[0;31mNameError\u001b[0m                                 Traceback (most recent call last)",
      "Cell \u001b[0;32mIn [1], line 1\u001b[0m\n\u001b[0;32m----> 1\u001b[0m \u001b[43mpython\u001b[49m \u001b[38;5;241m-\u001b[39m\u001b[38;5;241m-\u001b[39mversion\n",
      "\u001b[0;31mNameError\u001b[0m: name 'python' is not defined"
     ]
    }
   ],
   "source": [
    "python --version"
   ]
  },
  {
   "cell_type": "code",
   "execution_count": 2,
   "id": "3ebe00b1-3f89-4580-be1a-c7cf7e1ad542",
   "metadata": {},
   "outputs": [],
   "source": [
    "import sys"
   ]
  },
  {
   "cell_type": "code",
   "execution_count": 3,
   "id": "4ce2ab7d-b25d-45fd-b98a-946adfb0226d",
   "metadata": {},
   "outputs": [],
   "source": [
    "list1 = [1,3,56,78, 34.8, 654]"
   ]
  },
  {
   "cell_type": "code",
   "execution_count": 4,
   "id": "170fe6c6-4751-4b6a-b688-b251b385953e",
   "metadata": {},
   "outputs": [
    {
     "data": {
      "text/plain": [
       "[1, 3, 56, 78, 34.8, 654]"
      ]
     },
     "execution_count": 4,
     "metadata": {},
     "output_type": "execute_result"
    }
   ],
   "source": [
    "list1"
   ]
  },
  {
   "cell_type": "code",
   "execution_count": 5,
   "id": "49b71d77-61d6-4c22-8258-36d4d1cf5b49",
   "metadata": {},
   "outputs": [
    {
     "data": {
      "text/plain": [
       "[1, 3, 56, 78, 34.8, 654]"
      ]
     },
     "execution_count": 5,
     "metadata": {},
     "output_type": "execute_result"
    }
   ],
   "source": [
    "list1[:]"
   ]
  },
  {
   "cell_type": "code",
   "execution_count": 6,
   "id": "e11bc52c-c588-4338-bda2-730b5c29ccd8",
   "metadata": {},
   "outputs": [
    {
     "data": {
      "text/plain": [
       "list[slice(None, None, -1)]"
      ]
     },
     "execution_count": 6,
     "metadata": {},
     "output_type": "execute_result"
    }
   ],
   "source": [
    "list[::-1]"
   ]
  },
  {
   "cell_type": "code",
   "execution_count": 7,
   "id": "2678bcee-905a-4532-8172-2876d3cbd8af",
   "metadata": {},
   "outputs": [
    {
     "data": {
      "text/plain": [
       "[654, 34.8, 78, 56, 3, 1]"
      ]
     },
     "execution_count": 7,
     "metadata": {},
     "output_type": "execute_result"
    }
   ],
   "source": [
    "list1[::-1]"
   ]
  },
  {
   "cell_type": "code",
   "execution_count": 8,
   "id": "c99a9025-7a90-4668-9daa-a0fa1b2b5369",
   "metadata": {},
   "outputs": [
    {
     "data": {
      "text/plain": [
       "<list_reverseiterator at 0x7f53945403a0>"
      ]
     },
     "execution_count": 8,
     "metadata": {},
     "output_type": "execute_result"
    }
   ],
   "source": [
    "reversed(list1)"
   ]
  },
  {
   "cell_type": "code",
   "execution_count": 9,
   "id": "5b0e2c34-95eb-444a-9934-592cdb3306d2",
   "metadata": {},
   "outputs": [
    {
     "name": "stdout",
     "output_type": "stream",
     "text": [
      "1\n",
      "3\n",
      "56\n",
      "78\n",
      "34.8\n",
      "654\n"
     ]
    }
   ],
   "source": [
    "for i in list1:\n",
    "    print(i)"
   ]
  },
  {
   "cell_type": "code",
   "execution_count": 10,
   "id": "445e6937-8e3e-482c-b59a-3bf2c76c9de2",
   "metadata": {},
   "outputs": [
    {
     "name": "stdout",
     "output_type": "stream",
     "text": [
      "0 --> 1\n",
      "1 --> 3\n",
      "2 --> 56\n",
      "3 --> 78\n",
      "4 --> 34.8\n",
      "5 --> 654\n"
     ]
    }
   ],
   "source": [
    "for i,j in enumerate(list1):\n",
    "    print(f\"{i} --> {j}\")"
   ]
  },
  {
   "cell_type": "code",
   "execution_count": 11,
   "id": "540a008f-ffc1-489a-80d8-94e4b1e2a66a",
   "metadata": {},
   "outputs": [
    {
     "name": "stdout",
     "output_type": "stream",
     "text": [
      "654\n",
      "34.8\n",
      "78\n",
      "56\n",
      "3\n",
      "1\n"
     ]
    }
   ],
   "source": [
    "for i in reversed(list1):\n",
    "    print(i)"
   ]
  },
  {
   "cell_type": "markdown",
   "id": "fcafe696-81f6-47e1-939c-ebdc3416ee12",
   "metadata": {},
   "source": [
    "> Printing elements from specifice indexes of the list\n",
    "> for example if we want to print 1,3,4,7 index elements then we can print in the following way"
   ]
  },
  {
   "cell_type": "code",
   "execution_count": 13,
   "id": "d2b917fe-62e9-497d-8773-aead63a914e2",
   "metadata": {},
   "outputs": [
    {
     "name": "stdout",
     "output_type": "stream",
     "text": [
      "3\n",
      "78\n",
      "34.8\n",
      "two\n"
     ]
    }
   ],
   "source": [
    "list1 = list1 + ['one' , 'two' , 'three']\n",
    "for i in [1,3,4,7]:\n",
    "    print(list1[i])"
   ]
  },
  {
   "cell_type": "code",
   "execution_count": 14,
   "id": "5d9cc184-3e6c-49c6-bd4c-3e4f24623d77",
   "metadata": {},
   "outputs": [
    {
     "data": {
      "text/plain": [
       "['a', 'b', 'z', 8, 9, 5]"
      ]
     },
     "execution_count": 14,
     "metadata": {},
     "output_type": "execute_result"
    }
   ],
   "source": [
    "list2 = ['a' , 'b' , 'z' , 8 , 9 ,5 ]\n",
    "list2"
   ]
  },
  {
   "cell_type": "code",
   "execution_count": 17,
   "id": "54235892-1932-444e-9ec0-3c3fd9a6d3c4",
   "metadata": {},
   "outputs": [
    {
     "data": {
      "text/plain": [
       "[]"
      ]
     },
     "execution_count": 17,
     "metadata": {},
     "output_type": "execute_result"
    }
   ],
   "source": [
    "list2 * (-1) # will return an empty list"
   ]
  },
  {
   "cell_type": "code",
   "execution_count": 16,
   "id": "e41608cf-21ef-4280-a3bf-eca4a539b9d2",
   "metadata": {},
   "outputs": [
    {
     "data": {
      "text/plain": [
       "['a', 'b', 'z', 8, 9, 5]"
      ]
     },
     "execution_count": 16,
     "metadata": {},
     "output_type": "execute_result"
    }
   ],
   "source": [
    "list2"
   ]
  },
  {
   "cell_type": "code",
   "execution_count": 19,
   "id": "91d04ad3-5a44-41f8-8f07-93d99642cd8b",
   "metadata": {},
   "outputs": [
    {
     "data": {
      "text/plain": [
       "0"
      ]
     },
     "execution_count": 19,
     "metadata": {},
     "output_type": "execute_result"
    }
   ],
   "source": [
    "# Creating an empty list - Not Recommended but it works\n",
    "my_list = []\n",
    "\n",
    "len(my_list)"
   ]
  },
  {
   "cell_type": "code",
   "execution_count": 20,
   "id": "eec237c3-1f10-453a-b9b7-5928569aa0ae",
   "metadata": {},
   "outputs": [
    {
     "data": {
      "text/plain": [
       "0"
      ]
     },
     "execution_count": 20,
     "metadata": {},
     "output_type": "execute_result"
    }
   ],
   "source": [
    "# recommended \n",
    "myList = list()\n",
    "\n",
    "len(myList)"
   ]
  },
  {
   "cell_type": "code",
   "execution_count": 21,
   "id": "f3a35bb2-8b80-4692-a48b-df6c525dec25",
   "metadata": {},
   "outputs": [
    {
     "data": {
      "text/plain": [
       "[]"
      ]
     },
     "execution_count": 21,
     "metadata": {},
     "output_type": "execute_result"
    }
   ],
   "source": [
    "myList + [1, 'one', 2 , 'two' , 3 , 'three']\n",
    "myList"
   ]
  },
  {
   "cell_type": "code",
   "execution_count": 22,
   "id": "f7373684-e3ca-43af-9310-f7fd3a0f4da4",
   "metadata": {},
   "outputs": [],
   "source": [
    "myList = myList + [1, 'one', 2 , 'two' , 3 , 'three']"
   ]
  },
  {
   "cell_type": "code",
   "execution_count": 23,
   "id": "8fbfb44e-18e0-4de2-a832-83b12340d9e9",
   "metadata": {},
   "outputs": [
    {
     "data": {
      "text/plain": [
       "[1, 'one', 2, 'two', 3, 'three']"
      ]
     },
     "execution_count": 23,
     "metadata": {},
     "output_type": "execute_result"
    }
   ],
   "source": [
    "myList"
   ]
  },
  {
   "cell_type": "code",
   "execution_count": 24,
   "id": "95f11584-6ea1-493b-a859-3b92e77629e5",
   "metadata": {},
   "outputs": [
    {
     "ename": "TypeError",
     "evalue": "can only concatenate list (not \"str\") to list",
     "output_type": "error",
     "traceback": [
      "\u001b[0;31m---------------------------------------------------------------------------\u001b[0m",
      "\u001b[0;31mTypeError\u001b[0m                                 Traceback (most recent call last)",
      "Cell \u001b[0;32mIn [24], line 1\u001b[0m\n\u001b[0;32m----> 1\u001b[0m myList \u001b[38;5;241m=\u001b[39m \u001b[43mmyList\u001b[49m\u001b[43m \u001b[49m\u001b[38;5;241;43m+\u001b[39;49m\u001b[43m \u001b[49m\u001b[38;5;124;43m\"\u001b[39;49m\u001b[38;5;124;43mstringsss\u001b[39;49m\u001b[38;5;124;43m\"\u001b[39;49m\n\u001b[1;32m      2\u001b[0m myList\n",
      "\u001b[0;31mTypeError\u001b[0m: can only concatenate list (not \"str\") to list"
     ]
    }
   ],
   "source": [
    "myList = myList + \"stringsss\"\n",
    "myList"
   ]
  },
  {
   "cell_type": "code",
   "execution_count": 25,
   "id": "098c49bf-ce09-4dae-b8fb-e2364255ad43",
   "metadata": {},
   "outputs": [
    {
     "ename": "TypeError",
     "evalue": "can only concatenate list (not \"tuple\") to list",
     "output_type": "error",
     "traceback": [
      "\u001b[0;31m---------------------------------------------------------------------------\u001b[0m",
      "\u001b[0;31mTypeError\u001b[0m                                 Traceback (most recent call last)",
      "Cell \u001b[0;32mIn [25], line 1\u001b[0m\n\u001b[0;32m----> 1\u001b[0m myList \u001b[38;5;241m=\u001b[39m \u001b[43mmyList\u001b[49m\u001b[43m \u001b[49m\u001b[38;5;241;43m+\u001b[39;49m\u001b[43m \u001b[49m\u001b[43m(\u001b[49m\u001b[38;5;124;43m\"\u001b[39;49m\u001b[38;5;124;43mstringsss\u001b[39;49m\u001b[38;5;124;43m\"\u001b[39;49m\u001b[43m,\u001b[49m\u001b[43m \u001b[49m\u001b[38;5;124;43m\"\u001b[39;49m\u001b[38;5;124;43mfour\u001b[39;49m\u001b[38;5;124;43m\"\u001b[39;49m\u001b[43m)\u001b[49m\n\u001b[1;32m      2\u001b[0m myList\n",
      "\u001b[0;31mTypeError\u001b[0m: can only concatenate list (not \"tuple\") to list"
     ]
    }
   ],
   "source": [
    "myList = myList + (\"stringsss\", \"four\")\n",
    "myList"
   ]
  },
  {
   "cell_type": "code",
   "execution_count": 1,
   "id": "25c65fc7-752c-43b5-be80-87adfe3d4e61",
   "metadata": {},
   "outputs": [
    {
     "name": "stdout",
     "output_type": "stream",
     "text": [
      "999\n"
     ]
    }
   ],
   "source": [
    "list_3 = [78 , 89, 999,349, 6, 12]\n",
    "print(max(list_3))"
   ]
  },
  {
   "cell_type": "code",
   "execution_count": 3,
   "id": "a9893fd3-8c76-4240-8a72-0b6eea8fbec4",
   "metadata": {},
   "outputs": [
    {
     "name": "stdout",
     "output_type": "stream",
     "text": [
      "v\n"
     ]
    }
   ],
   "source": [
    "list_string = ['a' , 'v' , 'abx' , 'm' , 'sf']\n",
    "print(max(list_string))"
   ]
  },
  {
   "cell_type": "code",
   "execution_count": 6,
   "id": "ecf9fd81-060e-4d19-bdf8-d6ec211a9a06",
   "metadata": {},
   "outputs": [
    {
     "ename": "TypeError",
     "evalue": "'>' not supported between instances of 'int' and 'str'",
     "output_type": "error",
     "traceback": [
      "\u001b[0;31m---------------------------------------------------------------------------\u001b[0m",
      "\u001b[0;31mTypeError\u001b[0m                                 Traceback (most recent call last)",
      "Cell \u001b[0;32mIn [6], line 2\u001b[0m\n\u001b[1;32m      1\u001b[0m list_string2 \u001b[38;5;241m=\u001b[39m [\u001b[38;5;124m'\u001b[39m\u001b[38;5;124ma\u001b[39m\u001b[38;5;124m'\u001b[39m , \u001b[38;5;124m'\u001b[39m\u001b[38;5;124mv\u001b[39m\u001b[38;5;124m'\u001b[39m , \u001b[38;5;124m'\u001b[39m\u001b[38;5;124mabx\u001b[39m\u001b[38;5;124m'\u001b[39m , \u001b[38;5;124m'\u001b[39m\u001b[38;5;124mm\u001b[39m\u001b[38;5;124m'\u001b[39m , \u001b[38;5;124m'\u001b[39m\u001b[38;5;124msf\u001b[39m\u001b[38;5;124m'\u001b[39m , \u001b[38;5;241m6\u001b[39m , \u001b[38;5;241m8\u001b[39m ,\u001b[38;5;241m12\u001b[39m]\n\u001b[0;32m----> 2\u001b[0m \u001b[38;5;28mprint\u001b[39m(\u001b[38;5;28;43mmax\u001b[39;49m\u001b[43m(\u001b[49m\u001b[43mlist_string2\u001b[49m\u001b[43m)\u001b[49m)\n",
      "\u001b[0;31mTypeError\u001b[0m: '>' not supported between instances of 'int' and 'str'"
     ]
    }
   ],
   "source": [
    "list_string2 = ['a' , 'v' , 'abx' , 'm' , 'sf' , 6 , 8 ,12]\n",
    "print(max(list_string2)) #max value could not be found if the list contains elements of different datatypes"
   ]
  },
  {
   "cell_type": "code",
   "execution_count": 7,
   "id": "ae2d0688-156e-4eae-a706-3ca7a9611e77",
   "metadata": {},
   "outputs": [
    {
     "ename": "TypeError",
     "evalue": "'>' not supported between instances of 'complex' and 'int'",
     "output_type": "error",
     "traceback": [
      "\u001b[0;31m---------------------------------------------------------------------------\u001b[0m",
      "\u001b[0;31mTypeError\u001b[0m                                 Traceback (most recent call last)",
      "Cell \u001b[0;32mIn [7], line 2\u001b[0m\n\u001b[1;32m      1\u001b[0m list_num \u001b[38;5;241m=\u001b[39m [\u001b[38;5;241m123\u001b[39m , \u001b[38;5;241m46\u001b[39m, \u001b[38;5;241m87.65\u001b[39m , \u001b[38;5;241m8\u001b[39m\u001b[38;5;241m+\u001b[39m\u001b[38;5;241m34\u001b[39mj , \u001b[38;5;241m543.78\u001b[39m]\n\u001b[0;32m----> 2\u001b[0m \u001b[38;5;28mprint\u001b[39m(\u001b[38;5;28;43mmax\u001b[39;49m\u001b[43m(\u001b[49m\u001b[43mlist_num\u001b[49m\u001b[43m)\u001b[49m)\n",
      "\u001b[0;31mTypeError\u001b[0m: '>' not supported between instances of 'complex' and 'int'"
     ]
    }
   ],
   "source": [
    "list_num = [123 , 46, 87.65 , 8+34j , 543.78]\n",
    "print(max(list_num)) # list can contain int and float but if it contains complex numbers, max() value can not be determined, it will throw an error"
   ]
  },
  {
   "cell_type": "code",
   "execution_count": null,
   "id": "f30149aa-b40f-4596-8ee7-bce491f6e42f",
   "metadata": {},
   "outputs": [],
   "source": []
  }
 ],
 "metadata": {
  "kernelspec": {
   "display_name": "Python 3 (ipykernel)",
   "language": "python",
   "name": "python3"
  },
  "language_info": {
   "codemirror_mode": {
    "name": "ipython",
    "version": 3
   },
   "file_extension": ".py",
   "mimetype": "text/x-python",
   "name": "python",
   "nbconvert_exporter": "python",
   "pygments_lexer": "ipython3",
   "version": "3.10.6"
  }
 },
 "nbformat": 4,
 "nbformat_minor": 5
}
