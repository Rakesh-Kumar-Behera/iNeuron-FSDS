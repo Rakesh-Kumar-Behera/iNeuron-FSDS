{
 "cells": [
  {
   "cell_type": "markdown",
   "id": "c38b26ad-f4b0-4c6e-9c61-6ca249f69ebe",
   "metadata": {},
   "source": [
    "### Itarators"
   ]
  },
  {
   "cell_type": "markdown",
   "id": "d4d5cd06-7425-4f9f-aa2e-05356f8e7a39",
   "metadata": {},
   "source": [
    " ### What are Iterables?\n",
    " - Iterables are objects that can be iterated in iterations."
   ]
  },
  {
   "cell_type": "markdown",
   "id": "5838767b-0801-47cd-885d-c6ea334a4e03",
   "metadata": {},
   "source": [
    "To understand what exactly iterables means, you have to understand the following points:\n",
    "\n",
    "- Iterable is an object which can be looped over or iterated over with the help of a for loop.\n",
    "- Objects like `lists, tuples, sets, dictionaries, strings, etc`. are called iterables. In short and simpler terms, iterable is anything that you can loop over.\n",
    "- In simpler words, iterable is a container that has data or values and we perform an iteration over it to get elements one by one. (Can traverse through all the given values one by one)\n",
    "- Iterable has an in-built dunder method `__iter__`."
   ]
  },
  {
   "cell_type": "markdown",
   "id": "6018b34b-1cce-462a-854c-61646dfc926d",
   "metadata": {},
   "source": [
    "- Calling `iter()` function on an iterable gives us an iterator.\n",
    "- Calling the `next()` function on iterator gives us the next element.\n",
    "- If the iterator is exhausted(if it has no more elements), calling `next()` raises the `StopIteration` exception."
   ]
  },
  {
   "cell_type": "markdown",
   "id": "5220000e-f8f9-458c-b9d0-642ae641ea75",
   "metadata": {},
   "source": [
    "### What are Python Iterators ?"
   ]
  },
  {
   "cell_type": "markdown",
   "id": "114b328a-0f8c-4b8b-9ead-514cf473f39c",
   "metadata": {},
   "source": [
    "- An Iterator is an object representing a stream of data that produces a data value at a time using the `__next__()` method."
   ]
  },
  {
   "cell_type": "markdown",
   "id": "883103a4-b3ee-4a19-9b78-67d8bd4d429e",
   "metadata": {},
   "source": [
    "- In Python, an iterator is an object which implements the iterator protocol, which means it consists of the methods such as ` __iter__()` and `__next__()`.\n",
    "- An iterator is an iterable object with a state so it remembers where it is during iteration. For Example, Generator\n",
    "- These iterators give or return the data one element at a time.\n",
    "- It performs the iteration to access the elements of the iterable one by one. As it maintains the internal state of elements, the iterator knows how to get the next value.\n",
    "\n",
    "\n",
    "> Which in-built methods does iterator have? </br>\n",
    " Iterator supports in-built dunder methods such as  `__iter__` and `__next__`"
   ]
  },
  {
   "cell_type": "code",
   "execution_count": 1,
   "id": "30efc5fa-b7a7-4503-a94c-d9936fc9963b",
   "metadata": {},
   "outputs": [
    {
     "name": "stdout",
     "output_type": "stream",
     "text": [
      "<class 'list_iterator'>\n",
      "1\n",
      "2\n",
      "3\n",
      "4\n",
      "5\n"
     ]
    },
    {
     "ename": "StopIteration",
     "evalue": "",
     "output_type": "error",
     "traceback": [
      "\u001b[0;31m---------------------------------------------------------------------------\u001b[0m",
      "\u001b[0;31mStopIteration\u001b[0m                             Traceback (most recent call last)",
      "Cell \u001b[0;32mIn [1], line 9\u001b[0m\n\u001b[1;32m      7\u001b[0m \u001b[38;5;28mprint\u001b[39m(\u001b[38;5;28mnext\u001b[39m(number_iterator))\n\u001b[1;32m      8\u001b[0m \u001b[38;5;66;03m# Once the iterator is exhausted, next() function raise StopIteration.\u001b[39;00m\n\u001b[0;32m----> 9\u001b[0m \u001b[38;5;28mprint\u001b[39m(\u001b[38;5;28;43mnext\u001b[39;49m\u001b[43m(\u001b[49m\u001b[43mnumber_iterator\u001b[49m\u001b[43m)\u001b[49m)\n",
      "\u001b[0;31mStopIteration\u001b[0m: "
     ]
    }
   ],
   "source": [
    "number_iterator = iter([1, 2, 3, 4, 5])\n",
    "print(type(number_iterator))\n",
    "print(next(number_iterator))\n",
    "print(next(number_iterator))\n",
    "print(next(number_iterator))\n",
    "print(next(number_iterator))\n",
    "print(next(number_iterator))\n",
    "# Once the iterator is exhausted, next() function raise StopIteration.\n",
    "print(next(number_iterator))"
   ]
  },
  {
   "cell_type": "markdown",
   "id": "2542e9d0-3f16-4685-8633-17e4a1de6b82",
   "metadata": {},
   "source": [
    "#### Difference between Iterables and Iterators\n",
    "- Now, in this section we will discuss the difference between Iterables and Iterators:\n",
    "\n",
    "##### Iterables\n",
    "- Can be iterated using for loop.\n",
    "- Iterables support iter() function.\n",
    "- Iterables are not Iterators.\n",
    "##### Iterators\n",
    "- Can be iterated using for loop.\n",
    "- Iterators suppports iter() and next() function.\n",
    "- Iterators are also Iterables."
   ]
  },
  {
   "cell_type": "code",
   "execution_count": 1,
   "id": "b28cc78b-15dc-4288-868f-e7496594acff",
   "metadata": {},
   "outputs": [],
   "source": [
    "mystr = \"iNeuron\""
   ]
  },
  {
   "cell_type": "code",
   "execution_count": 7,
   "id": "e5bb4120-391c-42a8-ba0b-05f04206f990",
   "metadata": {},
   "outputs": [
    {
     "data": {
      "text/plain": [
       "['__add__',\n",
       " '__class__',\n",
       " '__contains__',\n",
       " '__delattr__',\n",
       " '__dir__',\n",
       " '__doc__',\n",
       " '__eq__',\n",
       " '__format__',\n",
       " '__ge__',\n",
       " '__getattribute__',\n",
       " '__getitem__',\n",
       " '__getnewargs__',\n",
       " '__gt__',\n",
       " '__hash__',\n",
       " '__init__',\n",
       " '__init_subclass__',\n",
       " '__iter__',\n",
       " '__le__',\n",
       " '__len__',\n",
       " '__lt__',\n",
       " '__mod__',\n",
       " '__mul__',\n",
       " '__ne__',\n",
       " '__new__',\n",
       " '__reduce__',\n",
       " '__reduce_ex__',\n",
       " '__repr__',\n",
       " '__rmod__',\n",
       " '__rmul__',\n",
       " '__setattr__',\n",
       " '__sizeof__',\n",
       " '__str__',\n",
       " '__subclasshook__',\n",
       " 'capitalize',\n",
       " 'casefold',\n",
       " 'center',\n",
       " 'count',\n",
       " 'encode',\n",
       " 'endswith',\n",
       " 'expandtabs',\n",
       " 'find',\n",
       " 'format',\n",
       " 'format_map',\n",
       " 'index',\n",
       " 'isalnum',\n",
       " 'isalpha',\n",
       " 'isascii',\n",
       " 'isdecimal',\n",
       " 'isdigit',\n",
       " 'isidentifier',\n",
       " 'islower',\n",
       " 'isnumeric',\n",
       " 'isprintable',\n",
       " 'isspace',\n",
       " 'istitle',\n",
       " 'isupper',\n",
       " 'join',\n",
       " 'ljust',\n",
       " 'lower',\n",
       " 'lstrip',\n",
       " 'maketrans',\n",
       " 'partition',\n",
       " 'removeprefix',\n",
       " 'removesuffix',\n",
       " 'replace',\n",
       " 'rfind',\n",
       " 'rindex',\n",
       " 'rjust',\n",
       " 'rpartition',\n",
       " 'rsplit',\n",
       " 'rstrip',\n",
       " 'split',\n",
       " 'splitlines',\n",
       " 'startswith',\n",
       " 'strip',\n",
       " 'swapcase',\n",
       " 'title',\n",
       " 'translate',\n",
       " 'upper',\n",
       " 'zfill']"
      ]
     },
     "execution_count": 7,
     "metadata": {},
     "output_type": "execute_result"
    }
   ],
   "source": [
    "dir(mystr)  #it has the '__iter__' method"
   ]
  },
  {
   "cell_type": "code",
   "execution_count": 8,
   "id": "d207ddaf-a42d-4860-aebd-1322e8bdddf4",
   "metadata": {},
   "outputs": [],
   "source": [
    "mytup = (1,2,3,4,5,6,7)"
   ]
  },
  {
   "cell_type": "code",
   "execution_count": 9,
   "id": "a7a650d2-85f9-4692-b045-003b64b6a0a0",
   "metadata": {},
   "outputs": [
    {
     "data": {
      "text/plain": [
       "['__add__',\n",
       " '__class__',\n",
       " '__class_getitem__',\n",
       " '__contains__',\n",
       " '__delattr__',\n",
       " '__dir__',\n",
       " '__doc__',\n",
       " '__eq__',\n",
       " '__format__',\n",
       " '__ge__',\n",
       " '__getattribute__',\n",
       " '__getitem__',\n",
       " '__getnewargs__',\n",
       " '__gt__',\n",
       " '__hash__',\n",
       " '__init__',\n",
       " '__init_subclass__',\n",
       " '__iter__',\n",
       " '__le__',\n",
       " '__len__',\n",
       " '__lt__',\n",
       " '__mul__',\n",
       " '__ne__',\n",
       " '__new__',\n",
       " '__reduce__',\n",
       " '__reduce_ex__',\n",
       " '__repr__',\n",
       " '__rmul__',\n",
       " '__setattr__',\n",
       " '__sizeof__',\n",
       " '__str__',\n",
       " '__subclasshook__',\n",
       " 'count',\n",
       " 'index']"
      ]
     },
     "execution_count": 9,
     "metadata": {},
     "output_type": "execute_result"
    }
   ],
   "source": [
    "dir(mytup)  #it also has '__iter__' method"
   ]
  },
  {
   "cell_type": "code",
   "execution_count": 10,
   "id": "1d957652-efee-40af-86e9-864b94dc9e64",
   "metadata": {},
   "outputs": [],
   "source": [
    "mylist = [2,4,6,7,3,9]"
   ]
  },
  {
   "cell_type": "code",
   "execution_count": 11,
   "id": "9fd86e8f-8fcf-4991-8643-d154b81d94fb",
   "metadata": {},
   "outputs": [
    {
     "data": {
      "text/plain": [
       "['__add__',\n",
       " '__class__',\n",
       " '__class_getitem__',\n",
       " '__contains__',\n",
       " '__delattr__',\n",
       " '__delitem__',\n",
       " '__dir__',\n",
       " '__doc__',\n",
       " '__eq__',\n",
       " '__format__',\n",
       " '__ge__',\n",
       " '__getattribute__',\n",
       " '__getitem__',\n",
       " '__gt__',\n",
       " '__hash__',\n",
       " '__iadd__',\n",
       " '__imul__',\n",
       " '__init__',\n",
       " '__init_subclass__',\n",
       " '__iter__',\n",
       " '__le__',\n",
       " '__len__',\n",
       " '__lt__',\n",
       " '__mul__',\n",
       " '__ne__',\n",
       " '__new__',\n",
       " '__reduce__',\n",
       " '__reduce_ex__',\n",
       " '__repr__',\n",
       " '__reversed__',\n",
       " '__rmul__',\n",
       " '__setattr__',\n",
       " '__setitem__',\n",
       " '__sizeof__',\n",
       " '__str__',\n",
       " '__subclasshook__',\n",
       " 'append',\n",
       " 'clear',\n",
       " 'copy',\n",
       " 'count',\n",
       " 'extend',\n",
       " 'index',\n",
       " 'insert',\n",
       " 'pop',\n",
       " 'remove',\n",
       " 'reverse',\n",
       " 'sort']"
      ]
     },
     "execution_count": 11,
     "metadata": {},
     "output_type": "execute_result"
    }
   ],
   "source": [
    "dir(mylist) #it also has '__iter__' method"
   ]
  },
  {
   "cell_type": "code",
   "execution_count": 12,
   "id": "68dfd229-5ea9-42f5-b139-a074a0b3e042",
   "metadata": {},
   "outputs": [],
   "source": [
    "data = [\"ineuron\" , \"code\" , \"india\"]"
   ]
  },
  {
   "cell_type": "code",
   "execution_count": 13,
   "id": "4d37d335-6dc7-44b8-971e-148c3722127c",
   "metadata": {},
   "outputs": [],
   "source": [
    "x = iter(data)"
   ]
  },
  {
   "cell_type": "code",
   "execution_count": 14,
   "id": "c4b59b6e-3788-445b-b462-8769c1def98e",
   "metadata": {},
   "outputs": [
    {
     "data": {
      "text/plain": [
       "list_iterator"
      ]
     },
     "execution_count": 14,
     "metadata": {},
     "output_type": "execute_result"
    }
   ],
   "source": [
    "type(x)"
   ]
  },
  {
   "cell_type": "code",
   "execution_count": 15,
   "id": "853cfe6d-511c-4b39-a738-cb6a22345514",
   "metadata": {},
   "outputs": [
    {
     "data": {
      "text/plain": [
       "'ineuron'"
      ]
     },
     "execution_count": 15,
     "metadata": {},
     "output_type": "execute_result"
    }
   ],
   "source": [
    "next(x)"
   ]
  },
  {
   "cell_type": "code",
   "execution_count": 16,
   "id": "841a5344-f2bc-4c32-ba9c-c4726a969bb6",
   "metadata": {},
   "outputs": [
    {
     "data": {
      "text/plain": [
       "'code'"
      ]
     },
     "execution_count": 16,
     "metadata": {},
     "output_type": "execute_result"
    }
   ],
   "source": [
    "next(x)"
   ]
  },
  {
   "cell_type": "code",
   "execution_count": 17,
   "id": "fb8ed9d8-f773-4b70-8056-76c1b3b19bd6",
   "metadata": {},
   "outputs": [
    {
     "data": {
      "text/plain": [
       "'india'"
      ]
     },
     "execution_count": 17,
     "metadata": {},
     "output_type": "execute_result"
    }
   ],
   "source": [
    "next(x)"
   ]
  },
  {
   "cell_type": "code",
   "execution_count": 18,
   "id": "bd4eef2f-9faa-4743-83a4-b92faf3f5ea9",
   "metadata": {},
   "outputs": [
    {
     "ename": "StopIteration",
     "evalue": "",
     "output_type": "error",
     "traceback": [
      "\u001b[0;31m---------------------------------------------------------------------------\u001b[0m",
      "\u001b[0;31mStopIteration\u001b[0m                             Traceback (most recent call last)",
      "Cell \u001b[0;32mIn [18], line 1\u001b[0m\n\u001b[0;32m----> 1\u001b[0m \u001b[38;5;28;43mnext\u001b[39;49m\u001b[43m(\u001b[49m\u001b[43mx\u001b[49m\u001b[43m)\u001b[49m\n",
      "\u001b[0;31mStopIteration\u001b[0m: "
     ]
    }
   ],
   "source": [
    "next(x)"
   ]
  },
  {
   "cell_type": "code",
   "execution_count": 19,
   "id": "a7ce99ca-9867-4e1c-a7bb-ba06464ec28d",
   "metadata": {},
   "outputs": [],
   "source": [
    "list1 = [12,2,3,45,56]"
   ]
  },
  {
   "cell_type": "code",
   "execution_count": 20,
   "id": "773fbaa9-e2e0-46c1-9149-2d9ac177aa9e",
   "metadata": {},
   "outputs": [
    {
     "ename": "TypeError",
     "evalue": "'list' object is not an iterator",
     "output_type": "error",
     "traceback": [
      "\u001b[0;31m---------------------------------------------------------------------------\u001b[0m",
      "\u001b[0;31mTypeError\u001b[0m                                 Traceback (most recent call last)",
      "Cell \u001b[0;32mIn [20], line 1\u001b[0m\n\u001b[0;32m----> 1\u001b[0m \u001b[38;5;28;43mnext\u001b[39;49m\u001b[43m(\u001b[49m\u001b[43mlist1\u001b[49m\u001b[43m)\u001b[49m\n",
      "\u001b[0;31mTypeError\u001b[0m: 'list' object is not an iterator"
     ]
    }
   ],
   "source": [
    "next(list1)"
   ]
  },
  {
   "cell_type": "code",
   "execution_count": 21,
   "id": "98a2882a-7487-44fc-ac56-08eb256632dd",
   "metadata": {},
   "outputs": [],
   "source": [
    "# to convert list to an iterator use iter()\n",
    "y = iter(list1)"
   ]
  },
  {
   "cell_type": "code",
   "execution_count": 22,
   "id": "107f2a7d-41c0-4fc3-b54f-79af1462ae25",
   "metadata": {},
   "outputs": [
    {
     "data": {
      "text/plain": [
       "12"
      ]
     },
     "execution_count": 22,
     "metadata": {},
     "output_type": "execute_result"
    }
   ],
   "source": [
    "next(y)"
   ]
  },
  {
   "cell_type": "code",
   "execution_count": 23,
   "id": "684049ca-2272-40c3-99e8-8e9561498833",
   "metadata": {},
   "outputs": [
    {
     "data": {
      "text/plain": [
       "2"
      ]
     },
     "execution_count": 23,
     "metadata": {},
     "output_type": "execute_result"
    }
   ],
   "source": [
    "next(y)"
   ]
  },
  {
   "cell_type": "code",
   "execution_count": 24,
   "id": "58b3f414-94cd-4e50-848c-6d90e3bcbf06",
   "metadata": {},
   "outputs": [],
   "source": [
    "st = \"iNeuron\""
   ]
  },
  {
   "cell_type": "code",
   "execution_count": 25,
   "id": "5f4b531e-7215-4ab7-b905-3c47e3d63fc1",
   "metadata": {},
   "outputs": [
    {
     "ename": "TypeError",
     "evalue": "'str' object is not an iterator",
     "output_type": "error",
     "traceback": [
      "\u001b[0;31m---------------------------------------------------------------------------\u001b[0m",
      "\u001b[0;31mTypeError\u001b[0m                                 Traceback (most recent call last)",
      "Cell \u001b[0;32mIn [25], line 1\u001b[0m\n\u001b[0;32m----> 1\u001b[0m \u001b[38;5;28;43mnext\u001b[39;49m\u001b[43m(\u001b[49m\u001b[43mst\u001b[49m\u001b[43m)\u001b[49m\n",
      "\u001b[0;31mTypeError\u001b[0m: 'str' object is not an iterator"
     ]
    }
   ],
   "source": [
    "next(st)"
   ]
  },
  {
   "cell_type": "code",
   "execution_count": 35,
   "id": "16060401-9e36-41eb-8046-0d2573415af4",
   "metadata": {},
   "outputs": [],
   "source": [
    "st_it = iter(st)"
   ]
  },
  {
   "cell_type": "code",
   "execution_count": 27,
   "id": "c62b7579-2cc0-43df-ac2f-578ebf648b05",
   "metadata": {},
   "outputs": [
    {
     "data": {
      "text/plain": [
       "'i'"
      ]
     },
     "execution_count": 27,
     "metadata": {},
     "output_type": "execute_result"
    }
   ],
   "source": [
    "next(st_it)"
   ]
  },
  {
   "cell_type": "code",
   "execution_count": 30,
   "id": "d09cd8e4-30f7-4288-b29f-e6bb6dd92e70",
   "metadata": {},
   "outputs": [
    {
     "data": {
      "text/plain": [
       "'u'"
      ]
     },
     "execution_count": 30,
     "metadata": {},
     "output_type": "execute_result"
    }
   ],
   "source": [
    "next(st_it)"
   ]
  },
  {
   "cell_type": "code",
   "execution_count": 36,
   "id": "0f503852-a8df-44ab-b889-0d93952e5204",
   "metadata": {},
   "outputs": [
    {
     "name": "stdout",
     "output_type": "stream",
     "text": [
      "i\n",
      "N\n",
      "e\n",
      "u\n",
      "r\n",
      "o\n",
      "n\n"
     ]
    }
   ],
   "source": [
    "#it will not show stopIteration error\n",
    "for s in st_it:\n",
    "    print(s)"
   ]
  },
  {
   "cell_type": "markdown",
   "id": "214f5927-a282-4bad-8008-519818de6089",
   "metadata": {},
   "source": [
    "> `iterable` are not `iterators` but\n",
    "> `iterators` are always `iterables`"
   ]
  },
  {
   "cell_type": "code",
   "execution_count": 38,
   "id": "d88641c9-b105-4a86-88e4-ace824dea666",
   "metadata": {},
   "outputs": [],
   "source": [
    "# calling iter() function on iterables gives an iterator\n",
    "# calling next() function on iterator gives next elements"
   ]
  },
  {
   "cell_type": "code",
   "execution_count": 39,
   "id": "2635b78a-9e8b-489b-a9ea-7e826877a380",
   "metadata": {},
   "outputs": [],
   "source": [
    "tupl1 = (12,34,56,79,37,51)"
   ]
  },
  {
   "cell_type": "code",
   "execution_count": 40,
   "id": "e51949bb-3fae-469f-9ace-20567d34a2f5",
   "metadata": {},
   "outputs": [
    {
     "ename": "TypeError",
     "evalue": "'tuple' object is not an iterator",
     "output_type": "error",
     "traceback": [
      "\u001b[0;31m---------------------------------------------------------------------------\u001b[0m",
      "\u001b[0;31mTypeError\u001b[0m                                 Traceback (most recent call last)",
      "Cell \u001b[0;32mIn [40], line 1\u001b[0m\n\u001b[0;32m----> 1\u001b[0m \u001b[38;5;28;43mnext\u001b[39;49m\u001b[43m(\u001b[49m\u001b[43mtupl1\u001b[49m\u001b[43m)\u001b[49m\n",
      "\u001b[0;31mTypeError\u001b[0m: 'tuple' object is not an iterator"
     ]
    }
   ],
   "source": [
    "next(tupl1)"
   ]
  },
  {
   "cell_type": "code",
   "execution_count": 47,
   "id": "65e1cccc-cf94-46ec-a60c-4d8d9fa0f782",
   "metadata": {},
   "outputs": [],
   "source": [
    "tupl = iter(tupl1)"
   ]
  },
  {
   "cell_type": "code",
   "execution_count": 42,
   "id": "fe990a6b-2187-43b3-8255-a485c0a6604d",
   "metadata": {},
   "outputs": [
    {
     "data": {
      "text/plain": [
       "tuple_iterator"
      ]
     },
     "execution_count": 42,
     "metadata": {},
     "output_type": "execute_result"
    }
   ],
   "source": [
    "type(tupl)"
   ]
  },
  {
   "cell_type": "code",
   "execution_count": 43,
   "id": "acedc326-1463-41c7-9c43-134ebf828ebc",
   "metadata": {},
   "outputs": [
    {
     "data": {
      "text/plain": [
       "12"
      ]
     },
     "execution_count": 43,
     "metadata": {},
     "output_type": "execute_result"
    }
   ],
   "source": [
    "next(tupl)"
   ]
  },
  {
   "cell_type": "code",
   "execution_count": 44,
   "id": "f46aaad4-752c-49a6-bc5e-8a931d53b89f",
   "metadata": {},
   "outputs": [
    {
     "data": {
      "text/plain": [
       "34"
      ]
     },
     "execution_count": 44,
     "metadata": {},
     "output_type": "execute_result"
    }
   ],
   "source": [
    "next(tupl)"
   ]
  },
  {
   "cell_type": "code",
   "execution_count": 48,
   "id": "3e3ef4c4-7685-4eac-9149-b46b0a9900ac",
   "metadata": {},
   "outputs": [
    {
     "name": "stdout",
     "output_type": "stream",
     "text": [
      "12\n",
      "34\n",
      "56\n",
      "79\n",
      "37\n",
      "51\n"
     ]
    }
   ],
   "source": [
    "for i in tupl:\n",
    "    print(i)"
   ]
  },
  {
   "cell_type": "markdown",
   "id": "e54f6e46-b356-4931-b076-b52709e9f81f",
   "metadata": {},
   "source": [
    "### Generators"
   ]
  },
  {
   "cell_type": "code",
   "execution_count": 49,
   "id": "ff892047-f286-4ece-89f9-8817f55a6547",
   "metadata": {},
   "outputs": [],
   "source": [
    "# Generators are the way of creating iterators"
   ]
  },
  {
   "cell_type": "markdown",
   "id": "d6959608-c981-4c9b-a9d2-c0b62bd6d33f",
   "metadata": {},
   "source": [
    "> Generators in Python are used to create iterators and return a traversal object. It helps in traversing all the items one at a time with the help of the keyword yield."
   ]
  },
  {
   "cell_type": "markdown",
   "id": "de1933f6-1c98-4574-bd21-f703b0b1aeac",
   "metadata": {},
   "source": [
    "In Python, similar to defining a normal function, we can define a generator function using the `def` keyword, but instead of the `return` statement we use the `yield` statement."
   ]
  },
  {
   "cell_type": "raw",
   "id": "1609fe3f-0c80-40fa-80a9-05009c1fbdc1",
   "metadata": {},
   "source": [
    "def generator_name(arg):\n",
    "    # statements\n",
    "    yield something\n",
    "    "
   ]
  },
  {
   "cell_type": "markdown",
   "id": "7b74b32c-e582-45fd-b632-571576124deb",
   "metadata": {},
   "source": [
    "##### What are Python Generators?\n",
    "- Python's generator functions are used to create iterators(which can be traversed like list, tuple) and return a traversal object. It helps to transverse all the items one at a time present in the iterator.\n",
    "\n",
    "- Generator functions are defined as the normal function, but to identify the difference between the normal function and generator function is that in the normal function, we use the return keyword to return the values, and in the generator function, instead of using the `return`, we use `yield` to execute our iterator."
   ]
  },
  {
   "cell_type": "code",
   "execution_count": 50,
   "id": "51fb5351-e8a2-41fd-995d-195af7edfb41",
   "metadata": {},
   "outputs": [
    {
     "name": "stdout",
     "output_type": "stream",
     "text": [
      "10\n",
      "20\n",
      "30\n"
     ]
    }
   ],
   "source": [
    "def gen_fun():\n",
    "    yield 10\n",
    "    yield 20\n",
    "    yield 30\n",
    "    \n",
    "for i in gen_fun():\n",
    "    print(i)\n"
   ]
  },
  {
   "cell_type": "raw",
   "id": "ebc7b428-ac90-4b75-85b6-df6930792d69",
   "metadata": {},
   "source": [
    "### Yield vs Return\n",
    "            Yield\t                               Return\n",
    "-------------------------------------------------------------------------\n",
    "|It is used in generator functions.  |\tIt is used in normal functions.|\n",
    "-------------------------------------------------------------------------\n",
    "|It is responsible for controlling   | Return statement returns the    |\n",
    "| the flow of the generator function.| value and terminates the        |\n",
    "|After returning the value from yield| function.                       |\n",
    "|it pauses the execution by saving   |                                 |\n",
    "| the states.\t                     |                                 |\n",
    "------------------------------------------------------------------------\n"
   ]
  },
  {
   "cell_type": "markdown",
   "id": "cf7790aa-853a-49e2-85d0-9c2e86db6e34",
   "metadata": {},
   "source": [
    "#### Difference Between Generator Function & Normal Function\n",
    "- In generator functions, there are one or more yield functions, whereas, in Normal functions, there is only one function\n",
    "- When the generator function is called, the normal function pauses its execution, and the call is transferred to the generator function.\n",
    "- Local variables and their states are remembered between successive calls.\n",
    "- When the generator function is terminated, StopIteration is called automatically on further calls."
   ]
  },
  {
   "cell_type": "code",
   "execution_count": 51,
   "id": "fd7a8156-a468-4022-84ea-b920b500a25d",
   "metadata": {},
   "outputs": [
    {
     "name": "stdout",
     "output_type": "stream",
     "text": [
      "0\n",
      "1\n",
      "2\n",
      "3\n",
      "4\n",
      "5\n",
      "6\n",
      "7\n",
      "8\n",
      "9\n"
     ]
    },
    {
     "ename": "StopIteration",
     "evalue": "",
     "output_type": "error",
     "traceback": [
      "\u001b[0;31m---------------------------------------------------------------------------\u001b[0m",
      "\u001b[0;31mStopIteration\u001b[0m                             Traceback (most recent call last)",
      "Cell \u001b[0;32mIn [51], line 16\u001b[0m\n\u001b[1;32m     14\u001b[0m \u001b[38;5;28mprint\u001b[39m(\u001b[38;5;28mnext\u001b[39m(range_))\n\u001b[1;32m     15\u001b[0m \u001b[38;5;28mprint\u001b[39m(\u001b[38;5;28mnext\u001b[39m(range_))\n\u001b[0;32m---> 16\u001b[0m \u001b[38;5;28mprint\u001b[39m(\u001b[38;5;28;43mnext\u001b[39;49m\u001b[43m(\u001b[49m\u001b[43mrange_\u001b[49m\u001b[43m)\u001b[49m)\n",
      "\u001b[0;31mStopIteration\u001b[0m: "
     ]
    }
   ],
   "source": [
    "def seq(x):\n",
    "    for i in range(x):\n",
    "        yield i\n",
    "      \n",
    "range_ = seq(10)\n",
    "print(next(range_))\n",
    "print(next(range_))\n",
    "print(next(range_))\n",
    "print(next(range_))\n",
    "print(next(range_))\n",
    "print(next(range_))\n",
    "print(next(range_))\n",
    "print(next(range_))\n",
    "print(next(range_))\n",
    "print(next(range_))\n",
    "print(next(range_)) \n"
   ]
  },
  {
   "cell_type": "code",
   "execution_count": 57,
   "id": "509477d3-ed94-4b24-9760-9987a930b55e",
   "metadata": {},
   "outputs": [],
   "source": [
    "def square(a):\n",
    "    for i in range(a):\n",
    "        return i**2"
   ]
  },
  {
   "cell_type": "code",
   "execution_count": 58,
   "id": "303c290a-46e2-4956-abce-59f7ee7d6779",
   "metadata": {},
   "outputs": [
    {
     "data": {
      "text/plain": [
       "0"
      ]
     },
     "execution_count": 58,
     "metadata": {},
     "output_type": "execute_result"
    }
   ],
   "source": [
    "square(3)"
   ]
  },
  {
   "cell_type": "code",
   "execution_count": 59,
   "id": "6e16bad0-a7c7-43df-a0da-2a4750edde57",
   "metadata": {},
   "outputs": [],
   "source": [
    "def square(a):\n",
    "    for i in range(a):\n",
    "        yield i**2"
   ]
  },
  {
   "cell_type": "code",
   "execution_count": 60,
   "id": "92c652c4-d0d3-44f5-8ea0-b2cbad56cf6b",
   "metadata": {},
   "outputs": [],
   "source": [
    "sq = square(3)"
   ]
  },
  {
   "cell_type": "code",
   "execution_count": 61,
   "id": "8b6d8609-e4d4-4300-89f8-e09086402873",
   "metadata": {},
   "outputs": [
    {
     "data": {
      "text/plain": [
       "generator"
      ]
     },
     "execution_count": 61,
     "metadata": {},
     "output_type": "execute_result"
    }
   ],
   "source": [
    "type(sq)"
   ]
  },
  {
   "cell_type": "code",
   "execution_count": 62,
   "id": "03f76a82-f5ff-4e59-8a9e-c0600a11c7aa",
   "metadata": {},
   "outputs": [
    {
     "data": {
      "text/plain": [
       "<generator object square at 0x7f54689b8740>"
      ]
     },
     "execution_count": 62,
     "metadata": {},
     "output_type": "execute_result"
    }
   ],
   "source": [
    "sq"
   ]
  },
  {
   "cell_type": "code",
   "execution_count": 63,
   "id": "7fd773a1-7123-4829-a77b-ebe6683fce7e",
   "metadata": {},
   "outputs": [
    {
     "name": "stdout",
     "output_type": "stream",
     "text": [
      "0\n",
      "1\n",
      "4\n"
     ]
    }
   ],
   "source": [
    "for i in sq:\n",
    "    print(i)"
   ]
  },
  {
   "cell_type": "code",
   "execution_count": 64,
   "id": "8eb515fb-e4ef-4fb8-b73b-797fb01f967d",
   "metadata": {},
   "outputs": [],
   "source": [
    "sq1 = square(4)"
   ]
  },
  {
   "cell_type": "code",
   "execution_count": 65,
   "id": "be099c54-5a72-43f9-bd58-ef8c9751f08b",
   "metadata": {},
   "outputs": [
    {
     "data": {
      "text/plain": [
       "0"
      ]
     },
     "execution_count": 65,
     "metadata": {},
     "output_type": "execute_result"
    }
   ],
   "source": [
    "next(sq1)"
   ]
  },
  {
   "cell_type": "code",
   "execution_count": 66,
   "id": "2e19cb41-2a99-4706-9b04-54c175dea8f0",
   "metadata": {},
   "outputs": [
    {
     "data": {
      "text/plain": [
       "1"
      ]
     },
     "execution_count": 66,
     "metadata": {},
     "output_type": "execute_result"
    }
   ],
   "source": [
    "next(sq1)"
   ]
  },
  {
   "cell_type": "code",
   "execution_count": 67,
   "id": "ebccec5a-09e2-4f3f-b659-5ac02c702a73",
   "metadata": {},
   "outputs": [
    {
     "data": {
      "text/plain": [
       "4"
      ]
     },
     "execution_count": 67,
     "metadata": {},
     "output_type": "execute_result"
    }
   ],
   "source": [
    "next(sq1)"
   ]
  },
  {
   "cell_type": "code",
   "execution_count": 68,
   "id": "1334e87e-47c5-4088-81f9-69e09bcb896c",
   "metadata": {},
   "outputs": [
    {
     "data": {
      "text/plain": [
       "9"
      ]
     },
     "execution_count": 68,
     "metadata": {},
     "output_type": "execute_result"
    }
   ],
   "source": [
    "next(sq1)"
   ]
  },
  {
   "cell_type": "code",
   "execution_count": 69,
   "id": "6ee15894-d5df-4a87-a23a-a58038aed746",
   "metadata": {},
   "outputs": [
    {
     "ename": "StopIteration",
     "evalue": "",
     "output_type": "error",
     "traceback": [
      "\u001b[0;31m---------------------------------------------------------------------------\u001b[0m",
      "\u001b[0;31mStopIteration\u001b[0m                             Traceback (most recent call last)",
      "Cell \u001b[0;32mIn [69], line 1\u001b[0m\n\u001b[0;32m----> 1\u001b[0m \u001b[38;5;28;43mnext\u001b[39;49m\u001b[43m(\u001b[49m\u001b[43msq1\u001b[49m\u001b[43m)\u001b[49m\n",
      "\u001b[0;31mStopIteration\u001b[0m: "
     ]
    }
   ],
   "source": [
    "next(sq1)"
   ]
  },
  {
   "cell_type": "code",
   "execution_count": 72,
   "id": "dff51f20-9dd2-4d44-8aea-9ef7d51214c8",
   "metadata": {},
   "outputs": [
    {
     "name": "stdout",
     "output_type": "stream",
     "text": [
      "0\n",
      "1\n",
      "2\n"
     ]
    }
   ],
   "source": [
    "def my_generator(n):\n",
    "\n",
    "    # initialize counter\n",
    "    value = 0\n",
    "\n",
    "    # loop until counter is less than n\n",
    "    while value < n:\n",
    "\n",
    "        # produce the current value of the counter\n",
    "        yield value\n",
    "\n",
    "        # increment the counter\n",
    "        value += 1\n",
    "\n",
    "# iterate over the generator object produced by my_generator\n",
    "for value in my_generator(3):\n",
    "\n",
    "    # print each value produced by generator\n",
    "    print(value)"
   ]
  },
  {
   "cell_type": "raw",
   "id": "37ee038c-2bb3-4686-9257-195c6cfdba87",
   "metadata": {},
   "source": [
    "\n",
    "How To Create Generator Function in Python?\n",
    "In Python, there are some ways to create a generator function.\n",
    "\n",
    "Using a Yield statement\n",
    "Using Python Generator Expression\n",
    "1. Yield Statement\n",
    "Yield keyword in Python that is used to return from the function without destroying the state of a local variable. We have already discussed how to create a generator function using yield.\n",
    "\n",
    "2. Python Generator Expression\n",
    "Generator Expression is a short-hand form of a generator function. Python provides an easy and convenient way to implement a Generator Expression.\n",
    "\n",
    "According to its definition, they are similar to lambda function as lambda function is an anonymous function, and generator functions are anonymous.\n",
    "\n",
    "But when it comes to implementation, they are different, they are implemented similarly to list comprehension does, and the only difference in implementation is, instead of using square brackets('[]'), it uses round brackets('()').\n",
    "\n",
    "The main and important difference between list comprehension and generator expression is list comprehension returns a list of items, whereas generator expression returns an iterable object.\n",
    "\"\"\""
   ]
  },
  {
   "cell_type": "markdown",
   "id": "38bd373f-5dfc-44db-b4ff-c9e2b33d89ff",
   "metadata": {},
   "source": [
    "> The main and important difference between list comprehension and generator expression is list comprehension returns a list of items, whereas generator expression returns an iterable object."
   ]
  },
  {
   "cell_type": "code",
   "execution_count": 70,
   "id": "534e727a-928b-48ce-8aaf-a551fa3d3dfe",
   "metadata": {},
   "outputs": [
    {
     "name": "stdout",
     "output_type": "stream",
     "text": [
      "<generator object <genexpr> at 0x7f54689ba340>\n",
      "[0, 2, 4, 6, 8]\n",
      "0\n",
      "2\n",
      "4\n",
      "6\n",
      "8\n"
     ]
    }
   ],
   "source": [
    "x = 10\n",
    "gen = (i for i in range(x) if i % 2 == 0)\n",
    "\n",
    "list_ = [i for i in range(x) if i % 2 == 0]\n",
    "\n",
    "print(gen)\n",
    "print(list_)\n",
    "for j in gen:\n",
    "    print(j)\n",
    "\n"
   ]
  },
  {
   "cell_type": "code",
   "execution_count": 71,
   "id": "8835815f-0906-48fc-bcf8-a6951e044679",
   "metadata": {},
   "outputs": [
    {
     "name": "stdout",
     "output_type": "stream",
     "text": [
      "0\n",
      "1\n",
      "4\n",
      "9\n",
      "16\n"
     ]
    }
   ],
   "source": [
    "# create the generator object\n",
    "squares_generator = (i * i for i in range(5))\n",
    "\n",
    "# iterate over the generator and print the values\n",
    "for i in squares_generator:\n",
    "    print(i)"
   ]
  },
  {
   "cell_type": "markdown",
   "id": "c706eb38-3454-4692-b5ad-58a48c755a92",
   "metadata": {},
   "source": [
    "### Use of Generators in Python\n",
    "1. Easy to Implement:\n",
    "Generator functions are easy to implement as compared with iterators. In iterators, we have to implement iter(), __next__() function to make our iterator work.\n",
    "\n",
    "2. Memory Efficient:\n",
    "Generator Functions are memory efficient, as they save a lot of memory while using generators. A normal function will return a sequence of items, but before giving the result, it creates a sequence in memory and then gives us the result, whereas the generator function produces one output at a time.\n",
    "\n",
    "3. Infinite Sequence:\n",
    "We all are familiar that we can't store infinite sequences in a given memory. This is where generators come into the picture. As generators can only produce one item at a time, so they can present an infinite stream of data/sequence."
   ]
  },
  {
   "cell_type": "code",
   "execution_count": 73,
   "id": "a91bc02b-8be0-4ac7-b793-3c4e7fe8529a",
   "metadata": {},
   "outputs": [
    {
     "name": "stdout",
     "output_type": "stream",
     "text": [
      "1\n",
      "2\n",
      "3\n",
      "5\n",
      "6\n",
      "7\n",
      "9\n",
      "10\n",
      "11\n"
     ]
    }
   ],
   "source": [
    "def infinite():\n",
    "    n = 0\n",
    "    while True:\n",
    "        yield n\n",
    "        n += 1\n",
    "        \n",
    "for i in infinite():\n",
    "    if i%4 == 0:\n",
    "        continue\n",
    "    elif i == 13:\n",
    "        break\n",
    "    else:\n",
    "        print(i)\n"
   ]
  },
  {
   "cell_type": "code",
   "execution_count": null,
   "id": "b160cbce-6e95-4bde-a04f-d033b199cba2",
   "metadata": {},
   "outputs": [],
   "source": []
  }
 ],
 "metadata": {
  "kernelspec": {
   "display_name": "Python 3 (ipykernel)",
   "language": "python",
   "name": "python3"
  },
  "language_info": {
   "codemirror_mode": {
    "name": "ipython",
    "version": 3
   },
   "file_extension": ".py",
   "mimetype": "text/x-python",
   "name": "python",
   "nbconvert_exporter": "python",
   "pygments_lexer": "ipython3",
   "version": "3.10.6"
  }
 },
 "nbformat": 4,
 "nbformat_minor": 5
}
